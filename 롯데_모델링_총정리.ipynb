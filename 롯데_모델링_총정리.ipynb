{
  "cells": [
    {
      "cell_type": "code",
      "execution_count": 3,
      "metadata": {
        "id": "cS_vImg7_ins"
      },
      "outputs": [],
      "source": [
        "import io\n",
        "import pandas as pd\n",
        "import matplotlib.pyplot as plt\n",
        "import numpy as np"
      ]
    },
    {
      "cell_type": "code",
      "execution_count": null,
      "metadata": {
        "colab": {
          "base_uri": "https://localhost:8080/"
        },
        "id": "rQo8so93qurH",
        "outputId": "1dea352f-ea82-4d77-8e10-b1350e7e1e57"
      },
      "outputs": [
        {
          "output_type": "stream",
          "name": "stdout",
          "text": [
            "Drive already mounted at /content/drive; to attempt to forcibly remount, call drive.mount(\"/content/drive\", force_remount=True).\n"
          ]
        }
      ],
      "source": [
        "from google.colab import drive\n",
        "drive.mount('/content/drive')"
      ]
    },
    {
      "cell_type": "code",
      "source": [
        "df = pd.read_csv(\"/content/drive/MyDrive/lotto_df2.csv\")"
      ],
      "metadata": {
        "id": "6_us6ZUYHc4V"
      },
      "execution_count": 4,
      "outputs": []
    },
    {
      "cell_type": "code",
      "execution_count": 10,
      "metadata": {
        "colab": {
          "base_uri": "https://localhost:8080/",
          "height": 238
        },
        "id": "yKDuOj7BFzcg",
        "outputId": "55690d3e-1a3b-4fc3-e798-7df0f4915651"
      },
      "outputs": [
        {
          "output_type": "execute_result",
          "data": {
            "text/plain": [
              "                          buy_am  buy_ct  ma_fem_dv  ages  zon_hlv  weat  \\\n",
              "cust       clac_mcls_nm                                                    \n",
              "M000034966 스포츠잡화           100.0       1          1    45        0     2   \n",
              "           남성스포츠화        59000.0       1          1    45        0     2   \n",
              "           남성스포츠화        19000.0       1          1    45        0     2   \n",
              "           여성스포츠화        62100.0       1          1    45        0     2   \n",
              "           과채음료           1200.0       1          1    45        0     2   \n",
              "\n",
              "                         de_hr_1  total_items  holi  weekday  rebuy  \\\n",
              "cust       clac_mcls_nm                                               \n",
              "M000034966 스포츠잡화               1           63     0        1      0   \n",
              "           남성스포츠화              1           63     0        1      0   \n",
              "           남성스포츠화              1           63     0        1      0   \n",
              "           여성스포츠화              1           63     0        1      0   \n",
              "           과채음료                1           63     0        1      0   \n",
              "\n",
              "                         rebuy_diff  rebuy_cnt  rebuy_ration  dt_diff  \n",
              "cust       clac_mcls_nm                                                \n",
              "M000034966 스포츠잡화              365.0         34     53.968254    365.0  \n",
              "           남성스포츠화             365.0         34     53.968254      0.0  \n",
              "           남성스포츠화             365.0         34     53.968254      0.0  \n",
              "           여성스포츠화             365.0         34     53.968254      0.0  \n",
              "           과채음료               365.0         34     53.968254      0.0  "
            ],
            "text/html": [
              "\n",
              "  <div id=\"df-3c785843-a0a5-4314-8769-7e3c6cc6a314\">\n",
              "    <div class=\"colab-df-container\">\n",
              "      <div>\n",
              "<style scoped>\n",
              "    .dataframe tbody tr th:only-of-type {\n",
              "        vertical-align: middle;\n",
              "    }\n",
              "\n",
              "    .dataframe tbody tr th {\n",
              "        vertical-align: top;\n",
              "    }\n",
              "\n",
              "    .dataframe thead th {\n",
              "        text-align: right;\n",
              "    }\n",
              "</style>\n",
              "<table border=\"1\" class=\"dataframe\">\n",
              "  <thead>\n",
              "    <tr style=\"text-align: right;\">\n",
              "      <th></th>\n",
              "      <th></th>\n",
              "      <th>buy_am</th>\n",
              "      <th>buy_ct</th>\n",
              "      <th>ma_fem_dv</th>\n",
              "      <th>ages</th>\n",
              "      <th>zon_hlv</th>\n",
              "      <th>weat</th>\n",
              "      <th>de_hr_1</th>\n",
              "      <th>total_items</th>\n",
              "      <th>holi</th>\n",
              "      <th>weekday</th>\n",
              "      <th>rebuy</th>\n",
              "      <th>rebuy_diff</th>\n",
              "      <th>rebuy_cnt</th>\n",
              "      <th>rebuy_ration</th>\n",
              "      <th>dt_diff</th>\n",
              "    </tr>\n",
              "    <tr>\n",
              "      <th>cust</th>\n",
              "      <th>clac_mcls_nm</th>\n",
              "      <th></th>\n",
              "      <th></th>\n",
              "      <th></th>\n",
              "      <th></th>\n",
              "      <th></th>\n",
              "      <th></th>\n",
              "      <th></th>\n",
              "      <th></th>\n",
              "      <th></th>\n",
              "      <th></th>\n",
              "      <th></th>\n",
              "      <th></th>\n",
              "      <th></th>\n",
              "      <th></th>\n",
              "      <th></th>\n",
              "    </tr>\n",
              "  </thead>\n",
              "  <tbody>\n",
              "    <tr>\n",
              "      <th rowspan=\"5\" valign=\"top\">M000034966</th>\n",
              "      <th>스포츠잡화</th>\n",
              "      <td>100.0</td>\n",
              "      <td>1</td>\n",
              "      <td>1</td>\n",
              "      <td>45</td>\n",
              "      <td>0</td>\n",
              "      <td>2</td>\n",
              "      <td>1</td>\n",
              "      <td>63</td>\n",
              "      <td>0</td>\n",
              "      <td>1</td>\n",
              "      <td>0</td>\n",
              "      <td>365.0</td>\n",
              "      <td>34</td>\n",
              "      <td>53.968254</td>\n",
              "      <td>365.0</td>\n",
              "    </tr>\n",
              "    <tr>\n",
              "      <th>남성스포츠화</th>\n",
              "      <td>59000.0</td>\n",
              "      <td>1</td>\n",
              "      <td>1</td>\n",
              "      <td>45</td>\n",
              "      <td>0</td>\n",
              "      <td>2</td>\n",
              "      <td>1</td>\n",
              "      <td>63</td>\n",
              "      <td>0</td>\n",
              "      <td>1</td>\n",
              "      <td>0</td>\n",
              "      <td>365.0</td>\n",
              "      <td>34</td>\n",
              "      <td>53.968254</td>\n",
              "      <td>0.0</td>\n",
              "    </tr>\n",
              "    <tr>\n",
              "      <th>남성스포츠화</th>\n",
              "      <td>19000.0</td>\n",
              "      <td>1</td>\n",
              "      <td>1</td>\n",
              "      <td>45</td>\n",
              "      <td>0</td>\n",
              "      <td>2</td>\n",
              "      <td>1</td>\n",
              "      <td>63</td>\n",
              "      <td>0</td>\n",
              "      <td>1</td>\n",
              "      <td>0</td>\n",
              "      <td>365.0</td>\n",
              "      <td>34</td>\n",
              "      <td>53.968254</td>\n",
              "      <td>0.0</td>\n",
              "    </tr>\n",
              "    <tr>\n",
              "      <th>여성스포츠화</th>\n",
              "      <td>62100.0</td>\n",
              "      <td>1</td>\n",
              "      <td>1</td>\n",
              "      <td>45</td>\n",
              "      <td>0</td>\n",
              "      <td>2</td>\n",
              "      <td>1</td>\n",
              "      <td>63</td>\n",
              "      <td>0</td>\n",
              "      <td>1</td>\n",
              "      <td>0</td>\n",
              "      <td>365.0</td>\n",
              "      <td>34</td>\n",
              "      <td>53.968254</td>\n",
              "      <td>0.0</td>\n",
              "    </tr>\n",
              "    <tr>\n",
              "      <th>과채음료</th>\n",
              "      <td>1200.0</td>\n",
              "      <td>1</td>\n",
              "      <td>1</td>\n",
              "      <td>45</td>\n",
              "      <td>0</td>\n",
              "      <td>2</td>\n",
              "      <td>1</td>\n",
              "      <td>63</td>\n",
              "      <td>0</td>\n",
              "      <td>1</td>\n",
              "      <td>0</td>\n",
              "      <td>365.0</td>\n",
              "      <td>34</td>\n",
              "      <td>53.968254</td>\n",
              "      <td>0.0</td>\n",
              "    </tr>\n",
              "  </tbody>\n",
              "</table>\n",
              "</div>\n",
              "      <button class=\"colab-df-convert\" onclick=\"convertToInteractive('df-3c785843-a0a5-4314-8769-7e3c6cc6a314')\"\n",
              "              title=\"Convert this dataframe to an interactive table.\"\n",
              "              style=\"display:none;\">\n",
              "        \n",
              "  <svg xmlns=\"http://www.w3.org/2000/svg\" height=\"24px\"viewBox=\"0 0 24 24\"\n",
              "       width=\"24px\">\n",
              "    <path d=\"M0 0h24v24H0V0z\" fill=\"none\"/>\n",
              "    <path d=\"M18.56 5.44l.94 2.06.94-2.06 2.06-.94-2.06-.94-.94-2.06-.94 2.06-2.06.94zm-11 1L8.5 8.5l.94-2.06 2.06-.94-2.06-.94L8.5 2.5l-.94 2.06-2.06.94zm10 10l.94 2.06.94-2.06 2.06-.94-2.06-.94-.94-2.06-.94 2.06-2.06.94z\"/><path d=\"M17.41 7.96l-1.37-1.37c-.4-.4-.92-.59-1.43-.59-.52 0-1.04.2-1.43.59L10.3 9.45l-7.72 7.72c-.78.78-.78 2.05 0 2.83L4 21.41c.39.39.9.59 1.41.59.51 0 1.02-.2 1.41-.59l7.78-7.78 2.81-2.81c.8-.78.8-2.07 0-2.86zM5.41 20L4 18.59l7.72-7.72 1.47 1.35L5.41 20z\"/>\n",
              "  </svg>\n",
              "      </button>\n",
              "      \n",
              "  <style>\n",
              "    .colab-df-container {\n",
              "      display:flex;\n",
              "      flex-wrap:wrap;\n",
              "      gap: 12px;\n",
              "    }\n",
              "\n",
              "    .colab-df-convert {\n",
              "      background-color: #E8F0FE;\n",
              "      border: none;\n",
              "      border-radius: 50%;\n",
              "      cursor: pointer;\n",
              "      display: none;\n",
              "      fill: #1967D2;\n",
              "      height: 32px;\n",
              "      padding: 0 0 0 0;\n",
              "      width: 32px;\n",
              "    }\n",
              "\n",
              "    .colab-df-convert:hover {\n",
              "      background-color: #E2EBFA;\n",
              "      box-shadow: 0px 1px 2px rgba(60, 64, 67, 0.3), 0px 1px 3px 1px rgba(60, 64, 67, 0.15);\n",
              "      fill: #174EA6;\n",
              "    }\n",
              "\n",
              "    [theme=dark] .colab-df-convert {\n",
              "      background-color: #3B4455;\n",
              "      fill: #D2E3FC;\n",
              "    }\n",
              "\n",
              "    [theme=dark] .colab-df-convert:hover {\n",
              "      background-color: #434B5C;\n",
              "      box-shadow: 0px 1px 3px 1px rgba(0, 0, 0, 0.15);\n",
              "      filter: drop-shadow(0px 1px 2px rgba(0, 0, 0, 0.3));\n",
              "      fill: #FFFFFF;\n",
              "    }\n",
              "  </style>\n",
              "\n",
              "      <script>\n",
              "        const buttonEl =\n",
              "          document.querySelector('#df-3c785843-a0a5-4314-8769-7e3c6cc6a314 button.colab-df-convert');\n",
              "        buttonEl.style.display =\n",
              "          google.colab.kernel.accessAllowed ? 'block' : 'none';\n",
              "\n",
              "        async function convertToInteractive(key) {\n",
              "          const element = document.querySelector('#df-3c785843-a0a5-4314-8769-7e3c6cc6a314');\n",
              "          const dataTable =\n",
              "            await google.colab.kernel.invokeFunction('convertToInteractive',\n",
              "                                                     [key], {});\n",
              "          if (!dataTable) return;\n",
              "\n",
              "          const docLinkHtml = 'Like what you see? Visit the ' +\n",
              "            '<a target=\"_blank\" href=https://colab.research.google.com/notebooks/data_table.ipynb>data table notebook</a>'\n",
              "            + ' to learn more about interactive tables.';\n",
              "          element.innerHTML = '';\n",
              "          dataTable['output_type'] = 'display_data';\n",
              "          await google.colab.output.renderOutput(dataTable, element);\n",
              "          const docLink = document.createElement('div');\n",
              "          docLink.innerHTML = docLinkHtml;\n",
              "          element.appendChild(docLink);\n",
              "        }\n",
              "      </script>\n",
              "    </div>\n",
              "  </div>\n",
              "  "
            ]
          },
          "metadata": {},
          "execution_count": 10
        }
      ],
      "source": [
        "df= df.set_index(['cust', 'clac_mcls_nm'])\n",
        "df.head()"
      ]
    },
    {
      "cell_type": "markdown",
      "metadata": {
        "id": "b35waQ1yyxaG"
      },
      "source": [
        "- 모델링"
      ]
    },
    {
      "cell_type": "code",
      "execution_count": 11,
      "metadata": {
        "id": "kVjapvt_hdEq"
      },
      "outputs": [],
      "source": [
        "X = df.drop(['rebuy'], axis=1)\n",
        "y = df['rebuy']"
      ]
    },
    {
      "cell_type": "code",
      "execution_count": 12,
      "metadata": {
        "id": "XkZiPldGiRKm"
      },
      "outputs": [],
      "source": [
        "from sklearn.model_selection import train_test_split\n",
        "import warnings\n",
        "warnings.filterwarnings('ignore')"
      ]
    },
    {
      "cell_type": "code",
      "execution_count": 14,
      "metadata": {
        "colab": {
          "base_uri": "https://localhost:8080/"
        },
        "id": "fKZQBzB0iS5c",
        "outputId": "54042e69-83a6-4809-8d63-a7c8629fa181"
      },
      "outputs": [
        {
          "output_type": "stream",
          "name": "stdout",
          "text": [
            "(2615547, 14)\n",
            "(2615547,)\n",
            "(1743699, 14)\n",
            "(1743699,)\n"
          ]
        }
      ],
      "source": [
        "X_train, X_test, y_train, y_test=train_test_split(X,y,test_size=0.4,random_state=2)\n",
        "\n",
        "print(X_train.shape)\n",
        "print(y_train.shape)\n",
        "print(X_test.shape)\n",
        "print(y_test.shape)"
      ]
    },
    {
      "cell_type": "code",
      "execution_count": 15,
      "metadata": {
        "id": "7O5cjliPiT_U"
      },
      "outputs": [],
      "source": [
        "from sklearn.linear_model import LinearRegression\n",
        "import matplotlib.pyplot as plt\n",
        "import numpy as np\n",
        "from sklearn.metrics import accuracy_score\n",
        "from sklearn.linear_model import LogisticRegression\n",
        "from sklearn.model_selection import KFold, cross_val_score, GridSearchCV\n",
        "from sklearn.metrics import mean_squared_error\n",
        "from sklearn.metrics import r2_score\n",
        "from sklearn.ensemble import RandomForestClassifier\n",
        "from sklearn.pipeline import make_pipeline\n",
        "from sklearn.ensemble import RandomForestRegressor, GradientBoostingRegressor\n",
        "from xgboost import XGBRegressor\n",
        "from lightgbm import LGBMRegressor\n",
        "from sklearn.linear_model import ElasticNet, Lasso, LinearRegression\n",
        "from sklearn.preprocessing import RobustScaler\n",
        "import statsmodels.api as sm\n",
        "from catboost import CatBoostRegressor, Pool\n",
        "from sklearn.model_selection import cross_val_score\n",
        "from sklearn.ensemble import ExtraTreesRegressor\n",
        "from sklearn.linear_model import LinearRegression, Lasso, Ridge, ElasticNet\n",
        "from sklearn.ensemble import AdaBoostRegressor\n",
        "from sklearn.ensemble import HistGradientBoostingRegressor\n",
        "from ngboost import NGBRegressor"
      ]
    },
    {
      "cell_type": "markdown",
      "source": [
        "- NMAE\n",
        "  + NMAE (Normalized Mean Absolute Error)는 척도가 다른 데이터 세트의 MAE에 관한 비교를 용이하게 하기 위해서 정규화를 적용한 것 입니다.\n",
        "  + 정규화의 수단으로는 측정된 데이터의 평균을 사용합니다.\n",
        "  + NMAE는 정규화된 MAE(평균 절대 오차) 입니다. "
      ],
      "metadata": {
        "id": "BwDYrP0kS7Vf"
      }
    },
    {
      "cell_type": "code",
      "execution_count": 16,
      "metadata": {
        "id": "hpW17vgkxD6e"
      },
      "outputs": [],
      "source": [
        "from sklearn.metrics import make_scorer\n",
        "\n",
        "def NMAE(true, pred):\n",
        "    mae = np.mean(np.abs(true - pred))\n",
        "    score = mae / np.mean(np.abs(true))\n",
        "    return score\n",
        "\n",
        "nmae_score = make_scorer(NMAE, greater_is_better=False)"
      ]
    },
    {
      "cell_type": "markdown",
      "metadata": {
        "id": "nkGoX0_0xLKW"
      },
      "source": [
        "### 모델 탐색\n"
      ]
    },
    {
      "cell_type": "code",
      "source": [
        "lr=LinearRegression()\n",
        "rg=Ridge()\n",
        "xgb=XGBRegressor(random_state = 42, learning_rate=0.05, n_estimators=20)\n",
        "gbr=GradientBoostingRegressor(random_state = 42, max_depth = 4, learning_rate=0.01, loss='huber', n_estimators=50)\n",
        "cat=CatBoostRegressor(depth = 4, random_state = 42, loss_function = 'MAE', n_estimators = 100, learning_rate = 0.01, verbose = 0)\n",
        "lgb=LGBMRegressor(random_state = 42, learning_rate=0.01, n_estimators=50)\n",
        "ada=AdaBoostRegressor(random_state = 42, learning_rate=0.03, n_estimators=25)\n",
        "hgb=HistGradientBoostingRegressor(random_state=42, scoring=nmae_score, learning_rate=0.01)"
      ],
      "metadata": {
        "id": "kzVCSFbeTHS3"
      },
      "execution_count": null,
      "outputs": []
    },
    {
      "cell_type": "code",
      "source": [
        "lr.fit(X_train,y_train)\n",
        "rg.fit(X_train,y_train)\n",
        "xgb.fit(X_train,y_train)\n",
        "gbr.fit(X_train,y_train)\n",
        "cat.fit(X_train,y_train)\n",
        "lgb.fit(X_train,y_train)\n",
        "ngb.fit(X_train,y_train)\n",
        "ada.fit(X_train,y_train)"
      ],
      "metadata": {
        "id": "ljP7M-wzTueU"
      },
      "execution_count": null,
      "outputs": []
    },
    {
      "cell_type": "code",
      "source": [
        "y_lr=lr.predict(X_test)\n",
        "y_rg=rg.predict(X_test)\n",
        "y_xgb=xgbpredict(X_test)\n",
        "y_gbr=gbr.predict(X_test)\n",
        "y_cat=cat.predict(X_test)\n",
        "y_lgb=lgb.predict(X_test)\n",
        "y_ngb=ngb.predict(X_test)\n",
        "y_ada=ada.predict(X_test)"
      ],
      "metadata": {
        "id": "fqysxti4T-RC"
      },
      "execution_count": null,
      "outputs": []
    },
    {
      "cell_type": "code",
      "source": [
        "score_lr=NMAE(y_test, y_lr)\n",
        "score_rg=NMAE(y_test, y_rg)\n",
        "score_xgb=NMAE(y_test, y_xgb)\n",
        "score_gbr=NMAE(y_test, y_gbr)\n",
        "score_cat=NMAE(y_test, y_cat)\n",
        "score_lgb=NMAE(y_test, y_lgb)\n",
        "score_ngb=NMAE(y_test, y_ngb)\n",
        "score_ada=NMAE(y_test, y_ada)"
      ],
      "metadata": {
        "id": "_qDbhLx2UQsr"
      },
      "execution_count": null,
      "outputs": []
    },
    {
      "cell_type": "code",
      "execution_count": null,
      "metadata": {
        "colab": {
          "base_uri": "https://localhost:8080/"
        },
        "id": "MygzpBYm7yvL",
        "outputId": "20a1b78d-1e39-4ca4-9036-42bebd55c5b5"
      },
      "outputs": [
        {
          "name": "stdout",
          "output_type": "stream",
          "text": [
            "LinearRegression:  0.9908761860939492\n",
            "Ridge:  0.9908761960219227\n",
            "XGBRegressor:  1.0316192485002538\n",
            "GradientBoostingRegressor:  0.9800517449268821\n",
            "CatBoostRegressor:  0.81047300041396\n",
            "LGBMRegresso:  1.050470415863544\n",
            "AdaBoostRegressor:  0.9838832141340442\n",
            "HistGradientBoostingRegressor:  1.009584872274517\n"
          ]
        }
      ],
      "source": [
        "print(\"LinearRegression: \" , score_lr)\n",
        "print(\"Ridge: \", score_rg)\n",
        "print(\"XGBRegressor: \", score_xgb)\n",
        "print(\"GradientBoostingRegressor: \", score_gbr)\n",
        "print(\"CatBoostRegressor: \", score_cat)\n",
        "print(\"LGBMRegresso: \", score_lgb)\n",
        "print(\"AdaBoostRegressor: \", score_ada)\n",
        "print(\"HistGradientBoostingRegressor: \", score_hgb)"
      ]
    },
    {
      "cell_type": "markdown",
      "source": [
        "- CatBoost를 최종 모델로 선택"
      ],
      "metadata": {
        "id": "ReAgg0yJUgVM"
      }
    },
    {
      "cell_type": "markdown",
      "source": [
        "### 하이퍼파라미터 튜닝"
      ],
      "metadata": {
        "id": "rP_6HSj5Ujts"
      }
    },
    {
      "cell_type": "code",
      "execution_count": 20,
      "metadata": {
        "colab": {
          "base_uri": "https://localhost:8080/"
        },
        "id": "N4e2StS6ENO1",
        "outputId": "36322d12-4785-4c34-d253-c49ea43bb0ee"
      },
      "outputs": [
        {
          "output_type": "stream",
          "name": "stdout",
          "text": [
            "0.7309049724249184\n"
          ]
        }
      ],
      "source": [
        "cat_reg=CatBoostRegressor(depth = 4, random_state = 42, loss_function = 'MAE', n_estimators = 100, learning_rate = 0.01, verbose = 0)\n",
        "cat_reg.fit(X_train,y_train)\n",
        "y_train_pred = cat_reg.predict(X_train)\n",
        "y_test_pred = cat_reg.predict(X_test)\n",
        "score_cat=NMAE(y_test, y_test_pred)\n",
        "print(score_cat)"
      ]
    },
    {
      "cell_type": "code",
      "execution_count": 17,
      "metadata": {
        "colab": {
          "base_uri": "https://localhost:8080/"
        },
        "id": "sjY2ae4eFLr_",
        "outputId": "ce5801b5-75ea-4bac-a6db-d1e2495b1933"
      },
      "outputs": [
        {
          "output_type": "stream",
          "name": "stdout",
          "text": [
            "0.5901606745120612\n"
          ]
        }
      ],
      "source": [
        "cat_reg=CatBoostRegressor(depth = 4, random_state = 42, loss_function = 'MAE', n_estimators = 100, learning_rate = 0.03, verbose = 0)\n",
        "cat_reg.fit(X_train,y_train)\n",
        "y_train_pred = cat_reg.predict(X_train)\n",
        "y_test_pred = cat_reg.predict(X_test)\n",
        "score_cat=NMAE(y_test, y_test_pred)\n",
        "print(score_cat)"
      ]
    },
    {
      "cell_type": "code",
      "execution_count": 21,
      "metadata": {
        "colab": {
          "base_uri": "https://localhost:8080/"
        },
        "id": "15B5IN9PCHcC",
        "outputId": "89c56b27-9aad-480f-97de-c9cb7555d192"
      },
      "outputs": [
        {
          "output_type": "stream",
          "name": "stdout",
          "text": [
            "0.5085993982487769\n"
          ]
        }
      ],
      "source": [
        "cat_reg=CatBoostRegressor(depth = 4, random_state = 42, loss_function = 'MAE', n_estimators = 1000, learning_rate = 0.01, verbose = 0)\n",
        "cat_reg.fit(X_train,y_train)\n",
        "y_train_pred = cat_reg.predict(X_train)\n",
        "y_test_pred = cat_reg.predict(X_test)\n",
        "score_cat=NMAE(y_test, y_test_pred)\n",
        "print(score_cat)"
      ]
    },
    {
      "cell_type": "code",
      "source": [
        "cat_reg=CatBoostRegressor(depth = 16, random_state = 42, loss_function = 'MAE', n_estimators = 1000, learning_rate = 0.03, verbose = 0)\n",
        "cat_reg.fit(X_train,y_train)\n",
        "y_train_pred = cat_reg.predict(X_train)\n",
        "y_test_pred = cat_reg.predict(X_test)\n",
        "score_cat=NMAE(y_test, y_test_pred)\n",
        "print(score_cat)"
      ],
      "metadata": {
        "colab": {
          "base_uri": "https://localhost:8080/"
        },
        "id": "Tsrc7LLKrBhu",
        "outputId": "dc208711-6470-4adb-b88f-02b7eee8510c"
      },
      "execution_count": 25,
      "outputs": [
        {
          "output_type": "stream",
          "name": "stdout",
          "text": [
            "0.4817188797877027\n"
          ]
        }
      ]
    },
    {
      "cell_type": "markdown",
      "source": [
        "|하이퍼파라미터|NAME|\n",
        "|---|---|\n",
        "|depth = 4, random_state = 42, loss_function = 'MAE', n_estimators = 100, learning_rate = 0.01, verbose = 0|0.730|\n",
        "|depth = 4, random_state = 42, loss_function = 'MAE', n_estimators = 100, learning_rate = 0.03, verbose = 0|0.590|\n",
        "|depth = 4, random_state = 42, loss_function = 'MAE', n_estimators = 1000, learning_rate = 0.01, verbose = 0)|0.508|\n",
        "|depth = 16, random_state = 42, loss_function = 'MAE', n_estimators = 1000, learning_rate = 0.03, verbose = 0)| 0.417|\n"
      ],
      "metadata": {
        "id": "tw8WamrVdY-p"
      }
    },
    {
      "cell_type": "markdown",
      "source": [
        "- 최종 하이퍼파라미터\n",
        "- depth = 16, random_state = 42, loss_function = 'MAE', n_estimators = 1000, learning_rate = 0.03, verbose = 0"
      ],
      "metadata": {
        "id": "bCnSel-ceEtr"
      }
    },
    {
      "cell_type": "markdown",
      "source": [
        "### 정확도"
      ],
      "metadata": {
        "id": "kr0DqeEteXua"
      }
    },
    {
      "cell_type": "code",
      "execution_count": 26,
      "metadata": {
        "colab": {
          "base_uri": "https://localhost:8080/"
        },
        "id": "HPOwv-Ogn45O",
        "outputId": "da48ae43-fda5-4705-e326-03cf48a8a843"
      },
      "outputs": [
        {
          "output_type": "stream",
          "name": "stdout",
          "text": [
            "[1, 0, 0, 0, 0, 0, 0, 1, 1, 0]\n",
            "[1, 1, 1, 1, 1, 1, 0, 0, 0, 0]\n"
          ]
        }
      ],
      "source": [
        "y_test_preds = [1 if x >= 0.5 else 0 for x in y_test_pred]\n",
        "print(y_test_preds[:10])\n",
        "\n",
        "y_train_preds = [1 if x >= 0.5 else 0 for x in y_train_pred]\n",
        "print(y_train_preds[:10])"
      ]
    },
    {
      "cell_type": "code",
      "execution_count": 19,
      "metadata": {
        "colab": {
          "base_uri": "https://localhost:8080/"
        },
        "id": "UlvSf43zn-bP",
        "outputId": "10a28a0a-a427-44d9-9d0a-b042f5523ba8"
      },
      "outputs": [
        {
          "output_type": "stream",
          "name": "stdout",
          "text": [
            "훈련 MSE: 0.217, 테스트 MSE: 0.217\n",
            "훈련 R^2: 0.120, 테스트 R^2: 0.119\n",
            "훈련 정확도: 0.742, 테스트 정확도: 0.741\n"
          ]
        }
      ],
      "source": [
        "# CatBoostRegressor(depth = 4, random_state = 42, loss_function = 'MAE', n_estimators = 100, learning_rate = 0.03, verbose = 0)\n",
        "print('훈련 MSE: %.3f, 테스트 MSE: %.3f' % (\n",
        "      mean_squared_error(y_train, y_train_pred),\n",
        "      mean_squared_error(y_test, y_test_pred)))\n",
        "print('훈련 R^2: %.3f, 테스트 R^2: %.3f' % (\n",
        "      r2_score(y_train, y_train_pred),\n",
        "      r2_score(y_test, y_test_pred)))\n",
        "\n",
        "print('훈련 정확도: %.3f, 테스트 정확도: %.3f' % (\n",
        "     accuracy_score(y_train, y_train_preds),\n",
        "      accuracy_score(y_test, y_test_preds)))"
      ]
    },
    {
      "cell_type": "code",
      "source": [
        "# CatBoostRegressor(depth = 4, random_state = 42, loss_function = 'MAE', n_estimators = 1000, learning_rate = 0.01, verbose = 0)\n",
        "print('훈련 MSE: %.3f, 테스트 MSE: %.3f' % (\n",
        "      mean_squared_error(y_train, y_train_pred),\n",
        "      mean_squared_error(y_test, y_test_pred)))\n",
        "print('훈련 R^2: %.3f, 테스트 R^2: %.3f' % (\n",
        "      r2_score(y_train, y_train_pred),\n",
        "      r2_score(y_test, y_test_pred)))\n",
        "\n",
        "print('훈련 정확도: %.3f, 테스트 정확도: %.3f' % (\n",
        "     accuracy_score(y_train, y_train_preds),\n",
        "      accuracy_score(y_test, y_test_preds)))"
      ],
      "metadata": {
        "colab": {
          "base_uri": "https://localhost:8080/"
        },
        "id": "eS3UB7uhO1uW",
        "outputId": "065db98e-5069-49c1-abe3-608fb0dd0f1b"
      },
      "execution_count": 24,
      "outputs": [
        {
          "output_type": "stream",
          "name": "stdout",
          "text": [
            "훈련 MSE: 0.175, 테스트 MSE: 0.175\n",
            "훈련 R^2: 0.290, 테스트 R^2: 0.290\n",
            "훈련 정확도: 0.783, 테스트 정확도: 0.782\n"
          ]
        }
      ]
    },
    {
      "cell_type": "code",
      "source": [
        "# CatBoostRegressor(depth = 16, random_state = 42, loss_function = 'MAE', n_estimators = 1000, learning_rate = 0.03, verbose = 0)\n",
        "print('훈련 MSE: %.3f, 테스트 MSE: %.3f' % (\n",
        "      mean_squared_error(y_train, y_train_pred),\n",
        "      mean_squared_error(y_test, y_test_pred)))\n",
        "print('훈련 R^2: %.3f, 테스트 R^2: %.3f' % (\n",
        "      r2_score(y_train, y_train_pred),\n",
        "      r2_score(y_test, y_test_pred)))\n",
        "\n",
        "print('훈련 정확도: %.3f, 테스트 정확도: %.3f' % (\n",
        "     accuracy_score(y_train, y_train_preds),\n",
        "      accuracy_score(y_test, y_test_preds)))"
      ],
      "metadata": {
        "colab": {
          "base_uri": "https://localhost:8080/"
        },
        "id": "6jdgaD83UwmQ",
        "outputId": "8333d6d9-d40d-4ec3-e95f-351bf1815899"
      },
      "execution_count": 27,
      "outputs": [
        {
          "output_type": "stream",
          "name": "stdout",
          "text": [
            "훈련 MSE: 0.190, 테스트 MSE: 0.192\n",
            "훈련 R^2: 0.228, 테스트 R^2: 0.222\n",
            "훈련 정확도: 0.790, 테스트 정확도: 0.789\n"
          ]
        }
      ]
    },
    {
      "cell_type": "markdown",
      "source": [
        "- 최종 정확도: 0.789"
      ],
      "metadata": {
        "id": "Ro4me2QYeSUN"
      }
    },
    {
      "cell_type": "markdown",
      "metadata": {
        "id": "L4lfsxMkxIx1"
      },
      "source": [
        "#### 앙상블"
      ]
    },
    {
      "cell_type": "code",
      "execution_count": 28,
      "metadata": {
        "id": "7ym1AZDerhx1"
      },
      "outputs": [],
      "source": [
        "kf = KFold(n_splits = 10, random_state = 42, shuffle = True)"
      ]
    },
    {
      "cell_type": "code",
      "execution_count": 29,
      "metadata": {
        "id": "BjYz13Hgrskk"
      },
      "outputs": [],
      "source": [
        "target = df['rebuy']"
      ]
    },
    {
      "cell_type": "code",
      "execution_count": null,
      "metadata": {
        "id": "eiAj4LSMfWZ_"
      },
      "outputs": [],
      "source": [
        "# cat\n",
        "cat_pred = np.zeros(target.shape[0])\n",
        "cat_val = []\n",
        "for n, (tr_idx, val_idx) in enumerate(kf.split(X, y)) :\n",
        "    tr_x, tr_y = X.iloc[tr_idx], y.iloc[tr_idx]\n",
        "    val_x, val_y = X.iloc[val_idx], np.expm1(y.iloc[val_idx])\n",
        "    \n",
        "    tr_data = Pool(data = tr_x, label = tr_y)\n",
        "    val_data = Pool(data = val_x, label = val_y)\n",
        "    \n",
        "    cat=CatBoostRegressor(depth = 16, random_state = 42, loss_function = 'MAE', n_estimators = 1000, learning_rate = 0.03, verbose = 0)\n",
        "    cat.fit(tr_data, eval_set = val_data, early_stopping_rounds = 750, verbose = 1000)\n",
        "    \n",
        "    val_pred = np.expm1(cat.predict(val_x))\n",
        "    val_nmae = NMAE(val_y, val_pred)\n",
        "    cat_val.append(val_nmae)\n",
        "    print(f'{n + 1} FOLD NMAE = {val_nmae}')\n",
        "    \n",
        "    target_data = Pool(data = target, label = None)\n",
        "    fold_pred = cat.predict(target) / 10\n",
        "    cat_pred += fold_pred\n",
        "print(f'10FOLD Mean of NMAE = {np.mean(cat_val)}')"
      ]
    }
  ],
  "metadata": {
    "colab": {
      "collapsed_sections": [
        "kk4xzxdktWiz",
        "OuoMB5V4GnJm",
        "mLzT49oh_8x2",
        "Jxl57RUFvmm0",
        "AutwBxFYTXnk",
        "Csc2SudbvoBz",
        "xOIjH1PAxlBu",
        "A2I4VBhyyq_O",
        "Y8bCSGeJyue_",
        "ycdpObNyxGLX"
      ],
      "name": "롯데 모델링 총정리",
      "provenance": []
    },
    "kernelspec": {
      "display_name": "Python 3",
      "name": "python3"
    },
    "language_info": {
      "name": "python"
    }
  },
  "nbformat": 4,
  "nbformat_minor": 0
}