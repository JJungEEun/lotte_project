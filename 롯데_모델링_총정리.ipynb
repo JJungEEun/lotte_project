{
  "cells": [
    {
      "cell_type": "code",
      "execution_count": 1,
      "metadata": {
        "id": "cS_vImg7_ins"
      },
      "outputs": [],
      "source": [
        "import io\n",
        "import pandas as pd\n",
        "import matplotlib.pyplot as plt\n",
        "import numpy as np"
      ]
    },
    {
      "cell_type": "code",
      "source": [
        "from google.colab import drive\n",
        "drive.mount('/content/drive')"
      ],
      "metadata": {
        "colab": {
          "base_uri": "https://localhost:8080/"
        },
        "id": "rQo8so93qurH",
        "outputId": "f15a234e-0e7b-45e5-816c-e96f2de4c9cc"
      },
      "execution_count": 2,
      "outputs": [
        {
          "output_type": "stream",
          "name": "stdout",
          "text": [
            "Drive already mounted at /content/drive; to attempt to forcibly remount, call drive.mount(\"/content/drive\", force_remount=True).\n"
          ]
        }
      ]
    },
    {
      "cell_type": "code",
      "execution_count": 2,
      "metadata": {
        "colab": {
          "base_uri": "https://localhost:8080/"
        },
        "id": "VEUxlgFp_iEj",
        "outputId": "1a104c1e-3b65-4edf-cbcc-1455c06a34a4"
      },
      "outputs": [
        {
          "output_type": "stream",
          "name": "stderr",
          "text": [
            "/usr/local/lib/python3.7/dist-packages/IPython/core/interactiveshell.py:2882: DtypeWarning: Columns (4) have mixed types.Specify dtype option on import or set low_memory=False.\n",
            "  exec(code_obj, self.user_global_ns, self.user_ns)\n"
          ]
        }
      ],
      "source": [
        "demo = pd.read_csv(\"/content/drive/MyDrive/롯데 공모전/dataset/LPOINT_BIG_COMP_01_DEMO.csv\") #고객 데모 정보\n",
        "pdde = pd.read_csv(\"/content/drive/MyDrive/롯데 공모전/dataset/LPOINT_BIG_COMP_02_PDDE.csv\") #상품 구매 정보(유통사 상품 구매 내역)\n",
        "pd_clac = pd.read_csv(\"/content/drive/MyDrive/롯데 공모전/dataset/LPOINT_BIG_COMP_04_PD_CLAC.csv\") #상품 분류 정보(유통사 상품 카테고리 마스터)"
      ]
    },
    {
      "cell_type": "code",
      "execution_count": 3,
      "metadata": {
        "colab": {
          "base_uri": "https://localhost:8080/",
          "height": 206
        },
        "id": "N_ejddrq_lid",
        "outputId": "8356db71-033e-4ebf-935e-aabe91bb8647"
      },
      "outputs": [
        {
          "output_type": "execute_result",
          "data": {
            "text/plain": [
              "         cust        rct_no  chnl_dv cop_c     br_c    pd_c     de_dt  de_hr  \\\n",
              "0  M430112881  A01000001113        1   A01  A010039  PD0290  20210101     10   \n",
              "1  M430112881  A01000003148        1   A01  A010039  PD0290  20210101     10   \n",
              "2  M430112881  A01000003148        1   A01  A010039  PD0290  20210101     10   \n",
              "3  M430112881  A01000004946        1   A01  A010039  PD0290  20210101     10   \n",
              "4  M506355556  A01000107137        1   A01  A010032  PD0290  20210101     15   \n",
              "\n",
              "     buy_am  buy_ct  pd_nm clac_hlv_nm clac_mcls_nm ma_fem_dv ages zon_hlv  \n",
              "0   15000.0       1  남성티셔츠        남성의류       남성의류상의        여성  50대     Z17  \n",
              "1   19000.0       1  남성티셔츠        남성의류       남성의류상의        여성  50대     Z17  \n",
              "2   19000.0       1  남성티셔츠        남성의류       남성의류상의        여성  50대     Z17  \n",
              "3   19000.0       1  남성티셔츠        남성의류       남성의류상의        여성  50대     Z17  \n",
              "4  199000.0       1  남성티셔츠        남성의류       남성의류상의        여성  40대     Z17  "
            ],
            "text/html": [
              "\n",
              "  <div id=\"df-10c4dc9d-9175-4187-b657-207ed177748c\">\n",
              "    <div class=\"colab-df-container\">\n",
              "      <div>\n",
              "<style scoped>\n",
              "    .dataframe tbody tr th:only-of-type {\n",
              "        vertical-align: middle;\n",
              "    }\n",
              "\n",
              "    .dataframe tbody tr th {\n",
              "        vertical-align: top;\n",
              "    }\n",
              "\n",
              "    .dataframe thead th {\n",
              "        text-align: right;\n",
              "    }\n",
              "</style>\n",
              "<table border=\"1\" class=\"dataframe\">\n",
              "  <thead>\n",
              "    <tr style=\"text-align: right;\">\n",
              "      <th></th>\n",
              "      <th>cust</th>\n",
              "      <th>rct_no</th>\n",
              "      <th>chnl_dv</th>\n",
              "      <th>cop_c</th>\n",
              "      <th>br_c</th>\n",
              "      <th>pd_c</th>\n",
              "      <th>de_dt</th>\n",
              "      <th>de_hr</th>\n",
              "      <th>buy_am</th>\n",
              "      <th>buy_ct</th>\n",
              "      <th>pd_nm</th>\n",
              "      <th>clac_hlv_nm</th>\n",
              "      <th>clac_mcls_nm</th>\n",
              "      <th>ma_fem_dv</th>\n",
              "      <th>ages</th>\n",
              "      <th>zon_hlv</th>\n",
              "    </tr>\n",
              "  </thead>\n",
              "  <tbody>\n",
              "    <tr>\n",
              "      <th>0</th>\n",
              "      <td>M430112881</td>\n",
              "      <td>A01000001113</td>\n",
              "      <td>1</td>\n",
              "      <td>A01</td>\n",
              "      <td>A010039</td>\n",
              "      <td>PD0290</td>\n",
              "      <td>20210101</td>\n",
              "      <td>10</td>\n",
              "      <td>15000.0</td>\n",
              "      <td>1</td>\n",
              "      <td>남성티셔츠</td>\n",
              "      <td>남성의류</td>\n",
              "      <td>남성의류상의</td>\n",
              "      <td>여성</td>\n",
              "      <td>50대</td>\n",
              "      <td>Z17</td>\n",
              "    </tr>\n",
              "    <tr>\n",
              "      <th>1</th>\n",
              "      <td>M430112881</td>\n",
              "      <td>A01000003148</td>\n",
              "      <td>1</td>\n",
              "      <td>A01</td>\n",
              "      <td>A010039</td>\n",
              "      <td>PD0290</td>\n",
              "      <td>20210101</td>\n",
              "      <td>10</td>\n",
              "      <td>19000.0</td>\n",
              "      <td>1</td>\n",
              "      <td>남성티셔츠</td>\n",
              "      <td>남성의류</td>\n",
              "      <td>남성의류상의</td>\n",
              "      <td>여성</td>\n",
              "      <td>50대</td>\n",
              "      <td>Z17</td>\n",
              "    </tr>\n",
              "    <tr>\n",
              "      <th>2</th>\n",
              "      <td>M430112881</td>\n",
              "      <td>A01000003148</td>\n",
              "      <td>1</td>\n",
              "      <td>A01</td>\n",
              "      <td>A010039</td>\n",
              "      <td>PD0290</td>\n",
              "      <td>20210101</td>\n",
              "      <td>10</td>\n",
              "      <td>19000.0</td>\n",
              "      <td>1</td>\n",
              "      <td>남성티셔츠</td>\n",
              "      <td>남성의류</td>\n",
              "      <td>남성의류상의</td>\n",
              "      <td>여성</td>\n",
              "      <td>50대</td>\n",
              "      <td>Z17</td>\n",
              "    </tr>\n",
              "    <tr>\n",
              "      <th>3</th>\n",
              "      <td>M430112881</td>\n",
              "      <td>A01000004946</td>\n",
              "      <td>1</td>\n",
              "      <td>A01</td>\n",
              "      <td>A010039</td>\n",
              "      <td>PD0290</td>\n",
              "      <td>20210101</td>\n",
              "      <td>10</td>\n",
              "      <td>19000.0</td>\n",
              "      <td>1</td>\n",
              "      <td>남성티셔츠</td>\n",
              "      <td>남성의류</td>\n",
              "      <td>남성의류상의</td>\n",
              "      <td>여성</td>\n",
              "      <td>50대</td>\n",
              "      <td>Z17</td>\n",
              "    </tr>\n",
              "    <tr>\n",
              "      <th>4</th>\n",
              "      <td>M506355556</td>\n",
              "      <td>A01000107137</td>\n",
              "      <td>1</td>\n",
              "      <td>A01</td>\n",
              "      <td>A010032</td>\n",
              "      <td>PD0290</td>\n",
              "      <td>20210101</td>\n",
              "      <td>15</td>\n",
              "      <td>199000.0</td>\n",
              "      <td>1</td>\n",
              "      <td>남성티셔츠</td>\n",
              "      <td>남성의류</td>\n",
              "      <td>남성의류상의</td>\n",
              "      <td>여성</td>\n",
              "      <td>40대</td>\n",
              "      <td>Z17</td>\n",
              "    </tr>\n",
              "  </tbody>\n",
              "</table>\n",
              "</div>\n",
              "      <button class=\"colab-df-convert\" onclick=\"convertToInteractive('df-10c4dc9d-9175-4187-b657-207ed177748c')\"\n",
              "              title=\"Convert this dataframe to an interactive table.\"\n",
              "              style=\"display:none;\">\n",
              "        \n",
              "  <svg xmlns=\"http://www.w3.org/2000/svg\" height=\"24px\"viewBox=\"0 0 24 24\"\n",
              "       width=\"24px\">\n",
              "    <path d=\"M0 0h24v24H0V0z\" fill=\"none\"/>\n",
              "    <path d=\"M18.56 5.44l.94 2.06.94-2.06 2.06-.94-2.06-.94-.94-2.06-.94 2.06-2.06.94zm-11 1L8.5 8.5l.94-2.06 2.06-.94-2.06-.94L8.5 2.5l-.94 2.06-2.06.94zm10 10l.94 2.06.94-2.06 2.06-.94-2.06-.94-.94-2.06-.94 2.06-2.06.94z\"/><path d=\"M17.41 7.96l-1.37-1.37c-.4-.4-.92-.59-1.43-.59-.52 0-1.04.2-1.43.59L10.3 9.45l-7.72 7.72c-.78.78-.78 2.05 0 2.83L4 21.41c.39.39.9.59 1.41.59.51 0 1.02-.2 1.41-.59l7.78-7.78 2.81-2.81c.8-.78.8-2.07 0-2.86zM5.41 20L4 18.59l7.72-7.72 1.47 1.35L5.41 20z\"/>\n",
              "  </svg>\n",
              "      </button>\n",
              "      \n",
              "  <style>\n",
              "    .colab-df-container {\n",
              "      display:flex;\n",
              "      flex-wrap:wrap;\n",
              "      gap: 12px;\n",
              "    }\n",
              "\n",
              "    .colab-df-convert {\n",
              "      background-color: #E8F0FE;\n",
              "      border: none;\n",
              "      border-radius: 50%;\n",
              "      cursor: pointer;\n",
              "      display: none;\n",
              "      fill: #1967D2;\n",
              "      height: 32px;\n",
              "      padding: 0 0 0 0;\n",
              "      width: 32px;\n",
              "    }\n",
              "\n",
              "    .colab-df-convert:hover {\n",
              "      background-color: #E2EBFA;\n",
              "      box-shadow: 0px 1px 2px rgba(60, 64, 67, 0.3), 0px 1px 3px 1px rgba(60, 64, 67, 0.15);\n",
              "      fill: #174EA6;\n",
              "    }\n",
              "\n",
              "    [theme=dark] .colab-df-convert {\n",
              "      background-color: #3B4455;\n",
              "      fill: #D2E3FC;\n",
              "    }\n",
              "\n",
              "    [theme=dark] .colab-df-convert:hover {\n",
              "      background-color: #434B5C;\n",
              "      box-shadow: 0px 1px 3px 1px rgba(0, 0, 0, 0.15);\n",
              "      filter: drop-shadow(0px 1px 2px rgba(0, 0, 0, 0.3));\n",
              "      fill: #FFFFFF;\n",
              "    }\n",
              "  </style>\n",
              "\n",
              "      <script>\n",
              "        const buttonEl =\n",
              "          document.querySelector('#df-10c4dc9d-9175-4187-b657-207ed177748c button.colab-df-convert');\n",
              "        buttonEl.style.display =\n",
              "          google.colab.kernel.accessAllowed ? 'block' : 'none';\n",
              "\n",
              "        async function convertToInteractive(key) {\n",
              "          const element = document.querySelector('#df-10c4dc9d-9175-4187-b657-207ed177748c');\n",
              "          const dataTable =\n",
              "            await google.colab.kernel.invokeFunction('convertToInteractive',\n",
              "                                                     [key], {});\n",
              "          if (!dataTable) return;\n",
              "\n",
              "          const docLinkHtml = 'Like what you see? Visit the ' +\n",
              "            '<a target=\"_blank\" href=https://colab.research.google.com/notebooks/data_table.ipynb>data table notebook</a>'\n",
              "            + ' to learn more about interactive tables.';\n",
              "          element.innerHTML = '';\n",
              "          dataTable['output_type'] = 'display_data';\n",
              "          await google.colab.output.renderOutput(dataTable, element);\n",
              "          const docLink = document.createElement('div');\n",
              "          docLink.innerHTML = docLinkHtml;\n",
              "          element.appendChild(docLink);\n",
              "        }\n",
              "      </script>\n",
              "    </div>\n",
              "  </div>\n",
              "  "
            ]
          },
          "metadata": {},
          "execution_count": 3
        }
      ],
      "source": [
        "df = pd.merge(pdde, pd_clac,how='outer',on='pd_c')\n",
        "df = pd.merge(df, demo, how='left', on='cust')\n",
        "df.head()"
      ]
    },
    {
      "cell_type": "markdown",
      "metadata": {
        "id": "I0XaAWAQxWu-"
      },
      "source": [
        "### 변수 정의"
      ]
    },
    {
      "cell_type": "markdown",
      "source": [
        "##### 이상치 제거"
      ],
      "metadata": {
        "id": "kk4xzxdktWiz"
      }
    },
    {
      "cell_type": "code",
      "source": [
        "df=df[df['cust']!='M057015266']\n",
        "df=df[df['cust']!='M919374790']\n",
        "print(df.shape)"
      ],
      "metadata": {
        "colab": {
          "base_uri": "https://localhost:8080/"
        },
        "id": "zN6q6hGatY9B",
        "outputId": "33bc4e82-06bf-49ce-fb08-46f3042e9ea2"
      },
      "execution_count": 4,
      "outputs": [
        {
          "output_type": "stream",
          "name": "stdout",
          "text": [
            "(4359246, 16)\n"
          ]
        }
      ]
    },
    {
      "cell_type": "markdown",
      "metadata": {
        "id": "OuoMB5V4GnJm"
      },
      "source": [
        "##### 시간 변수 추가"
      ]
    },
    {
      "cell_type": "code",
      "execution_count": 5,
      "metadata": {
        "colab": {
          "base_uri": "https://localhost:8080/",
          "height": 206
        },
        "id": "cnpcMZzi_m08",
        "outputId": "97b0f300-4a60-47c5-b55f-15894ba767c7"
      },
      "outputs": [
        {
          "output_type": "execute_result",
          "data": {
            "text/plain": [
              "         cust        rct_no  chnl_dv cop_c     br_c    pd_c      de_dt  de_hr  \\\n",
              "0  M430112881  A01000001113        1   A01  A010039  PD0290 2021-01-01     10   \n",
              "1  M430112881  A01000003148        1   A01  A010039  PD0290 2021-01-01     10   \n",
              "2  M430112881  A01000003148        1   A01  A010039  PD0290 2021-01-01     10   \n",
              "3  M430112881  A01000004946        1   A01  A010039  PD0290 2021-01-01     10   \n",
              "4  M506355556  A01000107137        1   A01  A010032  PD0290 2021-01-01     15   \n",
              "\n",
              "     buy_am  buy_ct  pd_nm clac_hlv_nm clac_mcls_nm ma_fem_dv ages zon_hlv  \\\n",
              "0   15000.0       1  남성티셔츠        남성의류       남성의류상의        여성  50대     Z17   \n",
              "1   19000.0       1  남성티셔츠        남성의류       남성의류상의        여성  50대     Z17   \n",
              "2   19000.0       1  남성티셔츠        남성의류       남성의류상의        여성  50대     Z17   \n",
              "3   19000.0       1  남성티셔츠        남성의류       남성의류상의        여성  50대     Z17   \n",
              "4  199000.0       1  남성티셔츠        남성의류       남성의류상의        여성  40대     Z17   \n",
              "\n",
              "   day  month  \n",
              "0    1      1  \n",
              "1    1      1  \n",
              "2    1      1  \n",
              "3    1      1  \n",
              "4    1      1  "
            ],
            "text/html": [
              "\n",
              "  <div id=\"df-a3a2cb35-c90d-46b4-8a08-ac64340fd02a\">\n",
              "    <div class=\"colab-df-container\">\n",
              "      <div>\n",
              "<style scoped>\n",
              "    .dataframe tbody tr th:only-of-type {\n",
              "        vertical-align: middle;\n",
              "    }\n",
              "\n",
              "    .dataframe tbody tr th {\n",
              "        vertical-align: top;\n",
              "    }\n",
              "\n",
              "    .dataframe thead th {\n",
              "        text-align: right;\n",
              "    }\n",
              "</style>\n",
              "<table border=\"1\" class=\"dataframe\">\n",
              "  <thead>\n",
              "    <tr style=\"text-align: right;\">\n",
              "      <th></th>\n",
              "      <th>cust</th>\n",
              "      <th>rct_no</th>\n",
              "      <th>chnl_dv</th>\n",
              "      <th>cop_c</th>\n",
              "      <th>br_c</th>\n",
              "      <th>pd_c</th>\n",
              "      <th>de_dt</th>\n",
              "      <th>de_hr</th>\n",
              "      <th>buy_am</th>\n",
              "      <th>buy_ct</th>\n",
              "      <th>pd_nm</th>\n",
              "      <th>clac_hlv_nm</th>\n",
              "      <th>clac_mcls_nm</th>\n",
              "      <th>ma_fem_dv</th>\n",
              "      <th>ages</th>\n",
              "      <th>zon_hlv</th>\n",
              "      <th>day</th>\n",
              "      <th>month</th>\n",
              "    </tr>\n",
              "  </thead>\n",
              "  <tbody>\n",
              "    <tr>\n",
              "      <th>0</th>\n",
              "      <td>M430112881</td>\n",
              "      <td>A01000001113</td>\n",
              "      <td>1</td>\n",
              "      <td>A01</td>\n",
              "      <td>A010039</td>\n",
              "      <td>PD0290</td>\n",
              "      <td>2021-01-01</td>\n",
              "      <td>10</td>\n",
              "      <td>15000.0</td>\n",
              "      <td>1</td>\n",
              "      <td>남성티셔츠</td>\n",
              "      <td>남성의류</td>\n",
              "      <td>남성의류상의</td>\n",
              "      <td>여성</td>\n",
              "      <td>50대</td>\n",
              "      <td>Z17</td>\n",
              "      <td>1</td>\n",
              "      <td>1</td>\n",
              "    </tr>\n",
              "    <tr>\n",
              "      <th>1</th>\n",
              "      <td>M430112881</td>\n",
              "      <td>A01000003148</td>\n",
              "      <td>1</td>\n",
              "      <td>A01</td>\n",
              "      <td>A010039</td>\n",
              "      <td>PD0290</td>\n",
              "      <td>2021-01-01</td>\n",
              "      <td>10</td>\n",
              "      <td>19000.0</td>\n",
              "      <td>1</td>\n",
              "      <td>남성티셔츠</td>\n",
              "      <td>남성의류</td>\n",
              "      <td>남성의류상의</td>\n",
              "      <td>여성</td>\n",
              "      <td>50대</td>\n",
              "      <td>Z17</td>\n",
              "      <td>1</td>\n",
              "      <td>1</td>\n",
              "    </tr>\n",
              "    <tr>\n",
              "      <th>2</th>\n",
              "      <td>M430112881</td>\n",
              "      <td>A01000003148</td>\n",
              "      <td>1</td>\n",
              "      <td>A01</td>\n",
              "      <td>A010039</td>\n",
              "      <td>PD0290</td>\n",
              "      <td>2021-01-01</td>\n",
              "      <td>10</td>\n",
              "      <td>19000.0</td>\n",
              "      <td>1</td>\n",
              "      <td>남성티셔츠</td>\n",
              "      <td>남성의류</td>\n",
              "      <td>남성의류상의</td>\n",
              "      <td>여성</td>\n",
              "      <td>50대</td>\n",
              "      <td>Z17</td>\n",
              "      <td>1</td>\n",
              "      <td>1</td>\n",
              "    </tr>\n",
              "    <tr>\n",
              "      <th>3</th>\n",
              "      <td>M430112881</td>\n",
              "      <td>A01000004946</td>\n",
              "      <td>1</td>\n",
              "      <td>A01</td>\n",
              "      <td>A010039</td>\n",
              "      <td>PD0290</td>\n",
              "      <td>2021-01-01</td>\n",
              "      <td>10</td>\n",
              "      <td>19000.0</td>\n",
              "      <td>1</td>\n",
              "      <td>남성티셔츠</td>\n",
              "      <td>남성의류</td>\n",
              "      <td>남성의류상의</td>\n",
              "      <td>여성</td>\n",
              "      <td>50대</td>\n",
              "      <td>Z17</td>\n",
              "      <td>1</td>\n",
              "      <td>1</td>\n",
              "    </tr>\n",
              "    <tr>\n",
              "      <th>4</th>\n",
              "      <td>M506355556</td>\n",
              "      <td>A01000107137</td>\n",
              "      <td>1</td>\n",
              "      <td>A01</td>\n",
              "      <td>A010032</td>\n",
              "      <td>PD0290</td>\n",
              "      <td>2021-01-01</td>\n",
              "      <td>15</td>\n",
              "      <td>199000.0</td>\n",
              "      <td>1</td>\n",
              "      <td>남성티셔츠</td>\n",
              "      <td>남성의류</td>\n",
              "      <td>남성의류상의</td>\n",
              "      <td>여성</td>\n",
              "      <td>40대</td>\n",
              "      <td>Z17</td>\n",
              "      <td>1</td>\n",
              "      <td>1</td>\n",
              "    </tr>\n",
              "  </tbody>\n",
              "</table>\n",
              "</div>\n",
              "      <button class=\"colab-df-convert\" onclick=\"convertToInteractive('df-a3a2cb35-c90d-46b4-8a08-ac64340fd02a')\"\n",
              "              title=\"Convert this dataframe to an interactive table.\"\n",
              "              style=\"display:none;\">\n",
              "        \n",
              "  <svg xmlns=\"http://www.w3.org/2000/svg\" height=\"24px\"viewBox=\"0 0 24 24\"\n",
              "       width=\"24px\">\n",
              "    <path d=\"M0 0h24v24H0V0z\" fill=\"none\"/>\n",
              "    <path d=\"M18.56 5.44l.94 2.06.94-2.06 2.06-.94-2.06-.94-.94-2.06-.94 2.06-2.06.94zm-11 1L8.5 8.5l.94-2.06 2.06-.94-2.06-.94L8.5 2.5l-.94 2.06-2.06.94zm10 10l.94 2.06.94-2.06 2.06-.94-2.06-.94-.94-2.06-.94 2.06-2.06.94z\"/><path d=\"M17.41 7.96l-1.37-1.37c-.4-.4-.92-.59-1.43-.59-.52 0-1.04.2-1.43.59L10.3 9.45l-7.72 7.72c-.78.78-.78 2.05 0 2.83L4 21.41c.39.39.9.59 1.41.59.51 0 1.02-.2 1.41-.59l7.78-7.78 2.81-2.81c.8-.78.8-2.07 0-2.86zM5.41 20L4 18.59l7.72-7.72 1.47 1.35L5.41 20z\"/>\n",
              "  </svg>\n",
              "      </button>\n",
              "      \n",
              "  <style>\n",
              "    .colab-df-container {\n",
              "      display:flex;\n",
              "      flex-wrap:wrap;\n",
              "      gap: 12px;\n",
              "    }\n",
              "\n",
              "    .colab-df-convert {\n",
              "      background-color: #E8F0FE;\n",
              "      border: none;\n",
              "      border-radius: 50%;\n",
              "      cursor: pointer;\n",
              "      display: none;\n",
              "      fill: #1967D2;\n",
              "      height: 32px;\n",
              "      padding: 0 0 0 0;\n",
              "      width: 32px;\n",
              "    }\n",
              "\n",
              "    .colab-df-convert:hover {\n",
              "      background-color: #E2EBFA;\n",
              "      box-shadow: 0px 1px 2px rgba(60, 64, 67, 0.3), 0px 1px 3px 1px rgba(60, 64, 67, 0.15);\n",
              "      fill: #174EA6;\n",
              "    }\n",
              "\n",
              "    [theme=dark] .colab-df-convert {\n",
              "      background-color: #3B4455;\n",
              "      fill: #D2E3FC;\n",
              "    }\n",
              "\n",
              "    [theme=dark] .colab-df-convert:hover {\n",
              "      background-color: #434B5C;\n",
              "      box-shadow: 0px 1px 3px 1px rgba(0, 0, 0, 0.15);\n",
              "      filter: drop-shadow(0px 1px 2px rgba(0, 0, 0, 0.3));\n",
              "      fill: #FFFFFF;\n",
              "    }\n",
              "  </style>\n",
              "\n",
              "      <script>\n",
              "        const buttonEl =\n",
              "          document.querySelector('#df-a3a2cb35-c90d-46b4-8a08-ac64340fd02a button.colab-df-convert');\n",
              "        buttonEl.style.display =\n",
              "          google.colab.kernel.accessAllowed ? 'block' : 'none';\n",
              "\n",
              "        async function convertToInteractive(key) {\n",
              "          const element = document.querySelector('#df-a3a2cb35-c90d-46b4-8a08-ac64340fd02a');\n",
              "          const dataTable =\n",
              "            await google.colab.kernel.invokeFunction('convertToInteractive',\n",
              "                                                     [key], {});\n",
              "          if (!dataTable) return;\n",
              "\n",
              "          const docLinkHtml = 'Like what you see? Visit the ' +\n",
              "            '<a target=\"_blank\" href=https://colab.research.google.com/notebooks/data_table.ipynb>data table notebook</a>'\n",
              "            + ' to learn more about interactive tables.';\n",
              "          element.innerHTML = '';\n",
              "          dataTable['output_type'] = 'display_data';\n",
              "          await google.colab.output.renderOutput(dataTable, element);\n",
              "          const docLink = document.createElement('div');\n",
              "          docLink.innerHTML = docLinkHtml;\n",
              "          element.appendChild(docLink);\n",
              "        }\n",
              "      </script>\n",
              "    </div>\n",
              "  </div>\n",
              "  "
            ]
          },
          "metadata": {},
          "execution_count": 5
        }
      ],
      "source": [
        "from datetime import datetime\n",
        "\n",
        "a = df['de_dt'].astype('str') \n",
        "df['de_dt']  = pd.to_datetime(a) #str -> datetime\n",
        "df['day'] = df['de_dt'].map(lambda x : x.strftime('%A')) #요일\n",
        "df['month'] = df['de_dt'].dt.month #월\n",
        "df['day'] = df['de_dt'].dt.day #일\n",
        "\n",
        "df.head()"
      ]
    },
    {
      "cell_type": "code",
      "source": [
        "#계절변수\n",
        "def wea_fun(x):\n",
        "  y=''\n",
        "  if x==3 or x==4 or x==5: y='spr'\n",
        "  elif x==6 or x==7 or x==8: y='smn'\n",
        "  elif x==9 or x==10 or x==11: y='atm'\n",
        "  else: y='win'\n",
        "  return y\n",
        "\n",
        "#함수 적용\n",
        "df[\"weat\"] = df[\"month\"].apply(lambda x: wea_fun(x))"
      ],
      "metadata": {
        "id": "U1sm2YsctoqP"
      },
      "execution_count": 6,
      "outputs": []
    },
    {
      "cell_type": "code",
      "source": [
        "pdde['de_hr'].value_counts().plot(kind='bar')"
      ],
      "metadata": {
        "colab": {
          "base_uri": "https://localhost:8080/",
          "height": 286
        },
        "id": "EWp7aabstuxs",
        "outputId": "b7665530-84aa-46fc-d68a-b3c3b6452548"
      },
      "execution_count": 26,
      "outputs": [
        {
          "output_type": "execute_result",
          "data": {
            "text/plain": [
              "<matplotlib.axes._subplots.AxesSubplot at 0x7fc4f6d17510>"
            ]
          },
          "metadata": {},
          "execution_count": 26
        },
        {
          "output_type": "display_data",
          "data": {
            "text/plain": [
              "<Figure size 432x288 with 1 Axes>"
            ],
            "image/png": "[encoded data removed]"
          },
          "metadata": {
            "needs_background": "light"
          }
        }
      ]
    },
    {
      "cell_type": "markdown",
      "source": [
        "11 12 13 14 15 16 17 18 19 20 21\n",
        "\n",
        "1 2 3 4 5  6 7 8 9 10 22 23 24 "
      ],
      "metadata": {
        "id": "_FKcOsshtx03"
      }
    },
    {
      "cell_type": "code",
      "source": [
        "def time_fun(x):\n",
        "  y=''\n",
        "  if (x>=11 and x <22): y=1\n",
        "  else: y = 2\n",
        "  return y\n",
        "\n",
        "#함수 적용\n",
        "df[\"de_hr_1\"] = df[\"de_hr\"].apply(lambda x: time_fun(x))"
      ],
      "metadata": {
        "id": "hDmdUfKHtyYu"
      },
      "execution_count": 7,
      "outputs": []
    },
    {
      "cell_type": "markdown",
      "metadata": {
        "id": "mLzT49oh_8x2"
      },
      "source": [
        "##### 고객의 총 주문 횟수, 고객이 총 주문한 상품 수, 고객이 총 주문한 상품 종류의 수"
      ]
    },
    {
      "cell_type": "code",
      "execution_count": 8,
      "metadata": {
        "id": "971IgHmS_08F"
      },
      "outputs": [],
      "source": [
        "order1 = df.groupby('cust').sum()['buy_ct'].rename_axis('cust').reset_index(name='total_items') #고객의 총 주문한 상품 수\n",
        "order2 = df[['rct_no']].value_counts().reset_index(name='one_times_items') #한번에 주문한 상품의 수\n",
        "order3 = df.groupby('cust')['rct_no'].nunique().reset_index(name='rct_cnt') #구매 횟수"
      ]
    },
    {
      "cell_type": "code",
      "execution_count": 9,
      "metadata": {
        "colab": {
          "base_uri": "https://localhost:8080/",
          "height": 0
        },
        "id": "OKLELf5eAG-s",
        "outputId": "1056ca8e-88b4-4d49-f0f1-e17515c7ce16"
      },
      "outputs": [
        {
          "output_type": "execute_result",
          "data": {
            "text/plain": [
              "         cust        rct_no  chnl_dv cop_c     br_c    pd_c      de_dt  de_hr  \\\n",
              "0  M430112881  A01000001113        1   A01  A010039  PD0290 2021-01-01     10   \n",
              "1  M430112881  A01000003148        1   A01  A010039  PD0290 2021-01-01     10   \n",
              "2  M430112881  A01000003148        1   A01  A010039  PD0290 2021-01-01     10   \n",
              "3  M430112881  A01000004946        1   A01  A010039  PD0290 2021-01-01     10   \n",
              "4  M430112881  A01000005297        1   A01  A010039  PD1692 2021-01-01     10   \n",
              "\n",
              "    buy_am  buy_ct  ... ma_fem_dv ages zon_hlv day month weat  de_hr_1  \\\n",
              "0  15000.0       1  ...        여성  50대     Z17   1     1  win        2   \n",
              "1  19000.0       1  ...        여성  50대     Z17   1     1  win        2   \n",
              "2  19000.0       1  ...        여성  50대     Z17   1     1  win        2   \n",
              "3  19000.0       1  ...        여성  50대     Z17   1     1  win        2   \n",
              "4   9900.0       1  ...        여성  50대     Z17   1     1  win        2   \n",
              "\n",
              "   total_items one_times_items  rct_cnt  \n",
              "0          580               1      102  \n",
              "1          580               2      102  \n",
              "2          580               2      102  \n",
              "3          580               1      102  \n",
              "4          580               1      102  \n",
              "\n",
              "[5 rows x 23 columns]"
            ],
            "text/html": [
              "\n",
              "  <div id=\"df-dce52035-8f85-4adc-8cfb-5b7fffd5669c\">\n",
              "    <div class=\"colab-df-container\">\n",
              "      <div>\n",
              "<style scoped>\n",
              "    .dataframe tbody tr th:only-of-type {\n",
              "        vertical-align: middle;\n",
              "    }\n",
              "\n",
              "    .dataframe tbody tr th {\n",
              "        vertical-align: top;\n",
              "    }\n",
              "\n",
              "    .dataframe thead th {\n",
              "        text-align: right;\n",
              "    }\n",
              "</style>\n",
              "<table border=\"1\" class=\"dataframe\">\n",
              "  <thead>\n",
              "    <tr style=\"text-align: right;\">\n",
              "      <th></th>\n",
              "      <th>cust</th>\n",
              "      <th>rct_no</th>\n",
              "      <th>chnl_dv</th>\n",
              "      <th>cop_c</th>\n",
              "      <th>br_c</th>\n",
              "      <th>pd_c</th>\n",
              "      <th>de_dt</th>\n",
              "      <th>de_hr</th>\n",
              "      <th>buy_am</th>\n",
              "      <th>buy_ct</th>\n",
              "      <th>...</th>\n",
              "      <th>ma_fem_dv</th>\n",
              "      <th>ages</th>\n",
              "      <th>zon_hlv</th>\n",
              "      <th>day</th>\n",
              "      <th>month</th>\n",
              "      <th>weat</th>\n",
              "      <th>de_hr_1</th>\n",
              "      <th>total_items</th>\n",
              "      <th>one_times_items</th>\n",
              "      <th>rct_cnt</th>\n",
              "    </tr>\n",
              "  </thead>\n",
              "  <tbody>\n",
              "    <tr>\n",
              "      <th>0</th>\n",
              "      <td>M430112881</td>\n",
              "      <td>A01000001113</td>\n",
              "      <td>1</td>\n",
              "      <td>A01</td>\n",
              "      <td>A010039</td>\n",
              "      <td>PD0290</td>\n",
              "      <td>2021-01-01</td>\n",
              "      <td>10</td>\n",
              "      <td>15000.0</td>\n",
              "      <td>1</td>\n",
              "      <td>...</td>\n",
              "      <td>여성</td>\n",
              "      <td>50대</td>\n",
              "      <td>Z17</td>\n",
              "      <td>1</td>\n",
              "      <td>1</td>\n",
              "      <td>win</td>\n",
              "      <td>2</td>\n",
              "      <td>580</td>\n",
              "      <td>1</td>\n",
              "      <td>102</td>\n",
              "    </tr>\n",
              "    <tr>\n",
              "      <th>1</th>\n",
              "      <td>M430112881</td>\n",
              "      <td>A01000003148</td>\n",
              "      <td>1</td>\n",
              "      <td>A01</td>\n",
              "      <td>A010039</td>\n",
              "      <td>PD0290</td>\n",
              "      <td>2021-01-01</td>\n",
              "      <td>10</td>\n",
              "      <td>19000.0</td>\n",
              "      <td>1</td>\n",
              "      <td>...</td>\n",
              "      <td>여성</td>\n",
              "      <td>50대</td>\n",
              "      <td>Z17</td>\n",
              "      <td>1</td>\n",
              "      <td>1</td>\n",
              "      <td>win</td>\n",
              "      <td>2</td>\n",
              "      <td>580</td>\n",
              "      <td>2</td>\n",
              "      <td>102</td>\n",
              "    </tr>\n",
              "    <tr>\n",
              "      <th>2</th>\n",
              "      <td>M430112881</td>\n",
              "      <td>A01000003148</td>\n",
              "      <td>1</td>\n",
              "      <td>A01</td>\n",
              "      <td>A010039</td>\n",
              "      <td>PD0290</td>\n",
              "      <td>2021-01-01</td>\n",
              "      <td>10</td>\n",
              "      <td>19000.0</td>\n",
              "      <td>1</td>\n",
              "      <td>...</td>\n",
              "      <td>여성</td>\n",
              "      <td>50대</td>\n",
              "      <td>Z17</td>\n",
              "      <td>1</td>\n",
              "      <td>1</td>\n",
              "      <td>win</td>\n",
              "      <td>2</td>\n",
              "      <td>580</td>\n",
              "      <td>2</td>\n",
              "      <td>102</td>\n",
              "    </tr>\n",
              "    <tr>\n",
              "      <th>3</th>\n",
              "      <td>M430112881</td>\n",
              "      <td>A01000004946</td>\n",
              "      <td>1</td>\n",
              "      <td>A01</td>\n",
              "      <td>A010039</td>\n",
              "      <td>PD0290</td>\n",
              "      <td>2021-01-01</td>\n",
              "      <td>10</td>\n",
              "      <td>19000.0</td>\n",
              "      <td>1</td>\n",
              "      <td>...</td>\n",
              "      <td>여성</td>\n",
              "      <td>50대</td>\n",
              "      <td>Z17</td>\n",
              "      <td>1</td>\n",
              "      <td>1</td>\n",
              "      <td>win</td>\n",
              "      <td>2</td>\n",
              "      <td>580</td>\n",
              "      <td>1</td>\n",
              "      <td>102</td>\n",
              "    </tr>\n",
              "    <tr>\n",
              "      <th>4</th>\n",
              "      <td>M430112881</td>\n",
              "      <td>A01000005297</td>\n",
              "      <td>1</td>\n",
              "      <td>A01</td>\n",
              "      <td>A010039</td>\n",
              "      <td>PD1692</td>\n",
              "      <td>2021-01-01</td>\n",
              "      <td>10</td>\n",
              "      <td>9900.0</td>\n",
              "      <td>1</td>\n",
              "      <td>...</td>\n",
              "      <td>여성</td>\n",
              "      <td>50대</td>\n",
              "      <td>Z17</td>\n",
              "      <td>1</td>\n",
              "      <td>1</td>\n",
              "      <td>win</td>\n",
              "      <td>2</td>\n",
              "      <td>580</td>\n",
              "      <td>1</td>\n",
              "      <td>102</td>\n",
              "    </tr>\n",
              "  </tbody>\n",
              "</table>\n",
              "<p>5 rows × 23 columns</p>\n",
              "</div>\n",
              "      <button class=\"colab-df-convert\" onclick=\"convertToInteractive('df-dce52035-8f85-4adc-8cfb-5b7fffd5669c')\"\n",
              "              title=\"Convert this dataframe to an interactive table.\"\n",
              "              style=\"display:none;\">\n",
              "        \n",
              "  <svg xmlns=\"http://www.w3.org/2000/svg\" height=\"24px\"viewBox=\"0 0 24 24\"\n",
              "       width=\"24px\">\n",
              "    <path d=\"M0 0h24v24H0V0z\" fill=\"none\"/>\n",
              "    <path d=\"M18.56 5.44l.94 2.06.94-2.06 2.06-.94-2.06-.94-.94-2.06-.94 2.06-2.06.94zm-11 1L8.5 8.5l.94-2.06 2.06-.94-2.06-.94L8.5 2.5l-.94 2.06-2.06.94zm10 10l.94 2.06.94-2.06 2.06-.94-2.06-.94-.94-2.06-.94 2.06-2.06.94z\"/><path d=\"M17.41 7.96l-1.37-1.37c-.4-.4-.92-.59-1.43-.59-.52 0-1.04.2-1.43.59L10.3 9.45l-7.72 7.72c-.78.78-.78 2.05 0 2.83L4 21.41c.39.39.9.59 1.41.59.51 0 1.02-.2 1.41-.59l7.78-7.78 2.81-2.81c.8-.78.8-2.07 0-2.86zM5.41 20L4 18.59l7.72-7.72 1.47 1.35L5.41 20z\"/>\n",
              "  </svg>\n",
              "      </button>\n",
              "      \n",
              "  <style>\n",
              "    .colab-df-container {\n",
              "      display:flex;\n",
              "      flex-wrap:wrap;\n",
              "      gap: 12px;\n",
              "    }\n",
              "\n",
              "    .colab-df-convert {\n",
              "      background-color: #E8F0FE;\n",
              "      border: none;\n",
              "      border-radius: 50%;\n",
              "      cursor: pointer;\n",
              "      display: none;\n",
              "      fill: #1967D2;\n",
              "      height: 32px;\n",
              "      padding: 0 0 0 0;\n",
              "      width: 32px;\n",
              "    }\n",
              "\n",
              "    .colab-df-convert:hover {\n",
              "      background-color: #E2EBFA;\n",
              "      box-shadow: 0px 1px 2px rgba(60, 64, 67, 0.3), 0px 1px 3px 1px rgba(60, 64, 67, 0.15);\n",
              "      fill: #174EA6;\n",
              "    }\n",
              "\n",
              "    [theme=dark] .colab-df-convert {\n",
              "      background-color: #3B4455;\n",
              "      fill: #D2E3FC;\n",
              "    }\n",
              "\n",
              "    [theme=dark] .colab-df-convert:hover {\n",
              "      background-color: #434B5C;\n",
              "      box-shadow: 0px 1px 3px 1px rgba(0, 0, 0, 0.15);\n",
              "      filter: drop-shadow(0px 1px 2px rgba(0, 0, 0, 0.3));\n",
              "      fill: #FFFFFF;\n",
              "    }\n",
              "  </style>\n",
              "\n",
              "      <script>\n",
              "        const buttonEl =\n",
              "          document.querySelector('#df-dce52035-8f85-4adc-8cfb-5b7fffd5669c button.colab-df-convert');\n",
              "        buttonEl.style.display =\n",
              "          google.colab.kernel.accessAllowed ? 'block' : 'none';\n",
              "\n",
              "        async function convertToInteractive(key) {\n",
              "          const element = document.querySelector('#df-dce52035-8f85-4adc-8cfb-5b7fffd5669c');\n",
              "          const dataTable =\n",
              "            await google.colab.kernel.invokeFunction('convertToInteractive',\n",
              "                                                     [key], {});\n",
              "          if (!dataTable) return;\n",
              "\n",
              "          const docLinkHtml = 'Like what you see? Visit the ' +\n",
              "            '<a target=\"_blank\" href=https://colab.research.google.com/notebooks/data_table.ipynb>data table notebook</a>'\n",
              "            + ' to learn more about interactive tables.';\n",
              "          element.innerHTML = '';\n",
              "          dataTable['output_type'] = 'display_data';\n",
              "          await google.colab.output.renderOutput(dataTable, element);\n",
              "          const docLink = document.createElement('div');\n",
              "          docLink.innerHTML = docLinkHtml;\n",
              "          element.appendChild(docLink);\n",
              "        }\n",
              "      </script>\n",
              "    </div>\n",
              "  </div>\n",
              "  "
            ]
          },
          "metadata": {},
          "execution_count": 9
        }
      ],
      "source": [
        "df = pd.merge(df, order1, how='outer',on='cust')\n",
        "df = pd.merge(df, order2, how='outer',on='rct_no')\n",
        "df = pd.merge(df, order3, how='outer',on='cust')\n",
        "\n",
        "df.head()"
      ]
    },
    {
      "cell_type": "markdown",
      "metadata": {
        "id": "Jxl57RUFvmm0"
      },
      "source": [
        "##### 재구매 여부"
      ]
    },
    {
      "cell_type": "code",
      "execution_count": 10,
      "metadata": {
        "colab": {
          "base_uri": "https://localhost:8080/",
          "height": 206
        },
        "id": "5_C3E1IFA0E8",
        "outputId": "dd0fb78c-7e8f-4d9c-f8d8-a0f0872cba42"
      },
      "outputs": [
        {
          "output_type": "execute_result",
          "data": {
            "text/plain": [
              "         cust clac_mcls_nm      de_dt  buy_cnt\n",
              "0  M000034966           건면 2021-09-19        1\n",
              "1  M000034966         과채음료 2021-01-16        1\n",
              "2  M000034966         국산과일 2021-09-19        2\n",
              "3  M000034966        기능성음료 2021-08-29        1\n",
              "4  M000034966        기능성음료 2021-09-19        3"
            ],
            "text/html": [
              "\n",
              "  <div id=\"df-e8c3757f-868a-42b3-8276-c1e2c1ec2766\">\n",
              "    <div class=\"colab-df-container\">\n",
              "      <div>\n",
              "<style scoped>\n",
              "    .dataframe tbody tr th:only-of-type {\n",
              "        vertical-align: middle;\n",
              "    }\n",
              "\n",
              "    .dataframe tbody tr th {\n",
              "        vertical-align: top;\n",
              "    }\n",
              "\n",
              "    .dataframe thead th {\n",
              "        text-align: right;\n",
              "    }\n",
              "</style>\n",
              "<table border=\"1\" class=\"dataframe\">\n",
              "  <thead>\n",
              "    <tr style=\"text-align: right;\">\n",
              "      <th></th>\n",
              "      <th>cust</th>\n",
              "      <th>clac_mcls_nm</th>\n",
              "      <th>de_dt</th>\n",
              "      <th>buy_cnt</th>\n",
              "    </tr>\n",
              "  </thead>\n",
              "  <tbody>\n",
              "    <tr>\n",
              "      <th>0</th>\n",
              "      <td>M000034966</td>\n",
              "      <td>건면</td>\n",
              "      <td>2021-09-19</td>\n",
              "      <td>1</td>\n",
              "    </tr>\n",
              "    <tr>\n",
              "      <th>1</th>\n",
              "      <td>M000034966</td>\n",
              "      <td>과채음료</td>\n",
              "      <td>2021-01-16</td>\n",
              "      <td>1</td>\n",
              "    </tr>\n",
              "    <tr>\n",
              "      <th>2</th>\n",
              "      <td>M000034966</td>\n",
              "      <td>국산과일</td>\n",
              "      <td>2021-09-19</td>\n",
              "      <td>2</td>\n",
              "    </tr>\n",
              "    <tr>\n",
              "      <th>3</th>\n",
              "      <td>M000034966</td>\n",
              "      <td>기능성음료</td>\n",
              "      <td>2021-08-29</td>\n",
              "      <td>1</td>\n",
              "    </tr>\n",
              "    <tr>\n",
              "      <th>4</th>\n",
              "      <td>M000034966</td>\n",
              "      <td>기능성음료</td>\n",
              "      <td>2021-09-19</td>\n",
              "      <td>3</td>\n",
              "    </tr>\n",
              "  </tbody>\n",
              "</table>\n",
              "</div>\n",
              "      <button class=\"colab-df-convert\" onclick=\"convertToInteractive('df-e8c3757f-868a-42b3-8276-c1e2c1ec2766')\"\n",
              "              title=\"Convert this dataframe to an interactive table.\"\n",
              "              style=\"display:none;\">\n",
              "        \n",
              "  <svg xmlns=\"http://www.w3.org/2000/svg\" height=\"24px\"viewBox=\"0 0 24 24\"\n",
              "       width=\"24px\">\n",
              "    <path d=\"M0 0h24v24H0V0z\" fill=\"none\"/>\n",
              "    <path d=\"M18.56 5.44l.94 2.06.94-2.06 2.06-.94-2.06-.94-.94-2.06-.94 2.06-2.06.94zm-11 1L8.5 8.5l.94-2.06 2.06-.94-2.06-.94L8.5 2.5l-.94 2.06-2.06.94zm10 10l.94 2.06.94-2.06 2.06-.94-2.06-.94-.94-2.06-.94 2.06-2.06.94z\"/><path d=\"M17.41 7.96l-1.37-1.37c-.4-.4-.92-.59-1.43-.59-.52 0-1.04.2-1.43.59L10.3 9.45l-7.72 7.72c-.78.78-.78 2.05 0 2.83L4 21.41c.39.39.9.59 1.41.59.51 0 1.02-.2 1.41-.59l7.78-7.78 2.81-2.81c.8-.78.8-2.07 0-2.86zM5.41 20L4 18.59l7.72-7.72 1.47 1.35L5.41 20z\"/>\n",
              "  </svg>\n",
              "      </button>\n",
              "      \n",
              "  <style>\n",
              "    .colab-df-container {\n",
              "      display:flex;\n",
              "      flex-wrap:wrap;\n",
              "      gap: 12px;\n",
              "    }\n",
              "\n",
              "    .colab-df-convert {\n",
              "      background-color: #E8F0FE;\n",
              "      border: none;\n",
              "      border-radius: 50%;\n",
              "      cursor: pointer;\n",
              "      display: none;\n",
              "      fill: #1967D2;\n",
              "      height: 32px;\n",
              "      padding: 0 0 0 0;\n",
              "      width: 32px;\n",
              "    }\n",
              "\n",
              "    .colab-df-convert:hover {\n",
              "      background-color: #E2EBFA;\n",
              "      box-shadow: 0px 1px 2px rgba(60, 64, 67, 0.3), 0px 1px 3px 1px rgba(60, 64, 67, 0.15);\n",
              "      fill: #174EA6;\n",
              "    }\n",
              "\n",
              "    [theme=dark] .colab-df-convert {\n",
              "      background-color: #3B4455;\n",
              "      fill: #D2E3FC;\n",
              "    }\n",
              "\n",
              "    [theme=dark] .colab-df-convert:hover {\n",
              "      background-color: #434B5C;\n",
              "      box-shadow: 0px 1px 3px 1px rgba(0, 0, 0, 0.15);\n",
              "      filter: drop-shadow(0px 1px 2px rgba(0, 0, 0, 0.3));\n",
              "      fill: #FFFFFF;\n",
              "    }\n",
              "  </style>\n",
              "\n",
              "      <script>\n",
              "        const buttonEl =\n",
              "          document.querySelector('#df-e8c3757f-868a-42b3-8276-c1e2c1ec2766 button.colab-df-convert');\n",
              "        buttonEl.style.display =\n",
              "          google.colab.kernel.accessAllowed ? 'block' : 'none';\n",
              "\n",
              "        async function convertToInteractive(key) {\n",
              "          const element = document.querySelector('#df-e8c3757f-868a-42b3-8276-c1e2c1ec2766');\n",
              "          const dataTable =\n",
              "            await google.colab.kernel.invokeFunction('convertToInteractive',\n",
              "                                                     [key], {});\n",
              "          if (!dataTable) return;\n",
              "\n",
              "          const docLinkHtml = 'Like what you see? Visit the ' +\n",
              "            '<a target=\"_blank\" href=https://colab.research.google.com/notebooks/data_table.ipynb>data table notebook</a>'\n",
              "            + ' to learn more about interactive tables.';\n",
              "          element.innerHTML = '';\n",
              "          dataTable['output_type'] = 'display_data';\n",
              "          await google.colab.output.renderOutput(dataTable, element);\n",
              "          const docLink = document.createElement('div');\n",
              "          docLink.innerHTML = docLinkHtml;\n",
              "          element.appendChild(docLink);\n",
              "        }\n",
              "      </script>\n",
              "    </div>\n",
              "  </div>\n",
              "  "
            ]
          },
          "metadata": {},
          "execution_count": 10
        }
      ],
      "source": [
        "rebuy_df = df.groupby(['cust', 'clac_mcls_nm','de_dt']).sum()['buy_ct'].reset_index(name='buy_cnt') \n",
        "rebuy_df = rebuy_df.sort_values(['cust','clac_mcls_nm','de_dt'])\n",
        "rebuy_df.head()"
      ]
    },
    {
      "cell_type": "code",
      "execution_count": 11,
      "metadata": {
        "id": "dJaaENNoWi8g"
      },
      "outputs": [],
      "source": [
        "rebuy_df['dt_diff'] = rebuy_df['de_dt'].diff()\n",
        "rebuy_df.loc[rebuy_df['cust'] != rebuy_df['cust'].shift(),'dt_diff'] = None \n",
        "rebuy_df.loc[rebuy_df['clac_mcls_nm'] != rebuy_df['clac_mcls_nm'].shift(),'dt_diff'] = None"
      ]
    },
    {
      "cell_type": "code",
      "execution_count": 12,
      "metadata": {
        "id": "gdyGW27_bFOP"
      },
      "outputs": [],
      "source": [
        "rebuy_df['dt_diff'] = rebuy_df['dt_diff'].dt.days\n",
        "rebuy_df['dt_diff'] = rebuy_df['dt_diff'].fillna(365)"
      ]
    },
    {
      "cell_type": "code",
      "execution_count": 13,
      "metadata": {
        "id": "XB-RFiRxWi1l"
      },
      "outputs": [],
      "source": [
        "rebuy_df['rebuy'] = 0\n",
        "rebuy_df.loc[rebuy_df['dt_diff'] <= 31,'rebuy'] = 1"
      ]
    },
    {
      "cell_type": "code",
      "execution_count": 14,
      "metadata": {
        "colab": {
          "base_uri": "https://localhost:8080/",
          "height": 206
        },
        "id": "MCH6MVKMWlFH",
        "outputId": "b4987ddd-62c3-4f0f-db6f-6f5226191b78"
      },
      "outputs": [
        {
          "output_type": "execute_result",
          "data": {
            "text/plain": [
              "         cust clac_mcls_nm      de_dt  buy_cnt  dt_diff  rebuy\n",
              "0  M000034966           건면 2021-09-19        1    365.0      0\n",
              "1  M000034966         과채음료 2021-01-16        1    365.0      0\n",
              "2  M000034966         국산과일 2021-09-19        2    365.0      0\n",
              "3  M000034966        기능성음료 2021-08-29        1    365.0      0\n",
              "4  M000034966        기능성음료 2021-09-19        3     21.0      1"
            ],
            "text/html": [
              "\n",
              "  <div id=\"df-8b867666-3ff2-4a7a-90af-32d4aa9f53eb\">\n",
              "    <div class=\"colab-df-container\">\n",
              "      <div>\n",
              "<style scoped>\n",
              "    .dataframe tbody tr th:only-of-type {\n",
              "        vertical-align: middle;\n",
              "    }\n",
              "\n",
              "    .dataframe tbody tr th {\n",
              "        vertical-align: top;\n",
              "    }\n",
              "\n",
              "    .dataframe thead th {\n",
              "        text-align: right;\n",
              "    }\n",
              "</style>\n",
              "<table border=\"1\" class=\"dataframe\">\n",
              "  <thead>\n",
              "    <tr style=\"text-align: right;\">\n",
              "      <th></th>\n",
              "      <th>cust</th>\n",
              "      <th>clac_mcls_nm</th>\n",
              "      <th>de_dt</th>\n",
              "      <th>buy_cnt</th>\n",
              "      <th>dt_diff</th>\n",
              "      <th>rebuy</th>\n",
              "    </tr>\n",
              "  </thead>\n",
              "  <tbody>\n",
              "    <tr>\n",
              "      <th>0</th>\n",
              "      <td>M000034966</td>\n",
              "      <td>건면</td>\n",
              "      <td>2021-09-19</td>\n",
              "      <td>1</td>\n",
              "      <td>365.0</td>\n",
              "      <td>0</td>\n",
              "    </tr>\n",
              "    <tr>\n",
              "      <th>1</th>\n",
              "      <td>M000034966</td>\n",
              "      <td>과채음료</td>\n",
              "      <td>2021-01-16</td>\n",
              "      <td>1</td>\n",
              "      <td>365.0</td>\n",
              "      <td>0</td>\n",
              "    </tr>\n",
              "    <tr>\n",
              "      <th>2</th>\n",
              "      <td>M000034966</td>\n",
              "      <td>국산과일</td>\n",
              "      <td>2021-09-19</td>\n",
              "      <td>2</td>\n",
              "      <td>365.0</td>\n",
              "      <td>0</td>\n",
              "    </tr>\n",
              "    <tr>\n",
              "      <th>3</th>\n",
              "      <td>M000034966</td>\n",
              "      <td>기능성음료</td>\n",
              "      <td>2021-08-29</td>\n",
              "      <td>1</td>\n",
              "      <td>365.0</td>\n",
              "      <td>0</td>\n",
              "    </tr>\n",
              "    <tr>\n",
              "      <th>4</th>\n",
              "      <td>M000034966</td>\n",
              "      <td>기능성음료</td>\n",
              "      <td>2021-09-19</td>\n",
              "      <td>3</td>\n",
              "      <td>21.0</td>\n",
              "      <td>1</td>\n",
              "    </tr>\n",
              "  </tbody>\n",
              "</table>\n",
              "</div>\n",
              "      <button class=\"colab-df-convert\" onclick=\"convertToInteractive('df-8b867666-3ff2-4a7a-90af-32d4aa9f53eb')\"\n",
              "              title=\"Convert this dataframe to an interactive table.\"\n",
              "              style=\"display:none;\">\n",
              "        \n",
              "  <svg xmlns=\"http://www.w3.org/2000/svg\" height=\"24px\"viewBox=\"0 0 24 24\"\n",
              "       width=\"24px\">\n",
              "    <path d=\"M0 0h24v24H0V0z\" fill=\"none\"/>\n",
              "    <path d=\"M18.56 5.44l.94 2.06.94-2.06 2.06-.94-2.06-.94-.94-2.06-.94 2.06-2.06.94zm-11 1L8.5 8.5l.94-2.06 2.06-.94-2.06-.94L8.5 2.5l-.94 2.06-2.06.94zm10 10l.94 2.06.94-2.06 2.06-.94-2.06-.94-.94-2.06-.94 2.06-2.06.94z\"/><path d=\"M17.41 7.96l-1.37-1.37c-.4-.4-.92-.59-1.43-.59-.52 0-1.04.2-1.43.59L10.3 9.45l-7.72 7.72c-.78.78-.78 2.05 0 2.83L4 21.41c.39.39.9.59 1.41.59.51 0 1.02-.2 1.41-.59l7.78-7.78 2.81-2.81c.8-.78.8-2.07 0-2.86zM5.41 20L4 18.59l7.72-7.72 1.47 1.35L5.41 20z\"/>\n",
              "  </svg>\n",
              "      </button>\n",
              "      \n",
              "  <style>\n",
              "    .colab-df-container {\n",
              "      display:flex;\n",
              "      flex-wrap:wrap;\n",
              "      gap: 12px;\n",
              "    }\n",
              "\n",
              "    .colab-df-convert {\n",
              "      background-color: #E8F0FE;\n",
              "      border: none;\n",
              "      border-radius: 50%;\n",
              "      cursor: pointer;\n",
              "      display: none;\n",
              "      fill: #1967D2;\n",
              "      height: 32px;\n",
              "      padding: 0 0 0 0;\n",
              "      width: 32px;\n",
              "    }\n",
              "\n",
              "    .colab-df-convert:hover {\n",
              "      background-color: #E2EBFA;\n",
              "      box-shadow: 0px 1px 2px rgba(60, 64, 67, 0.3), 0px 1px 3px 1px rgba(60, 64, 67, 0.15);\n",
              "      fill: #174EA6;\n",
              "    }\n",
              "\n",
              "    [theme=dark] .colab-df-convert {\n",
              "      background-color: #3B4455;\n",
              "      fill: #D2E3FC;\n",
              "    }\n",
              "\n",
              "    [theme=dark] .colab-df-convert:hover {\n",
              "      background-color: #434B5C;\n",
              "      box-shadow: 0px 1px 3px 1px rgba(0, 0, 0, 0.15);\n",
              "      filter: drop-shadow(0px 1px 2px rgba(0, 0, 0, 0.3));\n",
              "      fill: #FFFFFF;\n",
              "    }\n",
              "  </style>\n",
              "\n",
              "      <script>\n",
              "        const buttonEl =\n",
              "          document.querySelector('#df-8b867666-3ff2-4a7a-90af-32d4aa9f53eb button.colab-df-convert');\n",
              "        buttonEl.style.display =\n",
              "          google.colab.kernel.accessAllowed ? 'block' : 'none';\n",
              "\n",
              "        async function convertToInteractive(key) {\n",
              "          const element = document.querySelector('#df-8b867666-3ff2-4a7a-90af-32d4aa9f53eb');\n",
              "          const dataTable =\n",
              "            await google.colab.kernel.invokeFunction('convertToInteractive',\n",
              "                                                     [key], {});\n",
              "          if (!dataTable) return;\n",
              "\n",
              "          const docLinkHtml = 'Like what you see? Visit the ' +\n",
              "            '<a target=\"_blank\" href=https://colab.research.google.com/notebooks/data_table.ipynb>data table notebook</a>'\n",
              "            + ' to learn more about interactive tables.';\n",
              "          element.innerHTML = '';\n",
              "          dataTable['output_type'] = 'display_data';\n",
              "          await google.colab.output.renderOutput(dataTable, element);\n",
              "          const docLink = document.createElement('div');\n",
              "          docLink.innerHTML = docLinkHtml;\n",
              "          element.appendChild(docLink);\n",
              "        }\n",
              "      </script>\n",
              "    </div>\n",
              "  </div>\n",
              "  "
            ]
          },
          "metadata": {},
          "execution_count": 14
        }
      ],
      "source": [
        "rebuy_df.head()"
      ]
    },
    {
      "cell_type": "code",
      "execution_count": null,
      "metadata": {
        "colab": {
          "base_uri": "https://localhost:8080/"
        },
        "id": "BgeaNushWIng",
        "outputId": "138b897d-55e7-43d2-a85f-8b5af6abcc03"
      },
      "outputs": [
        {
          "data": {
            "text/plain": [
              "(array([0, 1]), array([1869433, 1427769]))"
            ]
          },
          "execution_count": 12,
          "metadata": {},
          "output_type": "execute_result"
        }
      ],
      "source": [
        "np.unique(rebuy_df['rebuy'],return_counts=True)"
      ]
    },
    {
      "cell_type": "code",
      "execution_count": 15,
      "metadata": {
        "id": "x7jgikk9fDaM"
      },
      "outputs": [],
      "source": [
        "del rebuy_df['buy_cnt']\n",
        "del rebuy_df['dt_diff']"
      ]
    },
    {
      "cell_type": "code",
      "execution_count": 16,
      "metadata": {
        "colab": {
          "base_uri": "https://localhost:8080/",
          "height": 0
        },
        "id": "QeE4P7pZqB6p",
        "outputId": "1065fd79-00b4-4ce7-883c-5f34ebca2b86"
      },
      "outputs": [
        {
          "output_type": "execute_result",
          "data": {
            "text/plain": [
              "         cust        rct_no  chnl_dv cop_c     br_c    pd_c      de_dt  de_hr  \\\n",
              "0  M430112881  A01000001113        1   A01  A010039  PD0290 2021-01-01     10   \n",
              "1  M430112881  A01000003148        1   A01  A010039  PD0290 2021-01-01     10   \n",
              "2  M430112881  A01000003148        1   A01  A010039  PD0290 2021-01-01     10   \n",
              "3  M430112881  A01000004946        1   A01  A010039  PD0290 2021-01-01     10   \n",
              "4  M430112881  A01000013098        1   A01  A010039  PD0292 2021-01-01     11   \n",
              "\n",
              "    buy_am  buy_ct  ... ages zon_hlv day month weat de_hr_1  total_items  \\\n",
              "0  15000.0       1  ...  50대     Z17   1     1  win       2          580   \n",
              "1  19000.0       1  ...  50대     Z17   1     1  win       2          580   \n",
              "2  19000.0       1  ...  50대     Z17   1     1  win       2          580   \n",
              "3  19000.0       1  ...  50대     Z17   1     1  win       2          580   \n",
              "4  19900.0       1  ...  50대     Z17   1     1  win       1          580   \n",
              "\n",
              "   one_times_items rct_cnt  rebuy  \n",
              "0                1     102      0  \n",
              "1                2     102      0  \n",
              "2                2     102      0  \n",
              "3                1     102      0  \n",
              "4                1     102      0  \n",
              "\n",
              "[5 rows x 24 columns]"
            ],
            "text/html": [
              "\n",
              "  <div id=\"df-05b334a9-dff5-45a9-a0be-c714e0e3a592\">\n",
              "    <div class=\"colab-df-container\">\n",
              "      <div>\n",
              "<style scoped>\n",
              "    .dataframe tbody tr th:only-of-type {\n",
              "        vertical-align: middle;\n",
              "    }\n",
              "\n",
              "    .dataframe tbody tr th {\n",
              "        vertical-align: top;\n",
              "    }\n",
              "\n",
              "    .dataframe thead th {\n",
              "        text-align: right;\n",
              "    }\n",
              "</style>\n",
              "<table border=\"1\" class=\"dataframe\">\n",
              "  <thead>\n",
              "    <tr style=\"text-align: right;\">\n",
              "      <th></th>\n",
              "      <th>cust</th>\n",
              "      <th>rct_no</th>\n",
              "      <th>chnl_dv</th>\n",
              "      <th>cop_c</th>\n",
              "      <th>br_c</th>\n",
              "      <th>pd_c</th>\n",
              "      <th>de_dt</th>\n",
              "      <th>de_hr</th>\n",
              "      <th>buy_am</th>\n",
              "      <th>buy_ct</th>\n",
              "      <th>...</th>\n",
              "      <th>ages</th>\n",
              "      <th>zon_hlv</th>\n",
              "      <th>day</th>\n",
              "      <th>month</th>\n",
              "      <th>weat</th>\n",
              "      <th>de_hr_1</th>\n",
              "      <th>total_items</th>\n",
              "      <th>one_times_items</th>\n",
              "      <th>rct_cnt</th>\n",
              "      <th>rebuy</th>\n",
              "    </tr>\n",
              "  </thead>\n",
              "  <tbody>\n",
              "    <tr>\n",
              "      <th>0</th>\n",
              "      <td>M430112881</td>\n",
              "      <td>A01000001113</td>\n",
              "      <td>1</td>\n",
              "      <td>A01</td>\n",
              "      <td>A010039</td>\n",
              "      <td>PD0290</td>\n",
              "      <td>2021-01-01</td>\n",
              "      <td>10</td>\n",
              "      <td>15000.0</td>\n",
              "      <td>1</td>\n",
              "      <td>...</td>\n",
              "      <td>50대</td>\n",
              "      <td>Z17</td>\n",
              "      <td>1</td>\n",
              "      <td>1</td>\n",
              "      <td>win</td>\n",
              "      <td>2</td>\n",
              "      <td>580</td>\n",
              "      <td>1</td>\n",
              "      <td>102</td>\n",
              "      <td>0</td>\n",
              "    </tr>\n",
              "    <tr>\n",
              "      <th>1</th>\n",
              "      <td>M430112881</td>\n",
              "      <td>A01000003148</td>\n",
              "      <td>1</td>\n",
              "      <td>A01</td>\n",
              "      <td>A010039</td>\n",
              "      <td>PD0290</td>\n",
              "      <td>2021-01-01</td>\n",
              "      <td>10</td>\n",
              "      <td>19000.0</td>\n",
              "      <td>1</td>\n",
              "      <td>...</td>\n",
              "      <td>50대</td>\n",
              "      <td>Z17</td>\n",
              "      <td>1</td>\n",
              "      <td>1</td>\n",
              "      <td>win</td>\n",
              "      <td>2</td>\n",
              "      <td>580</td>\n",
              "      <td>2</td>\n",
              "      <td>102</td>\n",
              "      <td>0</td>\n",
              "    </tr>\n",
              "    <tr>\n",
              "      <th>2</th>\n",
              "      <td>M430112881</td>\n",
              "      <td>A01000003148</td>\n",
              "      <td>1</td>\n",
              "      <td>A01</td>\n",
              "      <td>A010039</td>\n",
              "      <td>PD0290</td>\n",
              "      <td>2021-01-01</td>\n",
              "      <td>10</td>\n",
              "      <td>19000.0</td>\n",
              "      <td>1</td>\n",
              "      <td>...</td>\n",
              "      <td>50대</td>\n",
              "      <td>Z17</td>\n",
              "      <td>1</td>\n",
              "      <td>1</td>\n",
              "      <td>win</td>\n",
              "      <td>2</td>\n",
              "      <td>580</td>\n",
              "      <td>2</td>\n",
              "      <td>102</td>\n",
              "      <td>0</td>\n",
              "    </tr>\n",
              "    <tr>\n",
              "      <th>3</th>\n",
              "      <td>M430112881</td>\n",
              "      <td>A01000004946</td>\n",
              "      <td>1</td>\n",
              "      <td>A01</td>\n",
              "      <td>A010039</td>\n",
              "      <td>PD0290</td>\n",
              "      <td>2021-01-01</td>\n",
              "      <td>10</td>\n",
              "      <td>19000.0</td>\n",
              "      <td>1</td>\n",
              "      <td>...</td>\n",
              "      <td>50대</td>\n",
              "      <td>Z17</td>\n",
              "      <td>1</td>\n",
              "      <td>1</td>\n",
              "      <td>win</td>\n",
              "      <td>2</td>\n",
              "      <td>580</td>\n",
              "      <td>1</td>\n",
              "      <td>102</td>\n",
              "      <td>0</td>\n",
              "    </tr>\n",
              "    <tr>\n",
              "      <th>4</th>\n",
              "      <td>M430112881</td>\n",
              "      <td>A01000013098</td>\n",
              "      <td>1</td>\n",
              "      <td>A01</td>\n",
              "      <td>A010039</td>\n",
              "      <td>PD0292</td>\n",
              "      <td>2021-01-01</td>\n",
              "      <td>11</td>\n",
              "      <td>19900.0</td>\n",
              "      <td>1</td>\n",
              "      <td>...</td>\n",
              "      <td>50대</td>\n",
              "      <td>Z17</td>\n",
              "      <td>1</td>\n",
              "      <td>1</td>\n",
              "      <td>win</td>\n",
              "      <td>1</td>\n",
              "      <td>580</td>\n",
              "      <td>1</td>\n",
              "      <td>102</td>\n",
              "      <td>0</td>\n",
              "    </tr>\n",
              "  </tbody>\n",
              "</table>\n",
              "<p>5 rows × 24 columns</p>\n",
              "</div>\n",
              "      <button class=\"colab-df-convert\" onclick=\"convertToInteractive('df-05b334a9-dff5-45a9-a0be-c714e0e3a592')\"\n",
              "              title=\"Convert this dataframe to an interactive table.\"\n",
              "              style=\"display:none;\">\n",
              "        \n",
              "  <svg xmlns=\"http://www.w3.org/2000/svg\" height=\"24px\"viewBox=\"0 0 24 24\"\n",
              "       width=\"24px\">\n",
              "    <path d=\"M0 0h24v24H0V0z\" fill=\"none\"/>\n",
              "    <path d=\"M18.56 5.44l.94 2.06.94-2.06 2.06-.94-2.06-.94-.94-2.06-.94 2.06-2.06.94zm-11 1L8.5 8.5l.94-2.06 2.06-.94-2.06-.94L8.5 2.5l-.94 2.06-2.06.94zm10 10l.94 2.06.94-2.06 2.06-.94-2.06-.94-.94-2.06-.94 2.06-2.06.94z\"/><path d=\"M17.41 7.96l-1.37-1.37c-.4-.4-.92-.59-1.43-.59-.52 0-1.04.2-1.43.59L10.3 9.45l-7.72 7.72c-.78.78-.78 2.05 0 2.83L4 21.41c.39.39.9.59 1.41.59.51 0 1.02-.2 1.41-.59l7.78-7.78 2.81-2.81c.8-.78.8-2.07 0-2.86zM5.41 20L4 18.59l7.72-7.72 1.47 1.35L5.41 20z\"/>\n",
              "  </svg>\n",
              "      </button>\n",
              "      \n",
              "  <style>\n",
              "    .colab-df-container {\n",
              "      display:flex;\n",
              "      flex-wrap:wrap;\n",
              "      gap: 12px;\n",
              "    }\n",
              "\n",
              "    .colab-df-convert {\n",
              "      background-color: #E8F0FE;\n",
              "      border: none;\n",
              "      border-radius: 50%;\n",
              "      cursor: pointer;\n",
              "      display: none;\n",
              "      fill: #1967D2;\n",
              "      height: 32px;\n",
              "      padding: 0 0 0 0;\n",
              "      width: 32px;\n",
              "    }\n",
              "\n",
              "    .colab-df-convert:hover {\n",
              "      background-color: #E2EBFA;\n",
              "      box-shadow: 0px 1px 2px rgba(60, 64, 67, 0.3), 0px 1px 3px 1px rgba(60, 64, 67, 0.15);\n",
              "      fill: #174EA6;\n",
              "    }\n",
              "\n",
              "    [theme=dark] .colab-df-convert {\n",
              "      background-color: #3B4455;\n",
              "      fill: #D2E3FC;\n",
              "    }\n",
              "\n",
              "    [theme=dark] .colab-df-convert:hover {\n",
              "      background-color: #434B5C;\n",
              "      box-shadow: 0px 1px 3px 1px rgba(0, 0, 0, 0.15);\n",
              "      filter: drop-shadow(0px 1px 2px rgba(0, 0, 0, 0.3));\n",
              "      fill: #FFFFFF;\n",
              "    }\n",
              "  </style>\n",
              "\n",
              "      <script>\n",
              "        const buttonEl =\n",
              "          document.querySelector('#df-05b334a9-dff5-45a9-a0be-c714e0e3a592 button.colab-df-convert');\n",
              "        buttonEl.style.display =\n",
              "          google.colab.kernel.accessAllowed ? 'block' : 'none';\n",
              "\n",
              "        async function convertToInteractive(key) {\n",
              "          const element = document.querySelector('#df-05b334a9-dff5-45a9-a0be-c714e0e3a592');\n",
              "          const dataTable =\n",
              "            await google.colab.kernel.invokeFunction('convertToInteractive',\n",
              "                                                     [key], {});\n",
              "          if (!dataTable) return;\n",
              "\n",
              "          const docLinkHtml = 'Like what you see? Visit the ' +\n",
              "            '<a target=\"_blank\" href=https://colab.research.google.com/notebooks/data_table.ipynb>data table notebook</a>'\n",
              "            + ' to learn more about interactive tables.';\n",
              "          element.innerHTML = '';\n",
              "          dataTable['output_type'] = 'display_data';\n",
              "          await google.colab.output.renderOutput(dataTable, element);\n",
              "          const docLink = document.createElement('div');\n",
              "          docLink.innerHTML = docLinkHtml;\n",
              "          element.appendChild(docLink);\n",
              "        }\n",
              "      </script>\n",
              "    </div>\n",
              "  </div>\n",
              "  "
            ]
          },
          "metadata": {},
          "execution_count": 16
        }
      ],
      "source": [
        "df = pd.merge(df, rebuy_df, how='outer',on=['cust','clac_mcls_nm','de_dt'])\n",
        "df.head()"
      ]
    },
    {
      "cell_type": "code",
      "execution_count": null,
      "metadata": {
        "colab": {
          "base_uri": "https://localhost:8080/"
        },
        "id": "2DcP7ArofRbN",
        "outputId": "55fb894a-b2bd-42c4-98a4-a2601b580981"
      },
      "outputs": [
        {
          "data": {
            "text/plain": [
              "(array([0, 1]), array([2435717, 1946026]))"
            ]
          },
          "execution_count": 15,
          "metadata": {},
          "output_type": "execute_result"
        }
      ],
      "source": [
        "np.unique(df['rebuy'],return_counts=True)"
      ]
    },
    {
      "cell_type": "markdown",
      "metadata": {
        "id": "AutwBxFYTXnk"
      },
      "source": [
        "##### old, new, both"
      ]
    },
    {
      "cell_type": "code",
      "execution_count": null,
      "metadata": {
        "colab": {
          "base_uri": "https://localhost:8080/"
        },
        "id": "XFee27-uLdFB",
        "outputId": "1b316234-79e4-41f7-9878-29b8c082ba80"
      },
      "outputs": [
        {
          "name": "stdout",
          "output_type": "stream",
          "text": [
            "(3771323, 22)\n",
            "(601443, 22)\n"
          ]
        }
      ],
      "source": [
        "import datetime\n",
        "\n",
        "# 2021.11 기준으로 이전과 이후로 데이터를 분리\n",
        "df_year_round = df[df['de_dt'] < '2021-11-01']\n",
        "df_year_end = df[df['de_dt'] > '2021-11-01']\n",
        "print(df_year_round.shape)\n",
        "print(df_year_end.shape)"
      ]
    },
    {
      "cell_type": "code",
      "execution_count": null,
      "metadata": {
        "colab": {
          "base_uri": "https://localhost:8080/"
        },
        "id": "hP0Lu7wPMETr",
        "outputId": "1b4e6d85-48ec-47da-c87b-2227f4745a26"
      },
      "outputs": [
        {
          "name": "stdout",
          "output_type": "stream",
          "text": [
            "cust\n",
            "M000034966    {남성스포츠화, 사탕/캔디, 기능성음료, 조미료류, 잎채소, 분말류, 뿌리채소, 비...\n",
            "M000136117    {여성의류전신, 남성스포츠화, 캐쥬얼가방, 남성의류하의, 남성의류상의, 남성의류세트...\n",
            "M000201112    {스낵류, 포장반찬, 냉장간편식, 생수, 용기라면, 봉지라면, 생활서비스, 탄산음료...\n",
            "M000225114    {스낵류, 사탕/캔디, 기능성음료, 남성의류하의, 남성의류상의, 조미료류, 향수, ...\n",
            "M000261625    {여성의류상의, 스낵류, 메이크업, 여성의류전신, 여성속옷, 남성스포츠화, 와인, ...\n",
            "                                    ...                        \n",
            "M999599111    {스낵류, 일반담배, 열매채소, 유가공품, 국산소고기, 봉지라면, 해조류, 시리얼,...\n",
            "M999673157                    {남성케어, 보석, 초콜릿, 일반담배, 화장지/티슈, 식당}\n",
            "M999770689    {냉장음료, 스낵류, 양주, 사탕/캔디, 기능성음료, 향신료, 조미료류, 뿌리채소,...\n",
            "M999849895    {헤어액세서리, 스낵류, 사탕/캔디, 기능성음료, 유아식, 조미료류, 간편조리, 패...\n",
            "M999962961    {스낵류, 여성의류전신, 주방세제, 수영/물놀이, 냉동과일, 간편조리, 여성가방, ...\n",
            "Name: clac_mcls_nm, Length: 26452, dtype: object\n"
          ]
        }
      ],
      "source": [
        "#11월 이전 구매 데이터\n",
        "customer_item_round_set = df_year_round.groupby('cust')['clac_mcls_nm'].apply(set)\n",
        "print(customer_item_round_set)"
      ]
    },
    {
      "cell_type": "code",
      "execution_count": null,
      "metadata": {
        "colab": {
          "base_uri": "https://localhost:8080/"
        },
        "id": "733hpbdVMeFG",
        "outputId": "c1479ebd-d0e4-4da0-cab9-d38f54edc53e"
      },
      "outputs": [
        {
          "name": "stdout",
          "output_type": "stream",
          "text": [
            "{'M000034966': {'남성스포츠화': 'old', '사탕/캔디': 'old', '기능성음료': 'old', '조미료류': 'old', '잎채소': 'old', '분말류':...\n"
          ]
        }
      ],
      "source": [
        "customer_item_dict = {}\n",
        "\n",
        "for cust, clac_mcls_nm in customer_item_round_set.items():\n",
        "  customer_item_dict[cust] = {}\n",
        "  for clac_mcls in clac_mcls_nm:\n",
        "    customer_item_dict[cust][clac_mcls] = 'old'\n",
        "\n",
        "print(str(customer_item_dict)[:100]+\"...\")"
      ]
    },
    {
      "cell_type": "code",
      "execution_count": null,
      "metadata": {
        "colab": {
          "base_uri": "https://localhost:8080/"
        },
        "id": "lGXyPluKMX-T",
        "outputId": "882409c0-8b33-4c1c-eb52-e81238655d98"
      },
      "outputs": [
        {
          "name": "stdout",
          "output_type": "stream",
          "text": [
            "cust\n",
            "M000034966                              {스낵류, 비스킷류, 남아완구, 애견용품}\n",
            "M000136117    {여아의류전신, 기타아웃도어/레저, 여성속옷, 남성의류세트, 유아의류전신, 패션액세...\n",
            "M000201112                                         {비스킷류, 과채음료}\n",
            "M000225114    {수입과일, 스낵류, 포장반찬, 계란류, 냉장간편식, 초콜릿, 사탕/캔디, 기능성음...\n",
            "M000261625                                         {푸드코트, 스킨케어}\n",
            "                                    ...                        \n",
            "M999599111                                          {일반담배, 차음료}\n",
            "M999673157        {남성의류아우터, 초콜릿, 일반담배, 햄/소시지, 임대매출, 기타, 식당, 소주}\n",
            "M999770689         {봉지라면, 초콜릿, 사탕/캔디, 건강관리용품, 인스턴트커피, 기타, 냉장조리}\n",
            "M999849895                               {냉장간편식, 장류, 소스류, 조미료류}\n",
            "M999962961    {스낵류, 주방세제, 건과일, 향신료, 건어물, 식용유류, 전통주, 미국산소고기, ...\n",
            "Name: clac_mcls_nm, Length: 20682, dtype: object\n"
          ]
        }
      ],
      "source": [
        "#11월 이후 구매 데이터\n",
        "customer_item_end_set = df_year_end.groupby('cust')['clac_mcls_nm'].apply(set)\n",
        "print(customer_item_end_set)"
      ]
    },
    {
      "cell_type": "code",
      "execution_count": null,
      "metadata": {
        "colab": {
          "base_uri": "https://localhost:8080/"
        },
        "id": "J6pWPqSIM-na",
        "outputId": "de80d9c7-14c9-4f34-d3e3-cc460ebc3db3"
      },
      "outputs": [
        {
          "name": "stdout",
          "output_type": "stream",
          "text": [
            "{'M000034966': {'남성스포츠화': 'old', '사탕/캔디': 'old', '기능성음료': 'old', '조미료류': 'old', '잎채소': 'old', '분말류':...\n"
          ]
        }
      ],
      "source": [
        "for cust, clac_mcls_nm in customer_item_end_set.items():\n",
        "  if cust in customer_item_dict:\n",
        "    for clac_mcls in clac_mcls_nm:\n",
        "      if clac_mcls in customer_item_dict[cust]:\n",
        "        customer_item_dict[cust][clac_mcls] = 'both'\n",
        "      else:\n",
        "        customer_item_dict[cust][clac_mcls] = 'new'\n",
        "  else:\n",
        "    customer_item_dict[cust] = {}\n",
        "    for clac_mcls in clac_mcls_nm:\n",
        "      customer_item_dict[cust][clac_mcls] = 'new'\n",
        "\n",
        "print(str(customer_item_dict)[:100] + \"...\")"
      ]
    },
    {
      "cell_type": "code",
      "execution_count": null,
      "metadata": {
        "colab": {
          "base_uri": "https://localhost:8080/",
          "height": 206
        },
        "id": "nOnrDXD8OZiK",
        "outputId": "77fbfb91-5f60-410f-ed37-3cc7a10185af"
      },
      "outputs": [
        {
          "data": {
            "text/html": [
              "\n",
              "  <div id=\"df-7f1c7330-47d8-41b7-b78e-3080255b0dd3\">\n",
              "    <div class=\"colab-df-container\">\n",
              "      <div>\n",
              "<style scoped>\n",
              "    .dataframe tbody tr th:only-of-type {\n",
              "        vertical-align: middle;\n",
              "    }\n",
              "\n",
              "    .dataframe tbody tr th {\n",
              "        vertical-align: top;\n",
              "    }\n",
              "\n",
              "    .dataframe thead th {\n",
              "        text-align: right;\n",
              "    }\n",
              "</style>\n",
              "<table border=\"1\" class=\"dataframe\">\n",
              "  <thead>\n",
              "    <tr style=\"text-align: right;\">\n",
              "      <th></th>\n",
              "      <th>cust</th>\n",
              "      <th>old</th>\n",
              "      <th>new</th>\n",
              "      <th>both</th>\n",
              "    </tr>\n",
              "  </thead>\n",
              "  <tbody>\n",
              "    <tr>\n",
              "      <th>0</th>\n",
              "      <td>M000034966</td>\n",
              "      <td>25</td>\n",
              "      <td>3</td>\n",
              "      <td>1</td>\n",
              "    </tr>\n",
              "    <tr>\n",
              "      <th>1</th>\n",
              "      <td>M000136117</td>\n",
              "      <td>41</td>\n",
              "      <td>3</td>\n",
              "      <td>4</td>\n",
              "    </tr>\n",
              "    <tr>\n",
              "      <th>2</th>\n",
              "      <td>M000201112</td>\n",
              "      <td>14</td>\n",
              "      <td>1</td>\n",
              "      <td>1</td>\n",
              "    </tr>\n",
              "    <tr>\n",
              "      <th>3</th>\n",
              "      <td>M000225114</td>\n",
              "      <td>28</td>\n",
              "      <td>2</td>\n",
              "      <td>15</td>\n",
              "    </tr>\n",
              "    <tr>\n",
              "      <th>4</th>\n",
              "      <td>M000261625</td>\n",
              "      <td>15</td>\n",
              "      <td>1</td>\n",
              "      <td>1</td>\n",
              "    </tr>\n",
              "  </tbody>\n",
              "</table>\n",
              "</div>\n",
              "      <button class=\"colab-df-convert\" onclick=\"convertToInteractive('df-7f1c7330-47d8-41b7-b78e-3080255b0dd3')\"\n",
              "              title=\"Convert this dataframe to an interactive table.\"\n",
              "              style=\"display:none;\">\n",
              "        \n",
              "  <svg xmlns=\"http://www.w3.org/2000/svg\" height=\"24px\"viewBox=\"0 0 24 24\"\n",
              "       width=\"24px\">\n",
              "    <path d=\"M0 0h24v24H0V0z\" fill=\"none\"/>\n",
              "    <path d=\"M18.56 5.44l.94 2.06.94-2.06 2.06-.94-2.06-.94-.94-2.06-.94 2.06-2.06.94zm-11 1L8.5 8.5l.94-2.06 2.06-.94-2.06-.94L8.5 2.5l-.94 2.06-2.06.94zm10 10l.94 2.06.94-2.06 2.06-.94-2.06-.94-.94-2.06-.94 2.06-2.06.94z\"/><path d=\"M17.41 7.96l-1.37-1.37c-.4-.4-.92-.59-1.43-.59-.52 0-1.04.2-1.43.59L10.3 9.45l-7.72 7.72c-.78.78-.78 2.05 0 2.83L4 21.41c.39.39.9.59 1.41.59.51 0 1.02-.2 1.41-.59l7.78-7.78 2.81-2.81c.8-.78.8-2.07 0-2.86zM5.41 20L4 18.59l7.72-7.72 1.47 1.35L5.41 20z\"/>\n",
              "  </svg>\n",
              "      </button>\n",
              "      \n",
              "  <style>\n",
              "    .colab-df-container {\n",
              "      display:flex;\n",
              "      flex-wrap:wrap;\n",
              "      gap: 12px;\n",
              "    }\n",
              "\n",
              "    .colab-df-convert {\n",
              "      background-color: #E8F0FE;\n",
              "      border: none;\n",
              "      border-radius: 50%;\n",
              "      cursor: pointer;\n",
              "      display: none;\n",
              "      fill: #1967D2;\n",
              "      height: 32px;\n",
              "      padding: 0 0 0 0;\n",
              "      width: 32px;\n",
              "    }\n",
              "\n",
              "    .colab-df-convert:hover {\n",
              "      background-color: #E2EBFA;\n",
              "      box-shadow: 0px 1px 2px rgba(60, 64, 67, 0.3), 0px 1px 3px 1px rgba(60, 64, 67, 0.15);\n",
              "      fill: #174EA6;\n",
              "    }\n",
              "\n",
              "    [theme=dark] .colab-df-convert {\n",
              "      background-color: #3B4455;\n",
              "      fill: #D2E3FC;\n",
              "    }\n",
              "\n",
              "    [theme=dark] .colab-df-convert:hover {\n",
              "      background-color: #434B5C;\n",
              "      box-shadow: 0px 1px 3px 1px rgba(0, 0, 0, 0.15);\n",
              "      filter: drop-shadow(0px 1px 2px rgba(0, 0, 0, 0.3));\n",
              "      fill: #FFFFFF;\n",
              "    }\n",
              "  </style>\n",
              "\n",
              "      <script>\n",
              "        const buttonEl =\n",
              "          document.querySelector('#df-7f1c7330-47d8-41b7-b78e-3080255b0dd3 button.colab-df-convert');\n",
              "        buttonEl.style.display =\n",
              "          google.colab.kernel.accessAllowed ? 'block' : 'none';\n",
              "\n",
              "        async function convertToInteractive(key) {\n",
              "          const element = document.querySelector('#df-7f1c7330-47d8-41b7-b78e-3080255b0dd3');\n",
              "          const dataTable =\n",
              "            await google.colab.kernel.invokeFunction('convertToInteractive',\n",
              "                                                     [key], {});\n",
              "          if (!dataTable) return;\n",
              "\n",
              "          const docLinkHtml = 'Like what you see? Visit the ' +\n",
              "            '<a target=\"_blank\" href=https://colab.research.google.com/notebooks/data_table.ipynb>data table notebook</a>'\n",
              "            + ' to learn more about interactive tables.';\n",
              "          element.innerHTML = '';\n",
              "          dataTable['output_type'] = 'display_data';\n",
              "          await google.colab.output.renderOutput(dataTable, element);\n",
              "          const docLink = document.createElement('div');\n",
              "          docLink.innerHTML = docLinkHtml;\n",
              "          element.appendChild(docLink);\n",
              "        }\n",
              "      </script>\n",
              "    </div>\n",
              "  </div>\n",
              "  "
            ],
            "text/plain": [
              "         cust old new both\n",
              "0  M000034966  25   3    1\n",
              "1  M000136117  41   3    4\n",
              "2  M000201112  14   1    1\n",
              "3  M000225114  28   2   15\n",
              "4  M000261625  15   1    1"
            ]
          },
          "execution_count": 19,
          "metadata": {},
          "output_type": "execute_result"
        }
      ],
      "source": [
        "from pandas.core import series\n",
        "col = ['cust','old', 'new', 'both']\n",
        "df_order_info = pd.DataFrame(columns=col)\n",
        "\n",
        "for cust in customer_item_dict:\n",
        "  old, new, both = 0, 0, 0\n",
        "\n",
        "  for clac_mcls in customer_item_dict[cust]:\n",
        "    tmp = customer_item_dict[cust][clac_mcls]\n",
        "    if tmp == 'old':\n",
        "      old +=1 \n",
        "    elif tmp == 'new':\n",
        "      new +=1\n",
        "    else:\n",
        "      both += 1\n",
        "    \n",
        "  row = [cust, old, new, both]\n",
        "  series = pd.Series(row, index = col)\n",
        "  df_order_info = df_order_info.append(series, ignore_index = True)\n",
        "\n",
        "df_order_info.head()"
      ]
    },
    {
      "cell_type": "code",
      "execution_count": null,
      "metadata": {
        "colab": {
          "base_uri": "https://localhost:8080/"
        },
        "id": "FxGb3KGlPlKL",
        "outputId": "f35e0df2-b73b-4d87-8f17-4375c58df8c5"
      },
      "outputs": [
        {
          "name": "stdout",
          "output_type": "stream",
          "text": [
            "26913\n",
            "old&new:  17856\n",
            "both:  18438\n",
            "new:  18353\n"
          ]
        }
      ],
      "source": [
        "print(df_order_info.shape[0])\n",
        "\n",
        "# old가 1 이상 + new가 1인상인 유저 수 출력\n",
        "# >> 11월 이후에 기존에 구매한 적 없는 새로운 상품을 구매한 유저\n",
        "print(\"old&new: \",df_order_info[(df_order_info['old']>0 ) & (df_order_info['new']>0)].shape[0])\n",
        "\n",
        "# both가 1 이상인 유저 수 출력\n",
        "# >> 재구매한 상품이 있는 유저 수\n",
        "print(\"both: \" , df_order_info[df_order_info['both'] > 0 ].shape[0])\n",
        "\n",
        "# new가 1 이상인 유저의 수 출력\n",
        "# >> 11월 이후 새로 구매한 상품이 있는 유저의 수를 의미한다\n",
        "print(\"new: \",df_order_info[df_order_info['new'] > 0 ].shape[0])"
      ]
    },
    {
      "cell_type": "code",
      "execution_count": null,
      "metadata": {
        "id": "vdixd3LfQnhq"
      },
      "outputs": [],
      "source": [
        "df = pd.merge(df, df_order_info, how='outer',on=['cust'])"
      ]
    },
    {
      "cell_type": "code",
      "execution_count": null,
      "metadata": {
        "colab": {
          "base_uri": "https://localhost:8080/",
          "height": 386
        },
        "id": "Cp1D4HOiQkho",
        "outputId": "18dee92a-8769-489d-ea97-a16569c139fa"
      },
      "outputs": [
        {
          "data": {
            "text/html": [
              "\n",
              "  <div id=\"df-54c9987c-f2c3-4045-a437-a1a4e22fce43\">\n",
              "    <div class=\"colab-df-container\">\n",
              "      <div>\n",
              "<style scoped>\n",
              "    .dataframe tbody tr th:only-of-type {\n",
              "        vertical-align: middle;\n",
              "    }\n",
              "\n",
              "    .dataframe tbody tr th {\n",
              "        vertical-align: top;\n",
              "    }\n",
              "\n",
              "    .dataframe thead th {\n",
              "        text-align: right;\n",
              "    }\n",
              "</style>\n",
              "<table border=\"1\" class=\"dataframe\">\n",
              "  <thead>\n",
              "    <tr style=\"text-align: right;\">\n",
              "      <th></th>\n",
              "      <th>cust</th>\n",
              "      <th>rct_no</th>\n",
              "      <th>chnl_dv</th>\n",
              "      <th>cop_c</th>\n",
              "      <th>br_c</th>\n",
              "      <th>pd_c</th>\n",
              "      <th>de_dt</th>\n",
              "      <th>de_hr</th>\n",
              "      <th>buy_am</th>\n",
              "      <th>buy_ct</th>\n",
              "      <th>...</th>\n",
              "      <th>zon_hlv</th>\n",
              "      <th>day</th>\n",
              "      <th>month</th>\n",
              "      <th>total_items</th>\n",
              "      <th>one_times_items</th>\n",
              "      <th>rct_cnt</th>\n",
              "      <th>rebuy</th>\n",
              "      <th>old</th>\n",
              "      <th>new</th>\n",
              "      <th>both</th>\n",
              "    </tr>\n",
              "  </thead>\n",
              "  <tbody>\n",
              "    <tr>\n",
              "      <th>0</th>\n",
              "      <td>M430112881</td>\n",
              "      <td>A01000001113</td>\n",
              "      <td>1</td>\n",
              "      <td>A01</td>\n",
              "      <td>A010039</td>\n",
              "      <td>PD0290</td>\n",
              "      <td>2021-01-01</td>\n",
              "      <td>10</td>\n",
              "      <td>15000.0</td>\n",
              "      <td>1</td>\n",
              "      <td>...</td>\n",
              "      <td>Z17</td>\n",
              "      <td>Friday</td>\n",
              "      <td>1</td>\n",
              "      <td>580</td>\n",
              "      <td>1</td>\n",
              "      <td>102</td>\n",
              "      <td>0</td>\n",
              "      <td>58</td>\n",
              "      <td>6</td>\n",
              "      <td>20</td>\n",
              "    </tr>\n",
              "    <tr>\n",
              "      <th>1</th>\n",
              "      <td>M430112881</td>\n",
              "      <td>A01000003148</td>\n",
              "      <td>1</td>\n",
              "      <td>A01</td>\n",
              "      <td>A010039</td>\n",
              "      <td>PD0290</td>\n",
              "      <td>2021-01-01</td>\n",
              "      <td>10</td>\n",
              "      <td>19000.0</td>\n",
              "      <td>1</td>\n",
              "      <td>...</td>\n",
              "      <td>Z17</td>\n",
              "      <td>Friday</td>\n",
              "      <td>1</td>\n",
              "      <td>580</td>\n",
              "      <td>2</td>\n",
              "      <td>102</td>\n",
              "      <td>0</td>\n",
              "      <td>58</td>\n",
              "      <td>6</td>\n",
              "      <td>20</td>\n",
              "    </tr>\n",
              "    <tr>\n",
              "      <th>2</th>\n",
              "      <td>M430112881</td>\n",
              "      <td>A01000003148</td>\n",
              "      <td>1</td>\n",
              "      <td>A01</td>\n",
              "      <td>A010039</td>\n",
              "      <td>PD0290</td>\n",
              "      <td>2021-01-01</td>\n",
              "      <td>10</td>\n",
              "      <td>19000.0</td>\n",
              "      <td>1</td>\n",
              "      <td>...</td>\n",
              "      <td>Z17</td>\n",
              "      <td>Friday</td>\n",
              "      <td>1</td>\n",
              "      <td>580</td>\n",
              "      <td>2</td>\n",
              "      <td>102</td>\n",
              "      <td>0</td>\n",
              "      <td>58</td>\n",
              "      <td>6</td>\n",
              "      <td>20</td>\n",
              "    </tr>\n",
              "    <tr>\n",
              "      <th>3</th>\n",
              "      <td>M430112881</td>\n",
              "      <td>A01000004946</td>\n",
              "      <td>1</td>\n",
              "      <td>A01</td>\n",
              "      <td>A010039</td>\n",
              "      <td>PD0290</td>\n",
              "      <td>2021-01-01</td>\n",
              "      <td>10</td>\n",
              "      <td>19000.0</td>\n",
              "      <td>1</td>\n",
              "      <td>...</td>\n",
              "      <td>Z17</td>\n",
              "      <td>Friday</td>\n",
              "      <td>1</td>\n",
              "      <td>580</td>\n",
              "      <td>1</td>\n",
              "      <td>102</td>\n",
              "      <td>0</td>\n",
              "      <td>58</td>\n",
              "      <td>6</td>\n",
              "      <td>20</td>\n",
              "    </tr>\n",
              "    <tr>\n",
              "      <th>4</th>\n",
              "      <td>M430112881</td>\n",
              "      <td>A01000013098</td>\n",
              "      <td>1</td>\n",
              "      <td>A01</td>\n",
              "      <td>A010039</td>\n",
              "      <td>PD0292</td>\n",
              "      <td>2021-01-01</td>\n",
              "      <td>11</td>\n",
              "      <td>19900.0</td>\n",
              "      <td>1</td>\n",
              "      <td>...</td>\n",
              "      <td>Z17</td>\n",
              "      <td>Friday</td>\n",
              "      <td>1</td>\n",
              "      <td>580</td>\n",
              "      <td>1</td>\n",
              "      <td>102</td>\n",
              "      <td>0</td>\n",
              "      <td>58</td>\n",
              "      <td>6</td>\n",
              "      <td>20</td>\n",
              "    </tr>\n",
              "  </tbody>\n",
              "</table>\n",
              "<p>5 rows × 25 columns</p>\n",
              "</div>\n",
              "      <button class=\"colab-df-convert\" onclick=\"convertToInteractive('df-54c9987c-f2c3-4045-a437-a1a4e22fce43')\"\n",
              "              title=\"Convert this dataframe to an interactive table.\"\n",
              "              style=\"display:none;\">\n",
              "        \n",
              "  <svg xmlns=\"http://www.w3.org/2000/svg\" height=\"24px\"viewBox=\"0 0 24 24\"\n",
              "       width=\"24px\">\n",
              "    <path d=\"M0 0h24v24H0V0z\" fill=\"none\"/>\n",
              "    <path d=\"M18.56 5.44l.94 2.06.94-2.06 2.06-.94-2.06-.94-.94-2.06-.94 2.06-2.06.94zm-11 1L8.5 8.5l.94-2.06 2.06-.94-2.06-.94L8.5 2.5l-.94 2.06-2.06.94zm10 10l.94 2.06.94-2.06 2.06-.94-2.06-.94-.94-2.06-.94 2.06-2.06.94z\"/><path d=\"M17.41 7.96l-1.37-1.37c-.4-.4-.92-.59-1.43-.59-.52 0-1.04.2-1.43.59L10.3 9.45l-7.72 7.72c-.78.78-.78 2.05 0 2.83L4 21.41c.39.39.9.59 1.41.59.51 0 1.02-.2 1.41-.59l7.78-7.78 2.81-2.81c.8-.78.8-2.07 0-2.86zM5.41 20L4 18.59l7.72-7.72 1.47 1.35L5.41 20z\"/>\n",
              "  </svg>\n",
              "      </button>\n",
              "      \n",
              "  <style>\n",
              "    .colab-df-container {\n",
              "      display:flex;\n",
              "      flex-wrap:wrap;\n",
              "      gap: 12px;\n",
              "    }\n",
              "\n",
              "    .colab-df-convert {\n",
              "      background-color: #E8F0FE;\n",
              "      border: none;\n",
              "      border-radius: 50%;\n",
              "      cursor: pointer;\n",
              "      display: none;\n",
              "      fill: #1967D2;\n",
              "      height: 32px;\n",
              "      padding: 0 0 0 0;\n",
              "      width: 32px;\n",
              "    }\n",
              "\n",
              "    .colab-df-convert:hover {\n",
              "      background-color: #E2EBFA;\n",
              "      box-shadow: 0px 1px 2px rgba(60, 64, 67, 0.3), 0px 1px 3px 1px rgba(60, 64, 67, 0.15);\n",
              "      fill: #174EA6;\n",
              "    }\n",
              "\n",
              "    [theme=dark] .colab-df-convert {\n",
              "      background-color: #3B4455;\n",
              "      fill: #D2E3FC;\n",
              "    }\n",
              "\n",
              "    [theme=dark] .colab-df-convert:hover {\n",
              "      background-color: #434B5C;\n",
              "      box-shadow: 0px 1px 3px 1px rgba(0, 0, 0, 0.15);\n",
              "      filter: drop-shadow(0px 1px 2px rgba(0, 0, 0, 0.3));\n",
              "      fill: #FFFFFF;\n",
              "    }\n",
              "  </style>\n",
              "\n",
              "      <script>\n",
              "        const buttonEl =\n",
              "          document.querySelector('#df-54c9987c-f2c3-4045-a437-a1a4e22fce43 button.colab-df-convert');\n",
              "        buttonEl.style.display =\n",
              "          google.colab.kernel.accessAllowed ? 'block' : 'none';\n",
              "\n",
              "        async function convertToInteractive(key) {\n",
              "          const element = document.querySelector('#df-54c9987c-f2c3-4045-a437-a1a4e22fce43');\n",
              "          const dataTable =\n",
              "            await google.colab.kernel.invokeFunction('convertToInteractive',\n",
              "                                                     [key], {});\n",
              "          if (!dataTable) return;\n",
              "\n",
              "          const docLinkHtml = 'Like what you see? Visit the ' +\n",
              "            '<a target=\"_blank\" href=https://colab.research.google.com/notebooks/data_table.ipynb>data table notebook</a>'\n",
              "            + ' to learn more about interactive tables.';\n",
              "          element.innerHTML = '';\n",
              "          dataTable['output_type'] = 'display_data';\n",
              "          await google.colab.output.renderOutput(dataTable, element);\n",
              "          const docLink = document.createElement('div');\n",
              "          docLink.innerHTML = docLinkHtml;\n",
              "          element.appendChild(docLink);\n",
              "        }\n",
              "      </script>\n",
              "    </div>\n",
              "  </div>\n",
              "  "
            ],
            "text/plain": [
              "         cust        rct_no  chnl_dv cop_c     br_c    pd_c      de_dt  de_hr  \\\n",
              "0  M430112881  A01000001113        1   A01  A010039  PD0290 2021-01-01     10   \n",
              "1  M430112881  A01000003148        1   A01  A010039  PD0290 2021-01-01     10   \n",
              "2  M430112881  A01000003148        1   A01  A010039  PD0290 2021-01-01     10   \n",
              "3  M430112881  A01000004946        1   A01  A010039  PD0290 2021-01-01     10   \n",
              "4  M430112881  A01000013098        1   A01  A010039  PD0292 2021-01-01     11   \n",
              "\n",
              "    buy_am  buy_ct  ... zon_hlv     day month total_items one_times_items  \\\n",
              "0  15000.0       1  ...     Z17  Friday     1         580               1   \n",
              "1  19000.0       1  ...     Z17  Friday     1         580               2   \n",
              "2  19000.0       1  ...     Z17  Friday     1         580               2   \n",
              "3  19000.0       1  ...     Z17  Friday     1         580               1   \n",
              "4  19900.0       1  ...     Z17  Friday     1         580               1   \n",
              "\n",
              "  rct_cnt rebuy  old  new  both  \n",
              "0     102     0   58    6    20  \n",
              "1     102     0   58    6    20  \n",
              "2     102     0   58    6    20  \n",
              "3     102     0   58    6    20  \n",
              "4     102     0   58    6    20  \n",
              "\n",
              "[5 rows x 25 columns]"
            ]
          },
          "execution_count": 24,
          "metadata": {},
          "output_type": "execute_result"
        }
      ],
      "source": [
        "df.head()"
      ]
    },
    {
      "cell_type": "markdown",
      "metadata": {
        "id": "Csc2SudbvoBz"
      },
      "source": [
        "##### 총 재구매 횟수, 재구매 비율"
      ]
    },
    {
      "cell_type": "code",
      "execution_count": 17,
      "metadata": {
        "colab": {
          "base_uri": "https://localhost:8080/",
          "height": 0
        },
        "id": "eRiwbCRmZNiO",
        "outputId": "58ea6975-e361-4585-f477-11034025cebd"
      },
      "outputs": [
        {
          "output_type": "execute_result",
          "data": {
            "text/plain": [
              "         cust        rct_no  chnl_dv cop_c     br_c    pd_c      de_dt  de_hr  \\\n",
              "0  M430112881  A01000001113        1   A01  A010039  PD0290 2021-01-01     10   \n",
              "1  M430112881  A01000003148        1   A01  A010039  PD0290 2021-01-01     10   \n",
              "2  M430112881  A01000003148        1   A01  A010039  PD0290 2021-01-01     10   \n",
              "3  M430112881  A01000004946        1   A01  A010039  PD0290 2021-01-01     10   \n",
              "4  M430112881  A01000013098        1   A01  A010039  PD0292 2021-01-01     11   \n",
              "\n",
              "    buy_am  buy_ct  ... zon_hlv day month weat de_hr_1 total_items  \\\n",
              "0  15000.0       1  ...     Z17   1     1  win       2         580   \n",
              "1  19000.0       1  ...     Z17   1     1  win       2         580   \n",
              "2  19000.0       1  ...     Z17   1     1  win       2         580   \n",
              "3  19000.0       1  ...     Z17   1     1  win       2         580   \n",
              "4  19900.0       1  ...     Z17   1     1  win       1         580   \n",
              "\n",
              "   one_times_items  rct_cnt rebuy  rebuy_cnt  \n",
              "0                1      102     0        496  \n",
              "1                2      102     0        496  \n",
              "2                2      102     0        496  \n",
              "3                1      102     0        496  \n",
              "4                1      102     0        496  \n",
              "\n",
              "[5 rows x 25 columns]"
            ],
            "text/html": [
              "\n",
              "  <div id=\"df-afd061cc-a570-41fb-ba9d-ed90d05fcb71\">\n",
              "    <div class=\"colab-df-container\">\n",
              "      <div>\n",
              "<style scoped>\n",
              "    .dataframe tbody tr th:only-of-type {\n",
              "        vertical-align: middle;\n",
              "    }\n",
              "\n",
              "    .dataframe tbody tr th {\n",
              "        vertical-align: top;\n",
              "    }\n",
              "\n",
              "    .dataframe thead th {\n",
              "        text-align: right;\n",
              "    }\n",
              "</style>\n",
              "<table border=\"1\" class=\"dataframe\">\n",
              "  <thead>\n",
              "    <tr style=\"text-align: right;\">\n",
              "      <th></th>\n",
              "      <th>cust</th>\n",
              "      <th>rct_no</th>\n",
              "      <th>chnl_dv</th>\n",
              "      <th>cop_c</th>\n",
              "      <th>br_c</th>\n",
              "      <th>pd_c</th>\n",
              "      <th>de_dt</th>\n",
              "      <th>de_hr</th>\n",
              "      <th>buy_am</th>\n",
              "      <th>buy_ct</th>\n",
              "      <th>...</th>\n",
              "      <th>zon_hlv</th>\n",
              "      <th>day</th>\n",
              "      <th>month</th>\n",
              "      <th>weat</th>\n",
              "      <th>de_hr_1</th>\n",
              "      <th>total_items</th>\n",
              "      <th>one_times_items</th>\n",
              "      <th>rct_cnt</th>\n",
              "      <th>rebuy</th>\n",
              "      <th>rebuy_cnt</th>\n",
              "    </tr>\n",
              "  </thead>\n",
              "  <tbody>\n",
              "    <tr>\n",
              "      <th>0</th>\n",
              "      <td>M430112881</td>\n",
              "      <td>A01000001113</td>\n",
              "      <td>1</td>\n",
              "      <td>A01</td>\n",
              "      <td>A010039</td>\n",
              "      <td>PD0290</td>\n",
              "      <td>2021-01-01</td>\n",
              "      <td>10</td>\n",
              "      <td>15000.0</td>\n",
              "      <td>1</td>\n",
              "      <td>...</td>\n",
              "      <td>Z17</td>\n",
              "      <td>1</td>\n",
              "      <td>1</td>\n",
              "      <td>win</td>\n",
              "      <td>2</td>\n",
              "      <td>580</td>\n",
              "      <td>1</td>\n",
              "      <td>102</td>\n",
              "      <td>0</td>\n",
              "      <td>496</td>\n",
              "    </tr>\n",
              "    <tr>\n",
              "      <th>1</th>\n",
              "      <td>M430112881</td>\n",
              "      <td>A01000003148</td>\n",
              "      <td>1</td>\n",
              "      <td>A01</td>\n",
              "      <td>A010039</td>\n",
              "      <td>PD0290</td>\n",
              "      <td>2021-01-01</td>\n",
              "      <td>10</td>\n",
              "      <td>19000.0</td>\n",
              "      <td>1</td>\n",
              "      <td>...</td>\n",
              "      <td>Z17</td>\n",
              "      <td>1</td>\n",
              "      <td>1</td>\n",
              "      <td>win</td>\n",
              "      <td>2</td>\n",
              "      <td>580</td>\n",
              "      <td>2</td>\n",
              "      <td>102</td>\n",
              "      <td>0</td>\n",
              "      <td>496</td>\n",
              "    </tr>\n",
              "    <tr>\n",
              "      <th>2</th>\n",
              "      <td>M430112881</td>\n",
              "      <td>A01000003148</td>\n",
              "      <td>1</td>\n",
              "      <td>A01</td>\n",
              "      <td>A010039</td>\n",
              "      <td>PD0290</td>\n",
              "      <td>2021-01-01</td>\n",
              "      <td>10</td>\n",
              "      <td>19000.0</td>\n",
              "      <td>1</td>\n",
              "      <td>...</td>\n",
              "      <td>Z17</td>\n",
              "      <td>1</td>\n",
              "      <td>1</td>\n",
              "      <td>win</td>\n",
              "      <td>2</td>\n",
              "      <td>580</td>\n",
              "      <td>2</td>\n",
              "      <td>102</td>\n",
              "      <td>0</td>\n",
              "      <td>496</td>\n",
              "    </tr>\n",
              "    <tr>\n",
              "      <th>3</th>\n",
              "      <td>M430112881</td>\n",
              "      <td>A01000004946</td>\n",
              "      <td>1</td>\n",
              "      <td>A01</td>\n",
              "      <td>A010039</td>\n",
              "      <td>PD0290</td>\n",
              "      <td>2021-01-01</td>\n",
              "      <td>10</td>\n",
              "      <td>19000.0</td>\n",
              "      <td>1</td>\n",
              "      <td>...</td>\n",
              "      <td>Z17</td>\n",
              "      <td>1</td>\n",
              "      <td>1</td>\n",
              "      <td>win</td>\n",
              "      <td>2</td>\n",
              "      <td>580</td>\n",
              "      <td>1</td>\n",
              "      <td>102</td>\n",
              "      <td>0</td>\n",
              "      <td>496</td>\n",
              "    </tr>\n",
              "    <tr>\n",
              "      <th>4</th>\n",
              "      <td>M430112881</td>\n",
              "      <td>A01000013098</td>\n",
              "      <td>1</td>\n",
              "      <td>A01</td>\n",
              "      <td>A010039</td>\n",
              "      <td>PD0292</td>\n",
              "      <td>2021-01-01</td>\n",
              "      <td>11</td>\n",
              "      <td>19900.0</td>\n",
              "      <td>1</td>\n",
              "      <td>...</td>\n",
              "      <td>Z17</td>\n",
              "      <td>1</td>\n",
              "      <td>1</td>\n",
              "      <td>win</td>\n",
              "      <td>1</td>\n",
              "      <td>580</td>\n",
              "      <td>1</td>\n",
              "      <td>102</td>\n",
              "      <td>0</td>\n",
              "      <td>496</td>\n",
              "    </tr>\n",
              "  </tbody>\n",
              "</table>\n",
              "<p>5 rows × 25 columns</p>\n",
              "</div>\n",
              "      <button class=\"colab-df-convert\" onclick=\"convertToInteractive('df-afd061cc-a570-41fb-ba9d-ed90d05fcb71')\"\n",
              "              title=\"Convert this dataframe to an interactive table.\"\n",
              "              style=\"display:none;\">\n",
              "        \n",
              "  <svg xmlns=\"http://www.w3.org/2000/svg\" height=\"24px\"viewBox=\"0 0 24 24\"\n",
              "       width=\"24px\">\n",
              "    <path d=\"M0 0h24v24H0V0z\" fill=\"none\"/>\n",
              "    <path d=\"M18.56 5.44l.94 2.06.94-2.06 2.06-.94-2.06-.94-.94-2.06-.94 2.06-2.06.94zm-11 1L8.5 8.5l.94-2.06 2.06-.94-2.06-.94L8.5 2.5l-.94 2.06-2.06.94zm10 10l.94 2.06.94-2.06 2.06-.94-2.06-.94-.94-2.06-.94 2.06-2.06.94z\"/><path d=\"M17.41 7.96l-1.37-1.37c-.4-.4-.92-.59-1.43-.59-.52 0-1.04.2-1.43.59L10.3 9.45l-7.72 7.72c-.78.78-.78 2.05 0 2.83L4 21.41c.39.39.9.59 1.41.59.51 0 1.02-.2 1.41-.59l7.78-7.78 2.81-2.81c.8-.78.8-2.07 0-2.86zM5.41 20L4 18.59l7.72-7.72 1.47 1.35L5.41 20z\"/>\n",
              "  </svg>\n",
              "      </button>\n",
              "      \n",
              "  <style>\n",
              "    .colab-df-container {\n",
              "      display:flex;\n",
              "      flex-wrap:wrap;\n",
              "      gap: 12px;\n",
              "    }\n",
              "\n",
              "    .colab-df-convert {\n",
              "      background-color: #E8F0FE;\n",
              "      border: none;\n",
              "      border-radius: 50%;\n",
              "      cursor: pointer;\n",
              "      display: none;\n",
              "      fill: #1967D2;\n",
              "      height: 32px;\n",
              "      padding: 0 0 0 0;\n",
              "      width: 32px;\n",
              "    }\n",
              "\n",
              "    .colab-df-convert:hover {\n",
              "      background-color: #E2EBFA;\n",
              "      box-shadow: 0px 1px 2px rgba(60, 64, 67, 0.3), 0px 1px 3px 1px rgba(60, 64, 67, 0.15);\n",
              "      fill: #174EA6;\n",
              "    }\n",
              "\n",
              "    [theme=dark] .colab-df-convert {\n",
              "      background-color: #3B4455;\n",
              "      fill: #D2E3FC;\n",
              "    }\n",
              "\n",
              "    [theme=dark] .colab-df-convert:hover {\n",
              "      background-color: #434B5C;\n",
              "      box-shadow: 0px 1px 3px 1px rgba(0, 0, 0, 0.15);\n",
              "      filter: drop-shadow(0px 1px 2px rgba(0, 0, 0, 0.3));\n",
              "      fill: #FFFFFF;\n",
              "    }\n",
              "  </style>\n",
              "\n",
              "      <script>\n",
              "        const buttonEl =\n",
              "          document.querySelector('#df-afd061cc-a570-41fb-ba9d-ed90d05fcb71 button.colab-df-convert');\n",
              "        buttonEl.style.display =\n",
              "          google.colab.kernel.accessAllowed ? 'block' : 'none';\n",
              "\n",
              "        async function convertToInteractive(key) {\n",
              "          const element = document.querySelector('#df-afd061cc-a570-41fb-ba9d-ed90d05fcb71');\n",
              "          const dataTable =\n",
              "            await google.colab.kernel.invokeFunction('convertToInteractive',\n",
              "                                                     [key], {});\n",
              "          if (!dataTable) return;\n",
              "\n",
              "          const docLinkHtml = 'Like what you see? Visit the ' +\n",
              "            '<a target=\"_blank\" href=https://colab.research.google.com/notebooks/data_table.ipynb>data table notebook</a>'\n",
              "            + ' to learn more about interactive tables.';\n",
              "          element.innerHTML = '';\n",
              "          dataTable['output_type'] = 'display_data';\n",
              "          await google.colab.output.renderOutput(dataTable, element);\n",
              "          const docLink = document.createElement('div');\n",
              "          docLink.innerHTML = docLinkHtml;\n",
              "          element.appendChild(docLink);\n",
              "        }\n",
              "      </script>\n",
              "    </div>\n",
              "  </div>\n",
              "  "
            ]
          },
          "metadata": {},
          "execution_count": 17
        }
      ],
      "source": [
        "rebuy_df = df.groupby(['cust', 'clac_mcls_nm']).sum()['buy_ct'].reset_index(name='rebuy_cnt') \n",
        "rebuy_df['rebuy_cnt'] -= 1\n",
        "rebuy_df = rebuy_df.groupby('cust').sum()['rebuy_cnt'].reset_index(name='rebuy_cnt') \n",
        "\n",
        "df = pd.merge(df, rebuy_df, how='outer',on='cust')\n",
        "df.head()"
      ]
    },
    {
      "cell_type": "code",
      "execution_count": 18,
      "metadata": {
        "id": "IiTfoPsbaidG"
      },
      "outputs": [],
      "source": [
        "df['rebuy_ration'] = df['rebuy_cnt']/df['total_items']*100 # 재구매 비율"
      ]
    },
    {
      "cell_type": "markdown",
      "metadata": {
        "id": "xOIjH1PAxlBu"
      },
      "source": [
        "##### 상품 구매 간격"
      ]
    },
    {
      "cell_type": "code",
      "execution_count": 19,
      "metadata": {
        "id": "ax_doFDlE6J3"
      },
      "outputs": [],
      "source": [
        "df = df.sort_values(['cust','de_dt'])\n",
        "df['dt_diff'] = df['de_dt'].diff()\n",
        "df.loc[df['cust'] != df['cust'].shift(),'dt_diff'] = None"
      ]
    },
    {
      "cell_type": "code",
      "execution_count": 20,
      "metadata": {
        "id": "Jnk8wwLdga4g"
      },
      "outputs": [],
      "source": [
        "df['dt_diff'] = df['dt_diff'].dt.days"
      ]
    },
    {
      "cell_type": "code",
      "execution_count": null,
      "metadata": {
        "id": "v8cMk2cYKDtC"
      },
      "outputs": [],
      "source": [
        "df.to_csv('lotto_df.csv') #csv파일로 생성"
      ]
    },
    {
      "cell_type": "code",
      "source": [
        "#성별 인코딩: 여1, 남0을 사용합니다\n",
        "df['ma_fem_dv']=df.ma_fem_dv.apply(lambda x: 1 if x=='여성' else 0)"
      ],
      "metadata": {
        "id": "midOFQQUuRvm"
      },
      "execution_count": 22,
      "outputs": []
    },
    {
      "cell_type": "code",
      "source": [
        "#연령: 연령대의 대표값으로 나타내기 위해, 연령대+ 5를 사용합니다\n",
        "df['ages']=df.ages.apply(lambda x: int(x[:-1])+5)"
      ],
      "metadata": {
        "id": "4lXqGnO8uQxo"
      },
      "execution_count": 23,
      "outputs": []
    },
    {
      "cell_type": "code",
      "source": [
        "#주말이 아닌 공휴일 변수\n",
        "#혜린이 코드에서 조금 변경사항 있어욥 \n",
        "holi=[]\n",
        "holiday=['0101','0211','0212','0301','0505','0519','0816','0920','0921','0922','1004','1011']\n",
        "for h in holiday:\n",
        "  holi.append('2021'+h)\n",
        "\n",
        "c = pd.to_datetime(holi)\n",
        "df['holi']=df.de_dt.apply(lambda x: 1 if x in c else 0)"
      ],
      "metadata": {
        "id": "_49XOB03uIKZ"
      },
      "execution_count": 24,
      "outputs": []
    },
    {
      "cell_type": "code",
      "source": [
        "#요일 변수\n",
        "datedict={0:'mon',1:'tue',2:'wed',3:'thu',4:'fri',5:'sat',6:'sun'}\n",
        "df[\"weekday\"] = df[\"de_dt\"].apply(lambda x: datedict[x.weekday()])\n",
        "df['weekday']=df.weekday.apply(lambda x: 1 if x=='sat' or x=='sun' else 0)"
      ],
      "metadata": {
        "id": "A2KXkqGAuOP0"
      },
      "execution_count": 25,
      "outputs": []
    },
    {
      "cell_type": "code",
      "source": [
        "#거주지역 변수 설정\n",
        "df['zon_hlv']=df.zon_hlv.apply(lambda x: 1 if x=='Z17' or x=='Z10' else 0)"
      ],
      "metadata": {
        "id": "JoKgfrrXuXFj"
      },
      "execution_count": 26,
      "outputs": []
    },
    {
      "cell_type": "code",
      "source": [
        "buy_df = df.groupby(['cust', 'clac_mcls_nm']).mean()['buy_am'].reset_index(name='total_am') \n",
        "df = pd.merge(df, buy_df, how='outer',on=['cust','clac_mcls_nm'])"
      ],
      "metadata": {
        "id": "-JfG5cwDumaS"
      },
      "execution_count": 28,
      "outputs": []
    },
    {
      "cell_type": "code",
      "source": [
        "df =  df.drop(['rct_no', 'chnl_dv', 'cop_c', 'br_c', 'pd_c', 'de_dt', 'de_hr', 'pd_nm', 'clac_hlv_nm', 'day', 'month','rct_cnt'], axis=1)\n",
        "df.head()"
      ],
      "metadata": {
        "colab": {
          "base_uri": "https://localhost:8080/",
          "height": 206
        },
        "id": "_NVjEcxzwdDX",
        "outputId": "999d1371-b5ba-46c7-aa07-bcc4bb789a67"
      },
      "execution_count": 30,
      "outputs": [
        {
          "output_type": "execute_result",
          "data": {
            "text/plain": [
              "         cust   buy_am  buy_ct clac_mcls_nm  ma_fem_dv  ages  zon_hlv weat  \\\n",
              "0  M000034966    100.0       1        스포츠잡화          1    45        0  win   \n",
              "1  M000034966  59000.0       1       남성스포츠화          1    45        0  win   \n",
              "2  M000034966  19000.0       1       남성스포츠화          1    45        0  win   \n",
              "3  M000034966  62100.0       1       여성스포츠화          1    45        0  win   \n",
              "4  M000034966   1200.0       1         과채음료          1    45        0  win   \n",
              "\n",
              "   de_hr_1  total_items  one_times_items  rebuy  rebuy_cnt  rebuy_ration  \\\n",
              "0        1           63                3      0         34     53.968254   \n",
              "1        1           63                3      0         34     53.968254   \n",
              "2        1           63                3      0         34     53.968254   \n",
              "3        1           63                1      0         34     53.968254   \n",
              "4        1           63                2      0         34     53.968254   \n",
              "\n",
              "   dt_diff  holi  weekday  total_am  \n",
              "0      NaN     0        1     100.0  \n",
              "1      0.0     0        1   39000.0  \n",
              "2      0.0     0        1   39000.0  \n",
              "3      0.0     0        1   62100.0  \n",
              "4      0.0     0        1    1200.0  "
            ],
            "text/html": [
              "\n",
              "  <div id=\"df-604282f5-b337-4c0d-abdf-705f43cdd750\">\n",
              "    <div class=\"colab-df-container\">\n",
              "      <div>\n",
              "<style scoped>\n",
              "    .dataframe tbody tr th:only-of-type {\n",
              "        vertical-align: middle;\n",
              "    }\n",
              "\n",
              "    .dataframe tbody tr th {\n",
              "        vertical-align: top;\n",
              "    }\n",
              "\n",
              "    .dataframe thead th {\n",
              "        text-align: right;\n",
              "    }\n",
              "</style>\n",
              "<table border=\"1\" class=\"dataframe\">\n",
              "  <thead>\n",
              "    <tr style=\"text-align: right;\">\n",
              "      <th></th>\n",
              "      <th>cust</th>\n",
              "      <th>buy_am</th>\n",
              "      <th>buy_ct</th>\n",
              "      <th>clac_mcls_nm</th>\n",
              "      <th>ma_fem_dv</th>\n",
              "      <th>ages</th>\n",
              "      <th>zon_hlv</th>\n",
              "      <th>weat</th>\n",
              "      <th>de_hr_1</th>\n",
              "      <th>total_items</th>\n",
              "      <th>one_times_items</th>\n",
              "      <th>rebuy</th>\n",
              "      <th>rebuy_cnt</th>\n",
              "      <th>rebuy_ration</th>\n",
              "      <th>dt_diff</th>\n",
              "      <th>holi</th>\n",
              "      <th>weekday</th>\n",
              "      <th>total_am</th>\n",
              "    </tr>\n",
              "  </thead>\n",
              "  <tbody>\n",
              "    <tr>\n",
              "      <th>0</th>\n",
              "      <td>M000034966</td>\n",
              "      <td>100.0</td>\n",
              "      <td>1</td>\n",
              "      <td>스포츠잡화</td>\n",
              "      <td>1</td>\n",
              "      <td>45</td>\n",
              "      <td>0</td>\n",
              "      <td>win</td>\n",
              "      <td>1</td>\n",
              "      <td>63</td>\n",
              "      <td>3</td>\n",
              "      <td>0</td>\n",
              "      <td>34</td>\n",
              "      <td>53.968254</td>\n",
              "      <td>NaN</td>\n",
              "      <td>0</td>\n",
              "      <td>1</td>\n",
              "      <td>100.0</td>\n",
              "    </tr>\n",
              "    <tr>\n",
              "      <th>1</th>\n",
              "      <td>M000034966</td>\n",
              "      <td>59000.0</td>\n",
              "      <td>1</td>\n",
              "      <td>남성스포츠화</td>\n",
              "      <td>1</td>\n",
              "      <td>45</td>\n",
              "      <td>0</td>\n",
              "      <td>win</td>\n",
              "      <td>1</td>\n",
              "      <td>63</td>\n",
              "      <td>3</td>\n",
              "      <td>0</td>\n",
              "      <td>34</td>\n",
              "      <td>53.968254</td>\n",
              "      <td>0.0</td>\n",
              "      <td>0</td>\n",
              "      <td>1</td>\n",
              "      <td>39000.0</td>\n",
              "    </tr>\n",
              "    <tr>\n",
              "      <th>2</th>\n",
              "      <td>M000034966</td>\n",
              "      <td>19000.0</td>\n",
              "      <td>1</td>\n",
              "      <td>남성스포츠화</td>\n",
              "      <td>1</td>\n",
              "      <td>45</td>\n",
              "      <td>0</td>\n",
              "      <td>win</td>\n",
              "      <td>1</td>\n",
              "      <td>63</td>\n",
              "      <td>3</td>\n",
              "      <td>0</td>\n",
              "      <td>34</td>\n",
              "      <td>53.968254</td>\n",
              "      <td>0.0</td>\n",
              "      <td>0</td>\n",
              "      <td>1</td>\n",
              "      <td>39000.0</td>\n",
              "    </tr>\n",
              "    <tr>\n",
              "      <th>3</th>\n",
              "      <td>M000034966</td>\n",
              "      <td>62100.0</td>\n",
              "      <td>1</td>\n",
              "      <td>여성스포츠화</td>\n",
              "      <td>1</td>\n",
              "      <td>45</td>\n",
              "      <td>0</td>\n",
              "      <td>win</td>\n",
              "      <td>1</td>\n",
              "      <td>63</td>\n",
              "      <td>1</td>\n",
              "      <td>0</td>\n",
              "      <td>34</td>\n",
              "      <td>53.968254</td>\n",
              "      <td>0.0</td>\n",
              "      <td>0</td>\n",
              "      <td>1</td>\n",
              "      <td>62100.0</td>\n",
              "    </tr>\n",
              "    <tr>\n",
              "      <th>4</th>\n",
              "      <td>M000034966</td>\n",
              "      <td>1200.0</td>\n",
              "      <td>1</td>\n",
              "      <td>과채음료</td>\n",
              "      <td>1</td>\n",
              "      <td>45</td>\n",
              "      <td>0</td>\n",
              "      <td>win</td>\n",
              "      <td>1</td>\n",
              "      <td>63</td>\n",
              "      <td>2</td>\n",
              "      <td>0</td>\n",
              "      <td>34</td>\n",
              "      <td>53.968254</td>\n",
              "      <td>0.0</td>\n",
              "      <td>0</td>\n",
              "      <td>1</td>\n",
              "      <td>1200.0</td>\n",
              "    </tr>\n",
              "  </tbody>\n",
              "</table>\n",
              "</div>\n",
              "      <button class=\"colab-df-convert\" onclick=\"convertToInteractive('df-604282f5-b337-4c0d-abdf-705f43cdd750')\"\n",
              "              title=\"Convert this dataframe to an interactive table.\"\n",
              "              style=\"display:none;\">\n",
              "        \n",
              "  <svg xmlns=\"http://www.w3.org/2000/svg\" height=\"24px\"viewBox=\"0 0 24 24\"\n",
              "       width=\"24px\">\n",
              "    <path d=\"M0 0h24v24H0V0z\" fill=\"none\"/>\n",
              "    <path d=\"M18.56 5.44l.94 2.06.94-2.06 2.06-.94-2.06-.94-.94-2.06-.94 2.06-2.06.94zm-11 1L8.5 8.5l.94-2.06 2.06-.94-2.06-.94L8.5 2.5l-.94 2.06-2.06.94zm10 10l.94 2.06.94-2.06 2.06-.94-2.06-.94-.94-2.06-.94 2.06-2.06.94z\"/><path d=\"M17.41 7.96l-1.37-1.37c-.4-.4-.92-.59-1.43-.59-.52 0-1.04.2-1.43.59L10.3 9.45l-7.72 7.72c-.78.78-.78 2.05 0 2.83L4 21.41c.39.39.9.59 1.41.59.51 0 1.02-.2 1.41-.59l7.78-7.78 2.81-2.81c.8-.78.8-2.07 0-2.86zM5.41 20L4 18.59l7.72-7.72 1.47 1.35L5.41 20z\"/>\n",
              "  </svg>\n",
              "      </button>\n",
              "      \n",
              "  <style>\n",
              "    .colab-df-container {\n",
              "      display:flex;\n",
              "      flex-wrap:wrap;\n",
              "      gap: 12px;\n",
              "    }\n",
              "\n",
              "    .colab-df-convert {\n",
              "      background-color: #E8F0FE;\n",
              "      border: none;\n",
              "      border-radius: 50%;\n",
              "      cursor: pointer;\n",
              "      display: none;\n",
              "      fill: #1967D2;\n",
              "      height: 32px;\n",
              "      padding: 0 0 0 0;\n",
              "      width: 32px;\n",
              "    }\n",
              "\n",
              "    .colab-df-convert:hover {\n",
              "      background-color: #E2EBFA;\n",
              "      box-shadow: 0px 1px 2px rgba(60, 64, 67, 0.3), 0px 1px 3px 1px rgba(60, 64, 67, 0.15);\n",
              "      fill: #174EA6;\n",
              "    }\n",
              "\n",
              "    [theme=dark] .colab-df-convert {\n",
              "      background-color: #3B4455;\n",
              "      fill: #D2E3FC;\n",
              "    }\n",
              "\n",
              "    [theme=dark] .colab-df-convert:hover {\n",
              "      background-color: #434B5C;\n",
              "      box-shadow: 0px 1px 3px 1px rgba(0, 0, 0, 0.15);\n",
              "      filter: drop-shadow(0px 1px 2px rgba(0, 0, 0, 0.3));\n",
              "      fill: #FFFFFF;\n",
              "    }\n",
              "  </style>\n",
              "\n",
              "      <script>\n",
              "        const buttonEl =\n",
              "          document.querySelector('#df-604282f5-b337-4c0d-abdf-705f43cdd750 button.colab-df-convert');\n",
              "        buttonEl.style.display =\n",
              "          google.colab.kernel.accessAllowed ? 'block' : 'none';\n",
              "\n",
              "        async function convertToInteractive(key) {\n",
              "          const element = document.querySelector('#df-604282f5-b337-4c0d-abdf-705f43cdd750');\n",
              "          const dataTable =\n",
              "            await google.colab.kernel.invokeFunction('convertToInteractive',\n",
              "                                                     [key], {});\n",
              "          if (!dataTable) return;\n",
              "\n",
              "          const docLinkHtml = 'Like what you see? Visit the ' +\n",
              "            '<a target=\"_blank\" href=https://colab.research.google.com/notebooks/data_table.ipynb>data table notebook</a>'\n",
              "            + ' to learn more about interactive tables.';\n",
              "          element.innerHTML = '';\n",
              "          dataTable['output_type'] = 'display_data';\n",
              "          await google.colab.output.renderOutput(dataTable, element);\n",
              "          const docLink = document.createElement('div');\n",
              "          docLink.innerHTML = docLinkHtml;\n",
              "          element.appendChild(docLink);\n",
              "        }\n",
              "      </script>\n",
              "    </div>\n",
              "  </div>\n",
              "  "
            ]
          },
          "metadata": {},
          "execution_count": 30
        }
      ]
    },
    {
      "cell_type": "code",
      "source": [
        "df.columns"
      ],
      "metadata": {
        "colab": {
          "base_uri": "https://localhost:8080/"
        },
        "id": "wZAvjOMuvMa9",
        "outputId": "65bd094e-e752-4969-a23d-24024337cd56"
      },
      "execution_count": 45,
      "outputs": [
        {
          "output_type": "execute_result",
          "data": {
            "text/plain": [
              "Index(['cust', 'rct_no', 'chnl_dv', 'cop_c', 'br_c', 'pd_c', 'de_dt', 'de_hr',\n",
              "       'buy_am', 'buy_ct', 'pd_nm', 'clac_hlv_nm', 'clac_mcls_nm', 'ma_fem_dv',\n",
              "       'ages', 'zon_hlv', 'day', 'month', 'weat', 'de_hr_1', 'holi', 'weekday',\n",
              "       'total_am', 'rebuy', 'one_times_items'],\n",
              "      dtype='object')"
            ]
          },
          "metadata": {},
          "execution_count": 45
        }
      ]
    },
    {
      "cell_type": "markdown",
      "metadata": {
        "id": "53BMO_m_vN5F"
      },
      "source": [
        "### 모델링"
      ]
    },
    {
      "cell_type": "code",
      "execution_count": 18,
      "metadata": {
        "id": "fPols-jgvPo2"
      },
      "outputs": [],
      "source": [
        "df = pd.read_csv(\"/content/drive/MyDrive/롯데 공모전/dataset/final_df.csv\")"
      ]
    },
    {
      "cell_type": "code",
      "source": [
        "df.head()"
      ],
      "metadata": {
        "colab": {
          "base_uri": "https://localhost:8080/",
          "height": 206
        },
        "id": "bTGS8Gkorsge",
        "outputId": "1f55b9c1-cc9c-4f5d-949f-fb83e1510024"
      },
      "execution_count": 19,
      "outputs": [
        {
          "output_type": "execute_result",
          "data": {
            "text/plain": [
              "         cust clac_mcls_nm de_hr_1   buy_am  buy_ct  ma_fem_dv  ages weat  \\\n",
              "0  M000034966        스포츠잡화     a_7    100.0       1          1    45  win   \n",
              "1  M000034966       남성스포츠화     a_7  59000.0       1          1    45  win   \n",
              "2  M000034966       남성스포츠화     a_7  19000.0       1          1    45  win   \n",
              "3  M000034966       여성스포츠화     a_7  62100.0       1          1    45  win   \n",
              "4  M000034966         과채음료     a_9   1200.0       1          1    45  win   \n",
              "\n",
              "   zon_hlv  weekday  holi  one_times_items  rebuy_ration  rebuy_cnt  de_diff  \\\n",
              "0        0        1     0                3     53.968254         34    365.0   \n",
              "1        0        1     0                3     53.968254         34      0.0   \n",
              "2        0        1     0                3     53.968254         34      0.0   \n",
              "3        0        1     0                1     53.968254         34      0.0   \n",
              "4        0        1     0                2     53.968254         34      0.0   \n",
              "\n",
              "   total_am  rebuy  \n",
              "0     100.0      0  \n",
              "1   39000.0      0  \n",
              "2   39000.0      0  \n",
              "3   62100.0      0  \n",
              "4    1200.0      0  "
            ],
            "text/html": [
              "\n",
              "  <div id=\"df-f999a826-56d0-4fc7-b3fb-d0dc5372bd0e\">\n",
              "    <div class=\"colab-df-container\">\n",
              "      <div>\n",
              "<style scoped>\n",
              "    .dataframe tbody tr th:only-of-type {\n",
              "        vertical-align: middle;\n",
              "    }\n",
              "\n",
              "    .dataframe tbody tr th {\n",
              "        vertical-align: top;\n",
              "    }\n",
              "\n",
              "    .dataframe thead th {\n",
              "        text-align: right;\n",
              "    }\n",
              "</style>\n",
              "<table border=\"1\" class=\"dataframe\">\n",
              "  <thead>\n",
              "    <tr style=\"text-align: right;\">\n",
              "      <th></th>\n",
              "      <th>cust</th>\n",
              "      <th>clac_mcls_nm</th>\n",
              "      <th>de_hr_1</th>\n",
              "      <th>buy_am</th>\n",
              "      <th>buy_ct</th>\n",
              "      <th>ma_fem_dv</th>\n",
              "      <th>ages</th>\n",
              "      <th>weat</th>\n",
              "      <th>zon_hlv</th>\n",
              "      <th>weekday</th>\n",
              "      <th>holi</th>\n",
              "      <th>one_times_items</th>\n",
              "      <th>rebuy_ration</th>\n",
              "      <th>rebuy_cnt</th>\n",
              "      <th>de_diff</th>\n",
              "      <th>total_am</th>\n",
              "      <th>rebuy</th>\n",
              "    </tr>\n",
              "  </thead>\n",
              "  <tbody>\n",
              "    <tr>\n",
              "      <th>0</th>\n",
              "      <td>M000034966</td>\n",
              "      <td>스포츠잡화</td>\n",
              "      <td>a_7</td>\n",
              "      <td>100.0</td>\n",
              "      <td>1</td>\n",
              "      <td>1</td>\n",
              "      <td>45</td>\n",
              "      <td>win</td>\n",
              "      <td>0</td>\n",
              "      <td>1</td>\n",
              "      <td>0</td>\n",
              "      <td>3</td>\n",
              "      <td>53.968254</td>\n",
              "      <td>34</td>\n",
              "      <td>365.0</td>\n",
              "      <td>100.0</td>\n",
              "      <td>0</td>\n",
              "    </tr>\n",
              "    <tr>\n",
              "      <th>1</th>\n",
              "      <td>M000034966</td>\n",
              "      <td>남성스포츠화</td>\n",
              "      <td>a_7</td>\n",
              "      <td>59000.0</td>\n",
              "      <td>1</td>\n",
              "      <td>1</td>\n",
              "      <td>45</td>\n",
              "      <td>win</td>\n",
              "      <td>0</td>\n",
              "      <td>1</td>\n",
              "      <td>0</td>\n",
              "      <td>3</td>\n",
              "      <td>53.968254</td>\n",
              "      <td>34</td>\n",
              "      <td>0.0</td>\n",
              "      <td>39000.0</td>\n",
              "      <td>0</td>\n",
              "    </tr>\n",
              "    <tr>\n",
              "      <th>2</th>\n",
              "      <td>M000034966</td>\n",
              "      <td>남성스포츠화</td>\n",
              "      <td>a_7</td>\n",
              "      <td>19000.0</td>\n",
              "      <td>1</td>\n",
              "      <td>1</td>\n",
              "      <td>45</td>\n",
              "      <td>win</td>\n",
              "      <td>0</td>\n",
              "      <td>1</td>\n",
              "      <td>0</td>\n",
              "      <td>3</td>\n",
              "      <td>53.968254</td>\n",
              "      <td>34</td>\n",
              "      <td>0.0</td>\n",
              "      <td>39000.0</td>\n",
              "      <td>0</td>\n",
              "    </tr>\n",
              "    <tr>\n",
              "      <th>3</th>\n",
              "      <td>M000034966</td>\n",
              "      <td>여성스포츠화</td>\n",
              "      <td>a_7</td>\n",
              "      <td>62100.0</td>\n",
              "      <td>1</td>\n",
              "      <td>1</td>\n",
              "      <td>45</td>\n",
              "      <td>win</td>\n",
              "      <td>0</td>\n",
              "      <td>1</td>\n",
              "      <td>0</td>\n",
              "      <td>1</td>\n",
              "      <td>53.968254</td>\n",
              "      <td>34</td>\n",
              "      <td>0.0</td>\n",
              "      <td>62100.0</td>\n",
              "      <td>0</td>\n",
              "    </tr>\n",
              "    <tr>\n",
              "      <th>4</th>\n",
              "      <td>M000034966</td>\n",
              "      <td>과채음료</td>\n",
              "      <td>a_9</td>\n",
              "      <td>1200.0</td>\n",
              "      <td>1</td>\n",
              "      <td>1</td>\n",
              "      <td>45</td>\n",
              "      <td>win</td>\n",
              "      <td>0</td>\n",
              "      <td>1</td>\n",
              "      <td>0</td>\n",
              "      <td>2</td>\n",
              "      <td>53.968254</td>\n",
              "      <td>34</td>\n",
              "      <td>0.0</td>\n",
              "      <td>1200.0</td>\n",
              "      <td>0</td>\n",
              "    </tr>\n",
              "  </tbody>\n",
              "</table>\n",
              "</div>\n",
              "      <button class=\"colab-df-convert\" onclick=\"convertToInteractive('df-f999a826-56d0-4fc7-b3fb-d0dc5372bd0e')\"\n",
              "              title=\"Convert this dataframe to an interactive table.\"\n",
              "              style=\"display:none;\">\n",
              "        \n",
              "  <svg xmlns=\"http://www.w3.org/2000/svg\" height=\"24px\"viewBox=\"0 0 24 24\"\n",
              "       width=\"24px\">\n",
              "    <path d=\"M0 0h24v24H0V0z\" fill=\"none\"/>\n",
              "    <path d=\"M18.56 5.44l.94 2.06.94-2.06 2.06-.94-2.06-.94-.94-2.06-.94 2.06-2.06.94zm-11 1L8.5 8.5l.94-2.06 2.06-.94-2.06-.94L8.5 2.5l-.94 2.06-2.06.94zm10 10l.94 2.06.94-2.06 2.06-.94-2.06-.94-.94-2.06-.94 2.06-2.06.94z\"/><path d=\"M17.41 7.96l-1.37-1.37c-.4-.4-.92-.59-1.43-.59-.52 0-1.04.2-1.43.59L10.3 9.45l-7.72 7.72c-.78.78-.78 2.05 0 2.83L4 21.41c.39.39.9.59 1.41.59.51 0 1.02-.2 1.41-.59l7.78-7.78 2.81-2.81c.8-.78.8-2.07 0-2.86zM5.41 20L4 18.59l7.72-7.72 1.47 1.35L5.41 20z\"/>\n",
              "  </svg>\n",
              "      </button>\n",
              "      \n",
              "  <style>\n",
              "    .colab-df-container {\n",
              "      display:flex;\n",
              "      flex-wrap:wrap;\n",
              "      gap: 12px;\n",
              "    }\n",
              "\n",
              "    .colab-df-convert {\n",
              "      background-color: #E8F0FE;\n",
              "      border: none;\n",
              "      border-radius: 50%;\n",
              "      cursor: pointer;\n",
              "      display: none;\n",
              "      fill: #1967D2;\n",
              "      height: 32px;\n",
              "      padding: 0 0 0 0;\n",
              "      width: 32px;\n",
              "    }\n",
              "\n",
              "    .colab-df-convert:hover {\n",
              "      background-color: #E2EBFA;\n",
              "      box-shadow: 0px 1px 2px rgba(60, 64, 67, 0.3), 0px 1px 3px 1px rgba(60, 64, 67, 0.15);\n",
              "      fill: #174EA6;\n",
              "    }\n",
              "\n",
              "    [theme=dark] .colab-df-convert {\n",
              "      background-color: #3B4455;\n",
              "      fill: #D2E3FC;\n",
              "    }\n",
              "\n",
              "    [theme=dark] .colab-df-convert:hover {\n",
              "      background-color: #434B5C;\n",
              "      box-shadow: 0px 1px 3px 1px rgba(0, 0, 0, 0.15);\n",
              "      filter: drop-shadow(0px 1px 2px rgba(0, 0, 0, 0.3));\n",
              "      fill: #FFFFFF;\n",
              "    }\n",
              "  </style>\n",
              "\n",
              "      <script>\n",
              "        const buttonEl =\n",
              "          document.querySelector('#df-f999a826-56d0-4fc7-b3fb-d0dc5372bd0e button.colab-df-convert');\n",
              "        buttonEl.style.display =\n",
              "          google.colab.kernel.accessAllowed ? 'block' : 'none';\n",
              "\n",
              "        async function convertToInteractive(key) {\n",
              "          const element = document.querySelector('#df-f999a826-56d0-4fc7-b3fb-d0dc5372bd0e');\n",
              "          const dataTable =\n",
              "            await google.colab.kernel.invokeFunction('convertToInteractive',\n",
              "                                                     [key], {});\n",
              "          if (!dataTable) return;\n",
              "\n",
              "          const docLinkHtml = 'Like what you see? Visit the ' +\n",
              "            '<a target=\"_blank\" href=https://colab.research.google.com/notebooks/data_table.ipynb>data table notebook</a>'\n",
              "            + ' to learn more about interactive tables.';\n",
              "          element.innerHTML = '';\n",
              "          dataTable['output_type'] = 'display_data';\n",
              "          await google.colab.output.renderOutput(dataTable, element);\n",
              "          const docLink = document.createElement('div');\n",
              "          docLink.innerHTML = docLinkHtml;\n",
              "          element.appendChild(docLink);\n",
              "        }\n",
              "      </script>\n",
              "    </div>\n",
              "  </div>\n",
              "  "
            ]
          },
          "metadata": {},
          "execution_count": 19
        }
      ]
    },
    {
      "cell_type": "code",
      "execution_count": 20,
      "metadata": {
        "colab": {
          "base_uri": "https://localhost:8080/",
          "height": 238
        },
        "id": "yKDuOj7BFzcg",
        "outputId": "3a31d1ee-f0b8-4f31-bc88-5862a8f89c77"
      },
      "outputs": [
        {
          "output_type": "execute_result",
          "data": {
            "text/plain": [
              "                        de_hr_1   buy_am  buy_ct  ma_fem_dv  ages weat  \\\n",
              "cust       clac_mcls_nm                                                  \n",
              "M000034966 스포츠잡화            a_7    100.0       1          1    45  win   \n",
              "           남성스포츠화           a_7  59000.0       1          1    45  win   \n",
              "           남성스포츠화           a_7  19000.0       1          1    45  win   \n",
              "           여성스포츠화           a_7  62100.0       1          1    45  win   \n",
              "           과채음료             a_9   1200.0       1          1    45  win   \n",
              "\n",
              "                         zon_hlv  weekday  holi  one_times_items  \\\n",
              "cust       clac_mcls_nm                                            \n",
              "M000034966 스포츠잡화               0        1     0                3   \n",
              "           남성스포츠화              0        1     0                3   \n",
              "           남성스포츠화              0        1     0                3   \n",
              "           여성스포츠화              0        1     0                1   \n",
              "           과채음료                0        1     0                2   \n",
              "\n",
              "                         rebuy_ration  rebuy_cnt  de_diff  total_am  rebuy  \n",
              "cust       clac_mcls_nm                                                     \n",
              "M000034966 스포츠잡화            53.968254         34    365.0     100.0      0  \n",
              "           남성스포츠화           53.968254         34      0.0   39000.0      0  \n",
              "           남성스포츠화           53.968254         34      0.0   39000.0      0  \n",
              "           여성스포츠화           53.968254         34      0.0   62100.0      0  \n",
              "           과채음료             53.968254         34      0.0    1200.0      0  "
            ],
            "text/html": [
              "\n",
              "  <div id=\"df-72ce11de-bd66-42c7-8cd7-8a17454868cf\">\n",
              "    <div class=\"colab-df-container\">\n",
              "      <div>\n",
              "<style scoped>\n",
              "    .dataframe tbody tr th:only-of-type {\n",
              "        vertical-align: middle;\n",
              "    }\n",
              "\n",
              "    .dataframe tbody tr th {\n",
              "        vertical-align: top;\n",
              "    }\n",
              "\n",
              "    .dataframe thead th {\n",
              "        text-align: right;\n",
              "    }\n",
              "</style>\n",
              "<table border=\"1\" class=\"dataframe\">\n",
              "  <thead>\n",
              "    <tr style=\"text-align: right;\">\n",
              "      <th></th>\n",
              "      <th></th>\n",
              "      <th>de_hr_1</th>\n",
              "      <th>buy_am</th>\n",
              "      <th>buy_ct</th>\n",
              "      <th>ma_fem_dv</th>\n",
              "      <th>ages</th>\n",
              "      <th>weat</th>\n",
              "      <th>zon_hlv</th>\n",
              "      <th>weekday</th>\n",
              "      <th>holi</th>\n",
              "      <th>one_times_items</th>\n",
              "      <th>rebuy_ration</th>\n",
              "      <th>rebuy_cnt</th>\n",
              "      <th>de_diff</th>\n",
              "      <th>total_am</th>\n",
              "      <th>rebuy</th>\n",
              "    </tr>\n",
              "    <tr>\n",
              "      <th>cust</th>\n",
              "      <th>clac_mcls_nm</th>\n",
              "      <th></th>\n",
              "      <th></th>\n",
              "      <th></th>\n",
              "      <th></th>\n",
              "      <th></th>\n",
              "      <th></th>\n",
              "      <th></th>\n",
              "      <th></th>\n",
              "      <th></th>\n",
              "      <th></th>\n",
              "      <th></th>\n",
              "      <th></th>\n",
              "      <th></th>\n",
              "      <th></th>\n",
              "      <th></th>\n",
              "    </tr>\n",
              "  </thead>\n",
              "  <tbody>\n",
              "    <tr>\n",
              "      <th rowspan=\"5\" valign=\"top\">M000034966</th>\n",
              "      <th>스포츠잡화</th>\n",
              "      <td>a_7</td>\n",
              "      <td>100.0</td>\n",
              "      <td>1</td>\n",
              "      <td>1</td>\n",
              "      <td>45</td>\n",
              "      <td>win</td>\n",
              "      <td>0</td>\n",
              "      <td>1</td>\n",
              "      <td>0</td>\n",
              "      <td>3</td>\n",
              "      <td>53.968254</td>\n",
              "      <td>34</td>\n",
              "      <td>365.0</td>\n",
              "      <td>100.0</td>\n",
              "      <td>0</td>\n",
              "    </tr>\n",
              "    <tr>\n",
              "      <th>남성스포츠화</th>\n",
              "      <td>a_7</td>\n",
              "      <td>59000.0</td>\n",
              "      <td>1</td>\n",
              "      <td>1</td>\n",
              "      <td>45</td>\n",
              "      <td>win</td>\n",
              "      <td>0</td>\n",
              "      <td>1</td>\n",
              "      <td>0</td>\n",
              "      <td>3</td>\n",
              "      <td>53.968254</td>\n",
              "      <td>34</td>\n",
              "      <td>0.0</td>\n",
              "      <td>39000.0</td>\n",
              "      <td>0</td>\n",
              "    </tr>\n",
              "    <tr>\n",
              "      <th>남성스포츠화</th>\n",
              "      <td>a_7</td>\n",
              "      <td>19000.0</td>\n",
              "      <td>1</td>\n",
              "      <td>1</td>\n",
              "      <td>45</td>\n",
              "      <td>win</td>\n",
              "      <td>0</td>\n",
              "      <td>1</td>\n",
              "      <td>0</td>\n",
              "      <td>3</td>\n",
              "      <td>53.968254</td>\n",
              "      <td>34</td>\n",
              "      <td>0.0</td>\n",
              "      <td>39000.0</td>\n",
              "      <td>0</td>\n",
              "    </tr>\n",
              "    <tr>\n",
              "      <th>여성스포츠화</th>\n",
              "      <td>a_7</td>\n",
              "      <td>62100.0</td>\n",
              "      <td>1</td>\n",
              "      <td>1</td>\n",
              "      <td>45</td>\n",
              "      <td>win</td>\n",
              "      <td>0</td>\n",
              "      <td>1</td>\n",
              "      <td>0</td>\n",
              "      <td>1</td>\n",
              "      <td>53.968254</td>\n",
              "      <td>34</td>\n",
              "      <td>0.0</td>\n",
              "      <td>62100.0</td>\n",
              "      <td>0</td>\n",
              "    </tr>\n",
              "    <tr>\n",
              "      <th>과채음료</th>\n",
              "      <td>a_9</td>\n",
              "      <td>1200.0</td>\n",
              "      <td>1</td>\n",
              "      <td>1</td>\n",
              "      <td>45</td>\n",
              "      <td>win</td>\n",
              "      <td>0</td>\n",
              "      <td>1</td>\n",
              "      <td>0</td>\n",
              "      <td>2</td>\n",
              "      <td>53.968254</td>\n",
              "      <td>34</td>\n",
              "      <td>0.0</td>\n",
              "      <td>1200.0</td>\n",
              "      <td>0</td>\n",
              "    </tr>\n",
              "  </tbody>\n",
              "</table>\n",
              "</div>\n",
              "      <button class=\"colab-df-convert\" onclick=\"convertToInteractive('df-72ce11de-bd66-42c7-8cd7-8a17454868cf')\"\n",
              "              title=\"Convert this dataframe to an interactive table.\"\n",
              "              style=\"display:none;\">\n",
              "        \n",
              "  <svg xmlns=\"http://www.w3.org/2000/svg\" height=\"24px\"viewBox=\"0 0 24 24\"\n",
              "       width=\"24px\">\n",
              "    <path d=\"M0 0h24v24H0V0z\" fill=\"none\"/>\n",
              "    <path d=\"M18.56 5.44l.94 2.06.94-2.06 2.06-.94-2.06-.94-.94-2.06-.94 2.06-2.06.94zm-11 1L8.5 8.5l.94-2.06 2.06-.94-2.06-.94L8.5 2.5l-.94 2.06-2.06.94zm10 10l.94 2.06.94-2.06 2.06-.94-2.06-.94-.94-2.06-.94 2.06-2.06.94z\"/><path d=\"M17.41 7.96l-1.37-1.37c-.4-.4-.92-.59-1.43-.59-.52 0-1.04.2-1.43.59L10.3 9.45l-7.72 7.72c-.78.78-.78 2.05 0 2.83L4 21.41c.39.39.9.59 1.41.59.51 0 1.02-.2 1.41-.59l7.78-7.78 2.81-2.81c.8-.78.8-2.07 0-2.86zM5.41 20L4 18.59l7.72-7.72 1.47 1.35L5.41 20z\"/>\n",
              "  </svg>\n",
              "      </button>\n",
              "      \n",
              "  <style>\n",
              "    .colab-df-container {\n",
              "      display:flex;\n",
              "      flex-wrap:wrap;\n",
              "      gap: 12px;\n",
              "    }\n",
              "\n",
              "    .colab-df-convert {\n",
              "      background-color: #E8F0FE;\n",
              "      border: none;\n",
              "      border-radius: 50%;\n",
              "      cursor: pointer;\n",
              "      display: none;\n",
              "      fill: #1967D2;\n",
              "      height: 32px;\n",
              "      padding: 0 0 0 0;\n",
              "      width: 32px;\n",
              "    }\n",
              "\n",
              "    .colab-df-convert:hover {\n",
              "      background-color: #E2EBFA;\n",
              "      box-shadow: 0px 1px 2px rgba(60, 64, 67, 0.3), 0px 1px 3px 1px rgba(60, 64, 67, 0.15);\n",
              "      fill: #174EA6;\n",
              "    }\n",
              "\n",
              "    [theme=dark] .colab-df-convert {\n",
              "      background-color: #3B4455;\n",
              "      fill: #D2E3FC;\n",
              "    }\n",
              "\n",
              "    [theme=dark] .colab-df-convert:hover {\n",
              "      background-color: #434B5C;\n",
              "      box-shadow: 0px 1px 3px 1px rgba(0, 0, 0, 0.15);\n",
              "      filter: drop-shadow(0px 1px 2px rgba(0, 0, 0, 0.3));\n",
              "      fill: #FFFFFF;\n",
              "    }\n",
              "  </style>\n",
              "\n",
              "      <script>\n",
              "        const buttonEl =\n",
              "          document.querySelector('#df-72ce11de-bd66-42c7-8cd7-8a17454868cf button.colab-df-convert');\n",
              "        buttonEl.style.display =\n",
              "          google.colab.kernel.accessAllowed ? 'block' : 'none';\n",
              "\n",
              "        async function convertToInteractive(key) {\n",
              "          const element = document.querySelector('#df-72ce11de-bd66-42c7-8cd7-8a17454868cf');\n",
              "          const dataTable =\n",
              "            await google.colab.kernel.invokeFunction('convertToInteractive',\n",
              "                                                     [key], {});\n",
              "          if (!dataTable) return;\n",
              "\n",
              "          const docLinkHtml = 'Like what you see? Visit the ' +\n",
              "            '<a target=\"_blank\" href=https://colab.research.google.com/notebooks/data_table.ipynb>data table notebook</a>'\n",
              "            + ' to learn more about interactive tables.';\n",
              "          element.innerHTML = '';\n",
              "          dataTable['output_type'] = 'display_data';\n",
              "          await google.colab.output.renderOutput(dataTable, element);\n",
              "          const docLink = document.createElement('div');\n",
              "          docLink.innerHTML = docLinkHtml;\n",
              "          element.appendChild(docLink);\n",
              "        }\n",
              "      </script>\n",
              "    </div>\n",
              "  </div>\n",
              "  "
            ]
          },
          "metadata": {},
          "execution_count": 20
        }
      ],
      "source": [
        "df = df.set_index(['cust', 'clac_mcls_nm'])\n",
        "# df =  df.drop([ 'total_items'], axis=1)\n",
        "df.head()"
      ]
    },
    {
      "cell_type": "markdown",
      "metadata": {
        "id": "A2I4VBhyyq_O"
      },
      "source": [
        "#### 결측치 제거"
      ]
    },
    {
      "cell_type": "code",
      "execution_count": 6,
      "metadata": {
        "id": "_BE-1cy7hNrb"
      },
      "outputs": [],
      "source": [
        "df['dt_diff'] = df['dt_diff'].fillna(365)"
      ]
    },
    {
      "cell_type": "code",
      "execution_count": 21,
      "metadata": {
        "colab": {
          "base_uri": "https://localhost:8080/"
        },
        "id": "i-Adv8xJq2Nf",
        "outputId": "2a772af0-02dc-4353-d085-987a41e0b5a0"
      },
      "outputs": [
        {
          "output_type": "execute_result",
          "data": {
            "text/plain": [
              "de_hr_1            0\n",
              "buy_am             0\n",
              "buy_ct             0\n",
              "ma_fem_dv          0\n",
              "ages               0\n",
              "weat               0\n",
              "zon_hlv            0\n",
              "weekday            0\n",
              "holi               0\n",
              "one_times_items    0\n",
              "rebuy_ration       0\n",
              "rebuy_cnt          0\n",
              "de_diff            0\n",
              "total_am           0\n",
              "rebuy              0\n",
              "dtype: int64"
            ]
          },
          "metadata": {},
          "execution_count": 21
        }
      ],
      "source": [
        "df.isna().sum()"
      ]
    },
    {
      "cell_type": "markdown",
      "metadata": {
        "id": "Y8bCSGeJyue_"
      },
      "source": [
        "#### 인코딩"
      ]
    },
    {
      "cell_type": "code",
      "execution_count": null,
      "metadata": {
        "id": "KRfufkEwp7W-"
      },
      "outputs": [],
      "source": [
        "df['zon_hlv']=df['zon_hlv'].apply(lambda x: 1 if x=='Z17' or x=='Z10' else 0)"
      ]
    },
    {
      "cell_type": "code",
      "execution_count": 22,
      "metadata": {
        "id": "i74O-Ivsxkyr"
      },
      "outputs": [],
      "source": [
        "de_hr_list = df['de_hr_1'].value_counts().index[::-1]\n",
        "de_hr_dict = dict(zip(de_hr_list, range(0,10)))\n",
        "df = df.replace({'de_hr_1': de_hr_dict})"
      ]
    },
    {
      "cell_type": "code",
      "source": [
        "pdde['de_hr'].value_counts().plot(kind='bar')"
      ],
      "metadata": {
        "colab": {
          "base_uri": "https://localhost:8080/",
          "height": 286
        },
        "id": "he2aUoS5seJx",
        "outputId": "3987d70e-c61e-4b3e-9129-dabc07562f83"
      },
      "execution_count": 21,
      "outputs": [
        {
          "output_type": "execute_result",
          "data": {
            "text/plain": [
              "<matplotlib.axes._subplots.AxesSubplot at 0x7fc4f74f2e90>"
            ]
          },
          "metadata": {},
          "execution_count": 21
        },
        {
          "output_type": "display_data",
          "data": {
            "text/plain": [
              "<Figure size 432x288 with 1 Axes>"
            ],
            "image/png": "[encoded data removed]"
          },
          "metadata": {
            "needs_background": "light"
          }
        }
      ]
    },
    {
      "cell_type": "markdown",
      "source": [
        "11 12 13 14 15 16 17 18 19 20 21\n",
        "\n",
        "1 2 3 4 5  6 7 8 9 10 22 23 24 "
      ],
      "metadata": {
        "id": "YysrecTesrE6"
      }
    },
    {
      "cell_type": "code",
      "source": [
        "def time_fun(x):\n",
        "  y=''\n",
        "  if a>=2 and x<5: y='a_1'  \n",
        "  elif (x>=5 and x<8): y='a_2' \n",
        "  elif (x>=8 and x<10): y='a_3' \n",
        "  elif (x>=10 and x<12): y='a_4' \n",
        "  elif (x>=12 and x<14): y='a_5'\n",
        "  elif (x>=14 and x<16): y='a_6'\n",
        "  elif (x>=16 and x<19): y='a_7'\n",
        "  elif (x>=19 and x<21): y='a_8'\n",
        "  elif (x>=21 and x<23): y='a_9'\n",
        "  else: y='a_10'\n",
        "  return y\n",
        "\n",
        "#함수 적용\n",
        "df[\"de_hr_1\"] = df[\"de_hr\"].apply(lambda x: time_fun(x))"
      ],
      "metadata": {
        "id": "YCRN12gNsU6w"
      },
      "execution_count": null,
      "outputs": []
    },
    {
      "cell_type": "code",
      "source": [
        "df['de_hr_1'].unique()"
      ],
      "metadata": {
        "colab": {
          "base_uri": "https://localhost:8080/"
        },
        "id": "e-DmrX2vsCuv",
        "outputId": "ace1a3da-d2ef-4cf9-9426-499300943374"
      },
      "execution_count": 20,
      "outputs": [
        {
          "output_type": "execute_result",
          "data": {
            "text/plain": [
              "array(['a_7', 'a_9', 'a_5', 'a_6', 'a_8', 'a_4', 'a_3', 'a_10', 'a_1',\n",
              "       'a_2'], dtype=object)"
            ]
          },
          "metadata": {},
          "execution_count": 20
        }
      ]
    },
    {
      "cell_type": "code",
      "execution_count": null,
      "metadata": {
        "id": "eIBXEFHuhV60"
      },
      "outputs": [],
      "source": [
        "ages_list = df['ages'].value_counts().index[::-1]\n",
        "ages_dict = dict(zip(ages_list, range(0,17)))\n",
        "df = df.replace({'ages': ages_dict})"
      ]
    },
    {
      "cell_type": "code",
      "execution_count": null,
      "metadata": {
        "id": "OA7IpW2Dhb1G"
      },
      "outputs": [],
      "source": [
        "ma_fem_list = df['ma_fem_dv'].value_counts().index[::-1]\n",
        "ma_fem_dict = dict(zip(ma_fem_list, range(0,2)))\n",
        "df = df.replace({'ma_fem_dv': ma_fem_dict})"
      ]
    },
    {
      "cell_type": "code",
      "execution_count": 23,
      "metadata": {
        "id": "PIZcL1L80HNn"
      },
      "outputs": [],
      "source": [
        "weat_list = df['weat'].value_counts().index[::-1]\n",
        "weat_dict = dict(zip(weat_list, range(0,4)))\n",
        "df = df.replace({'weat': weat_dict})"
      ]
    },
    {
      "cell_type": "code",
      "execution_count": 24,
      "metadata": {
        "colab": {
          "base_uri": "https://localhost:8080/",
          "height": 238
        },
        "id": "a7GtwqGEovPV",
        "outputId": "8bb32dcc-f5ce-471a-d63e-7b9cb8954d4e"
      },
      "outputs": [
        {
          "output_type": "execute_result",
          "data": {
            "text/plain": [
              "                         de_hr_1   buy_am  buy_ct  ma_fem_dv  ages  weat  \\\n",
              "cust       clac_mcls_nm                                                    \n",
              "M000034966 스포츠잡화               9    100.0       1          1    45     2   \n",
              "           남성스포츠화              9  59000.0       1          1    45     2   \n",
              "           남성스포츠화              9  19000.0       1          1    45     2   \n",
              "           여성스포츠화              9  62100.0       1          1    45     2   \n",
              "           과채음료                4   1200.0       1          1    45     2   \n",
              "\n",
              "                         zon_hlv  weekday  holi  one_times_items  \\\n",
              "cust       clac_mcls_nm                                            \n",
              "M000034966 스포츠잡화               0        1     0                3   \n",
              "           남성스포츠화              0        1     0                3   \n",
              "           남성스포츠화              0        1     0                3   \n",
              "           여성스포츠화              0        1     0                1   \n",
              "           과채음료                0        1     0                2   \n",
              "\n",
              "                         rebuy_ration  rebuy_cnt  de_diff  total_am  rebuy  \n",
              "cust       clac_mcls_nm                                                     \n",
              "M000034966 스포츠잡화            53.968254         34    365.0     100.0      0  \n",
              "           남성스포츠화           53.968254         34      0.0   39000.0      0  \n",
              "           남성스포츠화           53.968254         34      0.0   39000.0      0  \n",
              "           여성스포츠화           53.968254         34      0.0   62100.0      0  \n",
              "           과채음료             53.968254         34      0.0    1200.0      0  "
            ],
            "text/html": [
              "\n",
              "  <div id=\"df-1ed65fda-483b-4825-b057-6086f4c72027\">\n",
              "    <div class=\"colab-df-container\">\n",
              "      <div>\n",
              "<style scoped>\n",
              "    .dataframe tbody tr th:only-of-type {\n",
              "        vertical-align: middle;\n",
              "    }\n",
              "\n",
              "    .dataframe tbody tr th {\n",
              "        vertical-align: top;\n",
              "    }\n",
              "\n",
              "    .dataframe thead th {\n",
              "        text-align: right;\n",
              "    }\n",
              "</style>\n",
              "<table border=\"1\" class=\"dataframe\">\n",
              "  <thead>\n",
              "    <tr style=\"text-align: right;\">\n",
              "      <th></th>\n",
              "      <th></th>\n",
              "      <th>de_hr_1</th>\n",
              "      <th>buy_am</th>\n",
              "      <th>buy_ct</th>\n",
              "      <th>ma_fem_dv</th>\n",
              "      <th>ages</th>\n",
              "      <th>weat</th>\n",
              "      <th>zon_hlv</th>\n",
              "      <th>weekday</th>\n",
              "      <th>holi</th>\n",
              "      <th>one_times_items</th>\n",
              "      <th>rebuy_ration</th>\n",
              "      <th>rebuy_cnt</th>\n",
              "      <th>de_diff</th>\n",
              "      <th>total_am</th>\n",
              "      <th>rebuy</th>\n",
              "    </tr>\n",
              "    <tr>\n",
              "      <th>cust</th>\n",
              "      <th>clac_mcls_nm</th>\n",
              "      <th></th>\n",
              "      <th></th>\n",
              "      <th></th>\n",
              "      <th></th>\n",
              "      <th></th>\n",
              "      <th></th>\n",
              "      <th></th>\n",
              "      <th></th>\n",
              "      <th></th>\n",
              "      <th></th>\n",
              "      <th></th>\n",
              "      <th></th>\n",
              "      <th></th>\n",
              "      <th></th>\n",
              "      <th></th>\n",
              "    </tr>\n",
              "  </thead>\n",
              "  <tbody>\n",
              "    <tr>\n",
              "      <th rowspan=\"5\" valign=\"top\">M000034966</th>\n",
              "      <th>스포츠잡화</th>\n",
              "      <td>9</td>\n",
              "      <td>100.0</td>\n",
              "      <td>1</td>\n",
              "      <td>1</td>\n",
              "      <td>45</td>\n",
              "      <td>2</td>\n",
              "      <td>0</td>\n",
              "      <td>1</td>\n",
              "      <td>0</td>\n",
              "      <td>3</td>\n",
              "      <td>53.968254</td>\n",
              "      <td>34</td>\n",
              "      <td>365.0</td>\n",
              "      <td>100.0</td>\n",
              "      <td>0</td>\n",
              "    </tr>\n",
              "    <tr>\n",
              "      <th>남성스포츠화</th>\n",
              "      <td>9</td>\n",
              "      <td>59000.0</td>\n",
              "      <td>1</td>\n",
              "      <td>1</td>\n",
              "      <td>45</td>\n",
              "      <td>2</td>\n",
              "      <td>0</td>\n",
              "      <td>1</td>\n",
              "      <td>0</td>\n",
              "      <td>3</td>\n",
              "      <td>53.968254</td>\n",
              "      <td>34</td>\n",
              "      <td>0.0</td>\n",
              "      <td>39000.0</td>\n",
              "      <td>0</td>\n",
              "    </tr>\n",
              "    <tr>\n",
              "      <th>남성스포츠화</th>\n",
              "      <td>9</td>\n",
              "      <td>19000.0</td>\n",
              "      <td>1</td>\n",
              "      <td>1</td>\n",
              "      <td>45</td>\n",
              "      <td>2</td>\n",
              "      <td>0</td>\n",
              "      <td>1</td>\n",
              "      <td>0</td>\n",
              "      <td>3</td>\n",
              "      <td>53.968254</td>\n",
              "      <td>34</td>\n",
              "      <td>0.0</td>\n",
              "      <td>39000.0</td>\n",
              "      <td>0</td>\n",
              "    </tr>\n",
              "    <tr>\n",
              "      <th>여성스포츠화</th>\n",
              "      <td>9</td>\n",
              "      <td>62100.0</td>\n",
              "      <td>1</td>\n",
              "      <td>1</td>\n",
              "      <td>45</td>\n",
              "      <td>2</td>\n",
              "      <td>0</td>\n",
              "      <td>1</td>\n",
              "      <td>0</td>\n",
              "      <td>1</td>\n",
              "      <td>53.968254</td>\n",
              "      <td>34</td>\n",
              "      <td>0.0</td>\n",
              "      <td>62100.0</td>\n",
              "      <td>0</td>\n",
              "    </tr>\n",
              "    <tr>\n",
              "      <th>과채음료</th>\n",
              "      <td>4</td>\n",
              "      <td>1200.0</td>\n",
              "      <td>1</td>\n",
              "      <td>1</td>\n",
              "      <td>45</td>\n",
              "      <td>2</td>\n",
              "      <td>0</td>\n",
              "      <td>1</td>\n",
              "      <td>0</td>\n",
              "      <td>2</td>\n",
              "      <td>53.968254</td>\n",
              "      <td>34</td>\n",
              "      <td>0.0</td>\n",
              "      <td>1200.0</td>\n",
              "      <td>0</td>\n",
              "    </tr>\n",
              "  </tbody>\n",
              "</table>\n",
              "</div>\n",
              "      <button class=\"colab-df-convert\" onclick=\"convertToInteractive('df-1ed65fda-483b-4825-b057-6086f4c72027')\"\n",
              "              title=\"Convert this dataframe to an interactive table.\"\n",
              "              style=\"display:none;\">\n",
              "        \n",
              "  <svg xmlns=\"http://www.w3.org/2000/svg\" height=\"24px\"viewBox=\"0 0 24 24\"\n",
              "       width=\"24px\">\n",
              "    <path d=\"M0 0h24v24H0V0z\" fill=\"none\"/>\n",
              "    <path d=\"M18.56 5.44l.94 2.06.94-2.06 2.06-.94-2.06-.94-.94-2.06-.94 2.06-2.06.94zm-11 1L8.5 8.5l.94-2.06 2.06-.94-2.06-.94L8.5 2.5l-.94 2.06-2.06.94zm10 10l.94 2.06.94-2.06 2.06-.94-2.06-.94-.94-2.06-.94 2.06-2.06.94z\"/><path d=\"M17.41 7.96l-1.37-1.37c-.4-.4-.92-.59-1.43-.59-.52 0-1.04.2-1.43.59L10.3 9.45l-7.72 7.72c-.78.78-.78 2.05 0 2.83L4 21.41c.39.39.9.59 1.41.59.51 0 1.02-.2 1.41-.59l7.78-7.78 2.81-2.81c.8-.78.8-2.07 0-2.86zM5.41 20L4 18.59l7.72-7.72 1.47 1.35L5.41 20z\"/>\n",
              "  </svg>\n",
              "      </button>\n",
              "      \n",
              "  <style>\n",
              "    .colab-df-container {\n",
              "      display:flex;\n",
              "      flex-wrap:wrap;\n",
              "      gap: 12px;\n",
              "    }\n",
              "\n",
              "    .colab-df-convert {\n",
              "      background-color: #E8F0FE;\n",
              "      border: none;\n",
              "      border-radius: 50%;\n",
              "      cursor: pointer;\n",
              "      display: none;\n",
              "      fill: #1967D2;\n",
              "      height: 32px;\n",
              "      padding: 0 0 0 0;\n",
              "      width: 32px;\n",
              "    }\n",
              "\n",
              "    .colab-df-convert:hover {\n",
              "      background-color: #E2EBFA;\n",
              "      box-shadow: 0px 1px 2px rgba(60, 64, 67, 0.3), 0px 1px 3px 1px rgba(60, 64, 67, 0.15);\n",
              "      fill: #174EA6;\n",
              "    }\n",
              "\n",
              "    [theme=dark] .colab-df-convert {\n",
              "      background-color: #3B4455;\n",
              "      fill: #D2E3FC;\n",
              "    }\n",
              "\n",
              "    [theme=dark] .colab-df-convert:hover {\n",
              "      background-color: #434B5C;\n",
              "      box-shadow: 0px 1px 3px 1px rgba(0, 0, 0, 0.15);\n",
              "      filter: drop-shadow(0px 1px 2px rgba(0, 0, 0, 0.3));\n",
              "      fill: #FFFFFF;\n",
              "    }\n",
              "  </style>\n",
              "\n",
              "      <script>\n",
              "        const buttonEl =\n",
              "          document.querySelector('#df-1ed65fda-483b-4825-b057-6086f4c72027 button.colab-df-convert');\n",
              "        buttonEl.style.display =\n",
              "          google.colab.kernel.accessAllowed ? 'block' : 'none';\n",
              "\n",
              "        async function convertToInteractive(key) {\n",
              "          const element = document.querySelector('#df-1ed65fda-483b-4825-b057-6086f4c72027');\n",
              "          const dataTable =\n",
              "            await google.colab.kernel.invokeFunction('convertToInteractive',\n",
              "                                                     [key], {});\n",
              "          if (!dataTable) return;\n",
              "\n",
              "          const docLinkHtml = 'Like what you see? Visit the ' +\n",
              "            '<a target=\"_blank\" href=https://colab.research.google.com/notebooks/data_table.ipynb>data table notebook</a>'\n",
              "            + ' to learn more about interactive tables.';\n",
              "          element.innerHTML = '';\n",
              "          dataTable['output_type'] = 'display_data';\n",
              "          await google.colab.output.renderOutput(dataTable, element);\n",
              "          const docLink = document.createElement('div');\n",
              "          docLink.innerHTML = docLinkHtml;\n",
              "          element.appendChild(docLink);\n",
              "        }\n",
              "      </script>\n",
              "    </div>\n",
              "  </div>\n",
              "  "
            ]
          },
          "metadata": {},
          "execution_count": 24
        }
      ],
      "source": [
        "df.head()"
      ]
    },
    {
      "cell_type": "code",
      "execution_count": null,
      "metadata": {
        "colab": {
          "base_uri": "https://localhost:8080/"
        },
        "id": "X6ElDE08BGjh",
        "outputId": "c0bb5b07-e960-493b-9ba6-7daeec2343ee"
      },
      "outputs": [
        {
          "data": {
            "text/plain": [
              "rebuy              1.000000\n",
              "rebuy_ration       0.322548\n",
              "rebuy_cnt          0.277469\n",
              "de_diff            0.085342\n",
              "weekday            0.054675\n",
              "de_hr_1            0.045358\n",
              "ages               0.039359\n",
              "total_am           0.030657\n",
              "zon_hlv            0.028393\n",
              "holi               0.025971\n",
              "buy_am             0.025635\n",
              "ma_fem_dv          0.019556\n",
              "one_times_items    0.008404\n",
              "weat               0.007940\n",
              "buy_ct             0.007766\n",
              "Name: rebuy, dtype: float64"
            ]
          },
          "execution_count": 20,
          "metadata": {},
          "output_type": "execute_result"
        }
      ],
      "source": [
        "df.corr().loc[\"rebuy\"].abs().sort_values(ascending=False)"
      ]
    },
    {
      "cell_type": "code",
      "source": [
        "df.to_csv('lotto_df.csv') #csv파일로 생성"
      ],
      "metadata": {
        "id": "ud9E2_d7xxM2"
      },
      "execution_count": 35,
      "outputs": []
    },
    {
      "cell_type": "markdown",
      "metadata": {
        "id": "b35waQ1yyxaG"
      },
      "source": [
        "#### 모델링"
      ]
    },
    {
      "cell_type": "code",
      "execution_count": 25,
      "metadata": {
        "id": "kVjapvt_hdEq"
      },
      "outputs": [],
      "source": [
        "X = df.drop(['rebuy'], axis=1)\n",
        "y = df['rebuy']"
      ]
    },
    {
      "cell_type": "code",
      "execution_count": 9,
      "metadata": {
        "id": "XkZiPldGiRKm"
      },
      "outputs": [],
      "source": [
        "from sklearn.model_selection import train_test_split\n",
        "from tqdm import tqdm"
      ]
    },
    {
      "cell_type": "code",
      "execution_count": 10,
      "metadata": {
        "id": "IhedTi4CwPS3"
      },
      "outputs": [],
      "source": [
        "import warnings\n",
        "warnings.filterwarnings('ignore')"
      ]
    },
    {
      "cell_type": "code",
      "execution_count": 26,
      "metadata": {
        "colab": {
          "base_uri": "https://localhost:8080/"
        },
        "id": "fKZQBzB0iS5c",
        "outputId": "c9158579-e33b-4624-ea79-e811621efc0a"
      },
      "outputs": [
        {
          "output_type": "stream",
          "name": "stdout",
          "text": [
            "(2615547, 14)\n",
            "(2615547,)\n",
            "(1743699, 14)\n",
            "(1743699,)\n"
          ]
        }
      ],
      "source": [
        "X_train, X_test, y_train, y_test=train_test_split(X,y,test_size=0.4,random_state=2)\n",
        "\n",
        "print(X_train.shape)\n",
        "print(y_train.shape)\n",
        "print(X_test.shape)\n",
        "print(y_test.shape)"
      ]
    },
    {
      "cell_type": "code",
      "execution_count": null,
      "metadata": {
        "id": "mxvI7dMUrTq3"
      },
      "outputs": [],
      "source": [
        "! pip install catboost\n",
        "! pip install ngboost"
      ]
    },
    {
      "cell_type": "code",
      "execution_count": 13,
      "metadata": {
        "id": "7O5cjliPiT_U"
      },
      "outputs": [],
      "source": [
        "from sklearn.linear_model import LinearRegression\n",
        "import matplotlib.pyplot as plt\n",
        "import numpy as np\n",
        "from sklearn.metrics import accuracy_score\n",
        "from sklearn.linear_model import LogisticRegression\n",
        "from sklearn.model_selection import KFold, cross_val_score, GridSearchCV\n",
        "from sklearn.metrics import mean_squared_error\n",
        "from sklearn.metrics import r2_score\n",
        "from sklearn.ensemble import RandomForestClassifier\n",
        "from sklearn.pipeline import make_pipeline\n",
        "from sklearn.ensemble import RandomForestRegressor, GradientBoostingRegressor\n",
        "from xgboost import XGBRegressor\n",
        "from lightgbm import LGBMRegressor\n",
        "from sklearn.linear_model import ElasticNet, Lasso, LinearRegression\n",
        "from sklearn.preprocessing import RobustScaler\n",
        "import statsmodels.api as sm\n",
        "from catboost import CatBoostRegressor, Pool\n",
        "from sklearn.model_selection import cross_val_score\n",
        "from sklearn.ensemble import ExtraTreesRegressor\n",
        "from sklearn.linear_model import LinearRegression, Lasso, Ridge, ElasticNet\n",
        "from sklearn.ensemble import AdaBoostRegressor\n",
        "from sklearn.ensemble import HistGradientBoostingRegressor\n",
        "from ngboost import NGBRegressor"
      ]
    },
    {
      "cell_type": "code",
      "execution_count": 14,
      "metadata": {
        "id": "hpW17vgkxD6e"
      },
      "outputs": [],
      "source": [
        "from sklearn.metrics import make_scorer\n",
        "\n",
        "def NMAE(true, pred):\n",
        "    mae = np.mean(np.abs(true - pred))\n",
        "    score = mae / np.mean(np.abs(true))\n",
        "    return score\n",
        "\n",
        "nmae_score = make_scorer(NMAE, greater_is_better=False)"
      ]
    },
    {
      "cell_type": "markdown",
      "metadata": {
        "id": "nkGoX0_0xLKW"
      },
      "source": [
        "##### 모델 탐색\n"
      ]
    },
    {
      "cell_type": "markdown",
      "metadata": {
        "id": "jx2bdshXEZAS"
      },
      "source": [
        "- lr"
      ]
    },
    {
      "cell_type": "code",
      "execution_count": 27,
      "metadata": {
        "colab": {
          "base_uri": "https://localhost:8080/"
        },
        "id": "ViSa7BfZEZ7u",
        "outputId": "ab0f7288-b7ac-41da-857d-2f10b251148b"
      },
      "outputs": [
        {
          "output_type": "stream",
          "name": "stdout",
          "text": [
            "0.9908761860939492\n"
          ]
        }
      ],
      "source": [
        "lr=LinearRegression()\n",
        "lr.fit(X_train,y_train)\n",
        "y_lr=lr.predict(X_test)\n",
        "score_lr=NMAE(y_test, y_lr)\n",
        "print(score_lr)"
      ]
    },
    {
      "cell_type": "markdown",
      "metadata": {
        "id": "OqYbkHkpEqNC"
      },
      "source": [
        "- rg"
      ]
    },
    {
      "cell_type": "code",
      "execution_count": 28,
      "metadata": {
        "colab": {
          "base_uri": "https://localhost:8080/"
        },
        "id": "gaqkWlJkEhSX",
        "outputId": "6d379239-669c-4062-f857-814245ace55e"
      },
      "outputs": [
        {
          "output_type": "stream",
          "name": "stdout",
          "text": [
            "0.9908761960219227\n"
          ]
        }
      ],
      "source": [
        "rg=Ridge()\n",
        "rg.fit(X_train,y_train)\n",
        "y_rg=rg.predict(X_test)\n",
        "score_rg=NMAE(y_test, y_rg)\n",
        "print(score_rg)"
      ]
    },
    {
      "cell_type": "markdown",
      "metadata": {
        "id": "n7wJzjEcDlgh"
      },
      "source": [
        "- xgb"
      ]
    },
    {
      "cell_type": "code",
      "execution_count": 29,
      "metadata": {
        "colab": {
          "base_uri": "https://localhost:8080/"
        },
        "id": "lajEcir07Or4",
        "outputId": "7a0718e5-0f5b-4df7-d919-fcb161b8e605"
      },
      "outputs": [
        {
          "output_type": "stream",
          "name": "stdout",
          "text": [
            "[02:48:13] WARNING: /workspace/src/objective/regression_obj.cu:152: reg:linear is now deprecated in favor of reg:squarederror.\n",
            "1.0316192485002538\n"
          ]
        }
      ],
      "source": [
        "xgb=XGBRegressor(random_state = 42, learning_rate=0.05, n_estimators=20)\n",
        "xgb.fit(X_train,y_train)\n",
        "y_xgb=xgb.predict(X_test)\n",
        "score_xgb=NMAE(y_test, y_xgb)\n",
        "print(score_xgb)"
      ]
    },
    {
      "cell_type": "markdown",
      "metadata": {
        "id": "ADA6_IAOELlr"
      },
      "source": [
        "- gbr"
      ]
    },
    {
      "cell_type": "code",
      "execution_count": 30,
      "metadata": {
        "colab": {
          "base_uri": "https://localhost:8080/"
        },
        "id": "HgZnRyK-D6eM",
        "outputId": "fca60320-5e3e-46a1-e387-dcc3e48b1c1c"
      },
      "outputs": [
        {
          "output_type": "stream",
          "name": "stdout",
          "text": [
            "0.9800517449268821\n"
          ]
        }
      ],
      "source": [
        "gbr=GradientBoostingRegressor(random_state = 42, max_depth = 4, learning_rate=0.01, loss='huber', n_estimators=50)\n",
        "gbr.fit(X_train,y_train)\n",
        "y_gbr=gbr.predict(X_test)\n",
        "score_gbr=NMAE(y_test, y_gbr)\n",
        "print(score_gbr)"
      ]
    },
    {
      "cell_type": "markdown",
      "metadata": {
        "id": "lKKgSicNEMmF"
      },
      "source": [
        "- cat"
      ]
    },
    {
      "cell_type": "code",
      "execution_count": 31,
      "metadata": {
        "colab": {
          "base_uri": "https://localhost:8080/"
        },
        "id": "N4e2StS6ENO1",
        "outputId": "c48f5205-e22e-45b2-d087-f943829b3165"
      },
      "outputs": [
        {
          "output_type": "stream",
          "name": "stdout",
          "text": [
            "0.81047300041396\n"
          ]
        }
      ],
      "source": [
        "cat_reg=CatBoostRegressor(depth = 4, random_state = 42, loss_function = 'MAE', n_estimators = 100, learning_rate = 0.03, verbose = 0)\n",
        "cat_reg.fit(X_train,y_train)\n",
        "y_train_pred = cat_reg.predict(X_train)\n",
        "y_test_pred = cat_reg.predict(X_test)\n",
        "score_cat=NMAE(y_test, y_test_pred)\n",
        "print(score_cat)"
      ]
    },
    {
      "cell_type": "code",
      "source": [
        "cat_reg=CatBoostRegressor(depth = 4, random_state = 42, loss_function = 'MAE', n_estimators = 100, learning_rate = 0.03, verbose = 0)\n",
        "cat_reg.fit(X_train,y_train)\n",
        "y_train_pred = cat_reg.predict(X_train)\n",
        "y_test_pred = cat_reg.predict(X_test)\n",
        "score_cat=NMAE(y_test, y_test_pred)\n",
        "print(score_cat)"
      ],
      "metadata": {
        "colab": {
          "base_uri": "https://localhost:8080/"
        },
        "id": "3CJidfH1yiYU",
        "outputId": "64dd4643-9fca-42d4-824e-2b57fe024459"
      },
      "execution_count": 15,
      "outputs": [
        {
          "output_type": "stream",
          "name": "stdout",
          "text": [
            "0.8124173987502696\n"
          ]
        }
      ]
    },
    {
      "cell_type": "code",
      "execution_count": null,
      "metadata": {
        "colab": {
          "base_uri": "https://localhost:8080/"
        },
        "id": "sjY2ae4eFLr_",
        "outputId": "06ed97b4-cca8-459f-dd4f-5c0d1d68f0ef"
      },
      "outputs": [
        {
          "name": "stdout",
          "output_type": "stream",
          "text": [
            "0.8743559781335112\n"
          ]
        }
      ],
      "source": [
        "cat_reg=CatBoostRegressor(depth = 4, random_state = 42, loss_function = 'MAE', n_estimators = 100, learning_rate = 0.01, verbose = 0)\n",
        "cat_reg.fit(X_train,y_train)\n",
        "y_train_pred = cat_reg.predict(X_train)\n",
        "y_test_pred = cat_reg.predict(X_test)\n",
        "score_cat=NMAE(y_test, y_test_pred)\n",
        "print(score_cat)"
      ]
    },
    {
      "cell_type": "code",
      "execution_count": null,
      "metadata": {
        "id": "15B5IN9PCHcC"
      },
      "outputs": [],
      "source": [
        "cat_reg=CatBoostRegressor(depth = 16, random_state = 42, loss_function = 'MAE', n_estimators = 100, learning_rate = 0.3, verbose = 0)\n",
        "cat_reg.fit(X_train,y_train)\n",
        "y_train_pred = cat_reg.predict(X_train)\n",
        "y_test_pred = cat_reg.predict(X_test)\n",
        "score_cat=NMAE(y_test, y_test_pred)\n",
        "print(score_cat)"
      ]
    },
    {
      "cell_type": "markdown",
      "metadata": {
        "id": "ITrTXgcr0sLA"
      },
      "source": [
        "- lgb"
      ]
    },
    {
      "cell_type": "code",
      "execution_count": 34,
      "metadata": {
        "colab": {
          "base_uri": "https://localhost:8080/"
        },
        "id": "kxJ68o5n0vjS",
        "outputId": "d825ee85-f82d-4e63-e638-eeb0f1ed9849"
      },
      "outputs": [
        {
          "output_type": "stream",
          "name": "stdout",
          "text": [
            "1.050470415863544\n"
          ]
        }
      ],
      "source": [
        "lgb=LGBMRegressor(random_state = 42, learning_rate=0.01, n_estimators=50)\n",
        "lgb.fit(X_train,y_train)\n",
        "y_lgb=lgb.predict(X_test)\n",
        "score_lgb=NMAE(y_test, y_lgb)\n",
        "print(score_lgb)"
      ]
    },
    {
      "cell_type": "markdown",
      "metadata": {
        "id": "knuD2RE-08b_"
      },
      "source": [
        "- ngb"
      ]
    },
    {
      "cell_type": "code",
      "execution_count": null,
      "metadata": {
        "id": "2tFDvoSd075X"
      },
      "outputs": [],
      "source": [
        "ngb = NGBRegressor(random_state = 42, n_estimators = 50, verbose = 0, learning_rate = 0.01)\n",
        "ngb.fit(X_train,y_train)\n",
        "y_ngb = ngb.predict(X_test)\n",
        "score_ngb=NMAE(y_test, y_ngb)\n",
        "print(score_ngb)"
      ]
    },
    {
      "cell_type": "markdown",
      "metadata": {
        "id": "G-MdNnVP1IBr"
      },
      "source": [
        "- ada"
      ]
    },
    {
      "cell_type": "code",
      "execution_count": 33,
      "metadata": {
        "id": "DKQxEdgf1LPy",
        "colab": {
          "base_uri": "https://localhost:8080/"
        },
        "outputId": "fc1a2bb8-8124-4d25-d85e-6fc3264288df"
      },
      "outputs": [
        {
          "output_type": "stream",
          "name": "stdout",
          "text": [
            "0.9838832141340442\n"
          ]
        }
      ],
      "source": [
        "ada=AdaBoostRegressor(random_state = 42, learning_rate=0.03, n_estimators=25)\n",
        "ada.fit(X_train,y_train)\n",
        "y_ada = ada.predict(X_test)\n",
        "score_ada=NMAE(y_test, y_ada)\n",
        "print(score_ada)"
      ]
    },
    {
      "cell_type": "markdown",
      "metadata": {
        "id": "jM1SnAK_1Qup"
      },
      "source": [
        "- hgb"
      ]
    },
    {
      "cell_type": "code",
      "execution_count": 32,
      "metadata": {
        "id": "4VO1-_w61US7",
        "colab": {
          "base_uri": "https://localhost:8080/"
        },
        "outputId": "ac4eb3f9-b1e4-4529-c6d3-ffed26c9c82d"
      },
      "outputs": [
        {
          "output_type": "stream",
          "name": "stdout",
          "text": [
            "1.009584872274517\n"
          ]
        }
      ],
      "source": [
        "hgb=HistGradientBoostingRegressor(random_state=42, scoring=nmae_score, learning_rate=0.01)\n",
        "hgb.fit(X_train, y_train)\n",
        "y_hgb = hgb.predict(X_test)\n",
        "score_hgb = NMAE(y_test, y_hgb)\n",
        "print(score_hgb)"
      ]
    },
    {
      "cell_type": "code",
      "execution_count": 36,
      "metadata": {
        "colab": {
          "base_uri": "https://localhost:8080/"
        },
        "id": "MygzpBYm7yvL",
        "outputId": "20a1b78d-1e39-4ca4-9036-42bebd55c5b5"
      },
      "outputs": [
        {
          "output_type": "stream",
          "name": "stdout",
          "text": [
            "LinearRegression:  0.9908761860939492\n",
            "Ridge:  0.9908761960219227\n",
            "XGBRegressor:  1.0316192485002538\n",
            "GradientBoostingRegressor:  0.9800517449268821\n",
            "CatBoostRegressor:  0.81047300041396\n",
            "LGBMRegresso:  1.050470415863544\n",
            "AdaBoostRegressor:  0.9838832141340442\n",
            "HistGradientBoostingRegressor:  1.009584872274517\n"
          ]
        }
      ],
      "source": [
        "print(\"LinearRegression: \" , score_lr)\n",
        "print(\"Ridge: \", score_rg)\n",
        "print(\"XGBRegressor: \", score_xgb)\n",
        "print(\"GradientBoostingRegressor: \", score_gbr)\n",
        "print(\"CatBoostRegressor: \", score_cat)\n",
        "print(\"LGBMRegresso: \", score_lgb)\n",
        "# print(\"NGBMRegresso: \", score_ngb)\n",
        "print(\"AdaBoostRegressor: \", score_ada)\n",
        "print(\"HistGradientBoostingRegressor: \", score_hgb)"
      ]
    },
    {
      "cell_type": "markdown",
      "source": [
        "LinearRegression + Ridge + GradientBoostingRegressor + CatBoostRegressor"
      ],
      "metadata": {
        "id": "E6A7EfCZ6mlq"
      }
    },
    {
      "cell_type": "markdown",
      "metadata": {
        "id": "LeKfTzHy1j01"
      },
      "source": [
        "#### catboost "
      ]
    },
    {
      "cell_type": "code",
      "execution_count": 16,
      "metadata": {
        "colab": {
          "base_uri": "https://localhost:8080/"
        },
        "id": "GKxZapnjmHhj",
        "outputId": "c38142a4-e9e6-4bf6-aa18-599911c95079"
      },
      "outputs": [
        {
          "output_type": "stream",
          "name": "stdout",
          "text": [
            "[0, 0, 0, 0, 0, 1, 1, 1, 1, 0]\n",
            "[1, 1, 1, 1, 1, 0, 1, 0, 1, 0]\n"
          ]
        }
      ],
      "source": [
        "y_test_preds = [1 if x >= 0.5 else 0 for x in y_test_pred]\n",
        "print(y_test_preds[:10])\n",
        "\n",
        "y_train_preds = [1 if x >= 0.5 else 0 for x in y_train_pred]\n",
        "print(y_train_preds[:10])"
      ]
    },
    {
      "cell_type": "code",
      "execution_count": 17,
      "metadata": {
        "colab": {
          "base_uri": "https://localhost:8080/"
        },
        "id": "lLAhSmBxjC6P",
        "outputId": "0b16cef7-1b30-4dfc-9bd7-d18c1bee906b"
      },
      "outputs": [
        {
          "output_type": "stream",
          "name": "stdout",
          "text": [
            "훈련 MSE: 0.287, 테스트 MSE: 0.287\n",
            "훈련 R^2: -0.164, 테스트 R^2: -0.163\n",
            "훈련 정확도: 0.648, 테스트 정확도: 0.648\n"
          ]
        }
      ],
      "source": [
        "print('훈련 MSE: %.3f, 테스트 MSE: %.3f' % (\n",
        "      mean_squared_error(y_train, y_train_pred),\n",
        "      mean_squared_error(y_test, y_test_pred)))\n",
        "print('훈련 R^2: %.3f, 테스트 R^2: %.3f' % (\n",
        "      r2_score(y_train, y_train_pred),\n",
        "      r2_score(y_test, y_test_pred)))\n",
        "\n",
        "print('훈련 정확도: %.3f, 테스트 정확도: %.3f' % (\n",
        "     accuracy_score(y_train, y_train_preds),\n",
        "      accuracy_score(y_test, y_test_preds)))"
      ]
    },
    {
      "cell_type": "code",
      "execution_count": null,
      "metadata": {
        "id": "M_GiAWvi-8Dj"
      },
      "outputs": [],
      "source": [
        "! pip install optuna"
      ]
    },
    {
      "cell_type": "code",
      "execution_count": null,
      "metadata": {
        "id": "AwA5e-Mz84vI"
      },
      "outputs": [],
      "source": [
        "import optuna\n",
        "from optuna.samplers import TPESampler\n",
        "from sklearn.metrics import log_loss"
      ]
    },
    {
      "cell_type": "code",
      "execution_count": null,
      "metadata": {
        "id": "ILYKOzD98aoi"
      },
      "outputs": [],
      "source": [
        "def objective(trial):\n",
        "  param = {\n",
        "      \"random_state\":42,\n",
        "      'learning_rate' : trial.suggest_loguniform('learning_rate', 0.01, 0.3),\n",
        "      'bagging_temperature' :trial.suggest_loguniform('bagging_temperature', 0.01, 100.00),\n",
        "      \"n_estimators\":trial.suggest_int(\"n_estimators\", 1000, 10000),\n",
        "      \"max_depth\":trial.suggest_int(\"max_depth\", 4, 16),\n",
        "      'random_strength' :trial.suggest_int('random_strength', 0, 100),\n",
        "      \"colsample_bylevel\":trial.suggest_float(\"colsample_bylevel\", 0.4, 1.0),\n",
        "      \"l2_leaf_reg\":trial.suggest_float(\"l2_leaf_reg\",1e-8,3e-5),\n",
        "      \"min_child_samples\": trial.suggest_int(\"min_child_samples\", 5, 100),\n",
        "      \"max_bin\": trial.suggest_int(\"max_bin\", 200, 500),\n",
        "      'od_type': trial.suggest_categorical('od_type', ['IncToDec', 'Iter']),\n",
        "  }\n",
        "\n",
        "  X_train, X_valid, y_train, y_valid = train_test_split(X,y,test_size=0.4)\n",
        "  \n",
        "  cat_features =[0,1,2,5,6,7,8,15,18]\n",
        "  cat = CatBoostRegressor(**param)\n",
        "  cat.fit(X_train, y_train,\n",
        "          eval_set=[(X_train, y_train), (X_valid,y_valid)],\n",
        "          early_stopping_rounds=35,\n",
        "          verbose=100)\n",
        "  cat_pred = cat.predict_proba(X_valid)\n",
        "  log_score = log_loss(y_valid, cat_pred)\n",
        "\n",
        "  return log_score"
      ]
    },
    {
      "cell_type": "code",
      "execution_count": null,
      "metadata": {
        "colab": {
          "background_save": true
        },
        "id": "GMMOVp5D8t7I"
      },
      "outputs": [],
      "source": [
        "sampler = TPESampler(seed=42)\n",
        "study = optuna.create_study(\n",
        "    study_name = 'cat_parameter_opt',\n",
        "    direction = 'minimize',\n",
        "    sampler = sampler,\n",
        ")\n",
        "study.optimize(objective, n_trials=10)\n",
        "print(\"Best Score:\",study.best_value)\n",
        "print(\"Best trial\",study.best_trial.params)"
      ]
    },
    {
      "cell_type": "markdown",
      "metadata": {
        "id": "UI2UtxVtEkvd"
      },
      "source": [
        "https://www.dacon.io/codeshare/2750"
      ]
    },
    {
      "cell_type": "markdown",
      "metadata": {
        "id": "L4lfsxMkxIx1"
      },
      "source": [
        "#### 앙상블"
      ]
    },
    {
      "cell_type": "code",
      "execution_count": 38,
      "metadata": {
        "id": "7ym1AZDerhx1"
      },
      "outputs": [],
      "source": [
        "kf = KFold(n_splits = 10, random_state = 42, shuffle = True)"
      ]
    },
    {
      "cell_type": "code",
      "execution_count": 39,
      "metadata": {
        "id": "BjYz13Hgrskk"
      },
      "outputs": [],
      "source": [
        "target = df['rebuy']"
      ]
    },
    {
      "cell_type": "code",
      "execution_count": null,
      "metadata": {
        "colab": {
          "base_uri": "https://localhost:8080/"
        },
        "id": "-IVSySbYrjHf",
        "outputId": "dc30b1ea-3e3c-42df-d08d-9e8d7f53405f"
      },
      "outputs": [
        {
          "output_type": "stream",
          "name": "stdout",
          "text": [
            "0:\tlearn: 0.4388562\ttest: 0.7556179\tbest: 0.7556179 (0)\ttotal: 1.3s\tremaining: 2m 9s\n"
          ]
        }
      ],
      "source": [
        "# cat\n",
        "cat_pred = np.zeros(target.shape[0])\n",
        "cat_val = []\n",
        "for n, (tr_idx, val_idx) in enumerate(kf.split(X, y)) :\n",
        "    tr_x, tr_y = X.iloc[tr_idx], y.iloc[tr_idx]\n",
        "    val_x, val_y = X.iloc[val_idx], np.expm1(y.iloc[val_idx])\n",
        "    \n",
        "    tr_data = Pool(data = tr_x, label = tr_y)\n",
        "    val_data = Pool(data = val_x, label = val_y)\n",
        "    \n",
        "    cat = CatBoostRegressor(depth = 4, random_state = 42, loss_function = 'MAE', n_estimators = 100, learning_rate = 0.03, verbose = 0)\n",
        "    cat.fit(tr_data, eval_set = val_data, early_stopping_rounds = 750, verbose = 1000)\n",
        "    \n",
        "    val_pred = np.expm1(cat.predict(val_x))\n",
        "    val_nmae = NMAE(val_y, val_pred)\n",
        "    cat_val.append(val_nmae)\n",
        "    print(f'{n + 1} FOLD NMAE = {val_nmae}')\n",
        "    \n",
        "    target_data = Pool(data = target, label = None)\n",
        "    fold_pred = cat.predict(target) / 10\n",
        "    cat_pred += fold_pred\n",
        "print(f'10FOLD Mean of NMAE = {np.mean(cat_val)}')"
      ]
    },
    {
      "cell_type": "code",
      "execution_count": null,
      "metadata": {
        "colab": {
          "base_uri": "https://localhost:8080/"
        },
        "id": "u94Vxc9prt2w",
        "outputId": "bb9941a2-cdb5-45b5-ebc2-4e059f3d4e7f"
      },
      "outputs": [
        {
          "name": "stdout",
          "output_type": "stream",
          "text": [
            "0.7464946690008415\n"
          ]
        }
      ],
      "source": [
        "print(np.mean(cat_val))"
      ]
    },
    {
      "cell_type": "markdown",
      "metadata": {
        "id": "ycdpObNyxGLX"
      },
      "source": [
        "#### 기본 로지스틱 회귀"
      ]
    },
    {
      "cell_type": "code",
      "execution_count": null,
      "metadata": {
        "colab": {
          "base_uri": "https://localhost:8080/"
        },
        "id": "Z3_ScRkGq7Bh",
        "outputId": "4d13280b-e080-4158-955a-d7f3fdc70921"
      },
      "outputs": [
        {
          "name": "stdout",
          "output_type": "stream",
          "text": [
            "훈련 MSE: 0.354, 테스트 MSE: 0.354\n",
            "훈련 R^2: -0.432, 테스트 R^2: -0.433\n",
            "훈련 정확도: 0.646, 테스트 정확도: 0.646\n"
          ]
        }
      ],
      "source": [
        "LR = LogisticRegression(C=1e2, multi_class='ovr', random_state=1, max_iter=200)\n",
        "\n",
        "LR.fit(X_train, y_train)\n",
        "y_train_pred = LR.predict(X_train)\n",
        "y_test_pred = LR.predict(X_test)\n",
        "\n",
        "print('훈련 MSE: %.3f, 테스트 MSE: %.3f' % (\n",
        "      mean_squared_error(y_train, y_train_pred),\n",
        "      mean_squared_error(y_test, y_test_pred)))\n",
        "print('훈련 R^2: %.3f, 테스트 R^2: %.3f' % (\n",
        "      r2_score(y_train, y_train_pred),\n",
        "      r2_score(y_test, y_test_pred)))\n",
        "\n",
        "print('훈련 정확도: %.3f, 테스트 정확도: %.3f' % (\n",
        "     accuracy_score(y_train, y_train_pred),\n",
        "      accuracy_score(y_test, y_test_pred)))"
      ]
    }
  ],
  "metadata": {
    "colab": {
      "collapsed_sections": [
        "I0XaAWAQxWu-",
        "OuoMB5V4GnJm",
        "mLzT49oh_8x2",
        "Jxl57RUFvmm0",
        "AutwBxFYTXnk",
        "Csc2SudbvoBz",
        "xOIjH1PAxlBu",
        "A2I4VBhyyq_O"
      ],
      "name": "롯데 모델링 총정리",
      "provenance": []
    },
    "kernelspec": {
      "display_name": "Python 3",
      "name": "python3"
    },
    "language_info": {
      "name": "python"
    }
  },
  "nbformat": 4,
  "nbformat_minor": 0
}