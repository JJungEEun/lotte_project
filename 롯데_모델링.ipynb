{
  "nbformat": 4,
  "nbformat_minor": 0,
  "metadata": {
    "colab": {
      "name": "롯데 모델링.ipynb",
      "provenance": [],
      "collapsed_sections": []
    },
    "kernelspec": {
      "name": "python3",
      "display_name": "Python 3"
    },
    "language_info": {
      "name": "python"
    },
    "accelerator": "GPU",
    "gpuClass": "standard"
  },
  "cells": [
    {
      "cell_type": "code",
      "source": [
        "from google.colab import drive\n",
        "drive.mount('/content/drive')"
      ],
      "metadata": {
        "colab": {
          "base_uri": "https://localhost:8080/"
        },
        "id": "fNHx6xN7O1KZ",
        "outputId": "25b0e860-8eb1-4e50-efdd-4f3acef8028d"
      },
      "execution_count": 1,
      "outputs": [
        {
          "output_type": "stream",
          "name": "stdout",
          "text": [
            "Drive already mounted at /content/drive; to attempt to forcibly remount, call drive.mount(\"/content/drive\", force_remount=True).\n"
          ]
        }
      ]
    },
    {
      "cell_type": "code",
      "source": [
        "import io\n",
        "import pandas as pd\n",
        "import matplotlib.pyplot as plt\n",
        "import numpy as np"
      ],
      "metadata": {
        "id": "E1f9ji1VTCyQ"
      },
      "execution_count": 2,
      "outputs": []
    },
    {
      "cell_type": "code",
      "source": [
        "df = pd.read_csv(\"/content/drive/MyDrive/롯데 공모전/dataset/lotto_df.csv\") "
      ],
      "metadata": {
        "id": "K2F7k2FLTBS2"
      },
      "execution_count": 3,
      "outputs": []
    },
    {
      "cell_type": "code",
      "source": [
        "df = df.set_index(['cust', 'br_c'])\n",
        "df.head()"
      ],
      "metadata": {
        "id": "3ICWOOrQUUpV",
        "colab": {
          "base_uri": "https://localhost:8080/",
          "height": 267
        },
        "outputId": "5399b132-9abd-4580-e111-a7df61c37f21"
      },
      "execution_count": 4,
      "outputs": [
        {
          "output_type": "execute_result",
          "data": {
            "text/plain": [
              "                    Unnamed: 0    index        rct_no  chnl_dv cop_c    pd_c  \\\n",
              "cust       br_c                                                                \n",
              "M000034966 A043676     3094539   728698  A04003723283        1   A04  PD1161   \n",
              "           A043676     3094540  2024520  A04003723283        1   A04  PD1330   \n",
              "           A020116     3094565  2749972  A02357415245        1   A02  PD0116   \n",
              "           A044861     3094547  1856107  A04081271994        1   A04  PD1165   \n",
              "           A020116     3094536   786013  A02358961675        1   A02  PD0218   \n",
              "\n",
              "                         de_dt  de_hr   buy_am  buy_ct  ... day month  \\\n",
              "cust       br_c                                         ...             \n",
              "M000034966 A043676  2021-01-16     21   1200.0       1  ...  16     1   \n",
              "           A043676  2021-01-16     21  10800.0       4  ...  16     1   \n",
              "           A020116  2021-03-28     21   6960.0       2  ...  28     3   \n",
              "           A044861  2021-08-29     15   1400.0       1  ...  29     8   \n",
              "           A020116  2021-09-19     16   3980.0       1  ...  19     9   \n",
              "\n",
              "                   total_items one_times_items rct_cnt rebuy  rebuy_cnt  \\\n",
              "cust       br_c                                                           \n",
              "M000034966 A043676          45               2       5     0         19   \n",
              "           A043676          45               2       5     1         19   \n",
              "           A020116          45               1       5     1         19   \n",
              "           A044861          45               1       5     1         19   \n",
              "           A020116          45              24       5     1         19   \n",
              "\n",
              "                    rebuy_ration  total_am  dt_diff  \n",
              "cust       br_c                                      \n",
              "M000034966 A043676     42.222222    1200.0      NaN  \n",
              "           A043676     42.222222   43200.0      0.0  \n",
              "           A020116     42.222222   13920.0     71.0  \n",
              "           A044861     42.222222    1400.0    154.0  \n",
              "           A020116     42.222222    3980.0     21.0  \n",
              "\n",
              "[5 rows x 26 columns]"
            ],
            "text/html": [
              "\n",
              "  <div id=\"df-380ca477-13c9-45c6-b792-e1b7d68706d5\">\n",
              "    <div class=\"colab-df-container\">\n",
              "      <div>\n",
              "<style scoped>\n",
              "    .dataframe tbody tr th:only-of-type {\n",
              "        vertical-align: middle;\n",
              "    }\n",
              "\n",
              "    .dataframe tbody tr th {\n",
              "        vertical-align: top;\n",
              "    }\n",
              "\n",
              "    .dataframe thead th {\n",
              "        text-align: right;\n",
              "    }\n",
              "</style>\n",
              "<table border=\"1\" class=\"dataframe\">\n",
              "  <thead>\n",
              "    <tr style=\"text-align: right;\">\n",
              "      <th></th>\n",
              "      <th></th>\n",
              "      <th>Unnamed: 0</th>\n",
              "      <th>index</th>\n",
              "      <th>rct_no</th>\n",
              "      <th>chnl_dv</th>\n",
              "      <th>cop_c</th>\n",
              "      <th>pd_c</th>\n",
              "      <th>de_dt</th>\n",
              "      <th>de_hr</th>\n",
              "      <th>buy_am</th>\n",
              "      <th>buy_ct</th>\n",
              "      <th>...</th>\n",
              "      <th>day</th>\n",
              "      <th>month</th>\n",
              "      <th>total_items</th>\n",
              "      <th>one_times_items</th>\n",
              "      <th>rct_cnt</th>\n",
              "      <th>rebuy</th>\n",
              "      <th>rebuy_cnt</th>\n",
              "      <th>rebuy_ration</th>\n",
              "      <th>total_am</th>\n",
              "      <th>dt_diff</th>\n",
              "    </tr>\n",
              "    <tr>\n",
              "      <th>cust</th>\n",
              "      <th>br_c</th>\n",
              "      <th></th>\n",
              "      <th></th>\n",
              "      <th></th>\n",
              "      <th></th>\n",
              "      <th></th>\n",
              "      <th></th>\n",
              "      <th></th>\n",
              "      <th></th>\n",
              "      <th></th>\n",
              "      <th></th>\n",
              "      <th></th>\n",
              "      <th></th>\n",
              "      <th></th>\n",
              "      <th></th>\n",
              "      <th></th>\n",
              "      <th></th>\n",
              "      <th></th>\n",
              "      <th></th>\n",
              "      <th></th>\n",
              "      <th></th>\n",
              "      <th></th>\n",
              "    </tr>\n",
              "  </thead>\n",
              "  <tbody>\n",
              "    <tr>\n",
              "      <th rowspan=\"5\" valign=\"top\">M000034966</th>\n",
              "      <th>A043676</th>\n",
              "      <td>3094539</td>\n",
              "      <td>728698</td>\n",
              "      <td>A04003723283</td>\n",
              "      <td>1</td>\n",
              "      <td>A04</td>\n",
              "      <td>PD1161</td>\n",
              "      <td>2021-01-16</td>\n",
              "      <td>21</td>\n",
              "      <td>1200.0</td>\n",
              "      <td>1</td>\n",
              "      <td>...</td>\n",
              "      <td>16</td>\n",
              "      <td>1</td>\n",
              "      <td>45</td>\n",
              "      <td>2</td>\n",
              "      <td>5</td>\n",
              "      <td>0</td>\n",
              "      <td>19</td>\n",
              "      <td>42.222222</td>\n",
              "      <td>1200.0</td>\n",
              "      <td>NaN</td>\n",
              "    </tr>\n",
              "    <tr>\n",
              "      <th>A043676</th>\n",
              "      <td>3094540</td>\n",
              "      <td>2024520</td>\n",
              "      <td>A04003723283</td>\n",
              "      <td>1</td>\n",
              "      <td>A04</td>\n",
              "      <td>PD1330</td>\n",
              "      <td>2021-01-16</td>\n",
              "      <td>21</td>\n",
              "      <td>10800.0</td>\n",
              "      <td>4</td>\n",
              "      <td>...</td>\n",
              "      <td>16</td>\n",
              "      <td>1</td>\n",
              "      <td>45</td>\n",
              "      <td>2</td>\n",
              "      <td>5</td>\n",
              "      <td>1</td>\n",
              "      <td>19</td>\n",
              "      <td>42.222222</td>\n",
              "      <td>43200.0</td>\n",
              "      <td>0.0</td>\n",
              "    </tr>\n",
              "    <tr>\n",
              "      <th>A020116</th>\n",
              "      <td>3094565</td>\n",
              "      <td>2749972</td>\n",
              "      <td>A02357415245</td>\n",
              "      <td>1</td>\n",
              "      <td>A02</td>\n",
              "      <td>PD0116</td>\n",
              "      <td>2021-03-28</td>\n",
              "      <td>21</td>\n",
              "      <td>6960.0</td>\n",
              "      <td>2</td>\n",
              "      <td>...</td>\n",
              "      <td>28</td>\n",
              "      <td>3</td>\n",
              "      <td>45</td>\n",
              "      <td>1</td>\n",
              "      <td>5</td>\n",
              "      <td>1</td>\n",
              "      <td>19</td>\n",
              "      <td>42.222222</td>\n",
              "      <td>13920.0</td>\n",
              "      <td>71.0</td>\n",
              "    </tr>\n",
              "    <tr>\n",
              "      <th>A044861</th>\n",
              "      <td>3094547</td>\n",
              "      <td>1856107</td>\n",
              "      <td>A04081271994</td>\n",
              "      <td>1</td>\n",
              "      <td>A04</td>\n",
              "      <td>PD1165</td>\n",
              "      <td>2021-08-29</td>\n",
              "      <td>15</td>\n",
              "      <td>1400.0</td>\n",
              "      <td>1</td>\n",
              "      <td>...</td>\n",
              "      <td>29</td>\n",
              "      <td>8</td>\n",
              "      <td>45</td>\n",
              "      <td>1</td>\n",
              "      <td>5</td>\n",
              "      <td>1</td>\n",
              "      <td>19</td>\n",
              "      <td>42.222222</td>\n",
              "      <td>1400.0</td>\n",
              "      <td>154.0</td>\n",
              "    </tr>\n",
              "    <tr>\n",
              "      <th>A020116</th>\n",
              "      <td>3094536</td>\n",
              "      <td>786013</td>\n",
              "      <td>A02358961675</td>\n",
              "      <td>1</td>\n",
              "      <td>A02</td>\n",
              "      <td>PD0218</td>\n",
              "      <td>2021-09-19</td>\n",
              "      <td>16</td>\n",
              "      <td>3980.0</td>\n",
              "      <td>1</td>\n",
              "      <td>...</td>\n",
              "      <td>19</td>\n",
              "      <td>9</td>\n",
              "      <td>45</td>\n",
              "      <td>24</td>\n",
              "      <td>5</td>\n",
              "      <td>1</td>\n",
              "      <td>19</td>\n",
              "      <td>42.222222</td>\n",
              "      <td>3980.0</td>\n",
              "      <td>21.0</td>\n",
              "    </tr>\n",
              "  </tbody>\n",
              "</table>\n",
              "<p>5 rows × 26 columns</p>\n",
              "</div>\n",
              "      <button class=\"colab-df-convert\" onclick=\"convertToInteractive('df-380ca477-13c9-45c6-b792-e1b7d68706d5')\"\n",
              "              title=\"Convert this dataframe to an interactive table.\"\n",
              "              style=\"display:none;\">\n",
              "        \n",
              "  <svg xmlns=\"http://www.w3.org/2000/svg\" height=\"24px\"viewBox=\"0 0 24 24\"\n",
              "       width=\"24px\">\n",
              "    <path d=\"M0 0h24v24H0V0z\" fill=\"none\"/>\n",
              "    <path d=\"M18.56 5.44l.94 2.06.94-2.06 2.06-.94-2.06-.94-.94-2.06-.94 2.06-2.06.94zm-11 1L8.5 8.5l.94-2.06 2.06-.94-2.06-.94L8.5 2.5l-.94 2.06-2.06.94zm10 10l.94 2.06.94-2.06 2.06-.94-2.06-.94-.94-2.06-.94 2.06-2.06.94z\"/><path d=\"M17.41 7.96l-1.37-1.37c-.4-.4-.92-.59-1.43-.59-.52 0-1.04.2-1.43.59L10.3 9.45l-7.72 7.72c-.78.78-.78 2.05 0 2.83L4 21.41c.39.39.9.59 1.41.59.51 0 1.02-.2 1.41-.59l7.78-7.78 2.81-2.81c.8-.78.8-2.07 0-2.86zM5.41 20L4 18.59l7.72-7.72 1.47 1.35L5.41 20z\"/>\n",
              "  </svg>\n",
              "      </button>\n",
              "      \n",
              "  <style>\n",
              "    .colab-df-container {\n",
              "      display:flex;\n",
              "      flex-wrap:wrap;\n",
              "      gap: 12px;\n",
              "    }\n",
              "\n",
              "    .colab-df-convert {\n",
              "      background-color: #E8F0FE;\n",
              "      border: none;\n",
              "      border-radius: 50%;\n",
              "      cursor: pointer;\n",
              "      display: none;\n",
              "      fill: #1967D2;\n",
              "      height: 32px;\n",
              "      padding: 0 0 0 0;\n",
              "      width: 32px;\n",
              "    }\n",
              "\n",
              "    .colab-df-convert:hover {\n",
              "      background-color: #E2EBFA;\n",
              "      box-shadow: 0px 1px 2px rgba(60, 64, 67, 0.3), 0px 1px 3px 1px rgba(60, 64, 67, 0.15);\n",
              "      fill: #174EA6;\n",
              "    }\n",
              "\n",
              "    [theme=dark] .colab-df-convert {\n",
              "      background-color: #3B4455;\n",
              "      fill: #D2E3FC;\n",
              "    }\n",
              "\n",
              "    [theme=dark] .colab-df-convert:hover {\n",
              "      background-color: #434B5C;\n",
              "      box-shadow: 0px 1px 3px 1px rgba(0, 0, 0, 0.15);\n",
              "      filter: drop-shadow(0px 1px 2px rgba(0, 0, 0, 0.3));\n",
              "      fill: #FFFFFF;\n",
              "    }\n",
              "  </style>\n",
              "\n",
              "      <script>\n",
              "        const buttonEl =\n",
              "          document.querySelector('#df-380ca477-13c9-45c6-b792-e1b7d68706d5 button.colab-df-convert');\n",
              "        buttonEl.style.display =\n",
              "          google.colab.kernel.accessAllowed ? 'block' : 'none';\n",
              "\n",
              "        async function convertToInteractive(key) {\n",
              "          const element = document.querySelector('#df-380ca477-13c9-45c6-b792-e1b7d68706d5');\n",
              "          const dataTable =\n",
              "            await google.colab.kernel.invokeFunction('convertToInteractive',\n",
              "                                                     [key], {});\n",
              "          if (!dataTable) return;\n",
              "\n",
              "          const docLinkHtml = 'Like what you see? Visit the ' +\n",
              "            '<a target=\"_blank\" href=https://colab.research.google.com/notebooks/data_table.ipynb>data table notebook</a>'\n",
              "            + ' to learn more about interactive tables.';\n",
              "          element.innerHTML = '';\n",
              "          dataTable['output_type'] = 'display_data';\n",
              "          await google.colab.output.renderOutput(dataTable, element);\n",
              "          const docLink = document.createElement('div');\n",
              "          docLink.innerHTML = docLinkHtml;\n",
              "          element.appendChild(docLink);\n",
              "        }\n",
              "      </script>\n",
              "    </div>\n",
              "  </div>\n",
              "  "
            ]
          },
          "metadata": {},
          "execution_count": 4
        }
      ]
    },
    {
      "cell_type": "code",
      "source": [
        "df =  df.drop(['Unnamed: 0', 'index', 'rct_no','de_dt','pd_nm','clac_hlv_nm', 'clac_mcls_nm','pd_c','cop_c'], axis=1)\n",
        "df.head()"
      ],
      "metadata": {
        "colab": {
          "base_uri": "https://localhost:8080/",
          "height": 238
        },
        "id": "jQIPg1aXYQ3S",
        "outputId": "01de6187-f19e-4d08-e365-a100e4a5b05c"
      },
      "execution_count": 5,
      "outputs": [
        {
          "output_type": "execute_result",
          "data": {
            "text/plain": [
              "                    chnl_dv  de_hr   buy_am  buy_ct ma_fem_dv ages zon_hlv  \\\n",
              "cust       br_c                                                              \n",
              "M000034966 A043676        1     21   1200.0       1        여성  40대     Z07   \n",
              "           A043676        1     21  10800.0       4        여성  40대     Z07   \n",
              "           A020116        1     21   6960.0       2        여성  40대     Z07   \n",
              "           A044861        1     15   1400.0       1        여성  40대     Z07   \n",
              "           A020116        1     16   3980.0       1        여성  40대     Z07   \n",
              "\n",
              "                    day  month  total_items  one_times_items  rct_cnt  rebuy  \\\n",
              "cust       br_c                                                                \n",
              "M000034966 A043676   16      1           45                2        5      0   \n",
              "           A043676   16      1           45                2        5      1   \n",
              "           A020116   28      3           45                1        5      1   \n",
              "           A044861   29      8           45                1        5      1   \n",
              "           A020116   19      9           45               24        5      1   \n",
              "\n",
              "                    rebuy_cnt  rebuy_ration  total_am  dt_diff  \n",
              "cust       br_c                                                 \n",
              "M000034966 A043676         19     42.222222    1200.0      NaN  \n",
              "           A043676         19     42.222222   43200.0      0.0  \n",
              "           A020116         19     42.222222   13920.0     71.0  \n",
              "           A044861         19     42.222222    1400.0    154.0  \n",
              "           A020116         19     42.222222    3980.0     21.0  "
            ],
            "text/html": [
              "\n",
              "  <div id=\"df-9c7e2320-4c69-429e-bbec-23a5689647ec\">\n",
              "    <div class=\"colab-df-container\">\n",
              "      <div>\n",
              "<style scoped>\n",
              "    .dataframe tbody tr th:only-of-type {\n",
              "        vertical-align: middle;\n",
              "    }\n",
              "\n",
              "    .dataframe tbody tr th {\n",
              "        vertical-align: top;\n",
              "    }\n",
              "\n",
              "    .dataframe thead th {\n",
              "        text-align: right;\n",
              "    }\n",
              "</style>\n",
              "<table border=\"1\" class=\"dataframe\">\n",
              "  <thead>\n",
              "    <tr style=\"text-align: right;\">\n",
              "      <th></th>\n",
              "      <th></th>\n",
              "      <th>chnl_dv</th>\n",
              "      <th>de_hr</th>\n",
              "      <th>buy_am</th>\n",
              "      <th>buy_ct</th>\n",
              "      <th>ma_fem_dv</th>\n",
              "      <th>ages</th>\n",
              "      <th>zon_hlv</th>\n",
              "      <th>day</th>\n",
              "      <th>month</th>\n",
              "      <th>total_items</th>\n",
              "      <th>one_times_items</th>\n",
              "      <th>rct_cnt</th>\n",
              "      <th>rebuy</th>\n",
              "      <th>rebuy_cnt</th>\n",
              "      <th>rebuy_ration</th>\n",
              "      <th>total_am</th>\n",
              "      <th>dt_diff</th>\n",
              "    </tr>\n",
              "    <tr>\n",
              "      <th>cust</th>\n",
              "      <th>br_c</th>\n",
              "      <th></th>\n",
              "      <th></th>\n",
              "      <th></th>\n",
              "      <th></th>\n",
              "      <th></th>\n",
              "      <th></th>\n",
              "      <th></th>\n",
              "      <th></th>\n",
              "      <th></th>\n",
              "      <th></th>\n",
              "      <th></th>\n",
              "      <th></th>\n",
              "      <th></th>\n",
              "      <th></th>\n",
              "      <th></th>\n",
              "      <th></th>\n",
              "      <th></th>\n",
              "    </tr>\n",
              "  </thead>\n",
              "  <tbody>\n",
              "    <tr>\n",
              "      <th rowspan=\"5\" valign=\"top\">M000034966</th>\n",
              "      <th>A043676</th>\n",
              "      <td>1</td>\n",
              "      <td>21</td>\n",
              "      <td>1200.0</td>\n",
              "      <td>1</td>\n",
              "      <td>여성</td>\n",
              "      <td>40대</td>\n",
              "      <td>Z07</td>\n",
              "      <td>16</td>\n",
              "      <td>1</td>\n",
              "      <td>45</td>\n",
              "      <td>2</td>\n",
              "      <td>5</td>\n",
              "      <td>0</td>\n",
              "      <td>19</td>\n",
              "      <td>42.222222</td>\n",
              "      <td>1200.0</td>\n",
              "      <td>NaN</td>\n",
              "    </tr>\n",
              "    <tr>\n",
              "      <th>A043676</th>\n",
              "      <td>1</td>\n",
              "      <td>21</td>\n",
              "      <td>10800.0</td>\n",
              "      <td>4</td>\n",
              "      <td>여성</td>\n",
              "      <td>40대</td>\n",
              "      <td>Z07</td>\n",
              "      <td>16</td>\n",
              "      <td>1</td>\n",
              "      <td>45</td>\n",
              "      <td>2</td>\n",
              "      <td>5</td>\n",
              "      <td>1</td>\n",
              "      <td>19</td>\n",
              "      <td>42.222222</td>\n",
              "      <td>43200.0</td>\n",
              "      <td>0.0</td>\n",
              "    </tr>\n",
              "    <tr>\n",
              "      <th>A020116</th>\n",
              "      <td>1</td>\n",
              "      <td>21</td>\n",
              "      <td>6960.0</td>\n",
              "      <td>2</td>\n",
              "      <td>여성</td>\n",
              "      <td>40대</td>\n",
              "      <td>Z07</td>\n",
              "      <td>28</td>\n",
              "      <td>3</td>\n",
              "      <td>45</td>\n",
              "      <td>1</td>\n",
              "      <td>5</td>\n",
              "      <td>1</td>\n",
              "      <td>19</td>\n",
              "      <td>42.222222</td>\n",
              "      <td>13920.0</td>\n",
              "      <td>71.0</td>\n",
              "    </tr>\n",
              "    <tr>\n",
              "      <th>A044861</th>\n",
              "      <td>1</td>\n",
              "      <td>15</td>\n",
              "      <td>1400.0</td>\n",
              "      <td>1</td>\n",
              "      <td>여성</td>\n",
              "      <td>40대</td>\n",
              "      <td>Z07</td>\n",
              "      <td>29</td>\n",
              "      <td>8</td>\n",
              "      <td>45</td>\n",
              "      <td>1</td>\n",
              "      <td>5</td>\n",
              "      <td>1</td>\n",
              "      <td>19</td>\n",
              "      <td>42.222222</td>\n",
              "      <td>1400.0</td>\n",
              "      <td>154.0</td>\n",
              "    </tr>\n",
              "    <tr>\n",
              "      <th>A020116</th>\n",
              "      <td>1</td>\n",
              "      <td>16</td>\n",
              "      <td>3980.0</td>\n",
              "      <td>1</td>\n",
              "      <td>여성</td>\n",
              "      <td>40대</td>\n",
              "      <td>Z07</td>\n",
              "      <td>19</td>\n",
              "      <td>9</td>\n",
              "      <td>45</td>\n",
              "      <td>24</td>\n",
              "      <td>5</td>\n",
              "      <td>1</td>\n",
              "      <td>19</td>\n",
              "      <td>42.222222</td>\n",
              "      <td>3980.0</td>\n",
              "      <td>21.0</td>\n",
              "    </tr>\n",
              "  </tbody>\n",
              "</table>\n",
              "</div>\n",
              "      <button class=\"colab-df-convert\" onclick=\"convertToInteractive('df-9c7e2320-4c69-429e-bbec-23a5689647ec')\"\n",
              "              title=\"Convert this dataframe to an interactive table.\"\n",
              "              style=\"display:none;\">\n",
              "        \n",
              "  <svg xmlns=\"http://www.w3.org/2000/svg\" height=\"24px\"viewBox=\"0 0 24 24\"\n",
              "       width=\"24px\">\n",
              "    <path d=\"M0 0h24v24H0V0z\" fill=\"none\"/>\n",
              "    <path d=\"M18.56 5.44l.94 2.06.94-2.06 2.06-.94-2.06-.94-.94-2.06-.94 2.06-2.06.94zm-11 1L8.5 8.5l.94-2.06 2.06-.94-2.06-.94L8.5 2.5l-.94 2.06-2.06.94zm10 10l.94 2.06.94-2.06 2.06-.94-2.06-.94-.94-2.06-.94 2.06-2.06.94z\"/><path d=\"M17.41 7.96l-1.37-1.37c-.4-.4-.92-.59-1.43-.59-.52 0-1.04.2-1.43.59L10.3 9.45l-7.72 7.72c-.78.78-.78 2.05 0 2.83L4 21.41c.39.39.9.59 1.41.59.51 0 1.02-.2 1.41-.59l7.78-7.78 2.81-2.81c.8-.78.8-2.07 0-2.86zM5.41 20L4 18.59l7.72-7.72 1.47 1.35L5.41 20z\"/>\n",
              "  </svg>\n",
              "      </button>\n",
              "      \n",
              "  <style>\n",
              "    .colab-df-container {\n",
              "      display:flex;\n",
              "      flex-wrap:wrap;\n",
              "      gap: 12px;\n",
              "    }\n",
              "\n",
              "    .colab-df-convert {\n",
              "      background-color: #E8F0FE;\n",
              "      border: none;\n",
              "      border-radius: 50%;\n",
              "      cursor: pointer;\n",
              "      display: none;\n",
              "      fill: #1967D2;\n",
              "      height: 32px;\n",
              "      padding: 0 0 0 0;\n",
              "      width: 32px;\n",
              "    }\n",
              "\n",
              "    .colab-df-convert:hover {\n",
              "      background-color: #E2EBFA;\n",
              "      box-shadow: 0px 1px 2px rgba(60, 64, 67, 0.3), 0px 1px 3px 1px rgba(60, 64, 67, 0.15);\n",
              "      fill: #174EA6;\n",
              "    }\n",
              "\n",
              "    [theme=dark] .colab-df-convert {\n",
              "      background-color: #3B4455;\n",
              "      fill: #D2E3FC;\n",
              "    }\n",
              "\n",
              "    [theme=dark] .colab-df-convert:hover {\n",
              "      background-color: #434B5C;\n",
              "      box-shadow: 0px 1px 3px 1px rgba(0, 0, 0, 0.15);\n",
              "      filter: drop-shadow(0px 1px 2px rgba(0, 0, 0, 0.3));\n",
              "      fill: #FFFFFF;\n",
              "    }\n",
              "  </style>\n",
              "\n",
              "      <script>\n",
              "        const buttonEl =\n",
              "          document.querySelector('#df-9c7e2320-4c69-429e-bbec-23a5689647ec button.colab-df-convert');\n",
              "        buttonEl.style.display =\n",
              "          google.colab.kernel.accessAllowed ? 'block' : 'none';\n",
              "\n",
              "        async function convertToInteractive(key) {\n",
              "          const element = document.querySelector('#df-9c7e2320-4c69-429e-bbec-23a5689647ec');\n",
              "          const dataTable =\n",
              "            await google.colab.kernel.invokeFunction('convertToInteractive',\n",
              "                                                     [key], {});\n",
              "          if (!dataTable) return;\n",
              "\n",
              "          const docLinkHtml = 'Like what you see? Visit the ' +\n",
              "            '<a target=\"_blank\" href=https://colab.research.google.com/notebooks/data_table.ipynb>data table notebook</a>'\n",
              "            + ' to learn more about interactive tables.';\n",
              "          element.innerHTML = '';\n",
              "          dataTable['output_type'] = 'display_data';\n",
              "          await google.colab.output.renderOutput(dataTable, element);\n",
              "          const docLink = document.createElement('div');\n",
              "          docLink.innerHTML = docLinkHtml;\n",
              "          element.appendChild(docLink);\n",
              "        }\n",
              "      </script>\n",
              "    </div>\n",
              "  </div>\n",
              "  "
            ]
          },
          "metadata": {},
          "execution_count": 5
        }
      ]
    },
    {
      "cell_type": "code",
      "source": [
        "ages_list = df['ages'].value_counts().index[::-1]\n",
        "ages_dict = dict(zip(ages_list, range(0,17)))\n",
        "df = df.replace({'ages': ages_dict})"
      ],
      "metadata": {
        "id": "YjHG8sK5Ya51"
      },
      "execution_count": 6,
      "outputs": []
    },
    {
      "cell_type": "code",
      "source": [
        "ma_fem_list = df['ma_fem_dv'].value_counts().index[::-1]\n",
        "ma_fem_dict = dict(zip(ma_fem_list, range(0,2)))\n",
        "df = df.replace({'ma_fem_dv': ma_fem_dict})"
      ],
      "metadata": {
        "id": "JDo_bRqfYr2R"
      },
      "execution_count": 7,
      "outputs": []
    },
    {
      "cell_type": "code",
      "source": [
        "zon_hlv_list =df['zon_hlv'].value_counts().index[::-1]\n",
        "zon_hlv_dict = dict(zip(zon_hlv_list, range(0,17)))\n",
        "df = df.replace({'zon_hlv': zon_hlv_dict})"
      ],
      "metadata": {
        "id": "hLwwblX9Yvpf"
      },
      "execution_count": 8,
      "outputs": []
    },
    {
      "cell_type": "code",
      "source": [
        "df = df.fillna(0)"
      ],
      "metadata": {
        "id": "TFQx5IMWY1hW"
      },
      "execution_count": 9,
      "outputs": []
    },
    {
      "cell_type": "code",
      "source": [
        "X = df.drop(['rebuy'], axis=1)\n",
        "y = df['rebuy']"
      ],
      "metadata": {
        "id": "yCxeqpPQXZxV"
      },
      "execution_count": 10,
      "outputs": []
    },
    {
      "cell_type": "code",
      "source": [
        "from sklearn.model_selection import train_test_split\n",
        "from tqdm import tqdm"
      ],
      "metadata": {
        "id": "i7nQ_ltgZYoY"
      },
      "execution_count": 11,
      "outputs": []
    },
    {
      "cell_type": "code",
      "source": [
        "X_train, X_test, y_train, y_test=train_test_split(X,y,test_size=0.3,random_state=2)\n",
        "\n",
        "print(X_train.shape)\n",
        "print(y_train.shape)\n",
        "print(X_test.shape)\n",
        "print(y_test.shape)"
      ],
      "metadata": {
        "colab": {
          "base_uri": "https://localhost:8080/"
        },
        "id": "Z68k8ZTLXavP",
        "outputId": "414a30ea-913a-455b-cb25-f518f362532b"
      },
      "execution_count": 12,
      "outputs": [
        {
          "output_type": "stream",
          "name": "stdout",
          "text": [
            "(2209832, 16)\n",
            "(2209832,)\n",
            "(947071, 16)\n",
            "(947071,)\n"
          ]
        }
      ]
    },
    {
      "cell_type": "code",
      "source": [
        "np.unique(y,return_counts=True)"
      ],
      "metadata": {
        "colab": {
          "base_uri": "https://localhost:8080/"
        },
        "id": "KyXd0lMbgl2Y",
        "outputId": "4d915e80-9717-4541-9824-0211e268b9a0"
      },
      "execution_count": 13,
      "outputs": [
        {
          "output_type": "execute_result",
          "data": {
            "text/plain": [
              "(array([0, 1]), array([ 526055, 2630848]))"
            ]
          },
          "metadata": {},
          "execution_count": 13
        }
      ]
    },
    {
      "cell_type": "code",
      "source": [
        "from sklearn.model_selection import KFold\n",
        "from sklearn.model_selection import cross_val_score\n",
        "from sklearn.metrics import mean_squared_error\n",
        "from sklearn.metrics import r2_score\n",
        "from sklearn.ensemble import RandomForestClassifier\n",
        "from sklearn.linear_model import LinearRegression\n",
        "import matplotlib.pyplot as plt\n",
        "import numpy as np\n",
        "from sklearn.metrics import accuracy_score\n",
        "from sklearn.linear_model import LogisticRegression"
      ],
      "metadata": {
        "id": "XIV5HL3eYCrL"
      },
      "execution_count": 14,
      "outputs": []
    },
    {
      "cell_type": "markdown",
      "source": [
        "### RandomForestRegressor"
      ],
      "metadata": {
        "id": "jpJoNuEuf7UQ"
      }
    },
    {
      "cell_type": "code",
      "source": [
        "forest = RandomForestClassifier(criterion='gini', n_estimators=25, random_state=1)\n",
        "\n",
        "forest.fit(X_train, y_train)\n",
        "y_train_pred = forest.predict(X_train)\n",
        "y_test_pred = forest.predict(X_test)\n",
        "\n",
        "print('훈련 MSE: %.3f, 테스트 MSE: %.3f' % (\n",
        "  mean_squared_error(y_train, y_train_pred),\n",
        "  mean_squared_error(y_test, y_test_pred)))\n",
        "print('훈련 R^2: %.3f, 테스트 R^2: %.3f' % (\n",
        "      r2_score(y_train, y_train_pred),\n",
        "      r2_score(y_test, y_test_pred)))\n",
        "print('훈련 정확도 정확도: %.3f, 테스트 정확도: %.3f' % (\n",
        "      accuracy_score(y_train, y_train_pred),\n",
        "      accuracy_score(y_test, y_test_pred)))"
      ],
      "metadata": {
        "colab": {
          "base_uri": "https://localhost:8080/"
        },
        "id": "nRUqewoIZbDL",
        "outputId": "d218682d-b407-4c1c-a1f1-9ed8350f3803"
      },
      "execution_count": 15,
      "outputs": [
        {
          "output_type": "stream",
          "name": "stdout",
          "text": [
            "훈련 MSE: 0.009, 테스트 MSE: 0.164\n",
            "훈련 R^2: 0.938, 테스트 R^2: -0.182\n",
            "훈련 정확도 정확도: 0.991, 테스트 정확도: 0.836\n"
          ]
        }
      ]
    },
    {
      "cell_type": "code",
      "source": [
        "forest = RandomForestClassifier(criterion='gini', n_estimators=50, random_state=1)\n",
        "\n",
        "forest.fit(X_train, y_train)\n",
        "y_train_pred = forest.predict(X_train)\n",
        "y_test_pred = forest.predict(X_test)\n",
        "\n",
        "print('훈련 MSE: %.3f, 테스트 MSE: %.3f' % (\n",
        "  mean_squared_error(y_train, y_train_pred),\n",
        "  mean_squared_error(y_test, y_test_pred)))\n",
        "print('훈련 R^2: %.3f, 테스트 R^2: %.3f' % (\n",
        "      r2_score(y_train, y_train_pred),\n",
        "      r2_score(y_test, y_test_pred)))\n",
        "print('훈련 정확도 정확도: %.3f, 테스트 정확도: %.3f' % (\n",
        "      accuracy_score(y_train, y_train_pred),\n",
        "      accuracy_score(y_test, y_test_pred)))"
      ],
      "metadata": {
        "colab": {
          "base_uri": "https://localhost:8080/"
        },
        "id": "qDuZ0KY359C3",
        "outputId": "6f4c57a4-6f91-4105-f8d9-04c9178cbcb0"
      },
      "execution_count": 16,
      "outputs": [
        {
          "output_type": "stream",
          "name": "stdout",
          "text": [
            "훈련 MSE: 0.007, 테스트 MSE: 0.162\n",
            "훈련 R^2: 0.951, 테스트 R^2: -0.169\n",
            "훈련 정확도 정확도: 0.993, 테스트 정확도: 0.838\n"
          ]
        }
      ]
    },
    {
      "cell_type": "code",
      "source": [
        "forest = RandomForestClassifier(criterion='gini', n_estimators=75, random_state=1)\n",
        "\n",
        "forest.fit(X_train, y_train)\n",
        "y_train_pred = forest.predict(X_train)\n",
        "y_test_pred = forest.predict(X_test)\n",
        "\n",
        "print('훈련 MSE: %.3f, 테스트 MSE: %.3f' % (\n",
        "  mean_squared_error(y_train, y_train_pred),\n",
        "  mean_squared_error(y_test, y_test_pred)))\n",
        "print('훈련 R^2: %.3f, 테스트 R^2: %.3f' % (\n",
        "      r2_score(y_train, y_train_pred),\n",
        "      r2_score(y_test, y_test_pred)))\n",
        "print('훈련 정확도 정확도: %.3f, 테스트 정확도: %.3f' % (\n",
        "      accuracy_score(y_train, y_train_pred),\n",
        "      accuracy_score(y_test, y_test_pred)))"
      ],
      "metadata": {
        "colab": {
          "base_uri": "https://localhost:8080/"
        },
        "id": "ywc5n5ns70Te",
        "outputId": "ce3deceb-5719-4c78-df3a-3ed1ac833297"
      },
      "execution_count": 17,
      "outputs": [
        {
          "output_type": "stream",
          "name": "stdout",
          "text": [
            "훈련 MSE: 0.007, 테스트 MSE: 0.161\n",
            "훈련 R^2: 0.952, 테스트 R^2: -0.163\n",
            "훈련 정확도 정확도: 0.993, 테스트 정확도: 0.839\n"
          ]
        }
      ]
    },
    {
      "cell_type": "markdown",
      "source": [
        "### LogisticRegression"
      ],
      "metadata": {
        "id": "P3jcAwO2kwf1"
      }
    },
    {
      "cell_type": "code",
      "source": [
        "LR = LogisticRegression(C=1e2, multi_class='ovr', random_state=1, max_iter=200)\n",
        "\n",
        "LR.fit(X_train, y_train)\n",
        "y_train_pred = LR.predict(X_train)\n",
        "y_test_pred = LR.predict(X_test)\n",
        "\n",
        "print('훈련 MSE: %.3f, 테스트 MSE: %.3f' % (\n",
        "      mean_squared_error(y_train, y_train_pred),\n",
        "      mean_squared_error(y_test, y_test_pred)))\n",
        "print('훈련 R^2: %.3f, 테스트 R^2: %.3f' % (\n",
        "      r2_score(y_train, y_train_pred),\n",
        "      r2_score(y_test, y_test_pred)))\n",
        "\n",
        "print('훈련 정확도: %.3f, 테스트 정확도: %.3f' % (\n",
        "     accuracy_score(y_train, y_train_pred),\n",
        "      accuracy_score(y_test, y_test_pred)))"
      ],
      "metadata": {
        "colab": {
          "base_uri": "https://localhost:8080/"
        },
        "id": "cYY2_K6nhjF4",
        "outputId": "28f3af6f-0c2b-4d59-fabf-c8c8d16490cd"
      },
      "execution_count": 24,
      "outputs": [
        {
          "output_type": "stream",
          "name": "stdout",
          "text": [
            "훈련 MSE: 0.160, 테스트 MSE: 0.160\n",
            "훈련 R^2: -0.151, 테스트 R^2: -0.153\n",
            "훈련 정확도: 0.840, 테스트 정확도: 0.840\n"
          ]
        }
      ]
    },
    {
      "cell_type": "markdown",
      "source": [
        "### 서포트 벡터"
      ],
      "metadata": {
        "id": "6YpmEXi3yr5k"
      }
    },
    {
      "cell_type": "code",
      "source": [
        "import sys\n",
        "import os\n",
        "import matplotlib.pyplot as plt\n",
        "import pandas as pd\n",
        "import numpy as np\n",
        "from sklearn import svm\n",
        "from sklearn.model_selection import train_test_split, GridSearchCV"
      ],
      "metadata": {
        "id": "jAl9OOIDyQAf"
      },
      "execution_count": 30,
      "outputs": []
    },
    {
      "cell_type": "code",
      "source": [
        "# make a classifier and fit on training data\n",
        "clf = svm.SVC(kernel='linear')\n",
        "\n",
        "# Train classifier \n",
        "clf.fit(X_train, y_train)\n",
        "\n",
        "# Make predictions on unseen test data\n",
        "clf_predictions = clf.predict(X_test)\n",
        "print(\"Accuracy: {}%\".format(clf.score(X_test, y_test) * 100 ))"
      ],
      "metadata": {
        "id": "UVvd5Fhcy0Xh"
      },
      "execution_count": null,
      "outputs": []
    }
  ]
}