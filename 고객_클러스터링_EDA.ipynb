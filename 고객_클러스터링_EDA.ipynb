{
  "nbformat": 4,
  "nbformat_minor": 0,
  "metadata": {
    "colab": {
      "name": "고객_클러스터링_EDA.ipynb",
      "provenance": [],
      "mount_file_id": "16-c-iqnL0ymC4W8W9-U_NnYgGPwQVl_d",
      "authorship_tag": "ABX9TyO293LqFApFpkRKJCirVDCd",
      "include_colab_link": true
    },
    "kernelspec": {
      "name": "python3",
      "display_name": "Python 3"
    },
    "language_info": {
      "name": "python"
    }
  },
  "cells": [
    {
      "cell_type": "markdown",
      "metadata": {
        "id": "view-in-github",
        "colab_type": "text"
      },
      "source": [
        "<a href=\"https://colab.research.google.com/github/JJungEEun/lotte_project/blob/jarae/%EA%B3%A0%EA%B0%9D_%ED%81%B4%EB%9F%AC%EC%8A%A4%ED%84%B0%EB%A7%81_EDA.ipynb\" target=\"_parent\"><img src=\"https://colab.research.google.com/assets/colab-badge.svg\" alt=\"Open In Colab\"/></a>"
      ]
    },
    {
      "cell_type": "code",
      "execution_count": 1,
      "metadata": {
        "id": "EEciwzmKF1cO"
      },
      "outputs": [],
      "source": [
        "import pandas as pd"
      ]
    },
    {
      "cell_type": "code",
      "source": [
        "cust=pd.read_csv('/content/drive/MyDrive/lotte/cust_cluster.csv')"
      ],
      "metadata": {
        "id": "wTV3I1u3GceR"
      },
      "execution_count": 2,
      "outputs": []
    },
    {
      "cell_type": "code",
      "source": [
        "cust"
      ],
      "metadata": {
        "colab": {
          "base_uri": "https://localhost:8080/",
          "height": 424
        },
        "id": "4RjIUOJDGlwf",
        "outputId": "77d12f3d-67b1-41c9-f28e-c8b09f1db311"
      },
      "execution_count": 3,
      "outputs": [
        {
          "output_type": "execute_result",
          "data": {
            "text/plain": [
              "       Unnamed: 0        cust     m_cost  m_buys  ma_fem_dv  ages  zon_hlv  \\\n",
              "0               0  M430112881    7461.67     848          1    55        1   \n",
              "1               1  M646853852   20649.31     708          1    45        0   \n",
              "2               2  M669384418   17403.27     196          1    55        1   \n",
              "3               3  M886923095   19151.70     224          1    45        1   \n",
              "4               4  M707991383   54308.80     756          1    55        0   \n",
              "...           ...         ...        ...     ...        ...   ...      ...   \n",
              "26910       26910  M423644302   29300.00       2          1    25        0   \n",
              "26911       26911  M316481461  116500.00       2          1    35        1   \n",
              "26912       26912  M765148247   27000.00       2          0    45        0   \n",
              "26913       26913  M498069014   57500.00      10          1    45        0   \n",
              "26914       26914  M866900192   47550.00       2          1    55        1   \n",
              "\n",
              "        chnl_dv         buy_am    buy_ct  ...        m1        m2        m3  \\\n",
              "0      1.000000    7175.775904  1.397590  ...  0.026506  0.585542  0.255422   \n",
              "1      1.014164   25964.059490  1.152975  ...  0.082153  0.535411  0.212465   \n",
              "2      1.000000   13042.083333  1.270833  ...  0.135417  0.375000  0.343750   \n",
              "3      1.000000   23809.818182  1.118182  ...  0.090909  0.572727  0.263636   \n",
              "4      1.000000   88479.371585  1.051913  ...  0.234973  0.224044  0.251366   \n",
              "...         ...            ...       ...  ...       ...       ...       ...   \n",
              "26910  2.000000   43600.000000  4.000000  ...  0.000000  0.000000  1.000000   \n",
              "26911  2.000000  218000.000000  1.000000  ...  1.000000  0.000000  0.000000   \n",
              "26912  2.000000   39000.000000  1.000000  ...  1.000000  0.000000  0.000000   \n",
              "26913  2.000000  100000.000000  1.000000  ...  0.000000  0.000000  0.000000   \n",
              "26914  2.000000   80100.000000  1.000000  ...  0.000000  0.000000  1.000000   \n",
              "\n",
              "             r0        r1        r2        r3        r4        date  label  \n",
              "0      0.826506  0.118072  0.016867  0.021687  0.016867   88.015330      3  \n",
              "1      0.728045  0.124646  0.016997  0.082153  0.048159   79.820621      1  \n",
              "2      0.552083  0.156250  0.041667  0.135417  0.114583   84.698980      3  \n",
              "3      0.527273  0.190909  0.145455  0.090909  0.045455   91.419643      0  \n",
              "4      0.418033  0.049180  0.114754  0.226776  0.191257   91.513228      8  \n",
              "...         ...       ...       ...       ...       ...         ...    ...  \n",
              "26910  0.000000  1.000000  0.000000  0.000000  0.000000  177.500000      8  \n",
              "26911  0.000000  0.000000  0.000000  1.000000  0.000000  179.000000      4  \n",
              "26912  0.000000  0.000000  0.000000  1.000000  0.000000  179.500000      2  \n",
              "26913  0.000000  0.000000  0.000000  0.000000  1.000000  180.500000      5  \n",
              "26914  0.000000  0.000000  1.000000  0.000000  0.000000  182.500000      4  \n",
              "\n",
              "[26915 rows x 35 columns]"
            ],
            "text/html": [
              "\n",
              "  <div id=\"df-cd78dc7d-0f2b-48c9-ba63-eaedc54d7a0d\">\n",
              "    <div class=\"colab-df-container\">\n",
              "      <div>\n",
              "<style scoped>\n",
              "    .dataframe tbody tr th:only-of-type {\n",
              "        vertical-align: middle;\n",
              "    }\n",
              "\n",
              "    .dataframe tbody tr th {\n",
              "        vertical-align: top;\n",
              "    }\n",
              "\n",
              "    .dataframe thead th {\n",
              "        text-align: right;\n",
              "    }\n",
              "</style>\n",
              "<table border=\"1\" class=\"dataframe\">\n",
              "  <thead>\n",
              "    <tr style=\"text-align: right;\">\n",
              "      <th></th>\n",
              "      <th>Unnamed: 0</th>\n",
              "      <th>cust</th>\n",
              "      <th>m_cost</th>\n",
              "      <th>m_buys</th>\n",
              "      <th>ma_fem_dv</th>\n",
              "      <th>ages</th>\n",
              "      <th>zon_hlv</th>\n",
              "      <th>chnl_dv</th>\n",
              "      <th>buy_am</th>\n",
              "      <th>buy_ct</th>\n",
              "      <th>...</th>\n",
              "      <th>m1</th>\n",
              "      <th>m2</th>\n",
              "      <th>m3</th>\n",
              "      <th>r0</th>\n",
              "      <th>r1</th>\n",
              "      <th>r2</th>\n",
              "      <th>r3</th>\n",
              "      <th>r4</th>\n",
              "      <th>date</th>\n",
              "      <th>label</th>\n",
              "    </tr>\n",
              "  </thead>\n",
              "  <tbody>\n",
              "    <tr>\n",
              "      <th>0</th>\n",
              "      <td>0</td>\n",
              "      <td>M430112881</td>\n",
              "      <td>7461.67</td>\n",
              "      <td>848</td>\n",
              "      <td>1</td>\n",
              "      <td>55</td>\n",
              "      <td>1</td>\n",
              "      <td>1.000000</td>\n",
              "      <td>7175.775904</td>\n",
              "      <td>1.397590</td>\n",
              "      <td>...</td>\n",
              "      <td>0.026506</td>\n",
              "      <td>0.585542</td>\n",
              "      <td>0.255422</td>\n",
              "      <td>0.826506</td>\n",
              "      <td>0.118072</td>\n",
              "      <td>0.016867</td>\n",
              "      <td>0.021687</td>\n",
              "      <td>0.016867</td>\n",
              "      <td>88.015330</td>\n",
              "      <td>3</td>\n",
              "    </tr>\n",
              "    <tr>\n",
              "      <th>1</th>\n",
              "      <td>1</td>\n",
              "      <td>M646853852</td>\n",
              "      <td>20649.31</td>\n",
              "      <td>708</td>\n",
              "      <td>1</td>\n",
              "      <td>45</td>\n",
              "      <td>0</td>\n",
              "      <td>1.014164</td>\n",
              "      <td>25964.059490</td>\n",
              "      <td>1.152975</td>\n",
              "      <td>...</td>\n",
              "      <td>0.082153</td>\n",
              "      <td>0.535411</td>\n",
              "      <td>0.212465</td>\n",
              "      <td>0.728045</td>\n",
              "      <td>0.124646</td>\n",
              "      <td>0.016997</td>\n",
              "      <td>0.082153</td>\n",
              "      <td>0.048159</td>\n",
              "      <td>79.820621</td>\n",
              "      <td>1</td>\n",
              "    </tr>\n",
              "    <tr>\n",
              "      <th>2</th>\n",
              "      <td>2</td>\n",
              "      <td>M669384418</td>\n",
              "      <td>17403.27</td>\n",
              "      <td>196</td>\n",
              "      <td>1</td>\n",
              "      <td>55</td>\n",
              "      <td>1</td>\n",
              "      <td>1.000000</td>\n",
              "      <td>13042.083333</td>\n",
              "      <td>1.270833</td>\n",
              "      <td>...</td>\n",
              "      <td>0.135417</td>\n",
              "      <td>0.375000</td>\n",
              "      <td>0.343750</td>\n",
              "      <td>0.552083</td>\n",
              "      <td>0.156250</td>\n",
              "      <td>0.041667</td>\n",
              "      <td>0.135417</td>\n",
              "      <td>0.114583</td>\n",
              "      <td>84.698980</td>\n",
              "      <td>3</td>\n",
              "    </tr>\n",
              "    <tr>\n",
              "      <th>3</th>\n",
              "      <td>3</td>\n",
              "      <td>M886923095</td>\n",
              "      <td>19151.70</td>\n",
              "      <td>224</td>\n",
              "      <td>1</td>\n",
              "      <td>45</td>\n",
              "      <td>1</td>\n",
              "      <td>1.000000</td>\n",
              "      <td>23809.818182</td>\n",
              "      <td>1.118182</td>\n",
              "      <td>...</td>\n",
              "      <td>0.090909</td>\n",
              "      <td>0.572727</td>\n",
              "      <td>0.263636</td>\n",
              "      <td>0.527273</td>\n",
              "      <td>0.190909</td>\n",
              "      <td>0.145455</td>\n",
              "      <td>0.090909</td>\n",
              "      <td>0.045455</td>\n",
              "      <td>91.419643</td>\n",
              "      <td>0</td>\n",
              "    </tr>\n",
              "    <tr>\n",
              "      <th>4</th>\n",
              "      <td>4</td>\n",
              "      <td>M707991383</td>\n",
              "      <td>54308.80</td>\n",
              "      <td>756</td>\n",
              "      <td>1</td>\n",
              "      <td>55</td>\n",
              "      <td>0</td>\n",
              "      <td>1.000000</td>\n",
              "      <td>88479.371585</td>\n",
              "      <td>1.051913</td>\n",
              "      <td>...</td>\n",
              "      <td>0.234973</td>\n",
              "      <td>0.224044</td>\n",
              "      <td>0.251366</td>\n",
              "      <td>0.418033</td>\n",
              "      <td>0.049180</td>\n",
              "      <td>0.114754</td>\n",
              "      <td>0.226776</td>\n",
              "      <td>0.191257</td>\n",
              "      <td>91.513228</td>\n",
              "      <td>8</td>\n",
              "    </tr>\n",
              "    <tr>\n",
              "      <th>...</th>\n",
              "      <td>...</td>\n",
              "      <td>...</td>\n",
              "      <td>...</td>\n",
              "      <td>...</td>\n",
              "      <td>...</td>\n",
              "      <td>...</td>\n",
              "      <td>...</td>\n",
              "      <td>...</td>\n",
              "      <td>...</td>\n",
              "      <td>...</td>\n",
              "      <td>...</td>\n",
              "      <td>...</td>\n",
              "      <td>...</td>\n",
              "      <td>...</td>\n",
              "      <td>...</td>\n",
              "      <td>...</td>\n",
              "      <td>...</td>\n",
              "      <td>...</td>\n",
              "      <td>...</td>\n",
              "      <td>...</td>\n",
              "      <td>...</td>\n",
              "    </tr>\n",
              "    <tr>\n",
              "      <th>26910</th>\n",
              "      <td>26910</td>\n",
              "      <td>M423644302</td>\n",
              "      <td>29300.00</td>\n",
              "      <td>2</td>\n",
              "      <td>1</td>\n",
              "      <td>25</td>\n",
              "      <td>0</td>\n",
              "      <td>2.000000</td>\n",
              "      <td>43600.000000</td>\n",
              "      <td>4.000000</td>\n",
              "      <td>...</td>\n",
              "      <td>0.000000</td>\n",
              "      <td>0.000000</td>\n",
              "      <td>1.000000</td>\n",
              "      <td>0.000000</td>\n",
              "      <td>1.000000</td>\n",
              "      <td>0.000000</td>\n",
              "      <td>0.000000</td>\n",
              "      <td>0.000000</td>\n",
              "      <td>177.500000</td>\n",
              "      <td>8</td>\n",
              "    </tr>\n",
              "    <tr>\n",
              "      <th>26911</th>\n",
              "      <td>26911</td>\n",
              "      <td>M316481461</td>\n",
              "      <td>116500.00</td>\n",
              "      <td>2</td>\n",
              "      <td>1</td>\n",
              "      <td>35</td>\n",
              "      <td>1</td>\n",
              "      <td>2.000000</td>\n",
              "      <td>218000.000000</td>\n",
              "      <td>1.000000</td>\n",
              "      <td>...</td>\n",
              "      <td>1.000000</td>\n",
              "      <td>0.000000</td>\n",
              "      <td>0.000000</td>\n",
              "      <td>0.000000</td>\n",
              "      <td>0.000000</td>\n",
              "      <td>0.000000</td>\n",
              "      <td>1.000000</td>\n",
              "      <td>0.000000</td>\n",
              "      <td>179.000000</td>\n",
              "      <td>4</td>\n",
              "    </tr>\n",
              "    <tr>\n",
              "      <th>26912</th>\n",
              "      <td>26912</td>\n",
              "      <td>M765148247</td>\n",
              "      <td>27000.00</td>\n",
              "      <td>2</td>\n",
              "      <td>0</td>\n",
              "      <td>45</td>\n",
              "      <td>0</td>\n",
              "      <td>2.000000</td>\n",
              "      <td>39000.000000</td>\n",
              "      <td>1.000000</td>\n",
              "      <td>...</td>\n",
              "      <td>1.000000</td>\n",
              "      <td>0.000000</td>\n",
              "      <td>0.000000</td>\n",
              "      <td>0.000000</td>\n",
              "      <td>0.000000</td>\n",
              "      <td>0.000000</td>\n",
              "      <td>1.000000</td>\n",
              "      <td>0.000000</td>\n",
              "      <td>179.500000</td>\n",
              "      <td>2</td>\n",
              "    </tr>\n",
              "    <tr>\n",
              "      <th>26913</th>\n",
              "      <td>26913</td>\n",
              "      <td>M498069014</td>\n",
              "      <td>57500.00</td>\n",
              "      <td>10</td>\n",
              "      <td>1</td>\n",
              "      <td>45</td>\n",
              "      <td>0</td>\n",
              "      <td>2.000000</td>\n",
              "      <td>100000.000000</td>\n",
              "      <td>1.000000</td>\n",
              "      <td>...</td>\n",
              "      <td>0.000000</td>\n",
              "      <td>0.000000</td>\n",
              "      <td>0.000000</td>\n",
              "      <td>0.000000</td>\n",
              "      <td>0.000000</td>\n",
              "      <td>0.000000</td>\n",
              "      <td>0.000000</td>\n",
              "      <td>1.000000</td>\n",
              "      <td>180.500000</td>\n",
              "      <td>5</td>\n",
              "    </tr>\n",
              "    <tr>\n",
              "      <th>26914</th>\n",
              "      <td>26914</td>\n",
              "      <td>M866900192</td>\n",
              "      <td>47550.00</td>\n",
              "      <td>2</td>\n",
              "      <td>1</td>\n",
              "      <td>55</td>\n",
              "      <td>1</td>\n",
              "      <td>2.000000</td>\n",
              "      <td>80100.000000</td>\n",
              "      <td>1.000000</td>\n",
              "      <td>...</td>\n",
              "      <td>0.000000</td>\n",
              "      <td>0.000000</td>\n",
              "      <td>1.000000</td>\n",
              "      <td>0.000000</td>\n",
              "      <td>0.000000</td>\n",
              "      <td>1.000000</td>\n",
              "      <td>0.000000</td>\n",
              "      <td>0.000000</td>\n",
              "      <td>182.500000</td>\n",
              "      <td>4</td>\n",
              "    </tr>\n",
              "  </tbody>\n",
              "</table>\n",
              "<p>26915 rows × 35 columns</p>\n",
              "</div>\n",
              "      <button class=\"colab-df-convert\" onclick=\"convertToInteractive('df-cd78dc7d-0f2b-48c9-ba63-eaedc54d7a0d')\"\n",
              "              title=\"Convert this dataframe to an interactive table.\"\n",
              "              style=\"display:none;\">\n",
              "        \n",
              "  <svg xmlns=\"http://www.w3.org/2000/svg\" height=\"24px\"viewBox=\"0 0 24 24\"\n",
              "       width=\"24px\">\n",
              "    <path d=\"M0 0h24v24H0V0z\" fill=\"none\"/>\n",
              "    <path d=\"M18.56 5.44l.94 2.06.94-2.06 2.06-.94-2.06-.94-.94-2.06-.94 2.06-2.06.94zm-11 1L8.5 8.5l.94-2.06 2.06-.94-2.06-.94L8.5 2.5l-.94 2.06-2.06.94zm10 10l.94 2.06.94-2.06 2.06-.94-2.06-.94-.94-2.06-.94 2.06-2.06.94z\"/><path d=\"M17.41 7.96l-1.37-1.37c-.4-.4-.92-.59-1.43-.59-.52 0-1.04.2-1.43.59L10.3 9.45l-7.72 7.72c-.78.78-.78 2.05 0 2.83L4 21.41c.39.39.9.59 1.41.59.51 0 1.02-.2 1.41-.59l7.78-7.78 2.81-2.81c.8-.78.8-2.07 0-2.86zM5.41 20L4 18.59l7.72-7.72 1.47 1.35L5.41 20z\"/>\n",
              "  </svg>\n",
              "      </button>\n",
              "      \n",
              "  <style>\n",
              "    .colab-df-container {\n",
              "      display:flex;\n",
              "      flex-wrap:wrap;\n",
              "      gap: 12px;\n",
              "    }\n",
              "\n",
              "    .colab-df-convert {\n",
              "      background-color: #E8F0FE;\n",
              "      border: none;\n",
              "      border-radius: 50%;\n",
              "      cursor: pointer;\n",
              "      display: none;\n",
              "      fill: #1967D2;\n",
              "      height: 32px;\n",
              "      padding: 0 0 0 0;\n",
              "      width: 32px;\n",
              "    }\n",
              "\n",
              "    .colab-df-convert:hover {\n",
              "      background-color: #E2EBFA;\n",
              "      box-shadow: 0px 1px 2px rgba(60, 64, 67, 0.3), 0px 1px 3px 1px rgba(60, 64, 67, 0.15);\n",
              "      fill: #174EA6;\n",
              "    }\n",
              "\n",
              "    [theme=dark] .colab-df-convert {\n",
              "      background-color: #3B4455;\n",
              "      fill: #D2E3FC;\n",
              "    }\n",
              "\n",
              "    [theme=dark] .colab-df-convert:hover {\n",
              "      background-color: #434B5C;\n",
              "      box-shadow: 0px 1px 3px 1px rgba(0, 0, 0, 0.15);\n",
              "      filter: drop-shadow(0px 1px 2px rgba(0, 0, 0, 0.3));\n",
              "      fill: #FFFFFF;\n",
              "    }\n",
              "  </style>\n",
              "\n",
              "      <script>\n",
              "        const buttonEl =\n",
              "          document.querySelector('#df-cd78dc7d-0f2b-48c9-ba63-eaedc54d7a0d button.colab-df-convert');\n",
              "        buttonEl.style.display =\n",
              "          google.colab.kernel.accessAllowed ? 'block' : 'none';\n",
              "\n",
              "        async function convertToInteractive(key) {\n",
              "          const element = document.querySelector('#df-cd78dc7d-0f2b-48c9-ba63-eaedc54d7a0d');\n",
              "          const dataTable =\n",
              "            await google.colab.kernel.invokeFunction('convertToInteractive',\n",
              "                                                     [key], {});\n",
              "          if (!dataTable) return;\n",
              "\n",
              "          const docLinkHtml = 'Like what you see? Visit the ' +\n",
              "            '<a target=\"_blank\" href=https://colab.research.google.com/notebooks/data_table.ipynb>data table notebook</a>'\n",
              "            + ' to learn more about interactive tables.';\n",
              "          element.innerHTML = '';\n",
              "          dataTable['output_type'] = 'display_data';\n",
              "          await google.colab.output.renderOutput(dataTable, element);\n",
              "          const docLink = document.createElement('div');\n",
              "          docLink.innerHTML = docLinkHtml;\n",
              "          element.appendChild(docLink);\n",
              "        }\n",
              "      </script>\n",
              "    </div>\n",
              "  </div>\n",
              "  "
            ]
          },
          "metadata": {},
          "execution_count": 3
        }
      ]
    },
    {
      "cell_type": "code",
      "source": [
        "del cust['Unnamed: 0']"
      ],
      "metadata": {
        "id": "9JkhxDBlGrKq"
      },
      "execution_count": 7,
      "outputs": []
    },
    {
      "cell_type": "code",
      "source": [
        "clust=cust.groupby(['label']).agg('mean')"
      ],
      "metadata": {
        "id": "muO03q_tGoIB"
      },
      "execution_count": 14,
      "outputs": []
    },
    {
      "cell_type": "code",
      "source": [
        "import matplotlib.pyplot as plt"
      ],
      "metadata": {
        "id": "yeeIXG-tGukP"
      },
      "execution_count": 8,
      "outputs": []
    },
    {
      "cell_type": "code",
      "source": [
        "clust.columns"
      ],
      "metadata": {
        "colab": {
          "base_uri": "https://localhost:8080/"
        },
        "id": "XhNhtVI_HeWo",
        "outputId": "1c5f40ef-ae74-40a8-cb48-6120f3566e24"
      },
      "execution_count": 16,
      "outputs": [
        {
          "output_type": "execute_result",
          "data": {
            "text/plain": [
              "Index(['m_cost', 'm_buys', 'ma_fem_dv', 'ages', 'zon_hlv', 'chnl_dv', 'buy_am',\n",
              "       'buy_ct', 'A1', 'A2', 'A3', 'A4', 'c0', 'c1', 'c2', 'c3', 'c4', 'c5',\n",
              "       'c6', 'c7', 'c8', 'c9', 'm0', 'm1', 'm2', 'm3', 'r0', 'r1', 'r2', 'r3',\n",
              "       'r4', 'date'],\n",
              "      dtype='object')"
            ]
          },
          "metadata": {},
          "execution_count": 16
        }
      ]
    },
    {
      "cell_type": "code",
      "source": [
        "x=list(range(10))\n",
        "c = ['pink','indianred', 'khaki','coral','darkseagreen','lightskyblue','steelblue','darkslateblue','orchid','palevioletred']"
      ],
      "metadata": {
        "colab": {
          "base_uri": "https://localhost:8080/",
          "height": 284
        },
        "id": "vML62eOFHHos",
        "outputId": "6dd8acf8-a9fc-4338-f811-da1963cf6dbf"
      },
      "execution_count": 15,
      "outputs": [
        {
          "output_type": "execute_result",
          "data": {
            "text/plain": [
              "<BarContainer object of 10 artists>"
            ]
          },
          "metadata": {},
          "execution_count": 15
        },
        {
          "output_type": "display_data",
          "data": {
            "text/plain": [
              "<Figure size 432x288 with 1 Axes>"
            ],
            "image/png": "[encoded data removed]"
          },
          "metadata": {
            "needs_background": "light"
          }
        }
      ]
    },
    {
      "cell_type": "markdown",
      "source": [
        "\n",
        "\n",
        "---\n",
        "\n"
      ],
      "metadata": {
        "id": "_e_6WQbKIL_w"
      }
    },
    {
      "cell_type": "markdown",
      "source": [
        "네개씩 그리겠음"
      ],
      "metadata": {
        "id": "_ToMlzr2IKfR"
      }
    },
    {
      "cell_type": "code",
      "source": [
        "plt.rcParams[\"figure.figsize\"] = (20,14)\n",
        "\n",
        "k=1\n",
        "for i in range(0,4):\n",
        "  plt.subplot(2,2,k)\n",
        "  plt.bar(x, height = clust[clust.columns[i]], color = c)\n",
        "  plt.title(clust.columns[i])\n",
        "  k+=1"
      ],
      "metadata": {
        "colab": {
          "base_uri": "https://localhost:8080/",
          "height": 825
        },
        "id": "2FL-q55iHkYg",
        "outputId": "851d7363-d744-4a71-f99c-c412907ef41e"
      },
      "execution_count": 21,
      "outputs": [
        {
          "output_type": "display_data",
          "data": {
            "text/plain": [
              "<Figure size 1440x1008 with 4 Axes>"
            ],
            "image/png": "[encoded data removed]"
          },
          "metadata": {
            "needs_background": "light"
          }
        }
      ]
    },
    {
      "cell_type": "code",
      "source": [
        "k=1\n",
        "for i in range(4,8):\n",
        "  plt.subplot(2,2,k)\n",
        "  plt.bar(x, height = clust[clust.columns[i]], color = c)\n",
        "  plt.title(clust.columns[i])\n",
        "  k+=1"
      ],
      "metadata": {
        "colab": {
          "base_uri": "https://localhost:8080/",
          "height": 825
        },
        "id": "izUaDzpuHdNh",
        "outputId": "cceaf7ba-c6d3-4791-9fe2-fd48a4e61542"
      },
      "execution_count": 22,
      "outputs": [
        {
          "output_type": "display_data",
          "data": {
            "text/plain": [
              "<Figure size 1440x1008 with 4 Axes>"
            ],
            "image/png": "[encoded data removed]"
          },
          "metadata": {
            "needs_background": "light"
          }
        }
      ]
    },
    {
      "cell_type": "code",
      "source": [
        "k=1\n",
        "for i in range(8,12):\n",
        "  plt.subplot(2,2,k)\n",
        "  plt.bar(x, height = clust[clust.columns[i]], color = c)\n",
        "  plt.title(clust.columns[i])\n",
        "  k+=1"
      ],
      "metadata": {
        "colab": {
          "base_uri": "https://localhost:8080/",
          "height": 825
        },
        "id": "oxQzRv7UIUcn",
        "outputId": "1d97e3b1-a3b1-4d43-d462-06a3b91eabfe"
      },
      "execution_count": 23,
      "outputs": [
        {
          "output_type": "display_data",
          "data": {
            "text/plain": [
              "<Figure size 1440x1008 with 4 Axes>"
            ],
            "image/png": "[encoded data removed]"
          },
          "metadata": {
            "needs_background": "light"
          }
        }
      ]
    },
    {
      "cell_type": "code",
      "source": [
        "#이렇게 해야 한 화면에 들어온다..\n",
        "\n",
        "k=1\n",
        "for i in range(12,22):\n",
        "  plt.subplot(5,2,k)\n",
        "  plt.bar(x, height = clust[clust.columns[i]], color = c)\n",
        "  plt.title(clust.columns[i])\n",
        "  k+=1"
      ],
      "metadata": {
        "colab": {
          "base_uri": "https://localhost:8080/",
          "height": 825
        },
        "id": "DccEPEX5IWZu",
        "outputId": "768dc8e0-5683-47f1-a328-87727ec49651"
      },
      "execution_count": 29,
      "outputs": [
        {
          "output_type": "display_data",
          "data": {
            "text/plain": [
              "<Figure size 1440x1008 with 10 Axes>"
            ],
            "image/png": "[encoded data removed]"
          },
          "metadata": {
            "needs_background": "light"
          }
        }
      ]
    },
    {
      "cell_type": "code",
      "source": [
        "k=1\n",
        "for i in range(22,26):\n",
        "  plt.subplot(2,2,k)\n",
        "  plt.bar(x, height = clust[clust.columns[i]], color = c)\n",
        "  plt.title(clust.columns[i])\n",
        "  k+=1"
      ],
      "metadata": {
        "colab": {
          "base_uri": "https://localhost:8080/",
          "height": 825
        },
        "id": "GrdGb6RQIX0x",
        "outputId": "083cdd29-08b7-4f62-e269-9c6fc319b936"
      },
      "execution_count": 31,
      "outputs": [
        {
          "output_type": "display_data",
          "data": {
            "text/plain": [
              "<Figure size 1440x1008 with 4 Axes>"
            ],
            "image/png": "[encoded data removed]"
          },
          "metadata": {
            "needs_background": "light"
          }
        }
      ]
    },
    {
      "cell_type": "code",
      "source": [
        "k=1\n",
        "for i in range(26,31):\n",
        "  plt.subplot(3,2,k)\n",
        "  plt.bar(x, height = clust[clust.columns[i]], color = c)\n",
        "  plt.title(clust.columns[i])\n",
        "  k+=1"
      ],
      "metadata": {
        "colab": {
          "base_uri": "https://localhost:8080/",
          "height": 825
        },
        "id": "uEomLO-8IZgB",
        "outputId": "93f6ca5c-a5af-4efd-8026-6dbd18975bea"
      },
      "execution_count": 35,
      "outputs": [
        {
          "output_type": "display_data",
          "data": {
            "text/plain": [
              "<Figure size 1440x1008 with 5 Axes>"
            ],
            "image/png": "[encoded data removed]"
          },
          "metadata": {
            "needs_background": "light"
          }
        }
      ]
    },
    {
      "cell_type": "code",
      "source": [
        "clust.columns"
      ],
      "metadata": {
        "colab": {
          "base_uri": "https://localhost:8080/"
        },
        "id": "hq7_bWurIbSK",
        "outputId": "e5083323-4afd-4b73-e491-937b98433e3e"
      },
      "execution_count": 36,
      "outputs": [
        {
          "output_type": "execute_result",
          "data": {
            "text/plain": [
              "Index(['m_cost', 'm_buys', 'ma_fem_dv', 'ages', 'zon_hlv', 'chnl_dv', 'buy_am',\n",
              "       'buy_ct', 'A1', 'A2', 'A3', 'A4', 'c0', 'c1', 'c2', 'c3', 'c4', 'c5',\n",
              "       'c6', 'c7', 'c8', 'c9', 'm0', 'm1', 'm2', 'm3', 'r0', 'r1', 'r2', 'r3',\n",
              "       'r4', 'date'],\n",
              "      dtype='object')"
            ]
          },
          "metadata": {},
          "execution_count": 36
        }
      ]
    },
    {
      "cell_type": "code",
      "source": [
        "plt.rcParams[\"figure.figsize\"] = (10,10)\n",
        "\n",
        "#별 차이 없어서 애써 늘려봄\n",
        "plt.bar(x, height = clust['date'], color = c)\n",
        "plt.title('date')"
      ],
      "metadata": {
        "colab": {
          "base_uri": "https://localhost:8080/",
          "height": 626
        },
        "id": "kOESIaYkInhg",
        "outputId": "b40e8525-26da-4fae-9ca9-52092c46406b"
      },
      "execution_count": 42,
      "outputs": [
        {
          "output_type": "execute_result",
          "data": {
            "text/plain": [
              "Text(0.5, 1.0, 'date')"
            ]
          },
          "metadata": {},
          "execution_count": 42
        },
        {
          "output_type": "display_data",
          "data": {
            "text/plain": [
              "<Figure size 720x720 with 1 Axes>"
            ],
            "image/png": "[encoded data removed]"
          },
          "metadata": {
            "needs_background": "light"
          }
        }
      ]
    },
    {
      "cell_type": "code",
      "source": [
        "clust"
      ],
      "metadata": {
        "colab": {
          "base_uri": "https://localhost:8080/",
          "height": 424
        },
        "id": "PZ0WR2APJ7fY",
        "outputId": "4a877a77-640b-4069-ee1b-3769a20213bb"
      },
      "execution_count": 43,
      "outputs": [
        {
          "output_type": "execute_result",
          "data": {
            "text/plain": [
              "             m_cost      m_buys  ma_fem_dv       ages   zon_hlv   chnl_dv  \\\n",
              "label                                                                       \n",
              "0      15524.458547  180.041899   1.000000  39.934823  0.582868  1.019560   \n",
              "1      15307.684043  458.034464   1.000000  44.987030  0.000000  1.088611   \n",
              "2      75878.001275  107.952794   0.000000  43.941942  0.554531  1.152656   \n",
              "3      15302.560818  480.823592   1.000000  46.181353  1.000000  1.110633   \n",
              "4      54555.557835  149.683885   1.000000  43.654500  1.000000  1.107070   \n",
              "5      84228.777431   26.693676   0.561265  44.851779  0.515810  1.197681   \n",
              "6      15935.577831  382.178887   0.000000  45.132509  0.000000  1.053884   \n",
              "7      14527.196086  204.751479   0.000000  40.722739  0.553677  1.014324   \n",
              "8      55338.323773  137.892157   1.000000  44.270588  0.000000  1.122074   \n",
              "9      17423.243535  435.726632   0.000000  45.411721  1.000000  1.084650   \n",
              "\n",
              "              buy_am    buy_ct        A1        A2  ...        m0        m1  \\\n",
              "label                                               ...                       \n",
              "0       15923.449219  1.418388  0.131927  0.084694  ...  0.079419  0.194861   \n",
              "1       15440.152042  1.388019  0.111385  0.864298  ...  0.161982  0.043109   \n",
              "2      135610.076961  1.222155  0.824677  0.095953  ...  0.298133  0.327874   \n",
              "3       15503.055589  1.321256  0.130504  0.840478  ...  0.159370  0.036199   \n",
              "4       93100.359809  1.177932  0.805251  0.145391  ...  0.319310  0.264558   \n",
              "5      152436.643766  1.090534  0.614701  0.044049  ...  0.910376  0.021594   \n",
              "6       16729.543016  1.384762  0.104778  0.848369  ...  0.158709  0.046245   \n",
              "7       13807.312176  1.364817  0.095022  0.075241  ...  0.063622  0.270559   \n",
              "8       94281.898424  1.166067  0.827349  0.123480  ...  0.304438  0.320278   \n",
              "9       19719.351594  1.336587  0.138048  0.798563  ...  0.154885  0.044258   \n",
              "\n",
              "             m2        m3        r0        r1        r2        r3        r4  \\\n",
              "label                                                                         \n",
              "0      0.554513  0.171208  0.722072  0.181437  0.020171  0.033840  0.042481   \n",
              "1      0.536026  0.258884  0.663104  0.211658  0.034044  0.038837  0.052356   \n",
              "2      0.163752  0.210241  0.210379  0.102663  0.149978  0.314293  0.222687   \n",
              "3      0.547482  0.256950  0.679307  0.197934  0.028910  0.031961  0.061888   \n",
              "4      0.205218  0.210915  0.262471  0.114942  0.126958  0.256947  0.238681   \n",
              "5      0.025233  0.042798  0.026997  0.022222  0.041917  0.020063  0.888802   \n",
              "6      0.555066  0.239980  0.664301  0.215433  0.031951  0.035632  0.052683   \n",
              "7      0.540577  0.125242  0.738742  0.183407  0.014455  0.025953  0.037443   \n",
              "8      0.179116  0.196168  0.226785  0.099655  0.147641  0.313788  0.212130   \n",
              "9      0.566810  0.234047  0.672066  0.204894  0.026725  0.031589  0.064726   \n",
              "\n",
              "            date  \n",
              "label             \n",
              "0      95.467843  \n",
              "1      84.924607  \n",
              "2      89.310815  \n",
              "3      85.141521  \n",
              "4      89.885356  \n",
              "5      92.755291  \n",
              "6      86.956366  \n",
              "7      97.632431  \n",
              "8      86.574789  \n",
              "9      86.418614  \n",
              "\n",
              "[10 rows x 32 columns]"
            ],
            "text/html": [
              "\n",
              "  <div id=\"df-f97915d7-2a0b-4aaa-ab44-6f4adee49e48\">\n",
              "    <div class=\"colab-df-container\">\n",
              "      <div>\n",
              "<style scoped>\n",
              "    .dataframe tbody tr th:only-of-type {\n",
              "        vertical-align: middle;\n",
              "    }\n",
              "\n",
              "    .dataframe tbody tr th {\n",
              "        vertical-align: top;\n",
              "    }\n",
              "\n",
              "    .dataframe thead th {\n",
              "        text-align: right;\n",
              "    }\n",
              "</style>\n",
              "<table border=\"1\" class=\"dataframe\">\n",
              "  <thead>\n",
              "    <tr style=\"text-align: right;\">\n",
              "      <th></th>\n",
              "      <th>m_cost</th>\n",
              "      <th>m_buys</th>\n",
              "      <th>ma_fem_dv</th>\n",
              "      <th>ages</th>\n",
              "      <th>zon_hlv</th>\n",
              "      <th>chnl_dv</th>\n",
              "      <th>buy_am</th>\n",
              "      <th>buy_ct</th>\n",
              "      <th>A1</th>\n",
              "      <th>A2</th>\n",
              "      <th>...</th>\n",
              "      <th>m0</th>\n",
              "      <th>m1</th>\n",
              "      <th>m2</th>\n",
              "      <th>m3</th>\n",
              "      <th>r0</th>\n",
              "      <th>r1</th>\n",
              "      <th>r2</th>\n",
              "      <th>r3</th>\n",
              "      <th>r4</th>\n",
              "      <th>date</th>\n",
              "    </tr>\n",
              "    <tr>\n",
              "      <th>label</th>\n",
              "      <th></th>\n",
              "      <th></th>\n",
              "      <th></th>\n",
              "      <th></th>\n",
              "      <th></th>\n",
              "      <th></th>\n",
              "      <th></th>\n",
              "      <th></th>\n",
              "      <th></th>\n",
              "      <th></th>\n",
              "      <th></th>\n",
              "      <th></th>\n",
              "      <th></th>\n",
              "      <th></th>\n",
              "      <th></th>\n",
              "      <th></th>\n",
              "      <th></th>\n",
              "      <th></th>\n",
              "      <th></th>\n",
              "      <th></th>\n",
              "      <th></th>\n",
              "    </tr>\n",
              "  </thead>\n",
              "  <tbody>\n",
              "    <tr>\n",
              "      <th>0</th>\n",
              "      <td>15524.458547</td>\n",
              "      <td>180.041899</td>\n",
              "      <td>1.000000</td>\n",
              "      <td>39.934823</td>\n",
              "      <td>0.582868</td>\n",
              "      <td>1.019560</td>\n",
              "      <td>15923.449219</td>\n",
              "      <td>1.418388</td>\n",
              "      <td>0.131927</td>\n",
              "      <td>0.084694</td>\n",
              "      <td>...</td>\n",
              "      <td>0.079419</td>\n",
              "      <td>0.194861</td>\n",
              "      <td>0.554513</td>\n",
              "      <td>0.171208</td>\n",
              "      <td>0.722072</td>\n",
              "      <td>0.181437</td>\n",
              "      <td>0.020171</td>\n",
              "      <td>0.033840</td>\n",
              "      <td>0.042481</td>\n",
              "      <td>95.467843</td>\n",
              "    </tr>\n",
              "    <tr>\n",
              "      <th>1</th>\n",
              "      <td>15307.684043</td>\n",
              "      <td>458.034464</td>\n",
              "      <td>1.000000</td>\n",
              "      <td>44.987030</td>\n",
              "      <td>0.000000</td>\n",
              "      <td>1.088611</td>\n",
              "      <td>15440.152042</td>\n",
              "      <td>1.388019</td>\n",
              "      <td>0.111385</td>\n",
              "      <td>0.864298</td>\n",
              "      <td>...</td>\n",
              "      <td>0.161982</td>\n",
              "      <td>0.043109</td>\n",
              "      <td>0.536026</td>\n",
              "      <td>0.258884</td>\n",
              "      <td>0.663104</td>\n",
              "      <td>0.211658</td>\n",
              "      <td>0.034044</td>\n",
              "      <td>0.038837</td>\n",
              "      <td>0.052356</td>\n",
              "      <td>84.924607</td>\n",
              "    </tr>\n",
              "    <tr>\n",
              "      <th>2</th>\n",
              "      <td>75878.001275</td>\n",
              "      <td>107.952794</td>\n",
              "      <td>0.000000</td>\n",
              "      <td>43.941942</td>\n",
              "      <td>0.554531</td>\n",
              "      <td>1.152656</td>\n",
              "      <td>135610.076961</td>\n",
              "      <td>1.222155</td>\n",
              "      <td>0.824677</td>\n",
              "      <td>0.095953</td>\n",
              "      <td>...</td>\n",
              "      <td>0.298133</td>\n",
              "      <td>0.327874</td>\n",
              "      <td>0.163752</td>\n",
              "      <td>0.210241</td>\n",
              "      <td>0.210379</td>\n",
              "      <td>0.102663</td>\n",
              "      <td>0.149978</td>\n",
              "      <td>0.314293</td>\n",
              "      <td>0.222687</td>\n",
              "      <td>89.310815</td>\n",
              "    </tr>\n",
              "    <tr>\n",
              "      <th>3</th>\n",
              "      <td>15302.560818</td>\n",
              "      <td>480.823592</td>\n",
              "      <td>1.000000</td>\n",
              "      <td>46.181353</td>\n",
              "      <td>1.000000</td>\n",
              "      <td>1.110633</td>\n",
              "      <td>15503.055589</td>\n",
              "      <td>1.321256</td>\n",
              "      <td>0.130504</td>\n",
              "      <td>0.840478</td>\n",
              "      <td>...</td>\n",
              "      <td>0.159370</td>\n",
              "      <td>0.036199</td>\n",
              "      <td>0.547482</td>\n",
              "      <td>0.256950</td>\n",
              "      <td>0.679307</td>\n",
              "      <td>0.197934</td>\n",
              "      <td>0.028910</td>\n",
              "      <td>0.031961</td>\n",
              "      <td>0.061888</td>\n",
              "      <td>85.141521</td>\n",
              "    </tr>\n",
              "    <tr>\n",
              "      <th>4</th>\n",
              "      <td>54555.557835</td>\n",
              "      <td>149.683885</td>\n",
              "      <td>1.000000</td>\n",
              "      <td>43.654500</td>\n",
              "      <td>1.000000</td>\n",
              "      <td>1.107070</td>\n",
              "      <td>93100.359809</td>\n",
              "      <td>1.177932</td>\n",
              "      <td>0.805251</td>\n",
              "      <td>0.145391</td>\n",
              "      <td>...</td>\n",
              "      <td>0.319310</td>\n",
              "      <td>0.264558</td>\n",
              "      <td>0.205218</td>\n",
              "      <td>0.210915</td>\n",
              "      <td>0.262471</td>\n",
              "      <td>0.114942</td>\n",
              "      <td>0.126958</td>\n",
              "      <td>0.256947</td>\n",
              "      <td>0.238681</td>\n",
              "      <td>89.885356</td>\n",
              "    </tr>\n",
              "    <tr>\n",
              "      <th>5</th>\n",
              "      <td>84228.777431</td>\n",
              "      <td>26.693676</td>\n",
              "      <td>0.561265</td>\n",
              "      <td>44.851779</td>\n",
              "      <td>0.515810</td>\n",
              "      <td>1.197681</td>\n",
              "      <td>152436.643766</td>\n",
              "      <td>1.090534</td>\n",
              "      <td>0.614701</td>\n",
              "      <td>0.044049</td>\n",
              "      <td>...</td>\n",
              "      <td>0.910376</td>\n",
              "      <td>0.021594</td>\n",
              "      <td>0.025233</td>\n",
              "      <td>0.042798</td>\n",
              "      <td>0.026997</td>\n",
              "      <td>0.022222</td>\n",
              "      <td>0.041917</td>\n",
              "      <td>0.020063</td>\n",
              "      <td>0.888802</td>\n",
              "      <td>92.755291</td>\n",
              "    </tr>\n",
              "    <tr>\n",
              "      <th>6</th>\n",
              "      <td>15935.577831</td>\n",
              "      <td>382.178887</td>\n",
              "      <td>0.000000</td>\n",
              "      <td>45.132509</td>\n",
              "      <td>0.000000</td>\n",
              "      <td>1.053884</td>\n",
              "      <td>16729.543016</td>\n",
              "      <td>1.384762</td>\n",
              "      <td>0.104778</td>\n",
              "      <td>0.848369</td>\n",
              "      <td>...</td>\n",
              "      <td>0.158709</td>\n",
              "      <td>0.046245</td>\n",
              "      <td>0.555066</td>\n",
              "      <td>0.239980</td>\n",
              "      <td>0.664301</td>\n",
              "      <td>0.215433</td>\n",
              "      <td>0.031951</td>\n",
              "      <td>0.035632</td>\n",
              "      <td>0.052683</td>\n",
              "      <td>86.956366</td>\n",
              "    </tr>\n",
              "    <tr>\n",
              "      <th>7</th>\n",
              "      <td>14527.196086</td>\n",
              "      <td>204.751479</td>\n",
              "      <td>0.000000</td>\n",
              "      <td>40.722739</td>\n",
              "      <td>0.553677</td>\n",
              "      <td>1.014324</td>\n",
              "      <td>13807.312176</td>\n",
              "      <td>1.364817</td>\n",
              "      <td>0.095022</td>\n",
              "      <td>0.075241</td>\n",
              "      <td>...</td>\n",
              "      <td>0.063622</td>\n",
              "      <td>0.270559</td>\n",
              "      <td>0.540577</td>\n",
              "      <td>0.125242</td>\n",
              "      <td>0.738742</td>\n",
              "      <td>0.183407</td>\n",
              "      <td>0.014455</td>\n",
              "      <td>0.025953</td>\n",
              "      <td>0.037443</td>\n",
              "      <td>97.632431</td>\n",
              "    </tr>\n",
              "    <tr>\n",
              "      <th>8</th>\n",
              "      <td>55338.323773</td>\n",
              "      <td>137.892157</td>\n",
              "      <td>1.000000</td>\n",
              "      <td>44.270588</td>\n",
              "      <td>0.000000</td>\n",
              "      <td>1.122074</td>\n",
              "      <td>94281.898424</td>\n",
              "      <td>1.166067</td>\n",
              "      <td>0.827349</td>\n",
              "      <td>0.123480</td>\n",
              "      <td>...</td>\n",
              "      <td>0.304438</td>\n",
              "      <td>0.320278</td>\n",
              "      <td>0.179116</td>\n",
              "      <td>0.196168</td>\n",
              "      <td>0.226785</td>\n",
              "      <td>0.099655</td>\n",
              "      <td>0.147641</td>\n",
              "      <td>0.313788</td>\n",
              "      <td>0.212130</td>\n",
              "      <td>86.574789</td>\n",
              "    </tr>\n",
              "    <tr>\n",
              "      <th>9</th>\n",
              "      <td>17423.243535</td>\n",
              "      <td>435.726632</td>\n",
              "      <td>0.000000</td>\n",
              "      <td>45.411721</td>\n",
              "      <td>1.000000</td>\n",
              "      <td>1.084650</td>\n",
              "      <td>19719.351594</td>\n",
              "      <td>1.336587</td>\n",
              "      <td>0.138048</td>\n",
              "      <td>0.798563</td>\n",
              "      <td>...</td>\n",
              "      <td>0.154885</td>\n",
              "      <td>0.044258</td>\n",
              "      <td>0.566810</td>\n",
              "      <td>0.234047</td>\n",
              "      <td>0.672066</td>\n",
              "      <td>0.204894</td>\n",
              "      <td>0.026725</td>\n",
              "      <td>0.031589</td>\n",
              "      <td>0.064726</td>\n",
              "      <td>86.418614</td>\n",
              "    </tr>\n",
              "  </tbody>\n",
              "</table>\n",
              "<p>10 rows × 32 columns</p>\n",
              "</div>\n",
              "      <button class=\"colab-df-convert\" onclick=\"convertToInteractive('df-f97915d7-2a0b-4aaa-ab44-6f4adee49e48')\"\n",
              "              title=\"Convert this dataframe to an interactive table.\"\n",
              "              style=\"display:none;\">\n",
              "        \n",
              "  <svg xmlns=\"http://www.w3.org/2000/svg\" height=\"24px\"viewBox=\"0 0 24 24\"\n",
              "       width=\"24px\">\n",
              "    <path d=\"M0 0h24v24H0V0z\" fill=\"none\"/>\n",
              "    <path d=\"M18.56 5.44l.94 2.06.94-2.06 2.06-.94-2.06-.94-.94-2.06-.94 2.06-2.06.94zm-11 1L8.5 8.5l.94-2.06 2.06-.94-2.06-.94L8.5 2.5l-.94 2.06-2.06.94zm10 10l.94 2.06.94-2.06 2.06-.94-2.06-.94-.94-2.06-.94 2.06-2.06.94z\"/><path d=\"M17.41 7.96l-1.37-1.37c-.4-.4-.92-.59-1.43-.59-.52 0-1.04.2-1.43.59L10.3 9.45l-7.72 7.72c-.78.78-.78 2.05 0 2.83L4 21.41c.39.39.9.59 1.41.59.51 0 1.02-.2 1.41-.59l7.78-7.78 2.81-2.81c.8-.78.8-2.07 0-2.86zM5.41 20L4 18.59l7.72-7.72 1.47 1.35L5.41 20z\"/>\n",
              "  </svg>\n",
              "      </button>\n",
              "      \n",
              "  <style>\n",
              "    .colab-df-container {\n",
              "      display:flex;\n",
              "      flex-wrap:wrap;\n",
              "      gap: 12px;\n",
              "    }\n",
              "\n",
              "    .colab-df-convert {\n",
              "      background-color: #E8F0FE;\n",
              "      border: none;\n",
              "      border-radius: 50%;\n",
              "      cursor: pointer;\n",
              "      display: none;\n",
              "      fill: #1967D2;\n",
              "      height: 32px;\n",
              "      padding: 0 0 0 0;\n",
              "      width: 32px;\n",
              "    }\n",
              "\n",
              "    .colab-df-convert:hover {\n",
              "      background-color: #E2EBFA;\n",
              "      box-shadow: 0px 1px 2px rgba(60, 64, 67, 0.3), 0px 1px 3px 1px rgba(60, 64, 67, 0.15);\n",
              "      fill: #174EA6;\n",
              "    }\n",
              "\n",
              "    [theme=dark] .colab-df-convert {\n",
              "      background-color: #3B4455;\n",
              "      fill: #D2E3FC;\n",
              "    }\n",
              "\n",
              "    [theme=dark] .colab-df-convert:hover {\n",
              "      background-color: #434B5C;\n",
              "      box-shadow: 0px 1px 3px 1px rgba(0, 0, 0, 0.15);\n",
              "      filter: drop-shadow(0px 1px 2px rgba(0, 0, 0, 0.3));\n",
              "      fill: #FFFFFF;\n",
              "    }\n",
              "  </style>\n",
              "\n",
              "      <script>\n",
              "        const buttonEl =\n",
              "          document.querySelector('#df-f97915d7-2a0b-4aaa-ab44-6f4adee49e48 button.colab-df-convert');\n",
              "        buttonEl.style.display =\n",
              "          google.colab.kernel.accessAllowed ? 'block' : 'none';\n",
              "\n",
              "        async function convertToInteractive(key) {\n",
              "          const element = document.querySelector('#df-f97915d7-2a0b-4aaa-ab44-6f4adee49e48');\n",
              "          const dataTable =\n",
              "            await google.colab.kernel.invokeFunction('convertToInteractive',\n",
              "                                                     [key], {});\n",
              "          if (!dataTable) return;\n",
              "\n",
              "          const docLinkHtml = 'Like what you see? Visit the ' +\n",
              "            '<a target=\"_blank\" href=https://colab.research.google.com/notebooks/data_table.ipynb>data table notebook</a>'\n",
              "            + ' to learn more about interactive tables.';\n",
              "          element.innerHTML = '';\n",
              "          dataTable['output_type'] = 'display_data';\n",
              "          await google.colab.output.renderOutput(dataTable, element);\n",
              "          const docLink = document.createElement('div');\n",
              "          docLink.innerHTML = docLinkHtml;\n",
              "          element.appendChild(docLink);\n",
              "        }\n",
              "      </script>\n",
              "    </div>\n",
              "  </div>\n",
              "  "
            ]
          },
          "metadata": {},
          "execution_count": 43
        }
      ]
    },
    {
      "cell_type": "code",
      "source": [
        ""
      ],
      "metadata": {
        "id": "gUKV3oINKDCO"
      },
      "execution_count": null,
      "outputs": []
    }
  ]
}