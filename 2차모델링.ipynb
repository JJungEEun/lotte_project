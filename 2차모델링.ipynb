{
  "nbformat": 4,
  "nbformat_minor": 0,
  "metadata": {
    "colab": {
      "name": "2차모델링.ipynb",
      "provenance": [],
      "mount_file_id": "1pAzvPmXLCH4n-DZtTSAj0ZsH7q19txIG",
      "authorship_tag": "ABX9TyPLGFcHPGDW/wXn7/C2+Fcv",
      "include_colab_link": true
    },
    "kernelspec": {
      "name": "python3",
      "display_name": "Python 3"
    },
    "language_info": {
      "name": "python"
    }
  },
  "cells": [
    {
      "cell_type": "markdown",
      "metadata": {
        "id": "view-in-github",
        "colab_type": "text"
      },
      "source": [
        "<a href=\"https://colab.research.google.com/github/JJungEEun/lotte_project/blob/lattehauma-patch-1-1/2%EC%B0%A8%EB%AA%A8%EB%8D%B8%EB%A7%81.ipynb\" target=\"_parent\"><img src=\"https://colab.research.google.com/assets/colab-badge.svg\" alt=\"Open In Colab\"/></a>"
      ]
    },
    {
      "cell_type": "code",
      "execution_count": 1,
      "metadata": {
        "id": "XKn_IyPrjMPQ"
      },
      "outputs": [],
      "source": [
        "import pandas as pd\n",
        "import matplotlib.pyplot as plt\n",
        "import seaborn as sns\n",
        "import numpy as np"
      ]
    },
    {
      "cell_type": "code",
      "source": [
        "df1=pd.read_csv('/content/drive/MyDrive/colab/lotte/cust4.csv')"
      ],
      "metadata": {
        "id": "Zbikp0jJjXU8"
      },
      "execution_count": 2,
      "outputs": []
    },
    {
      "cell_type": "code",
      "source": [
        "df1['yes'] = df1['m_pd'].apply(lambda x: 1 if x=='M0032' else 0)"
      ],
      "metadata": {
        "id": "2RHgikT3j69X"
      },
      "execution_count": 3,
      "outputs": []
    },
    {
      "cell_type": "code",
      "source": [
        "df1.head()"
      ],
      "metadata": {
        "colab": {
          "base_uri": "https://localhost:8080/",
          "height": 317
        },
        "id": "89miCiVnkmvX",
        "outputId": "b6f17e99-7337-4acf-b8eb-633ed9db07f3"
      },
      "execution_count": 4,
      "outputs": [
        {
          "output_type": "execute_result",
          "data": {
            "text/plain": [
              "   Unnamed: 0  index        cust      rct_no_x de_hr_1     hrvar  royal1  \\\n",
              "0           0      0  M430112881  A01000001113     a_4  9.266085     0.0   \n",
              "1           1      1  M646853852  A01000002265     a_4  1.676490     1.0   \n",
              "2           2      2  M430112881  A01000003148     a_4  9.266085     0.0   \n",
              "3           3      3  M430112881  A01000003148     a_4  9.266085     0.0   \n",
              "4           4      4  M430112881  A01000004946     a_4  9.266085     0.0   \n",
              "\n",
              "   royal2  royal3 weekday  ... de_hr  ma_fem_dv ages zon_hlv weat rain_n  \\\n",
              "0     1.0     0.0     fri  ...    10         여성  50대     Z17   sp    0.0   \n",
              "1     0.0     0.0     fri  ...    10         여성  40대     Z13   sp    0.0   \n",
              "2     1.0     0.0     fri  ...    10         여성  50대     Z17   sp    0.0   \n",
              "3     1.0     0.0     fri  ...    10         여성  50대     Z17   sp    0.0   \n",
              "4     1.0     0.0     fri  ...    10         여성  50대     Z17   sp    0.0   \n",
              "\n",
              "   temp   l_pd   m_pd yes  \n",
              "0  -4.2  L0013  M0058   0  \n",
              "1  -4.2  L0048  M0298   0  \n",
              "2  -4.2  L0013  M0058   0  \n",
              "3  -4.2  L0013  M0058   0  \n",
              "4  -4.2  L0013  M0058   0  \n",
              "\n",
              "[5 rows x 21 columns]"
            ],
            "text/html": [
              "\n",
              "  <div id=\"df-a8fedf15-1dd8-4866-937b-e7409ae9594e\">\n",
              "    <div class=\"colab-df-container\">\n",
              "      <div>\n",
              "<style scoped>\n",
              "    .dataframe tbody tr th:only-of-type {\n",
              "        vertical-align: middle;\n",
              "    }\n",
              "\n",
              "    .dataframe tbody tr th {\n",
              "        vertical-align: top;\n",
              "    }\n",
              "\n",
              "    .dataframe thead th {\n",
              "        text-align: right;\n",
              "    }\n",
              "</style>\n",
              "<table border=\"1\" class=\"dataframe\">\n",
              "  <thead>\n",
              "    <tr style=\"text-align: right;\">\n",
              "      <th></th>\n",
              "      <th>Unnamed: 0</th>\n",
              "      <th>index</th>\n",
              "      <th>cust</th>\n",
              "      <th>rct_no_x</th>\n",
              "      <th>de_hr_1</th>\n",
              "      <th>hrvar</th>\n",
              "      <th>royal1</th>\n",
              "      <th>royal2</th>\n",
              "      <th>royal3</th>\n",
              "      <th>weekday</th>\n",
              "      <th>...</th>\n",
              "      <th>de_hr</th>\n",
              "      <th>ma_fem_dv</th>\n",
              "      <th>ages</th>\n",
              "      <th>zon_hlv</th>\n",
              "      <th>weat</th>\n",
              "      <th>rain_n</th>\n",
              "      <th>temp</th>\n",
              "      <th>l_pd</th>\n",
              "      <th>m_pd</th>\n",
              "      <th>yes</th>\n",
              "    </tr>\n",
              "  </thead>\n",
              "  <tbody>\n",
              "    <tr>\n",
              "      <th>0</th>\n",
              "      <td>0</td>\n",
              "      <td>0</td>\n",
              "      <td>M430112881</td>\n",
              "      <td>A01000001113</td>\n",
              "      <td>a_4</td>\n",
              "      <td>9.266085</td>\n",
              "      <td>0.0</td>\n",
              "      <td>1.0</td>\n",
              "      <td>0.0</td>\n",
              "      <td>fri</td>\n",
              "      <td>...</td>\n",
              "      <td>10</td>\n",
              "      <td>여성</td>\n",
              "      <td>50대</td>\n",
              "      <td>Z17</td>\n",
              "      <td>sp</td>\n",
              "      <td>0.0</td>\n",
              "      <td>-4.2</td>\n",
              "      <td>L0013</td>\n",
              "      <td>M0058</td>\n",
              "      <td>0</td>\n",
              "    </tr>\n",
              "    <tr>\n",
              "      <th>1</th>\n",
              "      <td>1</td>\n",
              "      <td>1</td>\n",
              "      <td>M646853852</td>\n",
              "      <td>A01000002265</td>\n",
              "      <td>a_4</td>\n",
              "      <td>1.676490</td>\n",
              "      <td>1.0</td>\n",
              "      <td>0.0</td>\n",
              "      <td>0.0</td>\n",
              "      <td>fri</td>\n",
              "      <td>...</td>\n",
              "      <td>10</td>\n",
              "      <td>여성</td>\n",
              "      <td>40대</td>\n",
              "      <td>Z13</td>\n",
              "      <td>sp</td>\n",
              "      <td>0.0</td>\n",
              "      <td>-4.2</td>\n",
              "      <td>L0048</td>\n",
              "      <td>M0298</td>\n",
              "      <td>0</td>\n",
              "    </tr>\n",
              "    <tr>\n",
              "      <th>2</th>\n",
              "      <td>2</td>\n",
              "      <td>2</td>\n",
              "      <td>M430112881</td>\n",
              "      <td>A01000003148</td>\n",
              "      <td>a_4</td>\n",
              "      <td>9.266085</td>\n",
              "      <td>0.0</td>\n",
              "      <td>1.0</td>\n",
              "      <td>0.0</td>\n",
              "      <td>fri</td>\n",
              "      <td>...</td>\n",
              "      <td>10</td>\n",
              "      <td>여성</td>\n",
              "      <td>50대</td>\n",
              "      <td>Z17</td>\n",
              "      <td>sp</td>\n",
              "      <td>0.0</td>\n",
              "      <td>-4.2</td>\n",
              "      <td>L0013</td>\n",
              "      <td>M0058</td>\n",
              "      <td>0</td>\n",
              "    </tr>\n",
              "    <tr>\n",
              "      <th>3</th>\n",
              "      <td>3</td>\n",
              "      <td>3</td>\n",
              "      <td>M430112881</td>\n",
              "      <td>A01000003148</td>\n",
              "      <td>a_4</td>\n",
              "      <td>9.266085</td>\n",
              "      <td>0.0</td>\n",
              "      <td>1.0</td>\n",
              "      <td>0.0</td>\n",
              "      <td>fri</td>\n",
              "      <td>...</td>\n",
              "      <td>10</td>\n",
              "      <td>여성</td>\n",
              "      <td>50대</td>\n",
              "      <td>Z17</td>\n",
              "      <td>sp</td>\n",
              "      <td>0.0</td>\n",
              "      <td>-4.2</td>\n",
              "      <td>L0013</td>\n",
              "      <td>M0058</td>\n",
              "      <td>0</td>\n",
              "    </tr>\n",
              "    <tr>\n",
              "      <th>4</th>\n",
              "      <td>4</td>\n",
              "      <td>4</td>\n",
              "      <td>M430112881</td>\n",
              "      <td>A01000004946</td>\n",
              "      <td>a_4</td>\n",
              "      <td>9.266085</td>\n",
              "      <td>0.0</td>\n",
              "      <td>1.0</td>\n",
              "      <td>0.0</td>\n",
              "      <td>fri</td>\n",
              "      <td>...</td>\n",
              "      <td>10</td>\n",
              "      <td>여성</td>\n",
              "      <td>50대</td>\n",
              "      <td>Z17</td>\n",
              "      <td>sp</td>\n",
              "      <td>0.0</td>\n",
              "      <td>-4.2</td>\n",
              "      <td>L0013</td>\n",
              "      <td>M0058</td>\n",
              "      <td>0</td>\n",
              "    </tr>\n",
              "  </tbody>\n",
              "</table>\n",
              "<p>5 rows × 21 columns</p>\n",
              "</div>\n",
              "      <button class=\"colab-df-convert\" onclick=\"convertToInteractive('df-a8fedf15-1dd8-4866-937b-e7409ae9594e')\"\n",
              "              title=\"Convert this dataframe to an interactive table.\"\n",
              "              style=\"display:none;\">\n",
              "        \n",
              "  <svg xmlns=\"http://www.w3.org/2000/svg\" height=\"24px\"viewBox=\"0 0 24 24\"\n",
              "       width=\"24px\">\n",
              "    <path d=\"M0 0h24v24H0V0z\" fill=\"none\"/>\n",
              "    <path d=\"M18.56 5.44l.94 2.06.94-2.06 2.06-.94-2.06-.94-.94-2.06-.94 2.06-2.06.94zm-11 1L8.5 8.5l.94-2.06 2.06-.94-2.06-.94L8.5 2.5l-.94 2.06-2.06.94zm10 10l.94 2.06.94-2.06 2.06-.94-2.06-.94-.94-2.06-.94 2.06-2.06.94z\"/><path d=\"M17.41 7.96l-1.37-1.37c-.4-.4-.92-.59-1.43-.59-.52 0-1.04.2-1.43.59L10.3 9.45l-7.72 7.72c-.78.78-.78 2.05 0 2.83L4 21.41c.39.39.9.59 1.41.59.51 0 1.02-.2 1.41-.59l7.78-7.78 2.81-2.81c.8-.78.8-2.07 0-2.86zM5.41 20L4 18.59l7.72-7.72 1.47 1.35L5.41 20z\"/>\n",
              "  </svg>\n",
              "      </button>\n",
              "      \n",
              "  <style>\n",
              "    .colab-df-container {\n",
              "      display:flex;\n",
              "      flex-wrap:wrap;\n",
              "      gap: 12px;\n",
              "    }\n",
              "\n",
              "    .colab-df-convert {\n",
              "      background-color: #E8F0FE;\n",
              "      border: none;\n",
              "      border-radius: 50%;\n",
              "      cursor: pointer;\n",
              "      display: none;\n",
              "      fill: #1967D2;\n",
              "      height: 32px;\n",
              "      padding: 0 0 0 0;\n",
              "      width: 32px;\n",
              "    }\n",
              "\n",
              "    .colab-df-convert:hover {\n",
              "      background-color: #E2EBFA;\n",
              "      box-shadow: 0px 1px 2px rgba(60, 64, 67, 0.3), 0px 1px 3px 1px rgba(60, 64, 67, 0.15);\n",
              "      fill: #174EA6;\n",
              "    }\n",
              "\n",
              "    [theme=dark] .colab-df-convert {\n",
              "      background-color: #3B4455;\n",
              "      fill: #D2E3FC;\n",
              "    }\n",
              "\n",
              "    [theme=dark] .colab-df-convert:hover {\n",
              "      background-color: #434B5C;\n",
              "      box-shadow: 0px 1px 3px 1px rgba(0, 0, 0, 0.15);\n",
              "      filter: drop-shadow(0px 1px 2px rgba(0, 0, 0, 0.3));\n",
              "      fill: #FFFFFF;\n",
              "    }\n",
              "  </style>\n",
              "\n",
              "      <script>\n",
              "        const buttonEl =\n",
              "          document.querySelector('#df-a8fedf15-1dd8-4866-937b-e7409ae9594e button.colab-df-convert');\n",
              "        buttonEl.style.display =\n",
              "          google.colab.kernel.accessAllowed ? 'block' : 'none';\n",
              "\n",
              "        async function convertToInteractive(key) {\n",
              "          const element = document.querySelector('#df-a8fedf15-1dd8-4866-937b-e7409ae9594e');\n",
              "          const dataTable =\n",
              "            await google.colab.kernel.invokeFunction('convertToInteractive',\n",
              "                                                     [key], {});\n",
              "          if (!dataTable) return;\n",
              "\n",
              "          const docLinkHtml = 'Like what you see? Visit the ' +\n",
              "            '<a target=\"_blank\" href=https://colab.research.google.com/notebooks/data_table.ipynb>data table notebook</a>'\n",
              "            + ' to learn more about interactive tables.';\n",
              "          element.innerHTML = '';\n",
              "          dataTable['output_type'] = 'display_data';\n",
              "          await google.colab.output.renderOutput(dataTable, element);\n",
              "          const docLink = document.createElement('div');\n",
              "          docLink.innerHTML = docLinkHtml;\n",
              "          element.appendChild(docLink);\n",
              "        }\n",
              "      </script>\n",
              "    </div>\n",
              "  </div>\n",
              "  "
            ]
          },
          "metadata": {},
          "execution_count": 4
        }
      ]
    },
    {
      "cell_type": "code",
      "source": [
        "df1['yes'].value_counts()"
      ],
      "metadata": {
        "colab": {
          "base_uri": "https://localhost:8080/"
        },
        "id": "_LIYsmULkqhg",
        "outputId": "f9f81806-b01f-43a3-8a83-4af585dbf653"
      },
      "execution_count": 5,
      "outputs": [
        {
          "output_type": "execute_result",
          "data": {
            "text/plain": [
              "0    4240519\n",
              "1     118727\n",
              "Name: yes, dtype: int64"
            ]
          },
          "metadata": {},
          "execution_count": 5
        }
      ]
    },
    {
      "cell_type": "code",
      "source": [
        "df1.columns"
      ],
      "metadata": {
        "colab": {
          "base_uri": "https://localhost:8080/"
        },
        "id": "jcAPWrVvliyc",
        "outputId": "f65fb8ba-d314-4826-fa6e-f277f26dc937"
      },
      "execution_count": 6,
      "outputs": [
        {
          "output_type": "execute_result",
          "data": {
            "text/plain": [
              "Index(['Unnamed: 0', 'index', 'cust', 'rct_no_x', 'de_hr_1', 'hrvar', 'royal1',\n",
              "       'royal2', 'royal3', 'weekday', 'rct_no_y', 'de_hr', 'ma_fem_dv', 'ages',\n",
              "       'zon_hlv', 'weat', 'rain_n', 'temp', 'l_pd', 'm_pd', 'yes'],\n",
              "      dtype='object')"
            ]
          },
          "metadata": {},
          "execution_count": 6
        }
      ]
    },
    {
      "cell_type": "markdown",
      "source": [
        "## 로지스틱 회귀모형"
      ],
      "metadata": {
        "id": "x4pVcldFlaHn"
      }
    },
    {
      "cell_type": "code",
      "source": [
        "x=df1[['de_hr_1','ma_fem_dv','ages','zon_hlv','weat','rain_n','temp',\n",
        "       'hrvar','royal1','royal2','royal3','weekday']]\n",
        "y=df1['yes']"
      ],
      "metadata": {
        "id": "JvjdU7Buk_38"
      },
      "execution_count": 7,
      "outputs": []
    },
    {
      "cell_type": "code",
      "source": [
        "x.head()"
      ],
      "metadata": {
        "colab": {
          "base_uri": "https://localhost:8080/",
          "height": 206
        },
        "id": "Eltw24k2Cd1j",
        "outputId": "10d8ff76-8843-4dc4-b097-a0b29931a333"
      },
      "execution_count": 8,
      "outputs": [
        {
          "output_type": "execute_result",
          "data": {
            "text/plain": [
              "  de_hr_1 ma_fem_dv ages zon_hlv weat  rain_n  temp     hrvar  royal1  royal2  \\\n",
              "0     a_4        여성  50대     Z17   sp     0.0  -4.2  9.266085     0.0     1.0   \n",
              "1     a_4        여성  40대     Z13   sp     0.0  -4.2  1.676490     1.0     0.0   \n",
              "2     a_4        여성  50대     Z17   sp     0.0  -4.2  9.266085     0.0     1.0   \n",
              "3     a_4        여성  50대     Z17   sp     0.0  -4.2  9.266085     0.0     1.0   \n",
              "4     a_4        여성  50대     Z17   sp     0.0  -4.2  9.266085     0.0     1.0   \n",
              "\n",
              "   royal3 weekday  \n",
              "0     0.0     fri  \n",
              "1     0.0     fri  \n",
              "2     0.0     fri  \n",
              "3     0.0     fri  \n",
              "4     0.0     fri  "
            ],
            "text/html": [
              "\n",
              "  <div id=\"df-7c3a19e0-b3d6-4ee9-a28a-0d5e76eca878\">\n",
              "    <div class=\"colab-df-container\">\n",
              "      <div>\n",
              "<style scoped>\n",
              "    .dataframe tbody tr th:only-of-type {\n",
              "        vertical-align: middle;\n",
              "    }\n",
              "\n",
              "    .dataframe tbody tr th {\n",
              "        vertical-align: top;\n",
              "    }\n",
              "\n",
              "    .dataframe thead th {\n",
              "        text-align: right;\n",
              "    }\n",
              "</style>\n",
              "<table border=\"1\" class=\"dataframe\">\n",
              "  <thead>\n",
              "    <tr style=\"text-align: right;\">\n",
              "      <th></th>\n",
              "      <th>de_hr_1</th>\n",
              "      <th>ma_fem_dv</th>\n",
              "      <th>ages</th>\n",
              "      <th>zon_hlv</th>\n",
              "      <th>weat</th>\n",
              "      <th>rain_n</th>\n",
              "      <th>temp</th>\n",
              "      <th>hrvar</th>\n",
              "      <th>royal1</th>\n",
              "      <th>royal2</th>\n",
              "      <th>royal3</th>\n",
              "      <th>weekday</th>\n",
              "    </tr>\n",
              "  </thead>\n",
              "  <tbody>\n",
              "    <tr>\n",
              "      <th>0</th>\n",
              "      <td>a_4</td>\n",
              "      <td>여성</td>\n",
              "      <td>50대</td>\n",
              "      <td>Z17</td>\n",
              "      <td>sp</td>\n",
              "      <td>0.0</td>\n",
              "      <td>-4.2</td>\n",
              "      <td>9.266085</td>\n",
              "      <td>0.0</td>\n",
              "      <td>1.0</td>\n",
              "      <td>0.0</td>\n",
              "      <td>fri</td>\n",
              "    </tr>\n",
              "    <tr>\n",
              "      <th>1</th>\n",
              "      <td>a_4</td>\n",
              "      <td>여성</td>\n",
              "      <td>40대</td>\n",
              "      <td>Z13</td>\n",
              "      <td>sp</td>\n",
              "      <td>0.0</td>\n",
              "      <td>-4.2</td>\n",
              "      <td>1.676490</td>\n",
              "      <td>1.0</td>\n",
              "      <td>0.0</td>\n",
              "      <td>0.0</td>\n",
              "      <td>fri</td>\n",
              "    </tr>\n",
              "    <tr>\n",
              "      <th>2</th>\n",
              "      <td>a_4</td>\n",
              "      <td>여성</td>\n",
              "      <td>50대</td>\n",
              "      <td>Z17</td>\n",
              "      <td>sp</td>\n",
              "      <td>0.0</td>\n",
              "      <td>-4.2</td>\n",
              "      <td>9.266085</td>\n",
              "      <td>0.0</td>\n",
              "      <td>1.0</td>\n",
              "      <td>0.0</td>\n",
              "      <td>fri</td>\n",
              "    </tr>\n",
              "    <tr>\n",
              "      <th>3</th>\n",
              "      <td>a_4</td>\n",
              "      <td>여성</td>\n",
              "      <td>50대</td>\n",
              "      <td>Z17</td>\n",
              "      <td>sp</td>\n",
              "      <td>0.0</td>\n",
              "      <td>-4.2</td>\n",
              "      <td>9.266085</td>\n",
              "      <td>0.0</td>\n",
              "      <td>1.0</td>\n",
              "      <td>0.0</td>\n",
              "      <td>fri</td>\n",
              "    </tr>\n",
              "    <tr>\n",
              "      <th>4</th>\n",
              "      <td>a_4</td>\n",
              "      <td>여성</td>\n",
              "      <td>50대</td>\n",
              "      <td>Z17</td>\n",
              "      <td>sp</td>\n",
              "      <td>0.0</td>\n",
              "      <td>-4.2</td>\n",
              "      <td>9.266085</td>\n",
              "      <td>0.0</td>\n",
              "      <td>1.0</td>\n",
              "      <td>0.0</td>\n",
              "      <td>fri</td>\n",
              "    </tr>\n",
              "  </tbody>\n",
              "</table>\n",
              "</div>\n",
              "      <button class=\"colab-df-convert\" onclick=\"convertToInteractive('df-7c3a19e0-b3d6-4ee9-a28a-0d5e76eca878')\"\n",
              "              title=\"Convert this dataframe to an interactive table.\"\n",
              "              style=\"display:none;\">\n",
              "        \n",
              "  <svg xmlns=\"http://www.w3.org/2000/svg\" height=\"24px\"viewBox=\"0 0 24 24\"\n",
              "       width=\"24px\">\n",
              "    <path d=\"M0 0h24v24H0V0z\" fill=\"none\"/>\n",
              "    <path d=\"M18.56 5.44l.94 2.06.94-2.06 2.06-.94-2.06-.94-.94-2.06-.94 2.06-2.06.94zm-11 1L8.5 8.5l.94-2.06 2.06-.94-2.06-.94L8.5 2.5l-.94 2.06-2.06.94zm10 10l.94 2.06.94-2.06 2.06-.94-2.06-.94-.94-2.06-.94 2.06-2.06.94z\"/><path d=\"M17.41 7.96l-1.37-1.37c-.4-.4-.92-.59-1.43-.59-.52 0-1.04.2-1.43.59L10.3 9.45l-7.72 7.72c-.78.78-.78 2.05 0 2.83L4 21.41c.39.39.9.59 1.41.59.51 0 1.02-.2 1.41-.59l7.78-7.78 2.81-2.81c.8-.78.8-2.07 0-2.86zM5.41 20L4 18.59l7.72-7.72 1.47 1.35L5.41 20z\"/>\n",
              "  </svg>\n",
              "      </button>\n",
              "      \n",
              "  <style>\n",
              "    .colab-df-container {\n",
              "      display:flex;\n",
              "      flex-wrap:wrap;\n",
              "      gap: 12px;\n",
              "    }\n",
              "\n",
              "    .colab-df-convert {\n",
              "      background-color: #E8F0FE;\n",
              "      border: none;\n",
              "      border-radius: 50%;\n",
              "      cursor: pointer;\n",
              "      display: none;\n",
              "      fill: #1967D2;\n",
              "      height: 32px;\n",
              "      padding: 0 0 0 0;\n",
              "      width: 32px;\n",
              "    }\n",
              "\n",
              "    .colab-df-convert:hover {\n",
              "      background-color: #E2EBFA;\n",
              "      box-shadow: 0px 1px 2px rgba(60, 64, 67, 0.3), 0px 1px 3px 1px rgba(60, 64, 67, 0.15);\n",
              "      fill: #174EA6;\n",
              "    }\n",
              "\n",
              "    [theme=dark] .colab-df-convert {\n",
              "      background-color: #3B4455;\n",
              "      fill: #D2E3FC;\n",
              "    }\n",
              "\n",
              "    [theme=dark] .colab-df-convert:hover {\n",
              "      background-color: #434B5C;\n",
              "      box-shadow: 0px 1px 3px 1px rgba(0, 0, 0, 0.15);\n",
              "      filter: drop-shadow(0px 1px 2px rgba(0, 0, 0, 0.3));\n",
              "      fill: #FFFFFF;\n",
              "    }\n",
              "  </style>\n",
              "\n",
              "      <script>\n",
              "        const buttonEl =\n",
              "          document.querySelector('#df-7c3a19e0-b3d6-4ee9-a28a-0d5e76eca878 button.colab-df-convert');\n",
              "        buttonEl.style.display =\n",
              "          google.colab.kernel.accessAllowed ? 'block' : 'none';\n",
              "\n",
              "        async function convertToInteractive(key) {\n",
              "          const element = document.querySelector('#df-7c3a19e0-b3d6-4ee9-a28a-0d5e76eca878');\n",
              "          const dataTable =\n",
              "            await google.colab.kernel.invokeFunction('convertToInteractive',\n",
              "                                                     [key], {});\n",
              "          if (!dataTable) return;\n",
              "\n",
              "          const docLinkHtml = 'Like what you see? Visit the ' +\n",
              "            '<a target=\"_blank\" href=https://colab.research.google.com/notebooks/data_table.ipynb>data table notebook</a>'\n",
              "            + ' to learn more about interactive tables.';\n",
              "          element.innerHTML = '';\n",
              "          dataTable['output_type'] = 'display_data';\n",
              "          await google.colab.output.renderOutput(dataTable, element);\n",
              "          const docLink = document.createElement('div');\n",
              "          docLink.innerHTML = docLinkHtml;\n",
              "          element.appendChild(docLink);\n",
              "        }\n",
              "      </script>\n",
              "    </div>\n",
              "  </div>\n",
              "  "
            ]
          },
          "metadata": {},
          "execution_count": 8
        }
      ]
    },
    {
      "cell_type": "markdown",
      "source": [
        "원핫인코딩..해야겠지?\n"
      ],
      "metadata": {
        "id": "Y2e08jD8mZ5R"
      }
    },
    {
      "cell_type": "code",
      "source": [
        "from sklearn.preprocessing import LabelEncoder\n",
        "classle=LabelEncoder()\n",
        "x['de_hr_1']=classle.fit_transform(x['de_hr_1'].values)\n",
        "x['weekday']=classle.fit_transform(x['weekday'].values)\n",
        "x['ma_fem_dv']=classle.fit_transform(x['ma_fem_dv'].values)\n",
        "x['ages']=classle.fit_transform(x['ages'].values)\n",
        "x['zon_hlv']=classle.fit_transform(x['zon_hlv'].values)\n",
        "x['weat']=classle.fit_transform(x['weat'].values)"
      ],
      "metadata": {
        "colab": {
          "base_uri": "https://localhost:8080/"
        },
        "id": "ge2pB-BXmVKK",
        "outputId": "d75e0f14-0491-4160-beaf-72fa8a480fbc"
      },
      "execution_count": 9,
      "outputs": [
        {
          "output_type": "stream",
          "name": "stderr",
          "text": [
            "/usr/local/lib/python3.7/dist-packages/ipykernel_launcher.py:3: SettingWithCopyWarning: \n",
            "A value is trying to be set on a copy of a slice from a DataFrame.\n",
            "Try using .loc[row_indexer,col_indexer] = value instead\n",
            "\n",
            "See the caveats in the documentation: https://pandas.pydata.org/pandas-docs/stable/user_guide/indexing.html#returning-a-view-versus-a-copy\n",
            "  This is separate from the ipykernel package so we can avoid doing imports until\n",
            "/usr/local/lib/python3.7/dist-packages/ipykernel_launcher.py:4: SettingWithCopyWarning: \n",
            "A value is trying to be set on a copy of a slice from a DataFrame.\n",
            "Try using .loc[row_indexer,col_indexer] = value instead\n",
            "\n",
            "See the caveats in the documentation: https://pandas.pydata.org/pandas-docs/stable/user_guide/indexing.html#returning-a-view-versus-a-copy\n",
            "  after removing the cwd from sys.path.\n",
            "/usr/local/lib/python3.7/dist-packages/ipykernel_launcher.py:5: SettingWithCopyWarning: \n",
            "A value is trying to be set on a copy of a slice from a DataFrame.\n",
            "Try using .loc[row_indexer,col_indexer] = value instead\n",
            "\n",
            "See the caveats in the documentation: https://pandas.pydata.org/pandas-docs/stable/user_guide/indexing.html#returning-a-view-versus-a-copy\n",
            "  \"\"\"\n",
            "/usr/local/lib/python3.7/dist-packages/ipykernel_launcher.py:6: SettingWithCopyWarning: \n",
            "A value is trying to be set on a copy of a slice from a DataFrame.\n",
            "Try using .loc[row_indexer,col_indexer] = value instead\n",
            "\n",
            "See the caveats in the documentation: https://pandas.pydata.org/pandas-docs/stable/user_guide/indexing.html#returning-a-view-versus-a-copy\n",
            "  \n",
            "/usr/local/lib/python3.7/dist-packages/ipykernel_launcher.py:7: SettingWithCopyWarning: \n",
            "A value is trying to be set on a copy of a slice from a DataFrame.\n",
            "Try using .loc[row_indexer,col_indexer] = value instead\n",
            "\n",
            "See the caveats in the documentation: https://pandas.pydata.org/pandas-docs/stable/user_guide/indexing.html#returning-a-view-versus-a-copy\n",
            "  import sys\n",
            "/usr/local/lib/python3.7/dist-packages/ipykernel_launcher.py:8: SettingWithCopyWarning: \n",
            "A value is trying to be set on a copy of a slice from a DataFrame.\n",
            "Try using .loc[row_indexer,col_indexer] = value instead\n",
            "\n",
            "See the caveats in the documentation: https://pandas.pydata.org/pandas-docs/stable/user_guide/indexing.html#returning-a-view-versus-a-copy\n",
            "  \n"
          ]
        }
      ]
    },
    {
      "cell_type": "code",
      "source": [
        "from sklearn.model_selection import train_test_split\n",
        "x_train, x_test, y_train, y_test=train_test_split(x,y, test_size=0.8, random_state=1)"
      ],
      "metadata": {
        "id": "dfreKaSGC0cu"
      },
      "execution_count": 10,
      "outputs": []
    },
    {
      "cell_type": "code",
      "source": [
        "x_train.shape"
      ],
      "metadata": {
        "colab": {
          "base_uri": "https://localhost:8080/"
        },
        "id": "lS0sG1iWDCzR",
        "outputId": "58513193-94c9-4236-8e6c-0ca8d800cd07"
      },
      "execution_count": 11,
      "outputs": [
        {
          "output_type": "execute_result",
          "data": {
            "text/plain": [
              "(871849, 12)"
            ]
          },
          "metadata": {},
          "execution_count": 11
        }
      ]
    },
    {
      "cell_type": "code",
      "source": [
        "from sklearn.linear_model import LogisticRegression\n",
        "logit=LogisticRegression(C=1e2, multi_class='ovr', random_state=1,\n",
        "                         max_iter=200)"
      ],
      "metadata": {
        "id": "ZRVfDYdnDFP3"
      },
      "execution_count": 12,
      "outputs": []
    },
    {
      "cell_type": "code",
      "source": [
        "cut=sum(y_train)/len(y_train)"
      ],
      "metadata": {
        "id": "ANtiSC7BDRAN"
      },
      "execution_count": 13,
      "outputs": []
    },
    {
      "cell_type": "code",
      "source": [
        "from sklearn.metrics import accuracy_score\n",
        "\n",
        "logit.fit(x_train,y_train)\n",
        "y_train_pred = logit.predict_proba(x_train)[:,1] >= cut\n",
        "y_test_pred = logit.predict_proba(x_test)[:,1] >= cut\n",
        "print(accuracy_score(y_train, y_train_pred))\n",
        "print(accuracy_score(y_test, y_test_pred))"
      ],
      "metadata": {
        "colab": {
          "base_uri": "https://localhost:8080/"
        },
        "id": "11Bs1qT3DS2y",
        "outputId": "6938e2a1-be7e-4290-846b-4c3ad0d0f9a4"
      },
      "execution_count": 15,
      "outputs": [
        {
          "output_type": "stream",
          "name": "stderr",
          "text": [
            "/usr/local/lib/python3.7/dist-packages/sklearn/linear_model/_logistic.py:818: ConvergenceWarning: lbfgs failed to converge (status=1):\n",
            "STOP: TOTAL NO. of ITERATIONS REACHED LIMIT.\n",
            "\n",
            "Increase the number of iterations (max_iter) or scale the data as shown in:\n",
            "    https://scikit-learn.org/stable/modules/preprocessing.html\n",
            "Please also refer to the documentation for alternative solver options:\n",
            "    https://scikit-learn.org/stable/modules/linear_model.html#logistic-regression\n",
            "  extra_warning_msg=_LOGISTIC_SOLVER_CONVERGENCE_MSG,\n"
          ]
        },
        {
          "output_type": "stream",
          "name": "stdout",
          "text": [
            "0.5106067679150862\n",
            "0.5113937415212549\n"
          ]
        }
      ]
    },
    {
      "cell_type": "code",
      "source": [
        "x_1=df1[['de_hr_1','ma_fem_dv','ages','weat','rain_n']]\n",
        "y_1=df1['yes']"
      ],
      "metadata": {
        "id": "iZ4yTmSGDUW5"
      },
      "execution_count": 66,
      "outputs": []
    },
    {
      "cell_type": "code",
      "source": [
        "from sklearn.preprocessing import LabelEncoder\n",
        "classle=LabelEncoder()\n",
        "#x_1['weekday']=classle.fit_transform(x_1['weekday'].values)\n",
        "x_1['de_hr_1']=classle.fit_transform(x_1['ma_fem_dv'].values)\n",
        "x_1['ma_fem_dv']=classle.fit_transform(x_1['ma_fem_dv'].values)\n",
        "x_1['ages']=classle.fit_transform(x_1['ages'].values)\n",
        "#x_1['zon_hlv']=classle.fit_transform(x_1['zon_hlv'].values)\n",
        "x_1['weat']=classle.fit_transform(x_1['weat'].values)"
      ],
      "metadata": {
        "colab": {
          "base_uri": "https://localhost:8080/"
        },
        "id": "fRm4Uv3IEBrq",
        "outputId": "70d38c8a-9fe0-4961-9df3-9d4b554616df"
      },
      "execution_count": 67,
      "outputs": [
        {
          "output_type": "stream",
          "name": "stderr",
          "text": [
            "/usr/local/lib/python3.7/dist-packages/ipykernel_launcher.py:4: SettingWithCopyWarning: \n",
            "A value is trying to be set on a copy of a slice from a DataFrame.\n",
            "Try using .loc[row_indexer,col_indexer] = value instead\n",
            "\n",
            "See the caveats in the documentation: https://pandas.pydata.org/pandas-docs/stable/user_guide/indexing.html#returning-a-view-versus-a-copy\n",
            "  after removing the cwd from sys.path.\n",
            "/usr/local/lib/python3.7/dist-packages/ipykernel_launcher.py:5: SettingWithCopyWarning: \n",
            "A value is trying to be set on a copy of a slice from a DataFrame.\n",
            "Try using .loc[row_indexer,col_indexer] = value instead\n",
            "\n",
            "See the caveats in the documentation: https://pandas.pydata.org/pandas-docs/stable/user_guide/indexing.html#returning-a-view-versus-a-copy\n",
            "  \"\"\"\n",
            "/usr/local/lib/python3.7/dist-packages/ipykernel_launcher.py:6: SettingWithCopyWarning: \n",
            "A value is trying to be set on a copy of a slice from a DataFrame.\n",
            "Try using .loc[row_indexer,col_indexer] = value instead\n",
            "\n",
            "See the caveats in the documentation: https://pandas.pydata.org/pandas-docs/stable/user_guide/indexing.html#returning-a-view-versus-a-copy\n",
            "  \n",
            "/usr/local/lib/python3.7/dist-packages/ipykernel_launcher.py:8: SettingWithCopyWarning: \n",
            "A value is trying to be set on a copy of a slice from a DataFrame.\n",
            "Try using .loc[row_indexer,col_indexer] = value instead\n",
            "\n",
            "See the caveats in the documentation: https://pandas.pydata.org/pandas-docs/stable/user_guide/indexing.html#returning-a-view-versus-a-copy\n",
            "  \n"
          ]
        }
      ]
    },
    {
      "cell_type": "code",
      "source": [
        "from sklearn.model_selection import train_test_split\n",
        "x_train, x_test, y_train, y_test=train_test_split(x_1,y_1, test_size=0.8, random_state=1)"
      ],
      "metadata": {
        "id": "ZUHcT-1GEObv"
      },
      "execution_count": 68,
      "outputs": []
    },
    {
      "cell_type": "code",
      "source": [
        "from sklearn.linear_model import LogisticRegression\n",
        "logit=LogisticRegression(C=1e2, multi_class='ovr', random_state=1,\n",
        "                         max_iter=200)"
      ],
      "metadata": {
        "id": "gu9mYmBoEcqD"
      },
      "execution_count": 69,
      "outputs": []
    },
    {
      "cell_type": "code",
      "source": [
        "cut=sum(y_train)/len(y_train)"
      ],
      "metadata": {
        "id": "AB8qFnmEEqul"
      },
      "execution_count": 70,
      "outputs": []
    },
    {
      "cell_type": "code",
      "source": [
        "from sklearn.metrics import accuracy_score\n",
        "\n",
        "logit.fit(x_train,y_train)\n",
        "y_train_pred = logit.predict_proba(x_train)[:,1] >= cut\n",
        "y_test_pred = logit.predict_proba(x_test)[:,1] >= cut\n",
        "print(accuracy_score(y_train, y_train_pred))\n",
        "print(accuracy_score(y_test, y_test_pred))"
      ],
      "metadata": {
        "colab": {
          "base_uri": "https://localhost:8080/"
        },
        "id": "c1NpGMBdEr_O",
        "outputId": "9d09b477-04eb-41a1-fc36-5a0773a38c09"
      },
      "execution_count": 71,
      "outputs": [
        {
          "output_type": "stream",
          "name": "stdout",
          "text": [
            "0.7033373898461774\n",
            "0.7039402167289815\n"
          ]
        }
      ]
    },
    {
      "cell_type": "code",
      "source": [
        "df2=pd.read_csv('/content/drive/MyDrive/colab/lotte/new_df.csv')"
      ],
      "metadata": {
        "id": "NkJHMEs6PYf5"
      },
      "execution_count": 73,
      "outputs": []
    },
    {
      "cell_type": "code",
      "source": [
        "df2.head()\n",
        "df2[df2['m_pd']=='M0032']"
      ],
      "metadata": {
        "colab": {
          "base_uri": "https://localhost:8080/",
          "height": 645
        },
        "id": "Hd6enUoyExus",
        "outputId": "98d96156-9018-458c-a645-35bffbd7ed5e"
      },
      "execution_count": 75,
      "outputs": [
        {
          "output_type": "execute_result",
          "data": {
            "text/plain": [
              "     Unnamed: 0    pd_c    pd_nm clac_hlv_nm clac_mcls_nm   l_pd   m_pd\n",
              "167         167  PD0168       사과          과일         국산과일  L0007  M0032\n",
              "168         168  PD0169        배          과일         국산과일  L0007  M0032\n",
              "169         169  PD0170        감          과일         국산과일  L0007  M0032\n",
              "170         170  PD0171       귤류          과일         국산과일  L0007  M0032\n",
              "171         171  PD0172    유자/모과          과일         국산과일  L0007  M0032\n",
              "172         172  PD0173      복숭아          과일         국산과일  L0007  M0032\n",
              "173         173  PD0174       자두          과일         국산과일  L0007  M0032\n",
              "174         174  PD0175       살구          과일         국산과일  L0007  M0032\n",
              "175         175  PD0176       매실          과일         국산과일  L0007  M0032\n",
              "176         176  PD0177       딸기          과일         국산과일  L0007  M0032\n",
              "177         177  PD0178       포도          과일         국산과일  L0007  M0032\n",
              "178         178  PD0179      무화과          과일         국산과일  L0007  M0032\n",
              "179         179  PD0180       석류          과일         국산과일  L0007  M0032\n",
              "180         180  PD0181       수박          과일         국산과일  L0007  M0032\n",
              "181         181  PD0182       참외          과일         국산과일  L0007  M0032\n",
              "182         182  PD0183       메론          과일         국산과일  L0007  M0032\n",
              "183         183  PD0184      토마토          과일         국산과일  L0007  M0032\n",
              "184         184  PD0185    방울토마토          과일         국산과일  L0007  M0032\n",
              "185         185  PD0186  기타국산과일류          과일         국산과일  L0007  M0032"
            ],
            "text/html": [
              "\n",
              "  <div id=\"df-2a8b3614-64a5-44c3-ab3e-9b05efc0a4d5\">\n",
              "    <div class=\"colab-df-container\">\n",
              "      <div>\n",
              "<style scoped>\n",
              "    .dataframe tbody tr th:only-of-type {\n",
              "        vertical-align: middle;\n",
              "    }\n",
              "\n",
              "    .dataframe tbody tr th {\n",
              "        vertical-align: top;\n",
              "    }\n",
              "\n",
              "    .dataframe thead th {\n",
              "        text-align: right;\n",
              "    }\n",
              "</style>\n",
              "<table border=\"1\" class=\"dataframe\">\n",
              "  <thead>\n",
              "    <tr style=\"text-align: right;\">\n",
              "      <th></th>\n",
              "      <th>Unnamed: 0</th>\n",
              "      <th>pd_c</th>\n",
              "      <th>pd_nm</th>\n",
              "      <th>clac_hlv_nm</th>\n",
              "      <th>clac_mcls_nm</th>\n",
              "      <th>l_pd</th>\n",
              "      <th>m_pd</th>\n",
              "    </tr>\n",
              "  </thead>\n",
              "  <tbody>\n",
              "    <tr>\n",
              "      <th>167</th>\n",
              "      <td>167</td>\n",
              "      <td>PD0168</td>\n",
              "      <td>사과</td>\n",
              "      <td>과일</td>\n",
              "      <td>국산과일</td>\n",
              "      <td>L0007</td>\n",
              "      <td>M0032</td>\n",
              "    </tr>\n",
              "    <tr>\n",
              "      <th>168</th>\n",
              "      <td>168</td>\n",
              "      <td>PD0169</td>\n",
              "      <td>배</td>\n",
              "      <td>과일</td>\n",
              "      <td>국산과일</td>\n",
              "      <td>L0007</td>\n",
              "      <td>M0032</td>\n",
              "    </tr>\n",
              "    <tr>\n",
              "      <th>169</th>\n",
              "      <td>169</td>\n",
              "      <td>PD0170</td>\n",
              "      <td>감</td>\n",
              "      <td>과일</td>\n",
              "      <td>국산과일</td>\n",
              "      <td>L0007</td>\n",
              "      <td>M0032</td>\n",
              "    </tr>\n",
              "    <tr>\n",
              "      <th>170</th>\n",
              "      <td>170</td>\n",
              "      <td>PD0171</td>\n",
              "      <td>귤류</td>\n",
              "      <td>과일</td>\n",
              "      <td>국산과일</td>\n",
              "      <td>L0007</td>\n",
              "      <td>M0032</td>\n",
              "    </tr>\n",
              "    <tr>\n",
              "      <th>171</th>\n",
              "      <td>171</td>\n",
              "      <td>PD0172</td>\n",
              "      <td>유자/모과</td>\n",
              "      <td>과일</td>\n",
              "      <td>국산과일</td>\n",
              "      <td>L0007</td>\n",
              "      <td>M0032</td>\n",
              "    </tr>\n",
              "    <tr>\n",
              "      <th>172</th>\n",
              "      <td>172</td>\n",
              "      <td>PD0173</td>\n",
              "      <td>복숭아</td>\n",
              "      <td>과일</td>\n",
              "      <td>국산과일</td>\n",
              "      <td>L0007</td>\n",
              "      <td>M0032</td>\n",
              "    </tr>\n",
              "    <tr>\n",
              "      <th>173</th>\n",
              "      <td>173</td>\n",
              "      <td>PD0174</td>\n",
              "      <td>자두</td>\n",
              "      <td>과일</td>\n",
              "      <td>국산과일</td>\n",
              "      <td>L0007</td>\n",
              "      <td>M0032</td>\n",
              "    </tr>\n",
              "    <tr>\n",
              "      <th>174</th>\n",
              "      <td>174</td>\n",
              "      <td>PD0175</td>\n",
              "      <td>살구</td>\n",
              "      <td>과일</td>\n",
              "      <td>국산과일</td>\n",
              "      <td>L0007</td>\n",
              "      <td>M0032</td>\n",
              "    </tr>\n",
              "    <tr>\n",
              "      <th>175</th>\n",
              "      <td>175</td>\n",
              "      <td>PD0176</td>\n",
              "      <td>매실</td>\n",
              "      <td>과일</td>\n",
              "      <td>국산과일</td>\n",
              "      <td>L0007</td>\n",
              "      <td>M0032</td>\n",
              "    </tr>\n",
              "    <tr>\n",
              "      <th>176</th>\n",
              "      <td>176</td>\n",
              "      <td>PD0177</td>\n",
              "      <td>딸기</td>\n",
              "      <td>과일</td>\n",
              "      <td>국산과일</td>\n",
              "      <td>L0007</td>\n",
              "      <td>M0032</td>\n",
              "    </tr>\n",
              "    <tr>\n",
              "      <th>177</th>\n",
              "      <td>177</td>\n",
              "      <td>PD0178</td>\n",
              "      <td>포도</td>\n",
              "      <td>과일</td>\n",
              "      <td>국산과일</td>\n",
              "      <td>L0007</td>\n",
              "      <td>M0032</td>\n",
              "    </tr>\n",
              "    <tr>\n",
              "      <th>178</th>\n",
              "      <td>178</td>\n",
              "      <td>PD0179</td>\n",
              "      <td>무화과</td>\n",
              "      <td>과일</td>\n",
              "      <td>국산과일</td>\n",
              "      <td>L0007</td>\n",
              "      <td>M0032</td>\n",
              "    </tr>\n",
              "    <tr>\n",
              "      <th>179</th>\n",
              "      <td>179</td>\n",
              "      <td>PD0180</td>\n",
              "      <td>석류</td>\n",
              "      <td>과일</td>\n",
              "      <td>국산과일</td>\n",
              "      <td>L0007</td>\n",
              "      <td>M0032</td>\n",
              "    </tr>\n",
              "    <tr>\n",
              "      <th>180</th>\n",
              "      <td>180</td>\n",
              "      <td>PD0181</td>\n",
              "      <td>수박</td>\n",
              "      <td>과일</td>\n",
              "      <td>국산과일</td>\n",
              "      <td>L0007</td>\n",
              "      <td>M0032</td>\n",
              "    </tr>\n",
              "    <tr>\n",
              "      <th>181</th>\n",
              "      <td>181</td>\n",
              "      <td>PD0182</td>\n",
              "      <td>참외</td>\n",
              "      <td>과일</td>\n",
              "      <td>국산과일</td>\n",
              "      <td>L0007</td>\n",
              "      <td>M0032</td>\n",
              "    </tr>\n",
              "    <tr>\n",
              "      <th>182</th>\n",
              "      <td>182</td>\n",
              "      <td>PD0183</td>\n",
              "      <td>메론</td>\n",
              "      <td>과일</td>\n",
              "      <td>국산과일</td>\n",
              "      <td>L0007</td>\n",
              "      <td>M0032</td>\n",
              "    </tr>\n",
              "    <tr>\n",
              "      <th>183</th>\n",
              "      <td>183</td>\n",
              "      <td>PD0184</td>\n",
              "      <td>토마토</td>\n",
              "      <td>과일</td>\n",
              "      <td>국산과일</td>\n",
              "      <td>L0007</td>\n",
              "      <td>M0032</td>\n",
              "    </tr>\n",
              "    <tr>\n",
              "      <th>184</th>\n",
              "      <td>184</td>\n",
              "      <td>PD0185</td>\n",
              "      <td>방울토마토</td>\n",
              "      <td>과일</td>\n",
              "      <td>국산과일</td>\n",
              "      <td>L0007</td>\n",
              "      <td>M0032</td>\n",
              "    </tr>\n",
              "    <tr>\n",
              "      <th>185</th>\n",
              "      <td>185</td>\n",
              "      <td>PD0186</td>\n",
              "      <td>기타국산과일류</td>\n",
              "      <td>과일</td>\n",
              "      <td>국산과일</td>\n",
              "      <td>L0007</td>\n",
              "      <td>M0032</td>\n",
              "    </tr>\n",
              "  </tbody>\n",
              "</table>\n",
              "</div>\n",
              "      <button class=\"colab-df-convert\" onclick=\"convertToInteractive('df-2a8b3614-64a5-44c3-ab3e-9b05efc0a4d5')\"\n",
              "              title=\"Convert this dataframe to an interactive table.\"\n",
              "              style=\"display:none;\">\n",
              "        \n",
              "  <svg xmlns=\"http://www.w3.org/2000/svg\" height=\"24px\"viewBox=\"0 0 24 24\"\n",
              "       width=\"24px\">\n",
              "    <path d=\"M0 0h24v24H0V0z\" fill=\"none\"/>\n",
              "    <path d=\"M18.56 5.44l.94 2.06.94-2.06 2.06-.94-2.06-.94-.94-2.06-.94 2.06-2.06.94zm-11 1L8.5 8.5l.94-2.06 2.06-.94-2.06-.94L8.5 2.5l-.94 2.06-2.06.94zm10 10l.94 2.06.94-2.06 2.06-.94-2.06-.94-.94-2.06-.94 2.06-2.06.94z\"/><path d=\"M17.41 7.96l-1.37-1.37c-.4-.4-.92-.59-1.43-.59-.52 0-1.04.2-1.43.59L10.3 9.45l-7.72 7.72c-.78.78-.78 2.05 0 2.83L4 21.41c.39.39.9.59 1.41.59.51 0 1.02-.2 1.41-.59l7.78-7.78 2.81-2.81c.8-.78.8-2.07 0-2.86zM5.41 20L4 18.59l7.72-7.72 1.47 1.35L5.41 20z\"/>\n",
              "  </svg>\n",
              "      </button>\n",
              "      \n",
              "  <style>\n",
              "    .colab-df-container {\n",
              "      display:flex;\n",
              "      flex-wrap:wrap;\n",
              "      gap: 12px;\n",
              "    }\n",
              "\n",
              "    .colab-df-convert {\n",
              "      background-color: #E8F0FE;\n",
              "      border: none;\n",
              "      border-radius: 50%;\n",
              "      cursor: pointer;\n",
              "      display: none;\n",
              "      fill: #1967D2;\n",
              "      height: 32px;\n",
              "      padding: 0 0 0 0;\n",
              "      width: 32px;\n",
              "    }\n",
              "\n",
              "    .colab-df-convert:hover {\n",
              "      background-color: #E2EBFA;\n",
              "      box-shadow: 0px 1px 2px rgba(60, 64, 67, 0.3), 0px 1px 3px 1px rgba(60, 64, 67, 0.15);\n",
              "      fill: #174EA6;\n",
              "    }\n",
              "\n",
              "    [theme=dark] .colab-df-convert {\n",
              "      background-color: #3B4455;\n",
              "      fill: #D2E3FC;\n",
              "    }\n",
              "\n",
              "    [theme=dark] .colab-df-convert:hover {\n",
              "      background-color: #434B5C;\n",
              "      box-shadow: 0px 1px 3px 1px rgba(0, 0, 0, 0.15);\n",
              "      filter: drop-shadow(0px 1px 2px rgba(0, 0, 0, 0.3));\n",
              "      fill: #FFFFFF;\n",
              "    }\n",
              "  </style>\n",
              "\n",
              "      <script>\n",
              "        const buttonEl =\n",
              "          document.querySelector('#df-2a8b3614-64a5-44c3-ab3e-9b05efc0a4d5 button.colab-df-convert');\n",
              "        buttonEl.style.display =\n",
              "          google.colab.kernel.accessAllowed ? 'block' : 'none';\n",
              "\n",
              "        async function convertToInteractive(key) {\n",
              "          const element = document.querySelector('#df-2a8b3614-64a5-44c3-ab3e-9b05efc0a4d5');\n",
              "          const dataTable =\n",
              "            await google.colab.kernel.invokeFunction('convertToInteractive',\n",
              "                                                     [key], {});\n",
              "          if (!dataTable) return;\n",
              "\n",
              "          const docLinkHtml = 'Like what you see? Visit the ' +\n",
              "            '<a target=\"_blank\" href=https://colab.research.google.com/notebooks/data_table.ipynb>data table notebook</a>'\n",
              "            + ' to learn more about interactive tables.';\n",
              "          element.innerHTML = '';\n",
              "          dataTable['output_type'] = 'display_data';\n",
              "          await google.colab.output.renderOutput(dataTable, element);\n",
              "          const docLink = document.createElement('div');\n",
              "          docLink.innerHTML = docLinkHtml;\n",
              "          element.appendChild(docLink);\n",
              "        }\n",
              "      </script>\n",
              "    </div>\n",
              "  </div>\n",
              "  "
            ]
          },
          "metadata": {},
          "execution_count": 75
        }
      ]
    },
    {
      "cell_type": "code",
      "source": [
        ""
      ],
      "metadata": {
        "id": "CW0zOUTwPjxa"
      },
      "execution_count": null,
      "outputs": []
    }
  ]
}