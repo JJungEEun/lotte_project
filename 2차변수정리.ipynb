{
  "nbformat": 4,
  "nbformat_minor": 0,
  "metadata": {
    "colab": {
      "name": "2차변수정리.ipynb",
      "provenance": [],
      "mount_file_id": "1Y2rU7M428v_jhaFlvYymC6aB1ZvgHyNi",
      "authorship_tag": "ABX9TyP9IWFw+aAspQomPRHdfeE5",
      "include_colab_link": true
    },
    "kernelspec": {
      "name": "python3",
      "display_name": "Python 3"
    },
    "language_info": {
      "name": "python"
    },
    "gpuClass": "standard"
  },
  "cells": [
    {
      "cell_type": "markdown",
      "metadata": {
        "id": "view-in-github",
        "colab_type": "text"
      },
      "source": [
        "<a href=\"https://colab.research.google.com/github/JJungEEun/lotte_project/blob/lattehauma-patch-1-1/2%EC%B0%A8%EB%B3%80%EC%88%98%EC%A0%95%EB%A6%AC.ipynb\" target=\"_parent\"><img src=\"https://colab.research.google.com/assets/colab-badge.svg\" alt=\"Open In Colab\"/></a>"
      ]
    },
    {
      "cell_type": "code",
      "execution_count": null,
      "metadata": {
        "id": "bbb_yMtQXGDr"
      },
      "outputs": [],
      "source": [
        "import pandas as pd\n",
        "import matplotlib.pyplot as plt\n",
        "import seaborn as sns\n",
        "import numpy as np"
      ]
    },
    {
      "cell_type": "code",
      "source": [
        "df1=pd.read_csv('/content/drive/MyDrive/colab/lotte/cust3')\n",
        "df2=pd.read_csv('/content/drive/MyDrive/colab/lotte/cust3_1.csv')"
      ],
      "metadata": {
        "colab": {
          "base_uri": "https://localhost:8080/"
        },
        "id": "fQs-GUMuXTkb",
        "outputId": "43e0c1b0-b686-4909-b9bf-8c69f6957fdf"
      },
      "execution_count": null,
      "outputs": [
        {
          "output_type": "stream",
          "name": "stderr",
          "text": [
            "/usr/local/lib/python3.7/dist-packages/IPython/core/interactiveshell.py:2882: DtypeWarning: Columns (5) have mixed types.Specify dtype option on import or set low_memory=False.\n",
            "  exec(code_obj, self.user_global_ns, self.user_ns)\n",
            "/usr/local/lib/python3.7/dist-packages/IPython/core/interactiveshell.py:2882: DtypeWarning: Columns (6) have mixed types.Specify dtype option on import or set low_memory=False.\n",
            "  exec(code_obj, self.user_global_ns, self.user_ns)\n"
          ]
        }
      ]
    },
    {
      "cell_type": "code",
      "source": [
        "print(df1.columns)\n",
        "print(df2.columns)"
      ],
      "metadata": {
        "colab": {
          "base_uri": "https://localhost:8080/"
        },
        "id": "I2dsF_HzcWCQ",
        "outputId": "4ed92b5c-7e2e-4852-ffa8-71637b217a17"
      },
      "execution_count": null,
      "outputs": [
        {
          "output_type": "stream",
          "name": "stdout",
          "text": [
            "Index(['Unnamed: 0', 'cust', 'rct_no', 'chnl_dv', 'cop_c', 'br_c', 'pd_c',\n",
            "       'de_dt', 'de_hr', 'buy_am', 'buy_ct', 'ma_fem_dv', 'ages', 'zon_hlv',\n",
            "       'de_hr_1', 'hrvar', 'royal1', 'royal2', 'royal3', 'date', 'weekday'],\n",
            "      dtype='object')\n",
            "Index(['Unnamed: 0', 'Unnamed: 0_x', 'cust', 'rct_no', 'chnl_dv', 'cop_c',\n",
            "       'br_c', 'pd_c', 'de_dt', 'de_hr', 'buy_am', 'buy_ct', 'temp', 'rain',\n",
            "       'pd_nm_x', 'clac_hlv_nm_x', 'clac_mcls_nm_x', 'ma_fem_dv', 'ages',\n",
            "       'zon_hlv', 'rain_n', 'Unnamed: 0_y', 'pd_nm_y', 'clac_hlv_nm_y',\n",
            "       'clac_mcls_nm_y', 'l_pd', 'm_pd', 'yes', 'weat'],\n",
            "      dtype='object')\n"
          ]
        }
      ]
    },
    {
      "cell_type": "code",
      "source": [
        "df2_1=df2[['rct_no','de_hr','ma_fem_dv','ages','zon_hlv','weat','rain_n','temp','l_pd','m_pd']]\n",
        "df1_1=df1[['cust','rct_no','de_hr_1','hrvar','royal1','royal2','royal3','weekday']]"
      ],
      "metadata": {
        "id": "O720poiFS2OC"
      },
      "execution_count": null,
      "outputs": []
    },
    {
      "cell_type": "code",
      "source": [
        "df1_1=df1_1[df1_1['cust']!='M057015266']\n",
        "df1_1=df1_1[df1_1['cust']!='M919374790']"
      ],
      "metadata": {
        "id": "Y-hFHtnOXN3p"
      },
      "execution_count": null,
      "outputs": []
    },
    {
      "cell_type": "code",
      "source": [
        "print(df1_1.shape)\n",
        "print(df2_1.shape)"
      ],
      "metadata": {
        "colab": {
          "base_uri": "https://localhost:8080/"
        },
        "id": "vbdGaS5_dPIp",
        "outputId": "86bea3b2-c15c-4341-9e90-48490a8b70c2"
      },
      "execution_count": null,
      "outputs": [
        {
          "output_type": "stream",
          "name": "stdout",
          "text": [
            "(4359246, 8)\n",
            "(4359246, 10)\n"
          ]
        }
      ]
    },
    {
      "cell_type": "code",
      "source": [
        "df1_1.reset_index(drop=False, inplace=True)"
      ],
      "metadata": {
        "id": "y_9CZ0Cp4mQI"
      },
      "execution_count": null,
      "outputs": []
    },
    {
      "cell_type": "code",
      "source": [
        "df3=pd.merge(df1_1,df2_1, left_index=True, right_index=True)"
      ],
      "metadata": {
        "id": "mWuR-IiF4aLD"
      },
      "execution_count": null,
      "outputs": []
    },
    {
      "cell_type": "code",
      "source": [
        "df3.shape"
      ],
      "metadata": {
        "colab": {
          "base_uri": "https://localhost:8080/"
        },
        "id": "fnro6EUD9nMH",
        "outputId": "7a52bb3c-2058-4730-c7e8-6a21159a5510"
      },
      "execution_count": null,
      "outputs": [
        {
          "output_type": "execute_result",
          "data": {
            "text/plain": [
              "(4359246, 19)"
            ]
          },
          "metadata": {},
          "execution_count": 54
        }
      ]
    },
    {
      "cell_type": "code",
      "source": [
        "df3.to_csv('/content/drive/MyDrive/colab/lotte/cust4.csv')"
      ],
      "metadata": {
        "id": "FRA4BodL99j_"
      },
      "execution_count": null,
      "outputs": []
    },
    {
      "cell_type": "markdown",
      "source": [
        "________ \n",
        "이 밑에는 연습용으로 남겨놓은거 지금은 안봐도 상관무 "
      ],
      "metadata": {
        "id": "6vGS9Q8e9czf"
      }
    },
    {
      "cell_type": "markdown",
      "source": [
        "데이터 너무 커서 아무리 해도 해결이 안된다... 어쩔 수 없이 50만 데이터만 사용하는 걸로 합시다 지금은? 400만개가 있는데 50만이면 꽤 줄이는 거니까 괜찮겠죠? 이게 적용이 잘 되면 나중에 컴퓨터로 더 큰 모델도 돌릴 수 있을 것이다"
      ],
      "metadata": {
        "id": "Cxl8AzowW4-W"
      }
    },
    {
      "cell_type": "code",
      "source": [
        "import random\n",
        "list1=random.sample(range(4359246),500000)\n",
        "list1[1:10]"
      ],
      "metadata": {
        "colab": {
          "base_uri": "https://localhost:8080/"
        },
        "id": "QEogRB0JVaRg",
        "outputId": "399b2a3d-68cf-4aba-9d7e-c3ef48ce9dd3"
      },
      "execution_count": null,
      "outputs": [
        {
          "output_type": "execute_result",
          "data": {
            "text/plain": [
              "[349083,\n",
              " 3088757,\n",
              " 3567193,\n",
              " 3875981,\n",
              " 1513522,\n",
              " 2887089,\n",
              " 4240849,\n",
              " 2016241,\n",
              " 3836124]"
            ]
          },
          "metadata": {},
          "execution_count": 7
        }
      ]
    },
    {
      "cell_type": "code",
      "source": [
        "df2_2=df2_1.loc[list1]"
      ],
      "metadata": {
        "id": "A50h1PQwdb98"
      },
      "execution_count": null,
      "outputs": []
    },
    {
      "cell_type": "code",
      "source": [
        "df3=pd.merge(df2_1,df1_1, on='rct_no', how='inner')"
      ],
      "metadata": {
        "id": "xrWS2iJPZAGr"
      },
      "execution_count": null,
      "outputs": []
    },
    {
      "cell_type": "code",
      "source": [
        "len(df3['rct_no'].value_counts())"
      ],
      "metadata": {
        "id": "foXtMy-0fJqR",
        "colab": {
          "base_uri": "https://localhost:8080/"
        },
        "outputId": "33f29bfd-d9a3-41f1-97ce-e448a52ec82d"
      },
      "execution_count": null,
      "outputs": [
        {
          "output_type": "execute_result",
          "data": {
            "text/plain": [
              "1260850"
            ]
          },
          "metadata": {},
          "execution_count": 31
        }
      ]
    },
    {
      "cell_type": "code",
      "source": [
        "df1_1.tail()"
      ],
      "metadata": {
        "colab": {
          "base_uri": "https://localhost:8080/",
          "height": 206
        },
        "id": "Uy6c6L7w9O_4",
        "outputId": "cc29b334-6530-4dba-f460-aee7498b95e6"
      },
      "execution_count": null,
      "outputs": [
        {
          "output_type": "execute_result",
          "data": {
            "text/plain": [
              "           index        cust        rct_no de_hr_1      hrvar  royal1  royal2  \\\n",
              "4359241  4381738  M533286446  E06052119978    a_10  49.539056     1.0     0.0   \n",
              "4359242  4381739  M533286446  E06052119978    a_10  49.539056     1.0     0.0   \n",
              "4359243  4381740  M533286446  E06052119978    a_10  49.539056     1.0     0.0   \n",
              "4359244  4381741  M533286446  E06052119978    a_10  49.539056     1.0     0.0   \n",
              "4359245  4381742  M533286446  E06052119978    a_10  49.539056     1.0     0.0   \n",
              "\n",
              "         royal3 weekday  \n",
              "4359241     0.0     fri  \n",
              "4359242     0.0     fri  \n",
              "4359243     0.0     fri  \n",
              "4359244     0.0     fri  \n",
              "4359245     0.0     fri  "
            ],
            "text/html": [
              "\n",
              "  <div id=\"df-b464c5b5-2885-4b79-a7f6-a713277bcb71\">\n",
              "    <div class=\"colab-df-container\">\n",
              "      <div>\n",
              "<style scoped>\n",
              "    .dataframe tbody tr th:only-of-type {\n",
              "        vertical-align: middle;\n",
              "    }\n",
              "\n",
              "    .dataframe tbody tr th {\n",
              "        vertical-align: top;\n",
              "    }\n",
              "\n",
              "    .dataframe thead th {\n",
              "        text-align: right;\n",
              "    }\n",
              "</style>\n",
              "<table border=\"1\" class=\"dataframe\">\n",
              "  <thead>\n",
              "    <tr style=\"text-align: right;\">\n",
              "      <th></th>\n",
              "      <th>index</th>\n",
              "      <th>cust</th>\n",
              "      <th>rct_no</th>\n",
              "      <th>de_hr_1</th>\n",
              "      <th>hrvar</th>\n",
              "      <th>royal1</th>\n",
              "      <th>royal2</th>\n",
              "      <th>royal3</th>\n",
              "      <th>weekday</th>\n",
              "    </tr>\n",
              "  </thead>\n",
              "  <tbody>\n",
              "    <tr>\n",
              "      <th>4359241</th>\n",
              "      <td>4381738</td>\n",
              "      <td>M533286446</td>\n",
              "      <td>E06052119978</td>\n",
              "      <td>a_10</td>\n",
              "      <td>49.539056</td>\n",
              "      <td>1.0</td>\n",
              "      <td>0.0</td>\n",
              "      <td>0.0</td>\n",
              "      <td>fri</td>\n",
              "    </tr>\n",
              "    <tr>\n",
              "      <th>4359242</th>\n",
              "      <td>4381739</td>\n",
              "      <td>M533286446</td>\n",
              "      <td>E06052119978</td>\n",
              "      <td>a_10</td>\n",
              "      <td>49.539056</td>\n",
              "      <td>1.0</td>\n",
              "      <td>0.0</td>\n",
              "      <td>0.0</td>\n",
              "      <td>fri</td>\n",
              "    </tr>\n",
              "    <tr>\n",
              "      <th>4359243</th>\n",
              "      <td>4381740</td>\n",
              "      <td>M533286446</td>\n",
              "      <td>E06052119978</td>\n",
              "      <td>a_10</td>\n",
              "      <td>49.539056</td>\n",
              "      <td>1.0</td>\n",
              "      <td>0.0</td>\n",
              "      <td>0.0</td>\n",
              "      <td>fri</td>\n",
              "    </tr>\n",
              "    <tr>\n",
              "      <th>4359244</th>\n",
              "      <td>4381741</td>\n",
              "      <td>M533286446</td>\n",
              "      <td>E06052119978</td>\n",
              "      <td>a_10</td>\n",
              "      <td>49.539056</td>\n",
              "      <td>1.0</td>\n",
              "      <td>0.0</td>\n",
              "      <td>0.0</td>\n",
              "      <td>fri</td>\n",
              "    </tr>\n",
              "    <tr>\n",
              "      <th>4359245</th>\n",
              "      <td>4381742</td>\n",
              "      <td>M533286446</td>\n",
              "      <td>E06052119978</td>\n",
              "      <td>a_10</td>\n",
              "      <td>49.539056</td>\n",
              "      <td>1.0</td>\n",
              "      <td>0.0</td>\n",
              "      <td>0.0</td>\n",
              "      <td>fri</td>\n",
              "    </tr>\n",
              "  </tbody>\n",
              "</table>\n",
              "</div>\n",
              "      <button class=\"colab-df-convert\" onclick=\"convertToInteractive('df-b464c5b5-2885-4b79-a7f6-a713277bcb71')\"\n",
              "              title=\"Convert this dataframe to an interactive table.\"\n",
              "              style=\"display:none;\">\n",
              "        \n",
              "  <svg xmlns=\"http://www.w3.org/2000/svg\" height=\"24px\"viewBox=\"0 0 24 24\"\n",
              "       width=\"24px\">\n",
              "    <path d=\"M0 0h24v24H0V0z\" fill=\"none\"/>\n",
              "    <path d=\"M18.56 5.44l.94 2.06.94-2.06 2.06-.94-2.06-.94-.94-2.06-.94 2.06-2.06.94zm-11 1L8.5 8.5l.94-2.06 2.06-.94-2.06-.94L8.5 2.5l-.94 2.06-2.06.94zm10 10l.94 2.06.94-2.06 2.06-.94-2.06-.94-.94-2.06-.94 2.06-2.06.94z\"/><path d=\"M17.41 7.96l-1.37-1.37c-.4-.4-.92-.59-1.43-.59-.52 0-1.04.2-1.43.59L10.3 9.45l-7.72 7.72c-.78.78-.78 2.05 0 2.83L4 21.41c.39.39.9.59 1.41.59.51 0 1.02-.2 1.41-.59l7.78-7.78 2.81-2.81c.8-.78.8-2.07 0-2.86zM5.41 20L4 18.59l7.72-7.72 1.47 1.35L5.41 20z\"/>\n",
              "  </svg>\n",
              "      </button>\n",
              "      \n",
              "  <style>\n",
              "    .colab-df-container {\n",
              "      display:flex;\n",
              "      flex-wrap:wrap;\n",
              "      gap: 12px;\n",
              "    }\n",
              "\n",
              "    .colab-df-convert {\n",
              "      background-color: #E8F0FE;\n",
              "      border: none;\n",
              "      border-radius: 50%;\n",
              "      cursor: pointer;\n",
              "      display: none;\n",
              "      fill: #1967D2;\n",
              "      height: 32px;\n",
              "      padding: 0 0 0 0;\n",
              "      width: 32px;\n",
              "    }\n",
              "\n",
              "    .colab-df-convert:hover {\n",
              "      background-color: #E2EBFA;\n",
              "      box-shadow: 0px 1px 2px rgba(60, 64, 67, 0.3), 0px 1px 3px 1px rgba(60, 64, 67, 0.15);\n",
              "      fill: #174EA6;\n",
              "    }\n",
              "\n",
              "    [theme=dark] .colab-df-convert {\n",
              "      background-color: #3B4455;\n",
              "      fill: #D2E3FC;\n",
              "    }\n",
              "\n",
              "    [theme=dark] .colab-df-convert:hover {\n",
              "      background-color: #434B5C;\n",
              "      box-shadow: 0px 1px 3px 1px rgba(0, 0, 0, 0.15);\n",
              "      filter: drop-shadow(0px 1px 2px rgba(0, 0, 0, 0.3));\n",
              "      fill: #FFFFFF;\n",
              "    }\n",
              "  </style>\n",
              "\n",
              "      <script>\n",
              "        const buttonEl =\n",
              "          document.querySelector('#df-b464c5b5-2885-4b79-a7f6-a713277bcb71 button.colab-df-convert');\n",
              "        buttonEl.style.display =\n",
              "          google.colab.kernel.accessAllowed ? 'block' : 'none';\n",
              "\n",
              "        async function convertToInteractive(key) {\n",
              "          const element = document.querySelector('#df-b464c5b5-2885-4b79-a7f6-a713277bcb71');\n",
              "          const dataTable =\n",
              "            await google.colab.kernel.invokeFunction('convertToInteractive',\n",
              "                                                     [key], {});\n",
              "          if (!dataTable) return;\n",
              "\n",
              "          const docLinkHtml = 'Like what you see? Visit the ' +\n",
              "            '<a target=\"_blank\" href=https://colab.research.google.com/notebooks/data_table.ipynb>data table notebook</a>'\n",
              "            + ' to learn more about interactive tables.';\n",
              "          element.innerHTML = '';\n",
              "          dataTable['output_type'] = 'display_data';\n",
              "          await google.colab.output.renderOutput(dataTable, element);\n",
              "          const docLink = document.createElement('div');\n",
              "          docLink.innerHTML = docLinkHtml;\n",
              "          element.appendChild(docLink);\n",
              "        }\n",
              "      </script>\n",
              "    </div>\n",
              "  </div>\n",
              "  "
            ]
          },
          "metadata": {},
          "execution_count": 52
        }
      ]
    },
    {
      "cell_type": "code",
      "source": [
        "df2_1.tail()"
      ],
      "metadata": {
        "colab": {
          "base_uri": "https://localhost:8080/",
          "height": 206
        },
        "id": "txo9rIex756c",
        "outputId": "b03a18c7-90d5-4e8d-84a1-869e39ca25e9"
      },
      "execution_count": null,
      "outputs": [
        {
          "output_type": "execute_result",
          "data": {
            "text/plain": [
              "               rct_no  de_hr ma_fem_dv ages zon_hlv weat  rain_n  temp   l_pd  \\\n",
              "4359241  E06052119978     23        남성  40대     Z10   sp     0.0  -6.7  L0022   \n",
              "4359242  E06052119978     23        남성  40대     Z10   sp     0.0  -6.7  L0022   \n",
              "4359243  E06052119978     23        남성  40대     Z10   sp     0.0  -6.7  L0022   \n",
              "4359244  E06052119978     23        남성  40대     Z10   sp     0.0  -6.7  L0022   \n",
              "4359245  E06052119978     23        남성  40대     Z10   sp     0.0  -6.7  L0022   \n",
              "\n",
              "          m_pd  \n",
              "4359241  M0103  \n",
              "4359242  M0103  \n",
              "4359243  M0103  \n",
              "4359244  M0103  \n",
              "4359245  M0103  "
            ],
            "text/html": [
              "\n",
              "  <div id=\"df-a408d6d7-aec0-4c76-85ea-2ff8be4efcfb\">\n",
              "    <div class=\"colab-df-container\">\n",
              "      <div>\n",
              "<style scoped>\n",
              "    .dataframe tbody tr th:only-of-type {\n",
              "        vertical-align: middle;\n",
              "    }\n",
              "\n",
              "    .dataframe tbody tr th {\n",
              "        vertical-align: top;\n",
              "    }\n",
              "\n",
              "    .dataframe thead th {\n",
              "        text-align: right;\n",
              "    }\n",
              "</style>\n",
              "<table border=\"1\" class=\"dataframe\">\n",
              "  <thead>\n",
              "    <tr style=\"text-align: right;\">\n",
              "      <th></th>\n",
              "      <th>rct_no</th>\n",
              "      <th>de_hr</th>\n",
              "      <th>ma_fem_dv</th>\n",
              "      <th>ages</th>\n",
              "      <th>zon_hlv</th>\n",
              "      <th>weat</th>\n",
              "      <th>rain_n</th>\n",
              "      <th>temp</th>\n",
              "      <th>l_pd</th>\n",
              "      <th>m_pd</th>\n",
              "    </tr>\n",
              "  </thead>\n",
              "  <tbody>\n",
              "    <tr>\n",
              "      <th>4359241</th>\n",
              "      <td>E06052119978</td>\n",
              "      <td>23</td>\n",
              "      <td>남성</td>\n",
              "      <td>40대</td>\n",
              "      <td>Z10</td>\n",
              "      <td>sp</td>\n",
              "      <td>0.0</td>\n",
              "      <td>-6.7</td>\n",
              "      <td>L0022</td>\n",
              "      <td>M0103</td>\n",
              "    </tr>\n",
              "    <tr>\n",
              "      <th>4359242</th>\n",
              "      <td>E06052119978</td>\n",
              "      <td>23</td>\n",
              "      <td>남성</td>\n",
              "      <td>40대</td>\n",
              "      <td>Z10</td>\n",
              "      <td>sp</td>\n",
              "      <td>0.0</td>\n",
              "      <td>-6.7</td>\n",
              "      <td>L0022</td>\n",
              "      <td>M0103</td>\n",
              "    </tr>\n",
              "    <tr>\n",
              "      <th>4359243</th>\n",
              "      <td>E06052119978</td>\n",
              "      <td>23</td>\n",
              "      <td>남성</td>\n",
              "      <td>40대</td>\n",
              "      <td>Z10</td>\n",
              "      <td>sp</td>\n",
              "      <td>0.0</td>\n",
              "      <td>-6.7</td>\n",
              "      <td>L0022</td>\n",
              "      <td>M0103</td>\n",
              "    </tr>\n",
              "    <tr>\n",
              "      <th>4359244</th>\n",
              "      <td>E06052119978</td>\n",
              "      <td>23</td>\n",
              "      <td>남성</td>\n",
              "      <td>40대</td>\n",
              "      <td>Z10</td>\n",
              "      <td>sp</td>\n",
              "      <td>0.0</td>\n",
              "      <td>-6.7</td>\n",
              "      <td>L0022</td>\n",
              "      <td>M0103</td>\n",
              "    </tr>\n",
              "    <tr>\n",
              "      <th>4359245</th>\n",
              "      <td>E06052119978</td>\n",
              "      <td>23</td>\n",
              "      <td>남성</td>\n",
              "      <td>40대</td>\n",
              "      <td>Z10</td>\n",
              "      <td>sp</td>\n",
              "      <td>0.0</td>\n",
              "      <td>-6.7</td>\n",
              "      <td>L0022</td>\n",
              "      <td>M0103</td>\n",
              "    </tr>\n",
              "  </tbody>\n",
              "</table>\n",
              "</div>\n",
              "      <button class=\"colab-df-convert\" onclick=\"convertToInteractive('df-a408d6d7-aec0-4c76-85ea-2ff8be4efcfb')\"\n",
              "              title=\"Convert this dataframe to an interactive table.\"\n",
              "              style=\"display:none;\">\n",
              "        \n",
              "  <svg xmlns=\"http://www.w3.org/2000/svg\" height=\"24px\"viewBox=\"0 0 24 24\"\n",
              "       width=\"24px\">\n",
              "    <path d=\"M0 0h24v24H0V0z\" fill=\"none\"/>\n",
              "    <path d=\"M18.56 5.44l.94 2.06.94-2.06 2.06-.94-2.06-.94-.94-2.06-.94 2.06-2.06.94zm-11 1L8.5 8.5l.94-2.06 2.06-.94-2.06-.94L8.5 2.5l-.94 2.06-2.06.94zm10 10l.94 2.06.94-2.06 2.06-.94-2.06-.94-.94-2.06-.94 2.06-2.06.94z\"/><path d=\"M17.41 7.96l-1.37-1.37c-.4-.4-.92-.59-1.43-.59-.52 0-1.04.2-1.43.59L10.3 9.45l-7.72 7.72c-.78.78-.78 2.05 0 2.83L4 21.41c.39.39.9.59 1.41.59.51 0 1.02-.2 1.41-.59l7.78-7.78 2.81-2.81c.8-.78.8-2.07 0-2.86zM5.41 20L4 18.59l7.72-7.72 1.47 1.35L5.41 20z\"/>\n",
              "  </svg>\n",
              "      </button>\n",
              "      \n",
              "  <style>\n",
              "    .colab-df-container {\n",
              "      display:flex;\n",
              "      flex-wrap:wrap;\n",
              "      gap: 12px;\n",
              "    }\n",
              "\n",
              "    .colab-df-convert {\n",
              "      background-color: #E8F0FE;\n",
              "      border: none;\n",
              "      border-radius: 50%;\n",
              "      cursor: pointer;\n",
              "      display: none;\n",
              "      fill: #1967D2;\n",
              "      height: 32px;\n",
              "      padding: 0 0 0 0;\n",
              "      width: 32px;\n",
              "    }\n",
              "\n",
              "    .colab-df-convert:hover {\n",
              "      background-color: #E2EBFA;\n",
              "      box-shadow: 0px 1px 2px rgba(60, 64, 67, 0.3), 0px 1px 3px 1px rgba(60, 64, 67, 0.15);\n",
              "      fill: #174EA6;\n",
              "    }\n",
              "\n",
              "    [theme=dark] .colab-df-convert {\n",
              "      background-color: #3B4455;\n",
              "      fill: #D2E3FC;\n",
              "    }\n",
              "\n",
              "    [theme=dark] .colab-df-convert:hover {\n",
              "      background-color: #434B5C;\n",
              "      box-shadow: 0px 1px 3px 1px rgba(0, 0, 0, 0.15);\n",
              "      filter: drop-shadow(0px 1px 2px rgba(0, 0, 0, 0.3));\n",
              "      fill: #FFFFFF;\n",
              "    }\n",
              "  </style>\n",
              "\n",
              "      <script>\n",
              "        const buttonEl =\n",
              "          document.querySelector('#df-a408d6d7-aec0-4c76-85ea-2ff8be4efcfb button.colab-df-convert');\n",
              "        buttonEl.style.display =\n",
              "          google.colab.kernel.accessAllowed ? 'block' : 'none';\n",
              "\n",
              "        async function convertToInteractive(key) {\n",
              "          const element = document.querySelector('#df-a408d6d7-aec0-4c76-85ea-2ff8be4efcfb');\n",
              "          const dataTable =\n",
              "            await google.colab.kernel.invokeFunction('convertToInteractive',\n",
              "                                                     [key], {});\n",
              "          if (!dataTable) return;\n",
              "\n",
              "          const docLinkHtml = 'Like what you see? Visit the ' +\n",
              "            '<a target=\"_blank\" href=https://colab.research.google.com/notebooks/data_table.ipynb>data table notebook</a>'\n",
              "            + ' to learn more about interactive tables.';\n",
              "          element.innerHTML = '';\n",
              "          dataTable['output_type'] = 'display_data';\n",
              "          await google.colab.output.renderOutput(dataTable, element);\n",
              "          const docLink = document.createElement('div');\n",
              "          docLink.innerHTML = docLinkHtml;\n",
              "          element.appendChild(docLink);\n",
              "        }\n",
              "      </script>\n",
              "    </div>\n",
              "  </div>\n",
              "  "
            ]
          },
          "metadata": {},
          "execution_count": 47
        }
      ]
    },
    {
      "cell_type": "code",
      "source": [
        "print(df1_1.shape)\n",
        "print(df2_1.shape)"
      ],
      "metadata": {
        "colab": {
          "base_uri": "https://localhost:8080/"
        },
        "id": "e4ZBUQqN6ha2",
        "outputId": "cdd9552f-2ee5-4a59-c585-8e52ce941bb9"
      },
      "execution_count": null,
      "outputs": [
        {
          "output_type": "stream",
          "name": "stdout",
          "text": [
            "(4359246, 8)\n",
            "(4359246, 10)\n"
          ]
        }
      ]
    },
    {
      "cell_type": "code",
      "source": [
        ""
      ],
      "metadata": {
        "id": "dC9yxP_a6m9t"
      },
      "execution_count": null,
      "outputs": []
    }
  ]
}