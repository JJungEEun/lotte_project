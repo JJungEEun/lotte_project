{
  "nbformat": 4,
  "nbformat_minor": 0,
  "metadata": {
    "colab": {
      "name": "최종제출본.ipynb",
      "provenance": [],
      "collapsed_sections": [],
      "mount_file_id": "1dQhc9h4fpeXSq-EE8u18D3F66VD_vckv",
      "authorship_tag": "ABX9TyO7xYmLWyhfc48mhh29F/xP",
      "include_colab_link": true
    },
    "kernelspec": {
      "name": "python3",
      "display_name": "Python 3"
    },
    "language_info": {
      "name": "python"
    }
  },
  "cells": [
    {
      "cell_type": "markdown",
      "metadata": {
        "id": "view-in-github",
        "colab_type": "text"
      },
      "source": [
        "<a href=\"https://colab.research.google.com/github/JJungEEun/lotte_project/blob/lattehauma-patch-1-1/%EC%B5%9C%EC%A2%85%EC%A0%9C%EC%B6%9C%EB%B3%B8.ipynb\" target=\"_parent\"><img src=\"https://colab.research.google.com/assets/colab-badge.svg\" alt=\"Open In Colab\"/></a>"
      ]
    },
    {
      "cell_type": "markdown",
      "source": [
        "# 제목제목제목"
      ],
      "metadata": {
        "id": "CNoZeHausUsM"
      }
    },
    {
      "cell_type": "markdown",
      "source": [
        "## 2. 데이터 전처리"
      ],
      "metadata": {
        "id": "bYWEZxmSBNXk"
      }
    },
    {
      "cell_type": "code",
      "source": [
        "import pandas as pd\n",
        "import matplotlib.pyplot as plt\n",
        "import seaborn as sns\n",
        "import numpy as np"
      ],
      "metadata": {
        "id": "FiG2HDIRtmVJ"
      },
      "execution_count": 1,
      "outputs": []
    },
    {
      "cell_type": "code",
      "execution_count": 2,
      "metadata": {
        "colab": {
          "base_uri": "https://localhost:8080/"
        },
        "id": "0GrwuhzOsRia",
        "outputId": "0a5b6ba1-3224-44e2-dbf4-f25937cc14ca"
      },
      "outputs": [
        {
          "output_type": "stream",
          "name": "stderr",
          "text": [
            "/usr/local/lib/python3.7/dist-packages/IPython/core/interactiveshell.py:2882: DtypeWarning: Columns (4) have mixed types.Specify dtype option on import or set low_memory=False.\n",
            "  exec(code_obj, self.user_global_ns, self.user_ns)\n"
          ]
        }
      ],
      "source": [
        "demo = pd.read_csv(\"/content/drive/MyDrive/colab/lotte/LPOINT_BIG_COMP_01_DEMO.csv\") #고객 데모 정보\n",
        "pdde = pd.read_csv(\"/content/drive/MyDrive/colab/lotte/LPOINT_BIG_COMP_02_PDDE.csv\") #상품 구매 정보(유통사 상품 구매 내역)\n",
        "pd_clac = pd.read_csv(\"/content/drive/MyDrive/colab/lotte/LPOINT_BIG_COMP_04_PD_CLAC.csv\") #상품 분류 정보(유통사 상품 카테고리 마스터)"
      ]
    },
    {
      "cell_type": "code",
      "source": [
        "#데이터 결합\n",
        "df = pd.merge(pdde, pd_clac,how='outer',on='pd_c')\n",
        "df = pd.merge(df, demo, how='left', on='cust')\n",
        "print(df.shape)\n",
        "df.head()"
      ],
      "metadata": {
        "colab": {
          "base_uri": "https://localhost:8080/",
          "height": 375
        },
        "id": "5mfvGqj_thFQ",
        "outputId": "ec927f1e-8f38-47ee-dcd1-c54b6ef1085d"
      },
      "execution_count": 3,
      "outputs": [
        {
          "output_type": "stream",
          "name": "stdout",
          "text": [
            "(4381743, 16)\n"
          ]
        },
        {
          "output_type": "execute_result",
          "data": {
            "text/plain": [
              "         cust        rct_no  chnl_dv cop_c     br_c    pd_c     de_dt  de_hr  \\\n",
              "0  M430112881  A01000001113        1   A01  A010039  PD0290  20210101     10   \n",
              "1  M430112881  A01000003148        1   A01  A010039  PD0290  20210101     10   \n",
              "2  M430112881  A01000003148        1   A01  A010039  PD0290  20210101     10   \n",
              "3  M430112881  A01000004946        1   A01  A010039  PD0290  20210101     10   \n",
              "4  M506355556  A01000107137        1   A01  A010032  PD0290  20210101     15   \n",
              "\n",
              "     buy_am  buy_ct  pd_nm clac_hlv_nm clac_mcls_nm ma_fem_dv ages zon_hlv  \n",
              "0   15000.0       1  남성티셔츠        남성의류       남성의류상의        여성  50대     Z17  \n",
              "1   19000.0       1  남성티셔츠        남성의류       남성의류상의        여성  50대     Z17  \n",
              "2   19000.0       1  남성티셔츠        남성의류       남성의류상의        여성  50대     Z17  \n",
              "3   19000.0       1  남성티셔츠        남성의류       남성의류상의        여성  50대     Z17  \n",
              "4  199000.0       1  남성티셔츠        남성의류       남성의류상의        여성  40대     Z17  "
            ],
            "text/html": [
              "\n",
              "  <div id=\"df-7fe79e10-a41a-48a6-8142-ca7285d317cb\">\n",
              "    <div class=\"colab-df-container\">\n",
              "      <div>\n",
              "<style scoped>\n",
              "    .dataframe tbody tr th:only-of-type {\n",
              "        vertical-align: middle;\n",
              "    }\n",
              "\n",
              "    .dataframe tbody tr th {\n",
              "        vertical-align: top;\n",
              "    }\n",
              "\n",
              "    .dataframe thead th {\n",
              "        text-align: right;\n",
              "    }\n",
              "</style>\n",
              "<table border=\"1\" class=\"dataframe\">\n",
              "  <thead>\n",
              "    <tr style=\"text-align: right;\">\n",
              "      <th></th>\n",
              "      <th>cust</th>\n",
              "      <th>rct_no</th>\n",
              "      <th>chnl_dv</th>\n",
              "      <th>cop_c</th>\n",
              "      <th>br_c</th>\n",
              "      <th>pd_c</th>\n",
              "      <th>de_dt</th>\n",
              "      <th>de_hr</th>\n",
              "      <th>buy_am</th>\n",
              "      <th>buy_ct</th>\n",
              "      <th>pd_nm</th>\n",
              "      <th>clac_hlv_nm</th>\n",
              "      <th>clac_mcls_nm</th>\n",
              "      <th>ma_fem_dv</th>\n",
              "      <th>ages</th>\n",
              "      <th>zon_hlv</th>\n",
              "    </tr>\n",
              "  </thead>\n",
              "  <tbody>\n",
              "    <tr>\n",
              "      <th>0</th>\n",
              "      <td>M430112881</td>\n",
              "      <td>A01000001113</td>\n",
              "      <td>1</td>\n",
              "      <td>A01</td>\n",
              "      <td>A010039</td>\n",
              "      <td>PD0290</td>\n",
              "      <td>20210101</td>\n",
              "      <td>10</td>\n",
              "      <td>15000.0</td>\n",
              "      <td>1</td>\n",
              "      <td>남성티셔츠</td>\n",
              "      <td>남성의류</td>\n",
              "      <td>남성의류상의</td>\n",
              "      <td>여성</td>\n",
              "      <td>50대</td>\n",
              "      <td>Z17</td>\n",
              "    </tr>\n",
              "    <tr>\n",
              "      <th>1</th>\n",
              "      <td>M430112881</td>\n",
              "      <td>A01000003148</td>\n",
              "      <td>1</td>\n",
              "      <td>A01</td>\n",
              "      <td>A010039</td>\n",
              "      <td>PD0290</td>\n",
              "      <td>20210101</td>\n",
              "      <td>10</td>\n",
              "      <td>19000.0</td>\n",
              "      <td>1</td>\n",
              "      <td>남성티셔츠</td>\n",
              "      <td>남성의류</td>\n",
              "      <td>남성의류상의</td>\n",
              "      <td>여성</td>\n",
              "      <td>50대</td>\n",
              "      <td>Z17</td>\n",
              "    </tr>\n",
              "    <tr>\n",
              "      <th>2</th>\n",
              "      <td>M430112881</td>\n",
              "      <td>A01000003148</td>\n",
              "      <td>1</td>\n",
              "      <td>A01</td>\n",
              "      <td>A010039</td>\n",
              "      <td>PD0290</td>\n",
              "      <td>20210101</td>\n",
              "      <td>10</td>\n",
              "      <td>19000.0</td>\n",
              "      <td>1</td>\n",
              "      <td>남성티셔츠</td>\n",
              "      <td>남성의류</td>\n",
              "      <td>남성의류상의</td>\n",
              "      <td>여성</td>\n",
              "      <td>50대</td>\n",
              "      <td>Z17</td>\n",
              "    </tr>\n",
              "    <tr>\n",
              "      <th>3</th>\n",
              "      <td>M430112881</td>\n",
              "      <td>A01000004946</td>\n",
              "      <td>1</td>\n",
              "      <td>A01</td>\n",
              "      <td>A010039</td>\n",
              "      <td>PD0290</td>\n",
              "      <td>20210101</td>\n",
              "      <td>10</td>\n",
              "      <td>19000.0</td>\n",
              "      <td>1</td>\n",
              "      <td>남성티셔츠</td>\n",
              "      <td>남성의류</td>\n",
              "      <td>남성의류상의</td>\n",
              "      <td>여성</td>\n",
              "      <td>50대</td>\n",
              "      <td>Z17</td>\n",
              "    </tr>\n",
              "    <tr>\n",
              "      <th>4</th>\n",
              "      <td>M506355556</td>\n",
              "      <td>A01000107137</td>\n",
              "      <td>1</td>\n",
              "      <td>A01</td>\n",
              "      <td>A010032</td>\n",
              "      <td>PD0290</td>\n",
              "      <td>20210101</td>\n",
              "      <td>15</td>\n",
              "      <td>199000.0</td>\n",
              "      <td>1</td>\n",
              "      <td>남성티셔츠</td>\n",
              "      <td>남성의류</td>\n",
              "      <td>남성의류상의</td>\n",
              "      <td>여성</td>\n",
              "      <td>40대</td>\n",
              "      <td>Z17</td>\n",
              "    </tr>\n",
              "  </tbody>\n",
              "</table>\n",
              "</div>\n",
              "      <button class=\"colab-df-convert\" onclick=\"convertToInteractive('df-7fe79e10-a41a-48a6-8142-ca7285d317cb')\"\n",
              "              title=\"Convert this dataframe to an interactive table.\"\n",
              "              style=\"display:none;\">\n",
              "        \n",
              "  <svg xmlns=\"http://www.w3.org/2000/svg\" height=\"24px\"viewBox=\"0 0 24 24\"\n",
              "       width=\"24px\">\n",
              "    <path d=\"M0 0h24v24H0V0z\" fill=\"none\"/>\n",
              "    <path d=\"M18.56 5.44l.94 2.06.94-2.06 2.06-.94-2.06-.94-.94-2.06-.94 2.06-2.06.94zm-11 1L8.5 8.5l.94-2.06 2.06-.94-2.06-.94L8.5 2.5l-.94 2.06-2.06.94zm10 10l.94 2.06.94-2.06 2.06-.94-2.06-.94-.94-2.06-.94 2.06-2.06.94z\"/><path d=\"M17.41 7.96l-1.37-1.37c-.4-.4-.92-.59-1.43-.59-.52 0-1.04.2-1.43.59L10.3 9.45l-7.72 7.72c-.78.78-.78 2.05 0 2.83L4 21.41c.39.39.9.59 1.41.59.51 0 1.02-.2 1.41-.59l7.78-7.78 2.81-2.81c.8-.78.8-2.07 0-2.86zM5.41 20L4 18.59l7.72-7.72 1.47 1.35L5.41 20z\"/>\n",
              "  </svg>\n",
              "      </button>\n",
              "      \n",
              "  <style>\n",
              "    .colab-df-container {\n",
              "      display:flex;\n",
              "      flex-wrap:wrap;\n",
              "      gap: 12px;\n",
              "    }\n",
              "\n",
              "    .colab-df-convert {\n",
              "      background-color: #E8F0FE;\n",
              "      border: none;\n",
              "      border-radius: 50%;\n",
              "      cursor: pointer;\n",
              "      display: none;\n",
              "      fill: #1967D2;\n",
              "      height: 32px;\n",
              "      padding: 0 0 0 0;\n",
              "      width: 32px;\n",
              "    }\n",
              "\n",
              "    .colab-df-convert:hover {\n",
              "      background-color: #E2EBFA;\n",
              "      box-shadow: 0px 1px 2px rgba(60, 64, 67, 0.3), 0px 1px 3px 1px rgba(60, 64, 67, 0.15);\n",
              "      fill: #174EA6;\n",
              "    }\n",
              "\n",
              "    [theme=dark] .colab-df-convert {\n",
              "      background-color: #3B4455;\n",
              "      fill: #D2E3FC;\n",
              "    }\n",
              "\n",
              "    [theme=dark] .colab-df-convert:hover {\n",
              "      background-color: #434B5C;\n",
              "      box-shadow: 0px 1px 3px 1px rgba(0, 0, 0, 0.15);\n",
              "      filter: drop-shadow(0px 1px 2px rgba(0, 0, 0, 0.3));\n",
              "      fill: #FFFFFF;\n",
              "    }\n",
              "  </style>\n",
              "\n",
              "      <script>\n",
              "        const buttonEl =\n",
              "          document.querySelector('#df-7fe79e10-a41a-48a6-8142-ca7285d317cb button.colab-df-convert');\n",
              "        buttonEl.style.display =\n",
              "          google.colab.kernel.accessAllowed ? 'block' : 'none';\n",
              "\n",
              "        async function convertToInteractive(key) {\n",
              "          const element = document.querySelector('#df-7fe79e10-a41a-48a6-8142-ca7285d317cb');\n",
              "          const dataTable =\n",
              "            await google.colab.kernel.invokeFunction('convertToInteractive',\n",
              "                                                     [key], {});\n",
              "          if (!dataTable) return;\n",
              "\n",
              "          const docLinkHtml = 'Like what you see? Visit the ' +\n",
              "            '<a target=\"_blank\" href=https://colab.research.google.com/notebooks/data_table.ipynb>data table notebook</a>'\n",
              "            + ' to learn more about interactive tables.';\n",
              "          element.innerHTML = '';\n",
              "          dataTable['output_type'] = 'display_data';\n",
              "          await google.colab.output.renderOutput(dataTable, element);\n",
              "          const docLink = document.createElement('div');\n",
              "          docLink.innerHTML = docLinkHtml;\n",
              "          element.appendChild(docLink);\n",
              "        }\n",
              "      </script>\n",
              "    </div>\n",
              "  </div>\n",
              "  "
            ]
          },
          "metadata": {},
          "execution_count": 3
        }
      ]
    },
    {
      "cell_type": "markdown",
      "source": [
        "이상치 제거"
      ],
      "metadata": {
        "id": "OjluYxijde9n"
      }
    },
    {
      "cell_type": "code",
      "source": [
        "df=df[df['cust']!='M057015266']\n",
        "df=df[df['cust']!='M919374790']\n",
        "print(df.shape)"
      ],
      "metadata": {
        "colab": {
          "base_uri": "https://localhost:8080/"
        },
        "id": "s4yTHeeEvIPx",
        "outputId": "56c1abc7-63ad-4b21-9448-8969926abfda"
      },
      "execution_count": 4,
      "outputs": [
        {
          "output_type": "stream",
          "name": "stdout",
          "text": [
            "(4359246, 16)\n"
          ]
        }
      ]
    },
    {
      "cell_type": "markdown",
      "source": [
        "결측치 확인"
      ],
      "metadata": {
        "id": "YxbDhG_xdc-E"
      }
    },
    {
      "cell_type": "code",
      "source": [
        "import missingno as msno\n",
        "msno.matrix(df, color = (0.302, 0.678, 0.514))"
      ],
      "metadata": {
        "colab": {
          "base_uri": "https://localhost:8080/",
          "height": 420
        },
        "id": "rlu_9vJMv31B",
        "outputId": "1abafe03-e760-41c0-a90f-e0dd45c63a23"
      },
      "execution_count": 5,
      "outputs": [
        {
          "output_type": "execute_result",
          "data": {
            "text/plain": [
              "<matplotlib.axes._subplots.AxesSubplot at 0x7f5005259050>"
            ]
          },
          "metadata": {},
          "execution_count": 5
        },
        {
          "output_type": "display_data",
          "data": {
            "text/plain": [
              "<Figure size 1800x720 with 2 Axes>"
            ],
            "image/png": "[encoded data removed]"
          },
          "metadata": {
            "needs_background": "light"
          }
        }
      ]
    },
    {
      "cell_type": "markdown",
      "source": [
        "변수 정리"
      ],
      "metadata": {
        "id": "sK9Q-mbx8US6"
      }
    },
    {
      "cell_type": "code",
      "source": [
        "#날짜변수\n",
        "from datetime import datetime\n",
        "\n",
        "a = df['de_dt'].astype('str')\n",
        "df['de_dt']  = pd.to_datetime(a)\n",
        "df['day'] = df['de_dt'].map(lambda x : x.strftime('%A'))\n",
        "df['month'] = df['de_dt'].dt.month #월변수 생성\n",
        "df['day'] = df['de_dt'].dt.day #일변수 생성"
      ],
      "metadata": {
        "id": "y2IV9I7PFsL7"
      },
      "execution_count": 6,
      "outputs": []
    },
    {
      "cell_type": "code",
      "source": [
        "#계절변수\n",
        "def wea_fun(x):\n",
        "  y=''\n",
        "  if x==3 or x==4 or x==5: y='spr'\n",
        "  elif x==6 or x==7 or x==8: y='smn'\n",
        "  elif x==9 or x==10 or x==11: y='atm'\n",
        "  else: y='win'\n",
        "  return y\n",
        "\n",
        "#함수 적용\n",
        "df[\"weat\"] = df[\"month\"].apply(lambda x: wea_fun(x))"
      ],
      "metadata": {
        "id": "wjx3DvqXEC-6"
      },
      "execution_count": 7,
      "outputs": []
    },
    {
      "cell_type": "code",
      "source": [
        "#구매 시간 변수\n",
        "plt.figure(figsize=(12,4))\n",
        "\n",
        "plt.hist(df['de_hr'],bins=24, color='#FD6C8F')\n",
        "b = [2,5,8,10,12,14,16,19,21,23]\n",
        "for i in b:\n",
        "  plt.axvline(i,0,1,color=\"#528073\",linestyle='--')"
      ],
      "metadata": {
        "colab": {
          "base_uri": "https://localhost:8080/",
          "height": 265
        },
        "id": "2CQwENJ08fxQ",
        "outputId": "8014270d-cdd1-4555-d105-d0f10159a1f4"
      },
      "execution_count": 8,
      "outputs": [
        {
          "output_type": "display_data",
          "data": {
            "text/plain": [
              "<Figure size 864x288 with 1 Axes>"
            ],
            "image/png": "[encoded data removed]"
          },
          "metadata": {
            "needs_background": "light"
          }
        }
      ]
    },
    {
      "cell_type": "code",
      "source": [
        "def time_fun(x):\n",
        "  y=''\n",
        "  if x>=2 and x<5: y='a_1'\n",
        "  elif (x>=5 and x<8): y='a_2'\n",
        "  elif (x>=8 and x<10): y='a_3'\n",
        "  elif (x>=10 and x<12): y='a_4'\n",
        "  elif (x>=12 and x<14): y='a_5'\n",
        "  elif (x>=14 and x<16): y='a_6'\n",
        "  elif (x>=16 and x<19): y='a_7'\n",
        "  elif (x>=19 and x<21): y='a_8'\n",
        "  elif (x>=21 and x<23): y='a_9'\n",
        "  else: y='a_10'\n",
        "  return y\n",
        "\n",
        "#함수 적용\n",
        "df[\"de_hr_1\"] = df[\"de_hr\"].apply(lambda x: time_fun(x))"
      ],
      "metadata": {
        "id": "2CDq6RWf_OgZ"
      },
      "execution_count": 9,
      "outputs": []
    },
    {
      "cell_type": "code",
      "source": [
        "#구매 분산 변수\n",
        "dftime=df.groupby('cust')['de_hr'].var()\n",
        "dftime=pd.DataFrame(dftime)\n",
        "dftime.columns=['hrvar']\n",
        "df=pd.merge(df,dftime, on='cust', how='left')"
      ],
      "metadata": {
        "id": "PN1YfXNPDAUA"
      },
      "execution_count": 10,
      "outputs": []
    },
    {
      "cell_type": "code",
      "source": [
        "#성별 인코딩: 여1, 남0을 사용합니다\n",
        "df['ma_fem_dv']=df.ma_fem_dv.apply(lambda x: 1 if x=='여성' else 0)"
      ],
      "metadata": {
        "id": "qjnPHf1YDrWM"
      },
      "execution_count": 11,
      "outputs": []
    },
    {
      "cell_type": "code",
      "source": [
        "#연령: 연령대의 대표값으로 나타내기 위해, 연령대+ 5를 사용합니다\n",
        "df['ages']=df.ages.apply(lambda x: int(x[:-1])+5)"
      ],
      "metadata": {
        "id": "m6CiZVk-F0T7"
      },
      "execution_count": 12,
      "outputs": []
    },
    {
      "cell_type": "code",
      "source": [
        "#요일 변수\n",
        "datedict={0:'mon',1:'tue',2:'wed',3:'thu',4:'fri',5:'sat',6:'sun'}\n",
        "df[\"weekday\"] = df[\"de_dt\"].apply(lambda x: datedict[x.weekday()])\n",
        "df['weekday']=df.weekday.apply(lambda x: 1 if x=='sat' or x=='sun' else 0)"
      ],
      "metadata": {
        "id": "orSdYzcAGJzv"
      },
      "execution_count": 13,
      "outputs": []
    },
    {
      "cell_type": "code",
      "source": [
        "#주말이 아닌 공휴일 변수\n",
        "#혜린이 코드에서 조금 변경사항 있어욥 \n",
        "holi=[]\n",
        "holiday=['0101','0211','0212','0301','0505','0519','0816','0920','0921','0922','1004','1011']\n",
        "for h in holiday:\n",
        "  holi.append('2021'+h)\n",
        "\n",
        "c = pd.to_datetime(holi)\n",
        "df['holi']=df.de_dt.apply(lambda x: 1 if x in c else 0)"
      ],
      "metadata": {
        "id": "kx74UujhJKZR"
      },
      "execution_count": 14,
      "outputs": []
    },
    {
      "cell_type": "code",
      "source": [
        "#거주 지역 시각화\n",
        "plt.figure(figsize=(12,4))\n",
        "\n",
        "sns.countplot(df['zon_hlv'],color='#FD6C8F')"
      ],
      "metadata": {
        "colab": {
          "base_uri": "https://localhost:8080/",
          "height": 365
        },
        "id": "3RYI9HLoJ6X2",
        "outputId": "9d76557a-71ac-43c6-815e-5287355a42aa"
      },
      "execution_count": 15,
      "outputs": [
        {
          "output_type": "stream",
          "name": "stderr",
          "text": [
            "/usr/local/lib/python3.7/dist-packages/seaborn/_decorators.py:43: FutureWarning: Pass the following variable as a keyword arg: x. From version 0.12, the only valid positional argument will be `data`, and passing other arguments without an explicit keyword will result in an error or misinterpretation.\n",
            "  FutureWarning\n"
          ]
        },
        {
          "output_type": "execute_result",
          "data": {
            "text/plain": [
              "<matplotlib.axes._subplots.AxesSubplot at 0x7f5005277110>"
            ]
          },
          "metadata": {},
          "execution_count": 15
        },
        {
          "output_type": "display_data",
          "data": {
            "text/plain": [
              "<Figure size 864x288 with 1 Axes>"
            ],
            "image/png": "[encoded data removed]"
          },
          "metadata": {
            "needs_background": "light"
          }
        }
      ]
    },
    {
      "cell_type": "code",
      "source": [
        "#거주지역 변수 설정\n",
        "df['zon_hlv']=df.zon_hlv.apply(lambda x: 1 if x=='Z17' or x=='Z10' else 0)"
      ],
      "metadata": {
        "id": "DclijoV_KiOk"
      },
      "execution_count": 16,
      "outputs": []
    },
    {
      "cell_type": "markdown",
      "source": [
        "날씨 변수 추가"
      ],
      "metadata": {
        "id": "R1FmaT8HeA0f"
      }
    },
    {
      "cell_type": "code",
      "source": [
        "#날씨 데이터\n",
        "temp=pd.read_csv('/content/drive/MyDrive/colab/lotte/df24_temprain.csv')"
      ],
      "metadata": {
        "colab": {
          "base_uri": "https://localhost:8080/"
        },
        "id": "66a3qmc5Xu24",
        "outputId": "adf01501-4b42-4564-f353-5713d067f202"
      },
      "execution_count": 17,
      "outputs": [
        {
          "output_type": "stream",
          "name": "stderr",
          "text": [
            "/usr/local/lib/python3.7/dist-packages/IPython/core/interactiveshell.py:2882: DtypeWarning: Columns (5) have mixed types.Specify dtype option on import or set low_memory=False.\n",
            "  exec(code_obj, self.user_global_ns, self.user_ns)\n"
          ]
        }
      ]
    },
    {
      "cell_type": "code",
      "source": [
        "#########임시!!!!!!!!\n",
        "temp=temp.groupby('de_dt')[['rain','temp']].min()"
      ],
      "metadata": {
        "id": "gYV1jJvTakt7"
      },
      "execution_count": 18,
      "outputs": []
    },
    {
      "cell_type": "code",
      "source": [
        "temp=temp.reset_index()"
      ],
      "metadata": {
        "id": "nraIf23vbpW8"
      },
      "execution_count": 19,
      "outputs": []
    },
    {
      "cell_type": "code",
      "source": [
        "#강수량 데이터 가공\n",
        "d = temp['rain'][1]\n",
        "def num_fun(xx):\n",
        "  return float(xx[:-2])\n",
        "temp[\"rain\"] = temp[\"rain\"].apply(lambda x: 0 if x==d else num_fun(x))\n",
        "#날짜 형태 변환\n",
        "e = temp['de_dt'].astype('str')\n",
        "temp['de_dt']  = pd.to_datetime(e)"
      ],
      "metadata": {
        "id": "eb5g5Q4-chkK"
      },
      "execution_count": 20,
      "outputs": []
    },
    {
      "cell_type": "code",
      "source": [
        "df = pd.merge(df, temp,how='left',on='de_dt')"
      ],
      "metadata": {
        "id": "4KlQ0YDYdzQ-"
      },
      "execution_count": 21,
      "outputs": []
    },
    {
      "cell_type": "markdown",
      "source": [
        "제휴사 관련 데이터 추가"
      ],
      "metadata": {
        "id": "LAxtfWAbDU5N"
      }
    },
    {
      "cell_type": "code",
      "source": [
        "def A1(x): #쇼핑몰, 백화점\n",
        "  if x=='A01' or x=='A06':\n",
        "    return 1\n",
        "  else:\n",
        "    return 0\n",
        "\n",
        "def A2(x): #식료품점, 대형마트\n",
        "  if x=='A02' or x=='A03':\n",
        "    return 1\n",
        "  else:\n",
        "    return 0\n",
        "\n",
        "def A3(x): #편의점\n",
        "  if x=='A04':\n",
        "    return 1\n",
        "  else:\n",
        "    return 0\n",
        "\n",
        "def A4(x): #가전제품 매장\n",
        "  if x=='A05':\n",
        "    return 1\n",
        "  else:\n",
        "    return 0"
      ],
      "metadata": {
        "id": "tN9brUTkDWP7"
      },
      "execution_count": 22,
      "outputs": []
    },
    {
      "cell_type": "code",
      "source": [
        "#원핫인코딩 방식으로 개별 열로 저장한다 \n",
        "df['A1']=df.cop_c.apply(A1)\n",
        "df['A2']=df.cop_c.apply(A2)\n",
        "df['A3']=df.cop_c.apply(A3)\n",
        "df['A4']=df.cop_c.apply(A4)"
      ],
      "metadata": {
        "id": "pDMAJU7MDZcK"
      },
      "execution_count": 23,
      "outputs": []
    },
    {
      "cell_type": "code",
      "source": [
        "usedf=df[['de_hr_1','buy_am','buy_ct','ma_fem_dv','ages','weat','zon_hlv','ㅐone_times_items',\n",
        "          'rebuy_ration',]]\n",
        "usedf.to_csv('/content/drive/MyDrive/colab/lotte/final_df.csv') #csv파일로 생성"
      ],
      "metadata": {
        "id": "JJRFJdiMnXUs"
      },
      "execution_count": null,
      "outputs": []
    },
    {
      "cell_type": "code",
      "source": [
        "print(df.shape)\n",
        "df.head()"
      ],
      "metadata": {
        "colab": {
          "base_uri": "https://localhost:8080/",
          "height": 404
        },
        "id": "2qMtU7HbGk5X",
        "outputId": "6889b7e8-4220-49d4-fbc4-659e7da1699b"
      },
      "execution_count": 24,
      "outputs": [
        {
          "output_type": "stream",
          "name": "stdout",
          "text": [
            "(4359246, 29)\n"
          ]
        },
        {
          "output_type": "execute_result",
          "data": {
            "text/plain": [
              "         cust        rct_no  chnl_dv cop_c     br_c    pd_c      de_dt  de_hr  \\\n",
              "0  M430112881  A01000001113        1   A01  A010039  PD0290 2021-01-01     10   \n",
              "1  M430112881  A01000003148        1   A01  A010039  PD0290 2021-01-01     10   \n",
              "2  M430112881  A01000003148        1   A01  A010039  PD0290 2021-01-01     10   \n",
              "3  M430112881  A01000004946        1   A01  A010039  PD0290 2021-01-01     10   \n",
              "4  M506355556  A01000107137        1   A01  A010032  PD0290 2021-01-01     15   \n",
              "\n",
              "     buy_am  buy_ct  ... de_hr_1     hrvar weekday  holi  rain  temp  A1  A2  \\\n",
              "0   15000.0       1  ...     a_4  9.266085       0     1   0.0  -4.2   1   0   \n",
              "1   19000.0       1  ...     a_4  9.266085       0     1   0.0  -4.2   1   0   \n",
              "2   19000.0       1  ...     a_4  9.266085       0     1   0.0  -4.2   1   0   \n",
              "3   19000.0       1  ...     a_4  9.266085       0     1   0.0  -4.2   1   0   \n",
              "4  199000.0       1  ...     a_6  4.290058       0     1   0.0  -4.2   1   0   \n",
              "\n",
              "  A3 A4  \n",
              "0  0  0  \n",
              "1  0  0  \n",
              "2  0  0  \n",
              "3  0  0  \n",
              "4  0  0  \n",
              "\n",
              "[5 rows x 29 columns]"
            ],
            "text/html": [
              "\n",
              "  <div id=\"df-9386b9df-8e04-4c06-8c35-7be63d47a188\">\n",
              "    <div class=\"colab-df-container\">\n",
              "      <div>\n",
              "<style scoped>\n",
              "    .dataframe tbody tr th:only-of-type {\n",
              "        vertical-align: middle;\n",
              "    }\n",
              "\n",
              "    .dataframe tbody tr th {\n",
              "        vertical-align: top;\n",
              "    }\n",
              "\n",
              "    .dataframe thead th {\n",
              "        text-align: right;\n",
              "    }\n",
              "</style>\n",
              "<table border=\"1\" class=\"dataframe\">\n",
              "  <thead>\n",
              "    <tr style=\"text-align: right;\">\n",
              "      <th></th>\n",
              "      <th>cust</th>\n",
              "      <th>rct_no</th>\n",
              "      <th>chnl_dv</th>\n",
              "      <th>cop_c</th>\n",
              "      <th>br_c</th>\n",
              "      <th>pd_c</th>\n",
              "      <th>de_dt</th>\n",
              "      <th>de_hr</th>\n",
              "      <th>buy_am</th>\n",
              "      <th>buy_ct</th>\n",
              "      <th>...</th>\n",
              "      <th>de_hr_1</th>\n",
              "      <th>hrvar</th>\n",
              "      <th>weekday</th>\n",
              "      <th>holi</th>\n",
              "      <th>rain</th>\n",
              "      <th>temp</th>\n",
              "      <th>A1</th>\n",
              "      <th>A2</th>\n",
              "      <th>A3</th>\n",
              "      <th>A4</th>\n",
              "    </tr>\n",
              "  </thead>\n",
              "  <tbody>\n",
              "    <tr>\n",
              "      <th>0</th>\n",
              "      <td>M430112881</td>\n",
              "      <td>A01000001113</td>\n",
              "      <td>1</td>\n",
              "      <td>A01</td>\n",
              "      <td>A010039</td>\n",
              "      <td>PD0290</td>\n",
              "      <td>2021-01-01</td>\n",
              "      <td>10</td>\n",
              "      <td>15000.0</td>\n",
              "      <td>1</td>\n",
              "      <td>...</td>\n",
              "      <td>a_4</td>\n",
              "      <td>9.266085</td>\n",
              "      <td>0</td>\n",
              "      <td>1</td>\n",
              "      <td>0.0</td>\n",
              "      <td>-4.2</td>\n",
              "      <td>1</td>\n",
              "      <td>0</td>\n",
              "      <td>0</td>\n",
              "      <td>0</td>\n",
              "    </tr>\n",
              "    <tr>\n",
              "      <th>1</th>\n",
              "      <td>M430112881</td>\n",
              "      <td>A01000003148</td>\n",
              "      <td>1</td>\n",
              "      <td>A01</td>\n",
              "      <td>A010039</td>\n",
              "      <td>PD0290</td>\n",
              "      <td>2021-01-01</td>\n",
              "      <td>10</td>\n",
              "      <td>19000.0</td>\n",
              "      <td>1</td>\n",
              "      <td>...</td>\n",
              "      <td>a_4</td>\n",
              "      <td>9.266085</td>\n",
              "      <td>0</td>\n",
              "      <td>1</td>\n",
              "      <td>0.0</td>\n",
              "      <td>-4.2</td>\n",
              "      <td>1</td>\n",
              "      <td>0</td>\n",
              "      <td>0</td>\n",
              "      <td>0</td>\n",
              "    </tr>\n",
              "    <tr>\n",
              "      <th>2</th>\n",
              "      <td>M430112881</td>\n",
              "      <td>A01000003148</td>\n",
              "      <td>1</td>\n",
              "      <td>A01</td>\n",
              "      <td>A010039</td>\n",
              "      <td>PD0290</td>\n",
              "      <td>2021-01-01</td>\n",
              "      <td>10</td>\n",
              "      <td>19000.0</td>\n",
              "      <td>1</td>\n",
              "      <td>...</td>\n",
              "      <td>a_4</td>\n",
              "      <td>9.266085</td>\n",
              "      <td>0</td>\n",
              "      <td>1</td>\n",
              "      <td>0.0</td>\n",
              "      <td>-4.2</td>\n",
              "      <td>1</td>\n",
              "      <td>0</td>\n",
              "      <td>0</td>\n",
              "      <td>0</td>\n",
              "    </tr>\n",
              "    <tr>\n",
              "      <th>3</th>\n",
              "      <td>M430112881</td>\n",
              "      <td>A01000004946</td>\n",
              "      <td>1</td>\n",
              "      <td>A01</td>\n",
              "      <td>A010039</td>\n",
              "      <td>PD0290</td>\n",
              "      <td>2021-01-01</td>\n",
              "      <td>10</td>\n",
              "      <td>19000.0</td>\n",
              "      <td>1</td>\n",
              "      <td>...</td>\n",
              "      <td>a_4</td>\n",
              "      <td>9.266085</td>\n",
              "      <td>0</td>\n",
              "      <td>1</td>\n",
              "      <td>0.0</td>\n",
              "      <td>-4.2</td>\n",
              "      <td>1</td>\n",
              "      <td>0</td>\n",
              "      <td>0</td>\n",
              "      <td>0</td>\n",
              "    </tr>\n",
              "    <tr>\n",
              "      <th>4</th>\n",
              "      <td>M506355556</td>\n",
              "      <td>A01000107137</td>\n",
              "      <td>1</td>\n",
              "      <td>A01</td>\n",
              "      <td>A010032</td>\n",
              "      <td>PD0290</td>\n",
              "      <td>2021-01-01</td>\n",
              "      <td>15</td>\n",
              "      <td>199000.0</td>\n",
              "      <td>1</td>\n",
              "      <td>...</td>\n",
              "      <td>a_6</td>\n",
              "      <td>4.290058</td>\n",
              "      <td>0</td>\n",
              "      <td>1</td>\n",
              "      <td>0.0</td>\n",
              "      <td>-4.2</td>\n",
              "      <td>1</td>\n",
              "      <td>0</td>\n",
              "      <td>0</td>\n",
              "      <td>0</td>\n",
              "    </tr>\n",
              "  </tbody>\n",
              "</table>\n",
              "<p>5 rows × 29 columns</p>\n",
              "</div>\n",
              "      <button class=\"colab-df-convert\" onclick=\"convertToInteractive('df-9386b9df-8e04-4c06-8c35-7be63d47a188')\"\n",
              "              title=\"Convert this dataframe to an interactive table.\"\n",
              "              style=\"display:none;\">\n",
              "        \n",
              "  <svg xmlns=\"http://www.w3.org/2000/svg\" height=\"24px\"viewBox=\"0 0 24 24\"\n",
              "       width=\"24px\">\n",
              "    <path d=\"M0 0h24v24H0V0z\" fill=\"none\"/>\n",
              "    <path d=\"M18.56 5.44l.94 2.06.94-2.06 2.06-.94-2.06-.94-.94-2.06-.94 2.06-2.06.94zm-11 1L8.5 8.5l.94-2.06 2.06-.94-2.06-.94L8.5 2.5l-.94 2.06-2.06.94zm10 10l.94 2.06.94-2.06 2.06-.94-2.06-.94-.94-2.06-.94 2.06-2.06.94z\"/><path d=\"M17.41 7.96l-1.37-1.37c-.4-.4-.92-.59-1.43-.59-.52 0-1.04.2-1.43.59L10.3 9.45l-7.72 7.72c-.78.78-.78 2.05 0 2.83L4 21.41c.39.39.9.59 1.41.59.51 0 1.02-.2 1.41-.59l7.78-7.78 2.81-2.81c.8-.78.8-2.07 0-2.86zM5.41 20L4 18.59l7.72-7.72 1.47 1.35L5.41 20z\"/>\n",
              "  </svg>\n",
              "      </button>\n",
              "      \n",
              "  <style>\n",
              "    .colab-df-container {\n",
              "      display:flex;\n",
              "      flex-wrap:wrap;\n",
              "      gap: 12px;\n",
              "    }\n",
              "\n",
              "    .colab-df-convert {\n",
              "      background-color: #E8F0FE;\n",
              "      border: none;\n",
              "      border-radius: 50%;\n",
              "      cursor: pointer;\n",
              "      display: none;\n",
              "      fill: #1967D2;\n",
              "      height: 32px;\n",
              "      padding: 0 0 0 0;\n",
              "      width: 32px;\n",
              "    }\n",
              "\n",
              "    .colab-df-convert:hover {\n",
              "      background-color: #E2EBFA;\n",
              "      box-shadow: 0px 1px 2px rgba(60, 64, 67, 0.3), 0px 1px 3px 1px rgba(60, 64, 67, 0.15);\n",
              "      fill: #174EA6;\n",
              "    }\n",
              "\n",
              "    [theme=dark] .colab-df-convert {\n",
              "      background-color: #3B4455;\n",
              "      fill: #D2E3FC;\n",
              "    }\n",
              "\n",
              "    [theme=dark] .colab-df-convert:hover {\n",
              "      background-color: #434B5C;\n",
              "      box-shadow: 0px 1px 3px 1px rgba(0, 0, 0, 0.15);\n",
              "      filter: drop-shadow(0px 1px 2px rgba(0, 0, 0, 0.3));\n",
              "      fill: #FFFFFF;\n",
              "    }\n",
              "  </style>\n",
              "\n",
              "      <script>\n",
              "        const buttonEl =\n",
              "          document.querySelector('#df-9386b9df-8e04-4c06-8c35-7be63d47a188 button.colab-df-convert');\n",
              "        buttonEl.style.display =\n",
              "          google.colab.kernel.accessAllowed ? 'block' : 'none';\n",
              "\n",
              "        async function convertToInteractive(key) {\n",
              "          const element = document.querySelector('#df-9386b9df-8e04-4c06-8c35-7be63d47a188');\n",
              "          const dataTable =\n",
              "            await google.colab.kernel.invokeFunction('convertToInteractive',\n",
              "                                                     [key], {});\n",
              "          if (!dataTable) return;\n",
              "\n",
              "          const docLinkHtml = 'Like what you see? Visit the ' +\n",
              "            '<a target=\"_blank\" href=https://colab.research.google.com/notebooks/data_table.ipynb>data table notebook</a>'\n",
              "            + ' to learn more about interactive tables.';\n",
              "          element.innerHTML = '';\n",
              "          dataTable['output_type'] = 'display_data';\n",
              "          await google.colab.output.renderOutput(dataTable, element);\n",
              "          const docLink = document.createElement('div');\n",
              "          docLink.innerHTML = docLinkHtml;\n",
              "          element.appendChild(docLink);\n",
              "        }\n",
              "      </script>\n",
              "    </div>\n",
              "  </div>\n",
              "  "
            ]
          },
          "metadata": {},
          "execution_count": 24
        }
      ]
    },
    {
      "cell_type": "markdown",
      "source": [
        "______________"
      ],
      "metadata": {
        "id": "7CJ-63VQe4Vy"
      }
    },
    {
      "cell_type": "markdown",
      "source": [
        "## 3. 탐색적 데이터 분석(EDA)"
      ],
      "metadata": {
        "id": "XAZHUHw1e6G0"
      }
    },
    {
      "cell_type": "markdown",
      "source": [
        "### 필요한 변수 추가"
      ],
      "metadata": {
        "id": "vZynDJg9fvPX"
      }
    },
    {
      "cell_type": "markdown",
      "source": [
        "1. 고객 구매 수량 관련 변수 분석"
      ],
      "metadata": {
        "id": "e_nIpF-GfxMn"
      }
    },
    {
      "cell_type": "code",
      "source": [
        "#고객의 총 주문한 상품 수\n",
        "order1 = df.groupby('cust').sum()['buy_ct'].rename_axis('cust').reset_index(name='total_items')\n",
        "#한번에 주문한 상품의 수\n",
        "order2 = df[['rct_no']].value_counts().reset_index(name='one_times_items') \n",
        "#구매 횟수\n",
        "order3 = df.groupby('cust')['rct_no'].nunique().reset_index(name='rct_cnt')"
      ],
      "metadata": {
        "id": "RaLMHdqaaVsT"
      },
      "execution_count": 24,
      "outputs": []
    },
    {
      "cell_type": "code",
      "source": [
        "plt.figure(figsize=(16,3))\n",
        "pp=sns.boxplot(order1['total_items'], color='#FD6C8F')\n",
        "plt.xlim(0, 3500)"
      ],
      "metadata": {
        "colab": {
          "base_uri": "https://localhost:8080/",
          "height": 290
        },
        "id": "A5z_QM9Raqi_",
        "outputId": "f21c138f-f628-4c49-a915-8087924b1c44"
      },
      "execution_count": 23,
      "outputs": [
        {
          "output_type": "stream",
          "name": "stderr",
          "text": [
            "/usr/local/lib/python3.7/dist-packages/seaborn/_decorators.py:43: FutureWarning: Pass the following variable as a keyword arg: x. From version 0.12, the only valid positional argument will be `data`, and passing other arguments without an explicit keyword will result in an error or misinterpretation.\n",
            "  FutureWarning\n"
          ]
        },
        {
          "output_type": "execute_result",
          "data": {
            "text/plain": [
              "(0.0, 3500.0)"
            ]
          },
          "metadata": {},
          "execution_count": 23
        },
        {
          "output_type": "display_data",
          "data": {
            "text/plain": [
              "<Figure size 1152x216 with 1 Axes>"
            ],
            "image/png": "[encoded data removed]"
          },
          "metadata": {
            "needs_background": "light"
          }
        }
      ]
    },
    {
      "cell_type": "code",
      "source": [
        "plt.figure(figsize=(16,3))\n",
        "\n",
        "sns.boxplot(order3['rct_cnt'], color='#528073')\n",
        "plt.xlim(0, 600)"
      ],
      "metadata": {
        "colab": {
          "base_uri": "https://localhost:8080/",
          "height": 290
        },
        "id": "_vH_GB2jchVO",
        "outputId": "e69b3693-27ff-430d-a3f0-920ca2e670e0"
      },
      "execution_count": 27,
      "outputs": [
        {
          "output_type": "stream",
          "name": "stderr",
          "text": [
            "/usr/local/lib/python3.7/dist-packages/seaborn/_decorators.py:43: FutureWarning: Pass the following variable as a keyword arg: x. From version 0.12, the only valid positional argument will be `data`, and passing other arguments without an explicit keyword will result in an error or misinterpretation.\n",
            "  FutureWarning\n"
          ]
        },
        {
          "output_type": "execute_result",
          "data": {
            "text/plain": [
              "(0.0, 600.0)"
            ]
          },
          "metadata": {},
          "execution_count": 27
        },
        {
          "output_type": "display_data",
          "data": {
            "text/plain": [
              "<Figure size 1152x216 with 1 Axes>"
            ],
            "image/png": "[encoded data removed]"
          },
          "metadata": {
            "needs_background": "light"
          }
        }
      ]
    },
    {
      "cell_type": "code",
      "source": [
        "df = pd.merge(df, order1, how='outer',on='cust')\n",
        "df = pd.merge(df, order2, how='outer',on='rct_no')\n",
        "df = pd.merge(df, order3, how='outer',on='cust')"
      ],
      "metadata": {
        "id": "Cqvai1ZdgDzO"
      },
      "execution_count": 25,
      "outputs": []
    },
    {
      "cell_type": "markdown",
      "source": [
        "2. 재구매 여부 변수 추가"
      ],
      "metadata": {
        "id": "mJVCUTeah_nb"
      }
    },
    {
      "cell_type": "code",
      "source": [
        "#재재구구매  1차 \n",
        "rebuy_df = df.groupby(['cust', 'clac_mcls_nm','de_dt']).sum()['buy_ct'].reset_index(name='buy_cnt') \n",
        "rebuy_df=rebuy_df.sort_values(['cust','clac_mcls_nm','de_dt'])\n",
        "\n",
        "rebuy_df['dt_diff']=rebuy_df['de_dt'].diff()\n",
        "rebuy_df.loc[rebuy_df['cust'] != rebuy_df['cust'].shift(), 'dt_diff']=None\n",
        "rebuy_df.loc[rebuy_df['clac_mcls_nm'] != rebuy_df['clac_mcls_nm'].shift(), 'dt_diff']= None\n",
        "\n",
        "rebuy_df['dt_diff']=rebuy_df['dt_diff'].dt.days\n",
        "rebuy_df['dt_diff']=rebuy_df['dt_diff'].fillna(365)\n",
        "\n",
        "rebuy_df['rebuy']=0\n",
        "rebuy_df.loc[rebuy_df['dt_diff']<=31, 'rebuy']=1"
      ],
      "metadata": {
        "id": "yf9p9LFaFQQb"
      },
      "execution_count": 34,
      "outputs": []
    },
    {
      "cell_type": "code",
      "source": [
        "rebuy_df=rebuy_df[['cust','clac_mcls_nm','rebuy']]"
      ],
      "metadata": {
        "id": "RnIGO4S8njTT"
      },
      "execution_count": 35,
      "outputs": []
    },
    {
      "cell_type": "code",
      "source": [
        "rebuy_df.shape"
      ],
      "metadata": {
        "colab": {
          "base_uri": "https://localhost:8080/"
        },
        "id": "DTGzo_Y0KId0",
        "outputId": "6208f1ca-9d02-434b-b836-d20b19322ebb"
      },
      "execution_count": 36,
      "outputs": [
        {
          "output_type": "execute_result",
          "data": {
            "text/plain": [
              "(3287899, 3)"
            ]
          },
          "metadata": {},
          "execution_count": 36
        }
      ]
    },
    {
      "cell_type": "code",
      "source": [
        "df = pd.merge(df, rebuy_df, how='outer',on=['cust','clac_mcls_nm'])"
      ],
      "metadata": {
        "id": "gLvDM2heItMn"
      },
      "execution_count": null,
      "outputs": []
    },
    {
      "cell_type": "code",
      "source": [
        "df.shape"
      ],
      "metadata": {
        "colab": {
          "base_uri": "https://localhost:8080/"
        },
        "id": "XWbEsjn6Mq55",
        "outputId": "7b70a189-17cb-4e6e-e246-9f146411e28f"
      },
      "execution_count": 28,
      "outputs": [
        {
          "output_type": "execute_result",
          "data": {
            "text/plain": [
              "(4359246, 33)"
            ]
          },
          "metadata": {},
          "execution_count": 28
        }
      ]
    },
    {
      "cell_type": "code",
      "source": [
        "df.head()"
      ],
      "metadata": {
        "colab": {
          "base_uri": "https://localhost:8080/",
          "height": 386
        },
        "id": "NW98VQwklGyl",
        "outputId": "288d233a-2494-4bfc-bf82-8c51722dfb99"
      },
      "execution_count": 29,
      "outputs": [
        {
          "output_type": "execute_result",
          "data": {
            "text/plain": [
              "         cust        rct_no  chnl_dv cop_c     br_c    pd_c      de_dt  de_hr  \\\n",
              "0  M430112881  A01000001113        1   A01  A010039  PD0290 2021-01-01     10   \n",
              "1  M430112881  A01000003148        1   A01  A010039  PD0290 2021-01-01     10   \n",
              "2  M430112881  A01000003148        1   A01  A010039  PD0290 2021-01-01     10   \n",
              "3  M430112881  A01000004946        1   A01  A010039  PD0290 2021-01-01     10   \n",
              "4  M430112881  A01000013098        1   A01  A010039  PD0292 2021-01-01     11   \n",
              "\n",
              "    buy_am  buy_ct  ... rain temp A1  A2  A3  A4  total_items  \\\n",
              "0  15000.0       1  ...  0.0 -4.2  1   0   0   0          580   \n",
              "1  19000.0       1  ...  0.0 -4.2  1   0   0   0          580   \n",
              "2  19000.0       1  ...  0.0 -4.2  1   0   0   0          580   \n",
              "3  19000.0       1  ...  0.0 -4.2  1   0   0   0          580   \n",
              "4  19900.0       1  ...  0.0 -4.2  1   0   0   0          580   \n",
              "\n",
              "   one_times_items rct_cnt rebuy  \n",
              "0                1     102     1  \n",
              "1                2     102     1  \n",
              "2                2     102     1  \n",
              "3                1     102     1  \n",
              "4                1     102     1  \n",
              "\n",
              "[5 rows x 33 columns]"
            ],
            "text/html": [
              "\n",
              "  <div id=\"df-912b172c-1433-4067-90d8-0f4bf70c01fc\">\n",
              "    <div class=\"colab-df-container\">\n",
              "      <div>\n",
              "<style scoped>\n",
              "    .dataframe tbody tr th:only-of-type {\n",
              "        vertical-align: middle;\n",
              "    }\n",
              "\n",
              "    .dataframe tbody tr th {\n",
              "        vertical-align: top;\n",
              "    }\n",
              "\n",
              "    .dataframe thead th {\n",
              "        text-align: right;\n",
              "    }\n",
              "</style>\n",
              "<table border=\"1\" class=\"dataframe\">\n",
              "  <thead>\n",
              "    <tr style=\"text-align: right;\">\n",
              "      <th></th>\n",
              "      <th>cust</th>\n",
              "      <th>rct_no</th>\n",
              "      <th>chnl_dv</th>\n",
              "      <th>cop_c</th>\n",
              "      <th>br_c</th>\n",
              "      <th>pd_c</th>\n",
              "      <th>de_dt</th>\n",
              "      <th>de_hr</th>\n",
              "      <th>buy_am</th>\n",
              "      <th>buy_ct</th>\n",
              "      <th>...</th>\n",
              "      <th>rain</th>\n",
              "      <th>temp</th>\n",
              "      <th>A1</th>\n",
              "      <th>A2</th>\n",
              "      <th>A3</th>\n",
              "      <th>A4</th>\n",
              "      <th>total_items</th>\n",
              "      <th>one_times_items</th>\n",
              "      <th>rct_cnt</th>\n",
              "      <th>rebuy</th>\n",
              "    </tr>\n",
              "  </thead>\n",
              "  <tbody>\n",
              "    <tr>\n",
              "      <th>0</th>\n",
              "      <td>M430112881</td>\n",
              "      <td>A01000001113</td>\n",
              "      <td>1</td>\n",
              "      <td>A01</td>\n",
              "      <td>A010039</td>\n",
              "      <td>PD0290</td>\n",
              "      <td>2021-01-01</td>\n",
              "      <td>10</td>\n",
              "      <td>15000.0</td>\n",
              "      <td>1</td>\n",
              "      <td>...</td>\n",
              "      <td>0.0</td>\n",
              "      <td>-4.2</td>\n",
              "      <td>1</td>\n",
              "      <td>0</td>\n",
              "      <td>0</td>\n",
              "      <td>0</td>\n",
              "      <td>580</td>\n",
              "      <td>1</td>\n",
              "      <td>102</td>\n",
              "      <td>1</td>\n",
              "    </tr>\n",
              "    <tr>\n",
              "      <th>1</th>\n",
              "      <td>M430112881</td>\n",
              "      <td>A01000003148</td>\n",
              "      <td>1</td>\n",
              "      <td>A01</td>\n",
              "      <td>A010039</td>\n",
              "      <td>PD0290</td>\n",
              "      <td>2021-01-01</td>\n",
              "      <td>10</td>\n",
              "      <td>19000.0</td>\n",
              "      <td>1</td>\n",
              "      <td>...</td>\n",
              "      <td>0.0</td>\n",
              "      <td>-4.2</td>\n",
              "      <td>1</td>\n",
              "      <td>0</td>\n",
              "      <td>0</td>\n",
              "      <td>0</td>\n",
              "      <td>580</td>\n",
              "      <td>2</td>\n",
              "      <td>102</td>\n",
              "      <td>1</td>\n",
              "    </tr>\n",
              "    <tr>\n",
              "      <th>2</th>\n",
              "      <td>M430112881</td>\n",
              "      <td>A01000003148</td>\n",
              "      <td>1</td>\n",
              "      <td>A01</td>\n",
              "      <td>A010039</td>\n",
              "      <td>PD0290</td>\n",
              "      <td>2021-01-01</td>\n",
              "      <td>10</td>\n",
              "      <td>19000.0</td>\n",
              "      <td>1</td>\n",
              "      <td>...</td>\n",
              "      <td>0.0</td>\n",
              "      <td>-4.2</td>\n",
              "      <td>1</td>\n",
              "      <td>0</td>\n",
              "      <td>0</td>\n",
              "      <td>0</td>\n",
              "      <td>580</td>\n",
              "      <td>2</td>\n",
              "      <td>102</td>\n",
              "      <td>1</td>\n",
              "    </tr>\n",
              "    <tr>\n",
              "      <th>3</th>\n",
              "      <td>M430112881</td>\n",
              "      <td>A01000004946</td>\n",
              "      <td>1</td>\n",
              "      <td>A01</td>\n",
              "      <td>A010039</td>\n",
              "      <td>PD0290</td>\n",
              "      <td>2021-01-01</td>\n",
              "      <td>10</td>\n",
              "      <td>19000.0</td>\n",
              "      <td>1</td>\n",
              "      <td>...</td>\n",
              "      <td>0.0</td>\n",
              "      <td>-4.2</td>\n",
              "      <td>1</td>\n",
              "      <td>0</td>\n",
              "      <td>0</td>\n",
              "      <td>0</td>\n",
              "      <td>580</td>\n",
              "      <td>1</td>\n",
              "      <td>102</td>\n",
              "      <td>1</td>\n",
              "    </tr>\n",
              "    <tr>\n",
              "      <th>4</th>\n",
              "      <td>M430112881</td>\n",
              "      <td>A01000013098</td>\n",
              "      <td>1</td>\n",
              "      <td>A01</td>\n",
              "      <td>A010039</td>\n",
              "      <td>PD0292</td>\n",
              "      <td>2021-01-01</td>\n",
              "      <td>11</td>\n",
              "      <td>19900.0</td>\n",
              "      <td>1</td>\n",
              "      <td>...</td>\n",
              "      <td>0.0</td>\n",
              "      <td>-4.2</td>\n",
              "      <td>1</td>\n",
              "      <td>0</td>\n",
              "      <td>0</td>\n",
              "      <td>0</td>\n",
              "      <td>580</td>\n",
              "      <td>1</td>\n",
              "      <td>102</td>\n",
              "      <td>1</td>\n",
              "    </tr>\n",
              "  </tbody>\n",
              "</table>\n",
              "<p>5 rows × 33 columns</p>\n",
              "</div>\n",
              "      <button class=\"colab-df-convert\" onclick=\"convertToInteractive('df-912b172c-1433-4067-90d8-0f4bf70c01fc')\"\n",
              "              title=\"Convert this dataframe to an interactive table.\"\n",
              "              style=\"display:none;\">\n",
              "        \n",
              "  <svg xmlns=\"http://www.w3.org/2000/svg\" height=\"24px\"viewBox=\"0 0 24 24\"\n",
              "       width=\"24px\">\n",
              "    <path d=\"M0 0h24v24H0V0z\" fill=\"none\"/>\n",
              "    <path d=\"M18.56 5.44l.94 2.06.94-2.06 2.06-.94-2.06-.94-.94-2.06-.94 2.06-2.06.94zm-11 1L8.5 8.5l.94-2.06 2.06-.94-2.06-.94L8.5 2.5l-.94 2.06-2.06.94zm10 10l.94 2.06.94-2.06 2.06-.94-2.06-.94-.94-2.06-.94 2.06-2.06.94z\"/><path d=\"M17.41 7.96l-1.37-1.37c-.4-.4-.92-.59-1.43-.59-.52 0-1.04.2-1.43.59L10.3 9.45l-7.72 7.72c-.78.78-.78 2.05 0 2.83L4 21.41c.39.39.9.59 1.41.59.51 0 1.02-.2 1.41-.59l7.78-7.78 2.81-2.81c.8-.78.8-2.07 0-2.86zM5.41 20L4 18.59l7.72-7.72 1.47 1.35L5.41 20z\"/>\n",
              "  </svg>\n",
              "      </button>\n",
              "      \n",
              "  <style>\n",
              "    .colab-df-container {\n",
              "      display:flex;\n",
              "      flex-wrap:wrap;\n",
              "      gap: 12px;\n",
              "    }\n",
              "\n",
              "    .colab-df-convert {\n",
              "      background-color: #E8F0FE;\n",
              "      border: none;\n",
              "      border-radius: 50%;\n",
              "      cursor: pointer;\n",
              "      display: none;\n",
              "      fill: #1967D2;\n",
              "      height: 32px;\n",
              "      padding: 0 0 0 0;\n",
              "      width: 32px;\n",
              "    }\n",
              "\n",
              "    .colab-df-convert:hover {\n",
              "      background-color: #E2EBFA;\n",
              "      box-shadow: 0px 1px 2px rgba(60, 64, 67, 0.3), 0px 1px 3px 1px rgba(60, 64, 67, 0.15);\n",
              "      fill: #174EA6;\n",
              "    }\n",
              "\n",
              "    [theme=dark] .colab-df-convert {\n",
              "      background-color: #3B4455;\n",
              "      fill: #D2E3FC;\n",
              "    }\n",
              "\n",
              "    [theme=dark] .colab-df-convert:hover {\n",
              "      background-color: #434B5C;\n",
              "      box-shadow: 0px 1px 3px 1px rgba(0, 0, 0, 0.15);\n",
              "      filter: drop-shadow(0px 1px 2px rgba(0, 0, 0, 0.3));\n",
              "      fill: #FFFFFF;\n",
              "    }\n",
              "  </style>\n",
              "\n",
              "      <script>\n",
              "        const buttonEl =\n",
              "          document.querySelector('#df-912b172c-1433-4067-90d8-0f4bf70c01fc button.colab-df-convert');\n",
              "        buttonEl.style.display =\n",
              "          google.colab.kernel.accessAllowed ? 'block' : 'none';\n",
              "\n",
              "        async function convertToInteractive(key) {\n",
              "          const element = document.querySelector('#df-912b172c-1433-4067-90d8-0f4bf70c01fc');\n",
              "          const dataTable =\n",
              "            await google.colab.kernel.invokeFunction('convertToInteractive',\n",
              "                                                     [key], {});\n",
              "          if (!dataTable) return;\n",
              "\n",
              "          const docLinkHtml = 'Like what you see? Visit the ' +\n",
              "            '<a target=\"_blank\" href=https://colab.research.google.com/notebooks/data_table.ipynb>data table notebook</a>'\n",
              "            + ' to learn more about interactive tables.';\n",
              "          element.innerHTML = '';\n",
              "          dataTable['output_type'] = 'display_data';\n",
              "          await google.colab.output.renderOutput(dataTable, element);\n",
              "          const docLink = document.createElement('div');\n",
              "          docLink.innerHTML = docLinkHtml;\n",
              "          element.appendChild(docLink);\n",
              "        }\n",
              "      </script>\n",
              "    </div>\n",
              "  </div>\n",
              "  "
            ]
          },
          "metadata": {},
          "execution_count": 29
        }
      ]
    },
    {
      "cell_type": "markdown",
      "source": [
        "3. 총 재구매 횟수 변수 추가"
      ],
      "metadata": {
        "id": "drUXbVLSpLz0"
      }
    },
    {
      "cell_type": "code",
      "source": [
        "rebuy_df = df.groupby(['cust', 'clac_mcls_nm']).sum()['buy_ct'].reset_index(name='rebuy_cnt') \n",
        "rebuy_df['rebuy_cnt'] -= 1\n",
        "rebuy_df = rebuy_df.groupby('cust').sum()['rebuy_cnt'].reset_index(name='rebuy_cnt') \n",
        "\n",
        "df = pd.merge(df, rebuy_df, how='outer',on='cust')\n",
        "df.head()"
      ],
      "metadata": {
        "id": "ishrtu8mjTXN"
      },
      "execution_count": null,
      "outputs": []
    },
    {
      "cell_type": "markdown",
      "source": [
        "4. 재구매 비율 변수 추가"
      ],
      "metadata": {
        "id": "wUcKqGWkpbvn"
      }
    },
    {
      "cell_type": "code",
      "source": [
        "df['rebuy_ration'] = df['rebuy_cnt']/df['total_items']*100"
      ],
      "metadata": {
        "id": "FQMabW9VpbSO",
        "colab": {
          "base_uri": "https://localhost:8080/",
          "height": 551
        },
        "outputId": "65bb4630-6668-4f0b-ae29-fe1a0996b170"
      },
      "execution_count": 27,
      "outputs": [
        {
          "output_type": "error",
          "ename": "KeyError",
          "evalue": "ignored",
          "traceback": [
            "\u001b[0;31m---------------------------------------------------------------------------\u001b[0m",
            "\u001b[0;31mKeyError\u001b[0m                                  Traceback (most recent call last)",
            "\u001b[0;32m/usr/local/lib/python3.7/dist-packages/pandas/core/indexes/base.py\u001b[0m in \u001b[0;36mget_loc\u001b[0;34m(self, key, method, tolerance)\u001b[0m\n\u001b[1;32m   3360\u001b[0m             \u001b[0;32mtry\u001b[0m\u001b[0;34m:\u001b[0m\u001b[0;34m\u001b[0m\u001b[0;34m\u001b[0m\u001b[0m\n\u001b[0;32m-> 3361\u001b[0;31m                 \u001b[0;32mreturn\u001b[0m \u001b[0mself\u001b[0m\u001b[0;34m.\u001b[0m\u001b[0m_engine\u001b[0m\u001b[0;34m.\u001b[0m\u001b[0mget_loc\u001b[0m\u001b[0;34m(\u001b[0m\u001b[0mcasted_key\u001b[0m\u001b[0;34m)\u001b[0m\u001b[0;34m\u001b[0m\u001b[0;34m\u001b[0m\u001b[0m\n\u001b[0m\u001b[1;32m   3362\u001b[0m             \u001b[0;32mexcept\u001b[0m \u001b[0mKeyError\u001b[0m \u001b[0;32mas\u001b[0m \u001b[0merr\u001b[0m\u001b[0;34m:\u001b[0m\u001b[0;34m\u001b[0m\u001b[0;34m\u001b[0m\u001b[0m\n",
            "\u001b[0;32m/usr/local/lib/python3.7/dist-packages/pandas/_libs/index.pyx\u001b[0m in \u001b[0;36mpandas._libs.index.IndexEngine.get_loc\u001b[0;34m()\u001b[0m\n",
            "\u001b[0;32m/usr/local/lib/python3.7/dist-packages/pandas/_libs/index.pyx\u001b[0m in \u001b[0;36mpandas._libs.index.IndexEngine.get_loc\u001b[0;34m()\u001b[0m\n",
            "\u001b[0;32mpandas/_libs/hashtable_class_helper.pxi\u001b[0m in \u001b[0;36mpandas._libs.hashtable.PyObjectHashTable.get_item\u001b[0;34m()\u001b[0m\n",
            "\u001b[0;32mpandas/_libs/hashtable_class_helper.pxi\u001b[0m in \u001b[0;36mpandas._libs.hashtable.PyObjectHashTable.get_item\u001b[0;34m()\u001b[0m\n",
            "\u001b[0;31mKeyError\u001b[0m: 'rebuy_cnt'",
            "\nThe above exception was the direct cause of the following exception:\n",
            "\u001b[0;31mKeyError\u001b[0m                                  Traceback (most recent call last)",
            "\u001b[0;32m<ipython-input-27-ff64f41bcd36>\u001b[0m in \u001b[0;36m<module>\u001b[0;34m()\u001b[0m\n\u001b[0;32m----> 1\u001b[0;31m \u001b[0mdf\u001b[0m\u001b[0;34m[\u001b[0m\u001b[0;34m'rebuy_ration'\u001b[0m\u001b[0;34m]\u001b[0m \u001b[0;34m=\u001b[0m \u001b[0mdf\u001b[0m\u001b[0;34m[\u001b[0m\u001b[0;34m'rebuy_cnt'\u001b[0m\u001b[0;34m]\u001b[0m\u001b[0;34m/\u001b[0m\u001b[0mdf\u001b[0m\u001b[0;34m[\u001b[0m\u001b[0;34m'total_items'\u001b[0m\u001b[0;34m]\u001b[0m\u001b[0;34m*\u001b[0m\u001b[0;36m100\u001b[0m\u001b[0;34m\u001b[0m\u001b[0;34m\u001b[0m\u001b[0m\n\u001b[0m",
            "\u001b[0;32m/usr/local/lib/python3.7/dist-packages/pandas/core/frame.py\u001b[0m in \u001b[0;36m__getitem__\u001b[0;34m(self, key)\u001b[0m\n\u001b[1;32m   3456\u001b[0m             \u001b[0;32mif\u001b[0m \u001b[0mself\u001b[0m\u001b[0;34m.\u001b[0m\u001b[0mcolumns\u001b[0m\u001b[0;34m.\u001b[0m\u001b[0mnlevels\u001b[0m \u001b[0;34m>\u001b[0m \u001b[0;36m1\u001b[0m\u001b[0;34m:\u001b[0m\u001b[0;34m\u001b[0m\u001b[0;34m\u001b[0m\u001b[0m\n\u001b[1;32m   3457\u001b[0m                 \u001b[0;32mreturn\u001b[0m \u001b[0mself\u001b[0m\u001b[0;34m.\u001b[0m\u001b[0m_getitem_multilevel\u001b[0m\u001b[0;34m(\u001b[0m\u001b[0mkey\u001b[0m\u001b[0;34m)\u001b[0m\u001b[0;34m\u001b[0m\u001b[0;34m\u001b[0m\u001b[0m\n\u001b[0;32m-> 3458\u001b[0;31m             \u001b[0mindexer\u001b[0m \u001b[0;34m=\u001b[0m \u001b[0mself\u001b[0m\u001b[0;34m.\u001b[0m\u001b[0mcolumns\u001b[0m\u001b[0;34m.\u001b[0m\u001b[0mget_loc\u001b[0m\u001b[0;34m(\u001b[0m\u001b[0mkey\u001b[0m\u001b[0;34m)\u001b[0m\u001b[0;34m\u001b[0m\u001b[0;34m\u001b[0m\u001b[0m\n\u001b[0m\u001b[1;32m   3459\u001b[0m             \u001b[0;32mif\u001b[0m \u001b[0mis_integer\u001b[0m\u001b[0;34m(\u001b[0m\u001b[0mindexer\u001b[0m\u001b[0;34m)\u001b[0m\u001b[0;34m:\u001b[0m\u001b[0;34m\u001b[0m\u001b[0;34m\u001b[0m\u001b[0m\n\u001b[1;32m   3460\u001b[0m                 \u001b[0mindexer\u001b[0m \u001b[0;34m=\u001b[0m \u001b[0;34m[\u001b[0m\u001b[0mindexer\u001b[0m\u001b[0;34m]\u001b[0m\u001b[0;34m\u001b[0m\u001b[0;34m\u001b[0m\u001b[0m\n",
            "\u001b[0;32m/usr/local/lib/python3.7/dist-packages/pandas/core/indexes/base.py\u001b[0m in \u001b[0;36mget_loc\u001b[0;34m(self, key, method, tolerance)\u001b[0m\n\u001b[1;32m   3361\u001b[0m                 \u001b[0;32mreturn\u001b[0m \u001b[0mself\u001b[0m\u001b[0;34m.\u001b[0m\u001b[0m_engine\u001b[0m\u001b[0;34m.\u001b[0m\u001b[0mget_loc\u001b[0m\u001b[0;34m(\u001b[0m\u001b[0mcasted_key\u001b[0m\u001b[0;34m)\u001b[0m\u001b[0;34m\u001b[0m\u001b[0;34m\u001b[0m\u001b[0m\n\u001b[1;32m   3362\u001b[0m             \u001b[0;32mexcept\u001b[0m \u001b[0mKeyError\u001b[0m \u001b[0;32mas\u001b[0m \u001b[0merr\u001b[0m\u001b[0;34m:\u001b[0m\u001b[0;34m\u001b[0m\u001b[0;34m\u001b[0m\u001b[0m\n\u001b[0;32m-> 3363\u001b[0;31m                 \u001b[0;32mraise\u001b[0m \u001b[0mKeyError\u001b[0m\u001b[0;34m(\u001b[0m\u001b[0mkey\u001b[0m\u001b[0;34m)\u001b[0m \u001b[0;32mfrom\u001b[0m \u001b[0merr\u001b[0m\u001b[0;34m\u001b[0m\u001b[0;34m\u001b[0m\u001b[0m\n\u001b[0m\u001b[1;32m   3364\u001b[0m \u001b[0;34m\u001b[0m\u001b[0m\n\u001b[1;32m   3365\u001b[0m         \u001b[0;32mif\u001b[0m \u001b[0mis_scalar\u001b[0m\u001b[0;34m(\u001b[0m\u001b[0mkey\u001b[0m\u001b[0;34m)\u001b[0m \u001b[0;32mand\u001b[0m \u001b[0misna\u001b[0m\u001b[0;34m(\u001b[0m\u001b[0mkey\u001b[0m\u001b[0;34m)\u001b[0m \u001b[0;32mand\u001b[0m \u001b[0;32mnot\u001b[0m \u001b[0mself\u001b[0m\u001b[0;34m.\u001b[0m\u001b[0mhasnans\u001b[0m\u001b[0;34m:\u001b[0m\u001b[0;34m\u001b[0m\u001b[0;34m\u001b[0m\u001b[0m\n",
            "\u001b[0;31mKeyError\u001b[0m: 'rebuy_cnt'"
          ]
        }
      ]
    },
    {
      "cell_type": "markdown",
      "source": [
        "5. 재구매까지 걸린 기간 변수 추가"
      ],
      "metadata": {
        "id": "0wMVYphWp2u1"
      }
    },
    {
      "cell_type": "code",
      "source": [
        "df = df.sort_values(['cust','de_dt'])\n",
        "df['de_diff'] = df['de_dt'].diff()\n",
        "df.loc[df['cust'] != df['cust'].shift(),'de_diff'] = None\n",
        "\n",
        "df['de_diff'] = df['de_diff'].dt.days"
      ],
      "metadata": {
        "id": "jirDiOZep17x"
      },
      "execution_count": null,
      "outputs": []
    },
    {
      "cell_type": "code",
      "source": [
        "msno.matrix(df[['total_items', 'one_times_items', 'rct_cnt',\n",
        "       'rebuy', 'rebuy_cnt', 'rebuy_ration', 'de_diff']], color = (0.302, 0.678, 0.514))"
      ],
      "metadata": {
        "id": "dkiIzHTQqI8T"
      },
      "execution_count": null,
      "outputs": []
    },
    {
      "cell_type": "code",
      "source": [
        "df = df.fillna(365)"
      ],
      "metadata": {
        "id": "o7AmFTrEBTgN"
      },
      "execution_count": null,
      "outputs": []
    },
    {
      "cell_type": "markdown",
      "source": [
        "### 변수 개별 분석"
      ],
      "metadata": {
        "id": "FY52Olhr0OyW"
      }
    },
    {
      "cell_type": "code",
      "source": [
        "sns.histplot(df, x=\"chnl_dv\", hue=\"rebuy\", stat=\"probability\", multiple=\"fill\",shrink=-10)"
      ],
      "metadata": {
        "id": "Jg_hW-1ctBJK"
      },
      "execution_count": null,
      "outputs": []
    },
    {
      "cell_type": "code",
      "source": [
        "sns.histplot(df, x=\"de_hr_1\", hue=\"rebuy\", stat=\"probability\", multiple=\"fill\",shrink=0.8)"
      ],
      "metadata": {
        "id": "j2BsttvYHWgR"
      },
      "execution_count": null,
      "outputs": []
    },
    {
      "cell_type": "code",
      "source": [
        "df.to_csv('/content/drive/MyDrive/colab/lotte/final_df.csv') #csv파일로 생성\n",
        "rebuy_df.to_csv('/content/drive/MyDrive/colab/lotte/rebuy_df.csv')"
      ],
      "metadata": {
        "id": "pd7rW_u0ivTb"
      },
      "execution_count": 30,
      "outputs": []
    },
    {
      "cell_type": "code",
      "source": [
        "#df.columns"
      ],
      "metadata": {
        "id": "K3OLaJuEjN0i"
      },
      "execution_count": null,
      "outputs": []
    },
    {
      "cell_type": "code",
      "source": [
        ""
      ],
      "metadata": {
        "id": "EgWCS3bKrHyq"
      },
      "execution_count": null,
      "outputs": []
    }
  ]
}